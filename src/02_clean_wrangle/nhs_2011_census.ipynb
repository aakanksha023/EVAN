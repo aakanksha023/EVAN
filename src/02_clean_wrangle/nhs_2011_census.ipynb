{
 "cells": [
  {
   "cell_type": "code",
   "execution_count": 1,
   "metadata": {},
   "outputs": [],
   "source": [
    "import zipfile\n",
    "import pandas as pd\n",
    "import geopandas as gpd\n",
    "import os"
   ]
  },
  {
   "cell_type": "code",
   "execution_count": 7,
   "metadata": {},
   "outputs": [],
   "source": [
    "# extract and read boundary data from zip file\n",
    "boundaries_zip_path = \"../../data/raw/census_boundaries_2011.zip\"\n",
    "z = zipfile.ZipFile(boundaries_zip_path)\n",
    "z.extractall(path=\"../../data/raw/\") # extract to folder\n",
    "nhs_boundaries = gpd.read_file(\"../../data/raw/gct_000b11a_e.shp\")\n",
    "\n",
    "# read 2011 NHS data for BC from zip file\n",
    "nhs_zip_path = \"../../data/raw/nhs_census_2011.zip\"\n",
    "with zipfile.ZipFile(nhs_zip_path,\"r\") as z:\n",
    "    with z.open(\"99-004-XWE2011001-401-BC.csv\") as f:\n",
    "        nhs_2011 = pd.read_csv(f, encoding='latin-1', usecols=[0,2,3,4,5,6,8,10,12])\n",
    "        \n",
    "# read in local areas boundaries\n",
    "areas = gpd.read_file(\"../../data/raw/local_area_boundary.geojson\")"
   ]
  },
  {
   "cell_type": "code",
   "execution_count": null,
   "metadata": {},
   "outputs": [],
   "source": [
    "# select only census tracts in Vancouver\n",
    "van_bound = nhs_boundaries[nhs_boundaries['CMANAME'] == 'Vancouver']\n",
    "\n",
    "# select and rename needed columns\n",
    "van_bound = van_bound[['CTUID', 'geometry']]\n",
    "van_bound.rename(columns={'CTUID':'Geo_Code'}, inplace=True)\n",
    "van_bound.Geo_Code = van_bound.Geo_Code.apply(lambda x: float(x))\n",
    "van_bound['LocalArea'] = 'None'\n",
    "van_bound.reset_index(drop=True, inplace=True)\n",
    "van_bound"
   ]
  },
  {
   "cell_type": "code",
   "execution_count": null,
   "metadata": {},
   "outputs": [],
   "source": [
    "# find local area of the census tract based on geom\n",
    "local_areas= list(van_bound['LocalArea'])\n",
    "\n",
    "for row in range(len(local_areas)):\n",
    "    for area in range(len(areas.name)):\n",
    "        if areas.geometry[area].contains(van_bound.geometry[row].centroid):\n",
    "            local_areas[row] = str(areas.name[area])\n",
    "            break"
   ]
  },
  {
   "cell_type": "code",
   "execution_count": 3,
   "metadata": {},
   "outputs": [
    {
     "ename": "NameError",
     "evalue": "name 'local_areas' is not defined",
     "output_type": "error",
     "traceback": [
      "\u001b[0;31m---------------------------------------------------------------------------\u001b[0m",
      "\u001b[0;31mNameError\u001b[0m                                 Traceback (most recent call last)",
      "\u001b[0;32m<ipython-input-3-1d91dad11a7b>\u001b[0m in \u001b[0;36m<module>\u001b[0;34m\u001b[0m\n\u001b[1;32m      1\u001b[0m \u001b[0;31m# name local areas based on geom\u001b[0m\u001b[0;34m\u001b[0m\u001b[0;34m\u001b[0m\u001b[0;34m\u001b[0m\u001b[0m\n\u001b[0;32m----> 2\u001b[0;31m \u001b[0mvan_bound\u001b[0m\u001b[0;34m[\u001b[0m\u001b[0;34m'LocalArea'\u001b[0m\u001b[0;34m]\u001b[0m \u001b[0;34m=\u001b[0m \u001b[0mlocal_areas\u001b[0m\u001b[0;34m\u001b[0m\u001b[0;34m\u001b[0m\u001b[0m\n\u001b[0m\u001b[1;32m      3\u001b[0m \u001b[0mvan_bound\u001b[0m \u001b[0;34m=\u001b[0m \u001b[0mvan_bound\u001b[0m\u001b[0;34m[\u001b[0m\u001b[0mvan_bound\u001b[0m\u001b[0;34m[\u001b[0m\u001b[0;34m'LocalArea'\u001b[0m\u001b[0;34m]\u001b[0m \u001b[0;34m!=\u001b[0m \u001b[0;34m'None'\u001b[0m\u001b[0;34m]\u001b[0m\u001b[0;34m\u001b[0m\u001b[0;34m\u001b[0m\u001b[0m\n\u001b[1;32m      4\u001b[0m \u001b[0mvan_bound\u001b[0m\u001b[0;34m\u001b[0m\u001b[0;34m\u001b[0m\u001b[0m\n",
      "\u001b[0;31mNameError\u001b[0m: name 'local_areas' is not defined"
     ]
    }
   ],
   "source": [
    "# name local areas based on geom\n",
    "van_bound['LocalArea'] = local_areas\n",
    "van_bound = van_bound[van_bound['LocalArea'] != 'None']\n",
    "van_bound"
   ]
  },
  {
   "cell_type": "code",
   "execution_count": 16,
   "metadata": {},
   "outputs": [
    {
     "data": {
      "text/html": [
       "<div>\n",
       "<style scoped>\n",
       "    .dataframe tbody tr th:only-of-type {\n",
       "        vertical-align: middle;\n",
       "    }\n",
       "\n",
       "    .dataframe tbody tr th {\n",
       "        vertical-align: top;\n",
       "    }\n",
       "\n",
       "    .dataframe thead th {\n",
       "        text-align: right;\n",
       "    }\n",
       "</style>\n",
       "<table border=\"1\" class=\"dataframe\">\n",
       "  <thead>\n",
       "    <tr style=\"text-align: right;\">\n",
       "      <th></th>\n",
       "      <th>LocalArea</th>\n",
       "      <th>Topic</th>\n",
       "      <th>Characteristic</th>\n",
       "      <th>Total</th>\n",
       "      <th>Male</th>\n",
       "      <th>Female</th>\n",
       "    </tr>\n",
       "  </thead>\n",
       "  <tbody>\n",
       "    <tr>\n",
       "      <th>0</th>\n",
       "      <td>Victoria-Fraserview</td>\n",
       "      <td>Citizenship</td>\n",
       "      <td>Total population in private households by citi...</td>\n",
       "      <td>3015.0</td>\n",
       "      <td>1395.0</td>\n",
       "      <td>1620.0</td>\n",
       "    </tr>\n",
       "    <tr>\n",
       "      <th>1</th>\n",
       "      <td>Victoria-Fraserview</td>\n",
       "      <td>Citizenship</td>\n",
       "      <td>Canadian citizens</td>\n",
       "      <td>2670.0</td>\n",
       "      <td>1230.0</td>\n",
       "      <td>1440.0</td>\n",
       "    </tr>\n",
       "    <tr>\n",
       "      <th>2</th>\n",
       "      <td>Victoria-Fraserview</td>\n",
       "      <td>Citizenship</td>\n",
       "      <td>Canadian citizens aged under 18</td>\n",
       "      <td>410.0</td>\n",
       "      <td>175.0</td>\n",
       "      <td>235.0</td>\n",
       "    </tr>\n",
       "    <tr>\n",
       "      <th>3</th>\n",
       "      <td>Victoria-Fraserview</td>\n",
       "      <td>Citizenship</td>\n",
       "      <td>Canadian citizens aged 18 and over</td>\n",
       "      <td>2255.0</td>\n",
       "      <td>1050.0</td>\n",
       "      <td>1210.0</td>\n",
       "    </tr>\n",
       "    <tr>\n",
       "      <th>4</th>\n",
       "      <td>Victoria-Fraserview</td>\n",
       "      <td>Citizenship</td>\n",
       "      <td>Not Canadian citizens</td>\n",
       "      <td>345.0</td>\n",
       "      <td>160.0</td>\n",
       "      <td>185.0</td>\n",
       "    </tr>\n",
       "    <tr>\n",
       "      <th>...</th>\n",
       "      <td>...</td>\n",
       "      <td>...</td>\n",
       "      <td>...</td>\n",
       "      <td>...</td>\n",
       "      <td>...</td>\n",
       "      <td>...</td>\n",
       "    </tr>\n",
       "    <tr>\n",
       "      <th>111355</th>\n",
       "      <td>Kitsilano</td>\n",
       "      <td>Income of individuals in 2010</td>\n",
       "      <td>Prevalence of low income in 2010 based on afte...</td>\n",
       "      <td>20.3</td>\n",
       "      <td>24.2</td>\n",
       "      <td>16.5</td>\n",
       "    </tr>\n",
       "    <tr>\n",
       "      <th>111356</th>\n",
       "      <td>Kitsilano</td>\n",
       "      <td>Income of individuals in 2010</td>\n",
       "      <td>Less than 18 years (%)</td>\n",
       "      <td>24.5</td>\n",
       "      <td>32.3</td>\n",
       "      <td>11.1</td>\n",
       "    </tr>\n",
       "    <tr>\n",
       "      <th>111357</th>\n",
       "      <td>Kitsilano</td>\n",
       "      <td>Income of individuals in 2010</td>\n",
       "      <td>Less than 6 years (%)</td>\n",
       "      <td>35.7</td>\n",
       "      <td>0.0</td>\n",
       "      <td>25.0</td>\n",
       "    </tr>\n",
       "    <tr>\n",
       "      <th>111358</th>\n",
       "      <td>Kitsilano</td>\n",
       "      <td>Income of individuals in 2010</td>\n",
       "      <td>18 to 64 years (%)</td>\n",
       "      <td>20.2</td>\n",
       "      <td>23.8</td>\n",
       "      <td>17.0</td>\n",
       "    </tr>\n",
       "    <tr>\n",
       "      <th>111359</th>\n",
       "      <td>Kitsilano</td>\n",
       "      <td>Income of individuals in 2010</td>\n",
       "      <td>65 years and over (%)</td>\n",
       "      <td>17.2</td>\n",
       "      <td>0.0</td>\n",
       "      <td>18.2</td>\n",
       "    </tr>\n",
       "  </tbody>\n",
       "</table>\n",
       "<p>111360 rows × 6 columns</p>\n",
       "</div>"
      ],
      "text/plain": [
       "                  LocalArea                          Topic  \\\n",
       "0       Victoria-Fraserview                    Citizenship   \n",
       "1       Victoria-Fraserview                    Citizenship   \n",
       "2       Victoria-Fraserview                    Citizenship   \n",
       "3       Victoria-Fraserview                    Citizenship   \n",
       "4       Victoria-Fraserview                    Citizenship   \n",
       "...                     ...                            ...   \n",
       "111355            Kitsilano  Income of individuals in 2010   \n",
       "111356            Kitsilano  Income of individuals in 2010   \n",
       "111357            Kitsilano  Income of individuals in 2010   \n",
       "111358            Kitsilano  Income of individuals in 2010   \n",
       "111359            Kitsilano  Income of individuals in 2010   \n",
       "\n",
       "                                           Characteristic   Total    Male  \\\n",
       "0       Total population in private households by citi...  3015.0  1395.0   \n",
       "1                                       Canadian citizens  2670.0  1230.0   \n",
       "2                         Canadian citizens aged under 18   410.0   175.0   \n",
       "3                      Canadian citizens aged 18 and over  2255.0  1050.0   \n",
       "4                                   Not Canadian citizens   345.0   160.0   \n",
       "...                                                   ...     ...     ...   \n",
       "111355  Prevalence of low income in 2010 based on afte...    20.3    24.2   \n",
       "111356                             Less than 18 years (%)    24.5    32.3   \n",
       "111357                              Less than 6 years (%)    35.7     0.0   \n",
       "111358                                 18 to 64 years (%)    20.2    23.8   \n",
       "111359                              65 years and over (%)    17.2     0.0   \n",
       "\n",
       "        Female  \n",
       "0       1620.0  \n",
       "1       1440.0  \n",
       "2        235.0  \n",
       "3       1210.0  \n",
       "4        185.0  \n",
       "...        ...  \n",
       "111355    16.5  \n",
       "111356    11.1  \n",
       "111357    25.0  \n",
       "111358    17.0  \n",
       "111359    18.2  \n",
       "\n",
       "[111360 rows x 6 columns]"
      ]
     },
     "execution_count": 16,
     "metadata": {},
     "output_type": "execute_result"
    }
   ],
   "source": [
    "# merge local area to NHS data\n",
    "merged_df = nhs_2011.merge(van_bound, on = 'Geo_Code')\n",
    "merged_df = merged_df[['LocalArea', 'Topic', 'Characteristic', 'Total', 'Male', 'Female']]\n",
    "merged_df.Characteristic = merged_df.Characteristic.apply(lambda x: (x.lstrip()).rstrip())\n",
    "merged_df"
   ]
  },
  {
   "cell_type": "code",
   "execution_count": 17,
   "metadata": {},
   "outputs": [],
   "source": [
    "# split data frame by topics\n",
    "topics = list(merged_df['Topic'].unique())\n",
    "local_areas = list(merged_df['LocalArea'].unique())\n",
    "sub_dataframes = dict()\n",
    "sub_group = dict()\n",
    "for topic in topics:\n",
    "    sub_dataframes[topic] = merged_df[merged_df['Topic'] == topic]"
   ]
  },
  {
   "cell_type": "code",
   "execution_count": 18,
   "metadata": {},
   "outputs": [],
   "source": [
    "# Create the nhs directory if it doesn't exist\n",
    "os.makedirs('../../data/processed/nhs/', exist_ok=True) \n",
    "\n",
    "for topic in topics:\n",
    "    topic_df = sub_dataframes[topic].copy()\n",
    "    topic_df.drop(columns=['Topic'], inplace=True)\n",
    "    topic_grouped = topic_df.groupby(by=['LocalArea','Characteristic']).sum()\n",
    "    topic_grouped.reset_index(inplace=True)\n",
    "    sub_group[str(topic)] = pd.DataFrame()\n",
    "    \n",
    "    for area in local_areas:\n",
    "        df = topic_grouped[topic_grouped['LocalArea']==area].copy()\n",
    "        df.drop(columns=['LocalArea'], inplace=True)\n",
    "        df = df.set_index('Characteristic').T.reset_index().rename(columns={'index': 'Type'})\n",
    "        df['LocalArea'] = str(area)\n",
    "        sub_group[str(topic)] = pd.concat([sub_group[str(topic)], df])\n",
    "    sub_group[str(topic)].to_csv('../../data/processed/nhs/' + str(topic) + '.csv')"
   ]
  },
  {
   "cell_type": "code",
   "execution_count": 19,
   "metadata": {},
   "outputs": [
    {
     "data": {
      "text/plain": [
       "dict_keys(['Citizenship', 'Immigrant status and period of immigration', 'Age at immigration', 'Immigrant status and selected places of birth', 'Recent immigrants by selected place of birth', 'Generation status', 'Visible minority population', 'Ethnic origin population', 'Religion', 'Aboriginal population', 'Non-official languages spoken', 'Mobility', 'Education', 'Language used most often at work', 'Labour force status', 'Class of worker', 'Occupation', 'Industry', 'Work activity', 'Full-time or part-time weeks worked', 'Place of work status', 'Mode of transportation', 'Median commuting duration', 'Time leaving for work', 'Occupied private dwelling characteristics', 'Household characteristics', 'Shelter costs', 'Income of individuals in 2010', 'Income of households in 2010'])"
      ]
     },
     "execution_count": 19,
     "metadata": {},
     "output_type": "execute_result"
    }
   ],
   "source": [
    "sub_group.keys()"
   ]
  },
  {
   "cell_type": "code",
   "execution_count": null,
   "metadata": {},
   "outputs": [],
   "source": []
  }
 ],
 "metadata": {
  "kernelspec": {
   "display_name": "Python 3",
   "language": "python",
   "name": "python3"
  },
  "language_info": {
   "codemirror_mode": {
    "name": "ipython",
    "version": 3
   },
   "file_extension": ".py",
   "mimetype": "text/x-python",
   "name": "python",
   "nbconvert_exporter": "python",
   "pygments_lexer": "ipython3",
   "version": "3.7.3"
  }
 },
 "nbformat": 4,
 "nbformat_minor": 4
}
