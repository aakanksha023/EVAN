{
 "cells": [
  {
   "cell_type": "markdown",
   "metadata": {},
   "source": [
    "# Initial Dataset Evaluation \n",
    "Author: Keanna Knebel \n",
    "\n",
    "Date: 2020/05/06"
   ]
  },
  {
   "cell_type": "code",
   "execution_count": 29,
   "metadata": {},
   "outputs": [
    {
     "data": {
      "text/plain": [
       "RendererRegistry.enable('mimetype')"
      ]
     },
     "execution_count": 29,
     "metadata": {},
     "output_type": "execute_result"
    }
   ],
   "source": [
    "import pandas as pd\n",
    "import dask.dataframe as dd\n",
    "import geopandas as gpd\n",
    "import altair as alt\n",
    "import json\n",
    "from sklearn.model_selection import GroupShuffleSplit\n",
    "\n",
    "alt.renderers.enable('mimetype')"
   ]
  },
  {
   "cell_type": "code",
   "execution_count": 19,
   "metadata": {},
   "outputs": [
    {
     "data": {
      "text/html": [
       "<div>\n",
       "<style scoped>\n",
       "    .dataframe tbody tr th:only-of-type {\n",
       "        vertical-align: middle;\n",
       "    }\n",
       "\n",
       "    .dataframe tbody tr th {\n",
       "        vertical-align: top;\n",
       "    }\n",
       "\n",
       "    .dataframe thead th {\n",
       "        text-align: right;\n",
       "    }\n",
       "</style>\n",
       "<table border=\"1\" class=\"dataframe\">\n",
       "  <thead>\n",
       "    <tr style=\"text-align: right;\">\n",
       "      <th></th>\n",
       "      <th>ID</th>\n",
       "      <th>Variable</th>\n",
       "      <th>Arbutus-Ridge</th>\n",
       "      <th>Downtown</th>\n",
       "      <th>Dunbar-Southlands</th>\n",
       "      <th>Fairview</th>\n",
       "      <th>Grandview-Woodland</th>\n",
       "      <th>Hastings-Sunrise</th>\n",
       "      <th>Kensington-Cedar Cottage</th>\n",
       "      <th>Kerrisdale</th>\n",
       "      <th>...</th>\n",
       "      <th>Riley Park</th>\n",
       "      <th>Shaughnessy</th>\n",
       "      <th>South Cambie</th>\n",
       "      <th>Strathcona</th>\n",
       "      <th>Sunset</th>\n",
       "      <th>Victoria-Fraserview</th>\n",
       "      <th>West End</th>\n",
       "      <th>West Point Grey</th>\n",
       "      <th>Vancouver CSD</th>\n",
       "      <th>Vancouver CMA</th>\n",
       "    </tr>\n",
       "  </thead>\n",
       "  <tbody>\n",
       "    <tr>\n",
       "      <th>0</th>\n",
       "      <td>1</td>\n",
       "      <td>Total - Age groups and average age of the pop...</td>\n",
       "      <td>15,295</td>\n",
       "      <td>62,030</td>\n",
       "      <td>21,425</td>\n",
       "      <td>33,620</td>\n",
       "      <td>29,175</td>\n",
       "      <td>34,575</td>\n",
       "      <td>49,325</td>\n",
       "      <td>13,975</td>\n",
       "      <td>...</td>\n",
       "      <td>22,555</td>\n",
       "      <td>8,430</td>\n",
       "      <td>7,970</td>\n",
       "      <td>12,585</td>\n",
       "      <td>36,500</td>\n",
       "      <td>31,065</td>\n",
       "      <td>47,200</td>\n",
       "      <td>13,065</td>\n",
       "      <td>631,485</td>\n",
       "      <td>2,463,430</td>\n",
       "    </tr>\n",
       "    <tr>\n",
       "      <th>1</th>\n",
       "      <td>2</td>\n",
       "      <td>0 to 14 years</td>\n",
       "      <td>2015</td>\n",
       "      <td>4000</td>\n",
       "      <td>3545</td>\n",
       "      <td>2580</td>\n",
       "      <td>3210</td>\n",
       "      <td>4595</td>\n",
       "      <td>7060</td>\n",
       "      <td>1880</td>\n",
       "      <td>...</td>\n",
       "      <td>3415</td>\n",
       "      <td>1175</td>\n",
       "      <td>1105</td>\n",
       "      <td>1065</td>\n",
       "      <td>5460</td>\n",
       "      <td>3790</td>\n",
       "      <td>1945</td>\n",
       "      <td>1900</td>\n",
       "      <td>70530</td>\n",
       "      <td>362110</td>\n",
       "    </tr>\n",
       "    <tr>\n",
       "      <th>2</th>\n",
       "      <td>3</td>\n",
       "      <td>0 to 4 years</td>\n",
       "      <td>455</td>\n",
       "      <td>2080</td>\n",
       "      <td>675</td>\n",
       "      <td>1240</td>\n",
       "      <td>1320</td>\n",
       "      <td>1510</td>\n",
       "      <td>2515</td>\n",
       "      <td>430</td>\n",
       "      <td>...</td>\n",
       "      <td>1175</td>\n",
       "      <td>270</td>\n",
       "      <td>360</td>\n",
       "      <td>360</td>\n",
       "      <td>1695</td>\n",
       "      <td>1175</td>\n",
       "      <td>965</td>\n",
       "      <td>420</td>\n",
       "      <td>24615</td>\n",
       "      <td>116270</td>\n",
       "    </tr>\n",
       "    <tr>\n",
       "      <th>3</th>\n",
       "      <td>4</td>\n",
       "      <td>5 to 9 years</td>\n",
       "      <td>685</td>\n",
       "      <td>1105</td>\n",
       "      <td>1225</td>\n",
       "      <td>760</td>\n",
       "      <td>1025</td>\n",
       "      <td>1560</td>\n",
       "      <td>2390</td>\n",
       "      <td>600</td>\n",
       "      <td>...</td>\n",
       "      <td>1160</td>\n",
       "      <td>405</td>\n",
       "      <td>365</td>\n",
       "      <td>365</td>\n",
       "      <td>1780</td>\n",
       "      <td>1210</td>\n",
       "      <td>560</td>\n",
       "      <td>670</td>\n",
       "      <td>22905</td>\n",
       "      <td>122730</td>\n",
       "    </tr>\n",
       "    <tr>\n",
       "      <th>4</th>\n",
       "      <td>5</td>\n",
       "      <td>10 to 14 years</td>\n",
       "      <td>880</td>\n",
       "      <td>810</td>\n",
       "      <td>1650</td>\n",
       "      <td>580</td>\n",
       "      <td>865</td>\n",
       "      <td>1525</td>\n",
       "      <td>2160</td>\n",
       "      <td>845</td>\n",
       "      <td>...</td>\n",
       "      <td>1080</td>\n",
       "      <td>500</td>\n",
       "      <td>375</td>\n",
       "      <td>340</td>\n",
       "      <td>1985</td>\n",
       "      <td>1410</td>\n",
       "      <td>415</td>\n",
       "      <td>810</td>\n",
       "      <td>23010</td>\n",
       "      <td>123110</td>\n",
       "    </tr>\n",
       "    <tr>\n",
       "      <th>...</th>\n",
       "      <td>...</td>\n",
       "      <td>...</td>\n",
       "      <td>...</td>\n",
       "      <td>...</td>\n",
       "      <td>...</td>\n",
       "      <td>...</td>\n",
       "      <td>...</td>\n",
       "      <td>...</td>\n",
       "      <td>...</td>\n",
       "      <td>...</td>\n",
       "      <td>...</td>\n",
       "      <td>...</td>\n",
       "      <td>...</td>\n",
       "      <td>...</td>\n",
       "      <td>...</td>\n",
       "      <td>...</td>\n",
       "      <td>...</td>\n",
       "      <td>...</td>\n",
       "      <td>...</td>\n",
       "      <td>...</td>\n",
       "      <td>...</td>\n",
       "    </tr>\n",
       "    <tr>\n",
       "      <th>5584</th>\n",
       "      <td>5489</td>\n",
       "      <td>Non-Aboriginal</td>\n",
       "      <td>360</td>\n",
       "      <td>1300</td>\n",
       "      <td>335</td>\n",
       "      <td>505</td>\n",
       "      <td>305</td>\n",
       "      <td>750</td>\n",
       "      <td>1125</td>\n",
       "      <td>360</td>\n",
       "      <td>...</td>\n",
       "      <td>350</td>\n",
       "      <td>120</td>\n",
       "      <td>115</td>\n",
       "      <td>125</td>\n",
       "      <td>850</td>\n",
       "      <td>945</td>\n",
       "      <td>915</td>\n",
       "      <td>215</td>\n",
       "      <td>13300</td>\n",
       "      <td>46615</td>\n",
       "    </tr>\n",
       "    <tr>\n",
       "      <th>5585</th>\n",
       "      <td>5490</td>\n",
       "      <td>English and French</td>\n",
       "      <td>0</td>\n",
       "      <td>0</td>\n",
       "      <td>0</td>\n",
       "      <td>0</td>\n",
       "      <td>0</td>\n",
       "      <td>0</td>\n",
       "      <td>0</td>\n",
       "      <td>0</td>\n",
       "      <td>...</td>\n",
       "      <td>0</td>\n",
       "      <td>0</td>\n",
       "      <td>0</td>\n",
       "      <td>0</td>\n",
       "      <td>0</td>\n",
       "      <td>0</td>\n",
       "      <td>0</td>\n",
       "      <td>0</td>\n",
       "      <td>10</td>\n",
       "      <td>15</td>\n",
       "    </tr>\n",
       "    <tr>\n",
       "      <th>5586</th>\n",
       "      <td>5491</td>\n",
       "      <td>English and non-official language</td>\n",
       "      <td>10</td>\n",
       "      <td>10</td>\n",
       "      <td>0</td>\n",
       "      <td>0</td>\n",
       "      <td>0</td>\n",
       "      <td>15</td>\n",
       "      <td>20</td>\n",
       "      <td>10</td>\n",
       "      <td>...</td>\n",
       "      <td>0</td>\n",
       "      <td>0</td>\n",
       "      <td>0</td>\n",
       "      <td>0</td>\n",
       "      <td>10</td>\n",
       "      <td>30</td>\n",
       "      <td>0</td>\n",
       "      <td>0</td>\n",
       "      <td>190</td>\n",
       "      <td>580</td>\n",
       "    </tr>\n",
       "    <tr>\n",
       "      <th>5587</th>\n",
       "      <td>5492</td>\n",
       "      <td>French and non-official language</td>\n",
       "      <td>0</td>\n",
       "      <td>15</td>\n",
       "      <td>10</td>\n",
       "      <td>20</td>\n",
       "      <td>10</td>\n",
       "      <td>0</td>\n",
       "      <td>20</td>\n",
       "      <td>0</td>\n",
       "      <td>...</td>\n",
       "      <td>10</td>\n",
       "      <td>15</td>\n",
       "      <td>10</td>\n",
       "      <td>0</td>\n",
       "      <td>0</td>\n",
       "      <td>15</td>\n",
       "      <td>20</td>\n",
       "      <td>10</td>\n",
       "      <td>265</td>\n",
       "      <td>685</td>\n",
       "    </tr>\n",
       "    <tr>\n",
       "      <th>5588</th>\n",
       "      <td>5493</td>\n",
       "      <td>English, French and non-official language</td>\n",
       "      <td>0</td>\n",
       "      <td>0</td>\n",
       "      <td>0</td>\n",
       "      <td>0</td>\n",
       "      <td>0</td>\n",
       "      <td>0</td>\n",
       "      <td>0</td>\n",
       "      <td>0</td>\n",
       "      <td>...</td>\n",
       "      <td>0</td>\n",
       "      <td>0</td>\n",
       "      <td>0</td>\n",
       "      <td>0</td>\n",
       "      <td>0</td>\n",
       "      <td>0</td>\n",
       "      <td>0</td>\n",
       "      <td>0</td>\n",
       "      <td>0</td>\n",
       "      <td>0</td>\n",
       "    </tr>\n",
       "  </tbody>\n",
       "</table>\n",
       "<p>5589 rows × 26 columns</p>\n",
       "</div>"
      ],
      "text/plain": [
       "        ID                                           Variable Arbutus-Ridge   \\\n",
       "0        1   Total - Age groups and average age of the pop...         15,295   \n",
       "1        2                                      0 to 14 years           2015   \n",
       "2        3                                       0 to 4 years            455   \n",
       "3        4                                       5 to 9 years            685   \n",
       "4        5                                     10 to 14 years            880   \n",
       "...    ...                                                ...            ...   \n",
       "5584  5489                                     Non-Aboriginal            360   \n",
       "5585  5490                                 English and French              0   \n",
       "5586  5491                  English and non-official language             10   \n",
       "5587  5492                   French and non-official language              0   \n",
       "5588  5493          English, French and non-official language              0   \n",
       "\n",
       "     Downtown  Dunbar-Southlands  Fairview  Grandview-Woodland   \\\n",
       "0       62,030             21,425    33,620              29,175   \n",
       "1         4000               3545      2580                3210   \n",
       "2         2080                675      1240                1320   \n",
       "3         1105               1225       760                1025   \n",
       "4          810               1650       580                 865   \n",
       "...        ...                ...       ...                 ...   \n",
       "5584      1300                335       505                 305   \n",
       "5585         0                  0         0                   0   \n",
       "5586        10                  0         0                   0   \n",
       "5587        15                 10        20                  10   \n",
       "5588         0                  0         0                   0   \n",
       "\n",
       "     Hastings-Sunrise  Kensington-Cedar Cottage  Kerrisdale   ... Riley Park   \\\n",
       "0               34,575                    49,325      13,975  ...      22,555   \n",
       "1                 4595                      7060        1880  ...        3415   \n",
       "2                 1510                      2515         430  ...        1175   \n",
       "3                 1560                      2390         600  ...        1160   \n",
       "4                 1525                      2160         845  ...        1080   \n",
       "...                ...                       ...         ...  ...         ...   \n",
       "5584               750                      1125         360  ...         350   \n",
       "5585                 0                         0           0  ...           0   \n",
       "5586                15                        20          10  ...           0   \n",
       "5587                 0                        20           0  ...          10   \n",
       "5588                 0                         0           0  ...           0   \n",
       "\n",
       "     Shaughnessy  South Cambie  Strathcona  Sunset  Victoria-Fraserview  \\\n",
       "0           8,430         7,970      12,585  36,500              31,065   \n",
       "1            1175          1105        1065    5460                3790   \n",
       "2             270           360         360    1695                1175   \n",
       "3             405           365         365    1780                1210   \n",
       "4             500           375         340    1985                1410   \n",
       "...           ...           ...         ...     ...                 ...   \n",
       "5584          120           115         125     850                 945   \n",
       "5585            0             0           0       0                   0   \n",
       "5586            0             0           0      10                  30   \n",
       "5587           15            10           0       0                  15   \n",
       "5588            0             0           0       0                   0   \n",
       "\n",
       "     West End  West Point Grey  Vancouver CSD  Vancouver CMA   \n",
       "0       47,200           13,065        631,485      2,463,430  \n",
       "1         1945             1900          70530         362110  \n",
       "2          965              420          24615         116270  \n",
       "3          560              670          22905         122730  \n",
       "4          415              810          23010         123110  \n",
       "...        ...              ...            ...            ...  \n",
       "5584       915              215          13300          46615  \n",
       "5585         0                0             10             15  \n",
       "5586         0                0            190            580  \n",
       "5587        20               10            265            685  \n",
       "5588         0                0              0              0  \n",
       "\n",
       "[5589 rows x 26 columns]"
      ]
     },
     "execution_count": 19,
     "metadata": {},
     "output_type": "execute_result"
    }
   ],
   "source": [
    "# look at census data for 2016\n",
    "census_2016 = pd.read_csv('../data/raw/census_2016.csv', skiprows=4, encoding='latin-1')\n",
    "census_2016"
   ]
  },
  {
   "cell_type": "code",
   "execution_count": 103,
   "metadata": {},
   "outputs": [
    {
     "data": {
      "text/html": [
       "<div>\n",
       "<style scoped>\n",
       "    .dataframe tbody tr th:only-of-type {\n",
       "        vertical-align: middle;\n",
       "    }\n",
       "\n",
       "    .dataframe tbody tr th {\n",
       "        vertical-align: top;\n",
       "    }\n",
       "\n",
       "    .dataframe thead th {\n",
       "        text-align: right;\n",
       "    }\n",
       "</style>\n",
       "<table border=\"1\" class=\"dataframe\">\n",
       "  <thead>\n",
       "    <tr style=\"text-align: right;\">\n",
       "      <th></th>\n",
       "      <th>Unnamed: 0</th>\n",
       "      <th>Arbutus-Ridge</th>\n",
       "      <th>Downtown</th>\n",
       "      <th>Dunbar-Southlands</th>\n",
       "      <th>Fairview</th>\n",
       "      <th>Grandview-Woodland</th>\n",
       "      <th>Hastings-Sunrise</th>\n",
       "      <th>Kensington-Cedar Cottage</th>\n",
       "      <th>Kerrisdale</th>\n",
       "      <th>Killarney</th>\n",
       "      <th>...</th>\n",
       "      <th>Riley Park</th>\n",
       "      <th>Shaughnessy</th>\n",
       "      <th>South Cambie</th>\n",
       "      <th>Strathcona</th>\n",
       "      <th>Sunset</th>\n",
       "      <th>Victoria-Fraserview</th>\n",
       "      <th>West End</th>\n",
       "      <th>West Point Grey</th>\n",
       "      <th>Vancouver CSD (City of Vancouver)</th>\n",
       "      <th>Vancouver CMA  (Metro Vancouver)</th>\n",
       "    </tr>\n",
       "  </thead>\n",
       "  <tbody>\n",
       "    <tr>\n",
       "      <th>0</th>\n",
       "      <td>Total population by sex and age groups - 100%...</td>\n",
       "      <td>14,515</td>\n",
       "      <td>27,990</td>\n",
       "      <td>21,310</td>\n",
       "      <td>28,405</td>\n",
       "      <td>29,085</td>\n",
       "      <td>33,045</td>\n",
       "      <td>44,560</td>\n",
       "      <td>14,035</td>\n",
       "      <td>25,785</td>\n",
       "      <td>...</td>\n",
       "      <td>21,990</td>\n",
       "      <td>9,020</td>\n",
       "      <td>6,995</td>\n",
       "      <td>11,575</td>\n",
       "      <td>33,425</td>\n",
       "      <td>27,150</td>\n",
       "      <td>42,120</td>\n",
       "      <td>12,680</td>\n",
       "      <td>545,675</td>\n",
       "      <td>1,986,965</td>\n",
       "    </tr>\n",
       "    <tr>\n",
       "      <th>1</th>\n",
       "      <td>Male</td>\n",
       "      <td>6,540</td>\n",
       "      <td>16,430</td>\n",
       "      <td>10,410</td>\n",
       "      <td>12,435</td>\n",
       "      <td>14,400</td>\n",
       "      <td>16,225</td>\n",
       "      <td>21,975</td>\n",
       "      <td>6,480</td>\n",
       "      <td>12,160</td>\n",
       "      <td>...</td>\n",
       "      <td>10,470</td>\n",
       "      <td>4,300</td>\n",
       "      <td>3,310</td>\n",
       "      <td>6,525</td>\n",
       "      <td>16,505</td>\n",
       "      <td>13,025</td>\n",
       "      <td>21,995</td>\n",
       "      <td>6,020</td>\n",
       "      <td>267,700</td>\n",
       "      <td>972,730</td>\n",
       "    </tr>\n",
       "    <tr>\n",
       "      <th>2</th>\n",
       "      <td>0 - 4</td>\n",
       "      <td>220</td>\n",
       "      <td>360</td>\n",
       "      <td>485</td>\n",
       "      <td>440</td>\n",
       "      <td>740</td>\n",
       "      <td>930</td>\n",
       "      <td>1,325</td>\n",
       "      <td>245</td>\n",
       "      <td>585</td>\n",
       "      <td>...</td>\n",
       "      <td>605</td>\n",
       "      <td>155</td>\n",
       "      <td>165</td>\n",
       "      <td>165</td>\n",
       "      <td>1,180</td>\n",
       "      <td>615</td>\n",
       "      <td>395</td>\n",
       "      <td>255</td>\n",
       "      <td>11,990</td>\n",
       "      <td>53,850</td>\n",
       "    </tr>\n",
       "    <tr>\n",
       "      <th>3</th>\n",
       "      <td>5 - 9</td>\n",
       "      <td>270</td>\n",
       "      <td>215</td>\n",
       "      <td>620</td>\n",
       "      <td>270</td>\n",
       "      <td>700</td>\n",
       "      <td>1,010</td>\n",
       "      <td>1,460</td>\n",
       "      <td>325</td>\n",
       "      <td>785</td>\n",
       "      <td>...</td>\n",
       "      <td>530</td>\n",
       "      <td>185</td>\n",
       "      <td>170</td>\n",
       "      <td>205</td>\n",
       "      <td>1,160</td>\n",
       "      <td>765</td>\n",
       "      <td>240</td>\n",
       "      <td>270</td>\n",
       "      <td>12,320</td>\n",
       "      <td>60,800</td>\n",
       "    </tr>\n",
       "    <tr>\n",
       "      <th>4</th>\n",
       "      <td>10 - 14</td>\n",
       "      <td>465</td>\n",
       "      <td>165</td>\n",
       "      <td>850</td>\n",
       "      <td>220</td>\n",
       "      <td>575</td>\n",
       "      <td>960</td>\n",
       "      <td>1,345</td>\n",
       "      <td>465</td>\n",
       "      <td>855</td>\n",
       "      <td>...</td>\n",
       "      <td>535</td>\n",
       "      <td>305</td>\n",
       "      <td>175</td>\n",
       "      <td>190</td>\n",
       "      <td>1,055</td>\n",
       "      <td>890</td>\n",
       "      <td>190</td>\n",
       "      <td>405</td>\n",
       "      <td>12,835</td>\n",
       "      <td>62,805</td>\n",
       "    </tr>\n",
       "  </tbody>\n",
       "</table>\n",
       "<p>5 rows × 25 columns</p>\n",
       "</div>"
      ],
      "text/plain": [
       "                                          Unnamed: 0 Arbutus-Ridge Downtown  \\\n",
       "0   Total population by sex and age groups - 100%...        14,515   27,990   \n",
       "1                                               Male         6,540   16,430   \n",
       "2                                              0 - 4           220      360   \n",
       "3                                              5 - 9           270      215   \n",
       "4                                            10 - 14           465      165   \n",
       "\n",
       "  Dunbar-Southlands Fairview Grandview-Woodland Hastings-Sunrise  \\\n",
       "0            21,310   28,405             29,085           33,045   \n",
       "1            10,410   12,435             14,400           16,225   \n",
       "2               485      440                740              930   \n",
       "3               620      270                700            1,010   \n",
       "4               850      220                575              960   \n",
       "\n",
       "  Kensington-Cedar Cottage Kerrisdale Killarney  ... Riley Park Shaughnessy  \\\n",
       "0                   44,560     14,035    25,785  ...     21,990       9,020   \n",
       "1                   21,975      6,480    12,160  ...     10,470       4,300   \n",
       "2                    1,325        245       585  ...        605         155   \n",
       "3                    1,460        325       785  ...        530         185   \n",
       "4                    1,345        465       855  ...        535         305   \n",
       "\n",
       "  South Cambie Strathcona  Sunset Victoria-Fraserview West End  \\\n",
       "0        6,995     11,575  33,425              27,150   42,120   \n",
       "1        3,310      6,525  16,505              13,025   21,995   \n",
       "2          165        165   1,180                 615      395   \n",
       "3          170        205   1,160                 765      240   \n",
       "4          175        190   1,055                 890      190   \n",
       "\n",
       "  West Point Grey Vancouver CSD (City of Vancouver)  \\\n",
       "0          12,680                           545,675   \n",
       "1           6,020                           267,700   \n",
       "2             255                            11,990   \n",
       "3             270                            12,320   \n",
       "4             405                            12,835   \n",
       "\n",
       "  Vancouver CMA  (Metro Vancouver)  \n",
       "0                        1,986,965  \n",
       "1                          972,730  \n",
       "2                           53,850  \n",
       "3                           60,800  \n",
       "4                           62,805  \n",
       "\n",
       "[5 rows x 25 columns]"
      ]
     },
     "execution_count": 103,
     "metadata": {},
     "output_type": "execute_result"
    }
   ],
   "source": [
    "# look at census data for 2001\n",
    "census_2001 = pd.read_csv('../data/raw/census_2001.csv', skiprows=4, encoding='latin-1')\n",
    "census_2001.head()"
   ]
  },
  {
   "cell_type": "code",
   "execution_count": 32,
   "metadata": {},
   "outputs": [
    {
     "data": {
      "text/html": [
       "<div>\n",
       "<style scoped>\n",
       "    .dataframe tbody tr th:only-of-type {\n",
       "        vertical-align: middle;\n",
       "    }\n",
       "\n",
       "    .dataframe tbody tr th {\n",
       "        vertical-align: top;\n",
       "    }\n",
       "\n",
       "    .dataframe thead th {\n",
       "        text-align: right;\n",
       "    }\n",
       "</style>\n",
       "<table border=\"1\" class=\"dataframe\">\n",
       "  <thead>\n",
       "    <tr style=\"text-align: right;\">\n",
       "      <th></th>\n",
       "      <th>mapid</th>\n",
       "      <th>name</th>\n",
       "      <th>geometry</th>\n",
       "    </tr>\n",
       "  </thead>\n",
       "  <tbody>\n",
       "    <tr>\n",
       "      <th>0</th>\n",
       "      <td>AR</td>\n",
       "      <td>Arbutus-Ridge</td>\n",
       "      <td>POLYGON ((-123.15260 49.25723, -123.16488 49.2...</td>\n",
       "    </tr>\n",
       "    <tr>\n",
       "      <th>1</th>\n",
       "      <td>CBD</td>\n",
       "      <td>Downtown</td>\n",
       "      <td>POLYGON ((-123.11227 49.29016, -123.10424 49.2...</td>\n",
       "    </tr>\n",
       "    <tr>\n",
       "      <th>2</th>\n",
       "      <td>FAIR</td>\n",
       "      <td>Fairview</td>\n",
       "      <td>POLYGON ((-123.14599 49.25712, -123.14540 49.2...</td>\n",
       "    </tr>\n",
       "    <tr>\n",
       "      <th>3</th>\n",
       "      <td>GW</td>\n",
       "      <td>Grandview-Woodland</td>\n",
       "      <td>POLYGON ((-123.07702 49.29025, -123.06778 49.2...</td>\n",
       "    </tr>\n",
       "    <tr>\n",
       "      <th>4</th>\n",
       "      <td>HS</td>\n",
       "      <td>Hastings-Sunrise</td>\n",
       "      <td>POLYGON ((-123.05649 49.29349, -123.05190 49.2...</td>\n",
       "    </tr>\n",
       "  </tbody>\n",
       "</table>\n",
       "</div>"
      ],
      "text/plain": [
       "  mapid                name                                           geometry\n",
       "0    AR       Arbutus-Ridge  POLYGON ((-123.15260 49.25723, -123.16488 49.2...\n",
       "1   CBD            Downtown  POLYGON ((-123.11227 49.29016, -123.10424 49.2...\n",
       "2  FAIR            Fairview  POLYGON ((-123.14599 49.25712, -123.14540 49.2...\n",
       "3    GW  Grandview-Woodland  POLYGON ((-123.07702 49.29025, -123.06778 49.2...\n",
       "4    HS    Hastings-Sunrise  POLYGON ((-123.05649 49.29349, -123.05190 49.2..."
      ]
     },
     "execution_count": 32,
     "metadata": {},
     "output_type": "execute_result"
    }
   ],
   "source": [
    "# load GeoJSON of vancouver area boundaries\n",
    "van_areas = gpd.read_file('../data/raw/local_area_boundary.geojson')\n",
    "van_areas.head()"
   ]
  },
  {
   "cell_type": "code",
   "execution_count": 104,
   "metadata": {},
   "outputs": [
    {
     "data": {
      "application/vnd.vegalite.v4+json": {
       "$schema": "https://vega.github.io/schema/vega-lite/v4.0.2.json",
       "background": "transparent",
       "config": {
        "title": {
         "fontSize": 24
        },
        "view": {
         "continuousHeight": 300,
         "continuousWidth": 400,
         "strokeWidth": 0
        }
       },
       "data": {
        "values": [
         {
          "geometry": {
           "coordinates": [
            [
             [
              -123.15259552001953,
              49.25722503661694
             ],
             [
              -123.16487884521483,
              49.25742721557202
             ],
             [
              -123.16487884521483,
              49.25756835937086
             ],
             [
              -123.17807006835936,
              49.257766723628684
             ],
             [
              -123.17810058593747,
              49.25716400146071
             ],
             [
              -123.17792510986327,
              49.25693893432204
             ],
             [
              -123.17616271972653,
              49.25561141967359
             ],
             [
              -123.17501068115232,
              49.25408172607007
             ],
             [
              -123.1719055175781,
              49.25155258178297
             ],
             [
              -123.16960144042967,
              49.2489624023396
             ],
             [
              -123.17092895507811,
              49.249671936031
             ],
             [
              -123.17218780517575,
              49.25004577636304
             ],
             [
              -123.1709518432617,
              49.24845886230054
             ],
             [
              -123.1705627441406,
              49.248119354243904
             ],
             [
              -123.17015838623044,
              49.24788284301343
             ],
             [
              -123.17024993896482,
              49.23470306396071
             ],
             [
              -123.15527343749999,
              49.2345237731892
             ],
             [
              -123.1550827026367,
              49.23939895629468
             ],
             [
              -123.15506744384764,
              49.23947906493727
             ],
             [
              -123.15503692626952,
              49.23956298827711
             ],
             [
              -123.15500640869138,
              49.23964309691969
             ],
             [
              -123.15496826171874,
              49.239723205562264
             ],
             [
              -123.15492248535158,
              49.23979949950756
             ],
             [
              -123.15487670898436,
              49.23987960815015
             ],
             [
              -123.1548156738281,
              49.23995208739821
             ],
             [
              -123.15475463867186,
              49.24002456664624
             ],
             [
              -123.15468597412108,
              49.240097045894295
             ],
             [
              -123.15461730957031,
              49.24016571044507
             ],
             [
              -123.15453338623047,
              49.24023056029859
             ],
             [
              -123.15444946289061,
              49.240291595454835
             ],
             [
              -123.15435791015625,
              49.24035263061109
             ],
             [
              -123.15426635742185,
              49.2404060363728
             ],
             [
              -123.15416717529295,
              49.24045944213453
             ],
             [
              -123.15406036376953,
              49.24050903319898
             ],
             [
              -123.1539611816406,
              49.24055480956617
             ],
             [
              -123.15384674072263,
              49.24059677123608
             ],
             [
              -123.15373229980466,
              49.24063491820875
             ],
             [
              -123.1536178588867,
              49.24066925048413
             ],
             [
              -123.15349578857419,
              49.24069976806226
             ],
             [
              -123.15337371826172,
              49.24072647094313
             ],
             [
              -123.15325164794919,
              49.24074935912672
             ],
             [
              -123.15312957763672,
              49.24076461791578
             ],
             [
              -123.15299987792966,
              49.24077606200756
             ],
             [
              -123.15287780761716,
              49.24078750609938
             ],
             [
              -123.15274810791014,
              49.24079132079663
             ],
             [
              -123.1526184082031,
              49.240791320796646
             ],
             [
              -123.1524963378906,
              49.24078369140211
             ],
             [
              -123.15236663818361,
              49.24077606200757
             ],
             [
              -123.15223693847653,
              49.24076080321852
             ],
             [
              -123.15211486816403,
              49.24074554442945
             ],
             [
              -123.15199279785155,
              49.24072265624585
             ],
             [
              -123.15007019042967,
              49.24038696288647
             ],
             [
              -123.14994049072266,
              49.240367889400154
             ],
             [
              -123.14981842041016,
              49.240352630611085
             ],
             [
              -123.14968872070311,
              49.240341186519295
             ],
             [
              -123.14955902099608,
              49.24033737182203
             ],
             [
              -123.14942932128905,
              49.24033355712476
             ],
             [
              -123.14929962158203,
              49.24033737182204
             ],
             [
              -123.14916992187499,
              49.240341186519295
             ],
             [
              -123.14904022216797,
              49.24035263061108
             ],
             [
              -123.14891815185548,
              49.24036788940015
             ],
             [
              -123.14878845214844,
              49.24039077758374
             ],
             [
              -123.14866638183591,
              49.240413665767335
             ],
             [
              -123.14854431152341,
              49.240440368648194
             ],
             [
              -123.14842224121095,
              49.24047470092358
             ],
             [
              -123.14830780029297,
              49.24051284789625
             ],
             [
              -123.14819335937497,
              49.2405509948689
             ],
             [
              -123.14808654785158,
              49.240596771236085
             ],
             [
              -123.14797973632812,
              49.240646362300524
             ],
             [
              -123.1478729248047,
              49.240695953364984
             ],
             [
              -123.14777374267577,
              49.240753173823975
             ],
             [
              -123.14768218994142,
              49.24081039428297
             ],
             [
              -123.14759063720705,
              49.24087142943921
             ],
             [
              -123.14750671386719,
              49.24093627929272
             ],
             [
              -123.14743041992188,
              49.24100494384351
             ],
             [
              -123.1473617553711,
              49.24107360839428
             ],
             [
              -123.14729309082031,
              49.24114608764234
             ],
             [
              -123.14723205566405,
              49.24122238158766
             ],
             [
              -123.14717864990234,
              49.24129867553296
             ],
             [
              -123.14712524414062,
              49.24137496947828
             ],
             [
              -123.14708709716797,
              49.24145507812086
             ],
             [
              -123.14704895019533,
              49.241539001460694
             ],
             [
              -123.14701843261717,
              49.24161911010329
             ],
             [
              -123.14699554443358,
              49.241703033443116
             ],
             [
              -123.14698028564453,
              49.24178695678295
             ],
             [
              -123.14697265624999,
              49.2418708801228
             ],
             [
              -123.14696502685547,
              49.241954803462654
             ],
             [
              -123.14694976806642,
              49.24256134032788
             ],
             [
              -123.14694976806642,
              49.24273300170482
             ],
             [
              -123.14697265624999,
              49.24290084838452
             ],
             [
              -123.14700317382814,
              49.24307250976148
             ],
             [
              -123.14704895019533,
              49.24324035644117
             ],
             [
              -123.14710235595703,
              49.24340438842359
             ],
             [
              -123.14717864990234,
              49.24356842040601
             ],
             [
              -123.1472625732422,
              49.24372863769117
             ],
             [
              -123.14736938476562,
              49.24388504027905
             ],
             [
              -123.15238189697266,
              49.25062179565015
             ],
             [
              -123.1524658203125,
              49.25074768065992
             ],
             [
              -123.15254211425778,
              49.250877380366944
             ],
             [
              -123.1526107788086,
              49.25100708007397
             ],
             [
              -123.15266418457028,
              49.25114059447827
             ],
             [
              -123.15270996093747,
              49.251277923579835
             ],
             [
              -123.1527404785156,
              49.25141525268141
             ],
             [
              -123.15276336669919,
              49.25155258178297
             ],
             [
              -123.15277099609376,
              49.25169372558179
             ],
             [
              -123.15276336669919,
              49.251831054683365
             ],
             [
              -123.15259552001953,
              49.25722503661694
             ]
            ]
           ],
           "type": "Polygon"
          },
          "id": "0",
          "properties": {
           "mapid": "AR",
           "name": "Arbutus-Ridge"
          },
          "type": "Feature"
         },
         {
          "geometry": {
           "coordinates": [
            [
             [
              -123.11226654052733,
              49.29016494750564
             ],
             [
              -123.10424041748047,
              49.28816604613845
             ],
             [
              -123.0992889404297,
              49.28927230834548
             ],
             [
              -123.09999847412111,
              49.272750854488045
             ],
             [
              -123.10169982910158,
              49.27297210692946
             ],
             [
              -123.11107635498047,
              49.27292633056227
             ],
             [
              -123.1144485473633,
              49.271774291988045
             ],
             [
              -123.1211624145508,
              49.2695388793904
             ],
             [
              -123.12928009033203,
              49.26953124999586
             ],
             [
              -123.13768005371092,
              49.27531814574782
             ],
             [
              -123.13233184814453,
              49.27693176269117
             ],
             [
              -123.12109375,
              49.28436660766189
             ],
             [
              -123.13668060302734,
              49.294456481929465
             ],
             [
              -123.13468933105469,
              49.29581069945876
             ],
             [
              -123.12271118164062,
              49.29150009154861
             ],
             [
              -123.11226654052733,
              49.29016494750564
             ]
            ]
           ],
           "type": "Polygon"
          },
          "id": "1",
          "properties": {
           "mapid": "CBD",
           "name": "Downtown"
          },
          "type": "Feature"
         },
         {
          "geometry": {
           "coordinates": [
            [
             [
              -123.14598846435547,
              49.25712203979079
             ],
             [
              -123.14540100097656,
              49.2718467712361
             ],
             [
              -123.14534759521486,
              49.271961212154075
             ],
             [
              -123.1452865600586,
              49.27207565307204
             ],
             [
              -123.14521789550781,
              49.27218627929275
             ],
             [
              -123.1451416015625,
              49.272296905513436
             ],
             [
              -123.14505004882812,
              49.272399902339615
             ],
             [
              -123.14495086669922,
              49.27250289916579
             ],
             [
              -123.14484405517577,
              49.27260208129469
             ],
             [
              -123.14473724365234,
              49.27269744872633
             ],
             [
              -123.14461517333986,
              49.2727890014607
             ],
             [
              -123.14448547363281,
              49.27287292480055
             ],
             [
              -123.14434814453124,
              49.27295684814039
             ],
             [
              -123.1442108154297,
              49.27303314208571
             ],
             [
              -123.14405822753906,
              49.27310562133375
             ],
             [
              -123.14390563964845,
              49.27317047118727
             ],
             [
              -123.14374542236328,
              49.27323150634351
             ],
             [
              -123.1392822265625,
              49.274826049800545
             ],
             [
              -123.13768005371092,
              49.27531814574782
             ],
             [
              -123.12928009033203,
              49.26953124999586
             ],
             [
              -123.1211624145508,
              49.2695388793904
             ],
             [
              -123.1144485473633,
              49.271774291988045
             ],
             [
              -123.11504364013672,
              49.25687026977125
             ],
             [
              -123.12721252441408,
              49.257099151607186
             ],
             [
              -123.12721252441408,
              49.25696945190016
             ],
             [
              -123.13176727294922,
              49.257030487056404
             ],
             [
              -123.13200378417969,
              49.257152557368904
             ],
             [
              -123.1322479248047,
              49.257266998286866
             ],
             [
              -123.13249969482422,
              49.25737380981031
             ],
             [
              -123.13276672363283,
              49.25747299193922
             ],
             [
              -123.1330337524414,
              49.257560729976326
             ],
             [
              -123.13331604003906,
              49.25764083861892
             ],
             [
              -123.13359832763673,
              49.25770950316969
             ],
             [
              -123.1338882446289,
              49.257770538325936
             ],
             [
              -123.1341781616211,
              49.25782012939039
             ],
             [
              -123.13447570800781,
              49.25785827636303
             ],
             [
              -123.13478088378908,
              49.257884979243904
             ],
             [
              -123.13507843017577,
              49.25790405273023
             ],
             [
              -123.13538360595703,
              49.25791168212476
             ],
             [
              -123.13568878173828,
              49.257907867427505
             ],
             [
              -123.13598632812501,
              49.25789642333571
             ],
             [
              -123.13616943359376,
              49.257884979243904
             ],
             [
              -123.13634490966797,
              49.25786590575759
             ],
             [
              -123.13652038574217,
              49.257839202876724
             ],
             [
              -123.13669586181642,
              49.25780868529859
             ],
             [
              -123.1368637084961,
              49.257774353023194
             ],
             [
              -123.13703155517578,
              49.25772857665602
             ],
             [
              -123.13719177246095,
              49.257682800288826
             ],
             [
              -123.13735198974611,
              49.257625579829835
             ],
             [
              -123.13750457763672,
              49.25756835937086
             ],
             [
              -123.13765716552733,
              49.25749969482009
             ],
             [
              -123.13780212402345,
              49.2574310302693
             ],
             [
              -123.13793945312499,
              49.25735473632398
             ],
             [
              -123.13806915283203,
              49.257274627681404
             ],
             [
              -123.13819122314453,
              49.25719070434156
             ],
             [
              -123.1383056640625,
              49.257099151607186
             ],
             [
              -123.13842010498048,
              49.2570075988728
             ],
             [
              -123.14598846435547,
              49.25712203979079
             ]
            ]
           ],
           "type": "Polygon"
          },
          "id": "2",
          "properties": {
           "mapid": "FAIR",
           "name": "Fairview"
          },
          "type": "Feature"
         },
         {
          "geometry": {
           "coordinates": [
            [
             [
              -123.07701873779298,
              49.29024887084548
             ],
             [
              -123.06777954101564,
              49.29010391234939
             ],
             [
              -123.06262207031251,
              49.2895355224568
             ],
             [
              -123.06242370605469,
              49.29087448119704
             ],
             [
              -123.05648803710938,
              49.293487548824
             ],
             [
              -123.05658721923828,
              49.26217651366774
             ],
             [
              -123.07746887207033,
              49.2623367309529
             ],
             [
              -123.0774154663086,
              49.26514053344312
             ],
             [
              -123.07701873779298,
              49.29024887084548
             ]
            ]
           ],
           "type": "Polygon"
          },
          "id": "3",
          "properties": {
           "mapid": "GW",
           "name": "Grandview-Woodland"
          },
          "type": "Feature"
         },
         {
          "geometry": {
           "coordinates": [
            [
             [
              -123.05648803710938,
              49.293487548824
             ],
             [
              -123.0519027709961,
              49.29414749145095
             ],
             [
              -123.046630859375,
              49.29418182372634
             ],
             [
              -123.03739166259764,
              49.2927322387654
             ],
             [
              -123.02320098876953,
              49.293533325191184
             ],
             [
              -123.02323150634764,
              49.293029785152115
             ],
             [
              -123.02356719970705,
              49.26552581786695
             ],
             [
              -123.02411651611328,
              49.265399932857186
             ],
             [
              -123.02464294433594,
              49.26525115966384
             ],
             [
              -123.02516937255858,
              49.26508712768141
             ],
             [
              -123.02567291259767,
              49.264904022212654
             ],
             [
              -123.02616119384766,
              49.26470565795485
             ],
             [
              -123.0266342163086,
              49.26449203490797
             ],
             [
              -123.02709197998048,
              49.26425933837477
             ],
             [
              -123.02753448486327,
              49.264011383052505
             ],
             [
              -123.02794647216797,
              49.26375198363843
             ],
             [
              -123.02953338623047,
              49.262706756587654
             ],
             [
              -123.02969360351564,
              49.262596130366944
             ],
             [
              -123.02986145019531,
              49.262496948238045
             ],
             [
              -123.03004455566408,
              49.262401580806404
             ],
             [
              -123.03022766113281,
              49.26231002807204
             ],
             [
              -123.03042602539064,
              49.26222991942946
             ],
             [
              -123.03062438964844,
              49.26215362548414
             ],
             [
              -123.03083038330078,
              49.26208496093336
             ],
             [
              -123.03104400634766,
              49.26202774047437
             ],
             [
              -123.03126525878906,
              49.261974334712654
             ],
             [
              -123.03148651123048,
              49.26192855834546
             ],
             [
              -123.03170776367188,
              49.261894226070076
             ],
             [
              -123.03193664550783,
              49.26186370849196
             ],
             [
              -123.03216552734375,
              49.26184463500563
             ],
             [
              -123.03239440917969,
              49.261833190913826
             ],
             [
              -123.03262329101564,
              49.26182937621656
             ],
             [
              -123.04424285888672,
              49.26187133788648
             ],
             [
              -123.04424285888672,
              49.261936187739984
             ],
             [
              -123.05658721923828,
              49.26198196410718
             ],
             [
              -123.05658721923828,
              49.26217651366774
             ],
             [
              -123.05648803710938,
              49.293487548824
             ]
            ]
           ],
           "type": "Polygon"
          },
          "id": "4",
          "properties": {
           "mapid": "HS",
           "name": "Hastings-Sunrise"
          },
          "type": "Feature"
         },
         {
          "geometry": {
           "coordinates": [
            [
             [
              -123.10696411132812,
              49.20415878295483
             ],
             [
              -123.11153411865233,
              49.20444488524975
             ],
             [
              -123.11196899414062,
              49.20445632934154
             ],
             [
              -123.1124038696289,
              49.204452514644274
             ],
             [
              -123.1128387451172,
              49.204429626460694
             ],
             [
              -123.11327362060547,
              49.204391479488024
             ],
             [
              -123.11370086669922,
              49.20433425902904
             ],
             [
              -123.11412048339844,
              49.204261779781
             ],
             [
              -123.11453247070312,
              49.20417404174388
             ],
             [
              -123.11718750000001,
              49.20354843139232
             ],
             [
              -123.117431640625,
              49.203475952144274
             ],
             [
              -123.11766052246095,
              49.20339202880444
             ],
             [
              -123.11788940429688,
              49.20330047607005
             ],
             [
              -123.1181106567383,
              49.203201293941156
             ],
             [
              -123.11832427978517,
              49.203094482417704
             ],
             [
              -123.11852264404297,
              49.20298004149974
             ],
             [
              -123.11872100830077,
              49.20285797118726
             ],
             [
              -123.11890411376953,
              49.20273208617747
             ],
             [
              -123.11907196044922,
              49.20259857177319
             ],
             [
              -123.11923217773438,
              49.202457427974366
             ],
             [
              -123.11938476562501,
              49.20231246947825
             ],
             [
              -123.11952209472655,
              49.202159881587626
             ],
             [
              -123.1196517944336,
              49.202014923091554
             ],
             [
              -123.11979675292969,
              49.201877593989984
             ],
             [
              -123.11995697021486,
              49.20174026488841
             ],
             [
              -123.12012481689453,
              49.2016105651814
             ],
             [
              -123.12030029296875,
              49.2014884948689
             ],
             [
              -123.12049102783203,
              49.20137405395092
             ],
             [
              -123.1206817626953,
              49.20126342773022
             ],
             [
              -123.12088775634766,
              49.20116424560131
             ],
             [
              -123.12110900878905,
              49.201068878169664
             ],
             [
              -123.12133026123047,
              49.20098114013255
             ],
             [
              -123.12155914306642,
              49.20090484618725
             ],
             [
              -123.12179565429689,
              49.200836181636475
             ],
             [
              -123.1278533935547,
              49.199172973628656
             ],
             [
              -123.12913513183594,
              49.19904327392162
             ],
             [
              -123.13042449951173,
              49.198966979976305
             ],
             [
              -123.13172149658202,
              49.19894027709544
             ],
             [
              -123.13396453857422,
              49.19893646239819
             ],
             [
              -123.13463592529298,
              49.19893646239819
             ],
             [
              -123.13531494140624,
              49.19896316527904
             ],
             [
              -123.13598632812501,
              49.19901657104076
             ],
             [
              -123.13718414306639,
              49.19914245605053
             ],
             [
              -123.13775634765626,
              49.19926834106029
             ],
             [
              -123.13831329345703,
              49.19941329955638
             ],
             [
              -123.13885498046875,
              49.19957733153881
             ],
             [
              -123.13938903808595,
              49.19976043700757
             ],
             [
              -123.13990783691408,
              49.19996261596264
             ],
             [
              -123.14040374755861,
              49.20018005370677
             ],
             [
              -123.14088439941406,
              49.20041656493724
             ],
             [
              -123.14134979248048,
              49.20066833495678
             ],
             [
              -123.14179229736327,
              49.200935363765375
             ],
             [
              -123.14220428466798,
              49.20121765136303
             ],
             [
              -123.14260101318361,
              49.20151519774976
             ],
             [
              -123.14297485351561,
              49.201824188228265
             ],
             [
              -123.14328002929688,
              49.20207595824778
             ],
             [
              -123.14360809326172,
              49.20231628417554
             ],
             [
              -123.14395904541016,
              49.20254516601147
             ],
             [
              -123.14432525634767,
              49.20275878905835
             ],
             [
              -123.14471435546875,
              49.20295715331615
             ],
             [
              -123.1451187133789,
              49.20314407348217
             ],
             [
              -123.14553833007812,
              49.203311920161845
             ],
             [
              -123.14724731445312,
              49.20394897460521
             ],
             [
              -123.14832305908202,
              49.20432281493724
             ],
             [
              -123.14993286132814,
              49.20480346679271
             ],
             [
              -123.14884948730469,
              49.20867156982006
             ],
             [
              -123.14817810058592,
              49.20894622802319
             ],
             [
              -123.1486587524414,
              49.20946121215406
             ],
             [
              -123.14823913574219,
              49.21940231322826
             ],
             [
              -123.14015197753906,
              49.219306945796625
             ],
             [
              -123.10616302490234,
              49.218875885005616
             ],
             [
              -123.10696411132812,
              49.20415878295483
             ]
            ]
           ],
           "type": "Polygon"
          },
          "id": "5",
          "properties": {
           "mapid": "MARP",
           "name": "Marpole"
          },
          "type": "Feature"
         },
         {
          "geometry": {
           "coordinates": [
            [
             [
              -123.10562133789061,
              49.23311614989819
             ],
             [
              -123.1161651611328,
              49.233489990230225
             ],
             [
              -123.1159896850586,
              49.237937927241944
             ],
             [
              -123.1159896850586,
              49.238006591792725
             ],
             [
              -123.11599731445312,
              49.23807907104079
             ],
             [
              -123.11600494384767,
              49.238147735591554
             ],
             [
              -123.11602783203126,
              49.238216400142335
             ],
             [
              -123.11605072021486,
              49.238285064693116
             ],
             [
              -123.11608123779297,
              49.238349914546646
             ],
             [
              -123.1161117553711,
              49.23841476440016
             ],
             [
              -123.11615753173828,
              49.23847961425366
             ],
             [
              -123.11620330810547,
              49.23854446410718
             ],
             [
              -123.11625671386719,
              49.23860549926343
             ],
             [
              -123.11631011962892,
              49.23866271972241
             ],
             [
              -123.11811828613281,
              49.24026107787671
             ],
             [
              -123.1181640625,
              49.24030685424391
             ],
             [
              -123.11820983886719,
              49.240352630611085
             ],
             [
              -123.11824798583983,
              49.240402221675545
             ],
             [
              -123.1182861328125,
              49.240447998042725
             ],
             [
              -123.11831665039061,
              49.240501403804444
             ],
             [
              -123.11834716796876,
              49.24055099486889
             ],
             [
              -123.11837005615236,
              49.240604400630616
             ],
             [
              -123.11839294433595,
              49.240657806392335
             ],
             [
              -123.118408203125,
              49.24071121215405
             ],
             [
              -123.11842346191406,
              49.24076461791577
             ],
             [
              -123.11842346191406,
              49.24081802367749
             ],
             [
              -123.1184310913086,
              49.24087142943921
             ],
             [
              -123.1184310913086,
              49.2409286498982
             ],
             [
              -123.11834716796876,
              49.24274444579663
             ],
             [
              -123.11834716796876,
              49.24278640746655
             ],
             [
              -123.11833953857422,
              49.242824554439224
             ],
             [
              -123.11833190917969,
              49.242866516109146
             ],
             [
              -123.11831665039061,
              49.24290466308178
             ],
             [
              -123.11830139160158,
              49.2429466247517
             ],
             [
              -123.11827850341798,
              49.24298477172438
             ],
             [
              -123.11825561523439,
              49.24302291869702
             ],
             [
              -123.11823272705078,
              49.24305725097241
             ],
             [
              -123.11820220947267,
              49.243095397945076
             ],
             [
              -123.11817169189453,
              49.243129730220446
             ],
             [
              -123.11813354492189,
              49.24316406249586
             ],
             [
              -123.11809539794922,
              49.24319458007397
             ],
             [
              -123.11805725097655,
              49.24322509765211
             ],
             [
              -123.11801147460936,
              49.24325561523023
             ],
             [
              -123.1179656982422,
              49.24328231811109
             ],
             [
              -123.11791992187501,
              49.243309020991944
             ],
             [
              -123.11635589599608,
              49.24419784545484
             ],
             [
              -123.11626434326173,
              49.24425125121655
             ],
             [
              -123.11617279052736,
              49.24431228637281
             ],
             [
              -123.1160888671875,
              49.24437332152907
             ],
             [
              -123.11601257324219,
              49.24443817138258
             ],
             [
              -123.11593627929689,
              49.244503021236085
             ],
             [
              -123.11586761474611,
              49.244571685786866
             ],
             [
              -123.11580657958984,
              49.24464416503492
             ],
             [
              -123.11575317382812,
              49.244720458980225
             ],
             [
              -123.11569976806642,
              49.24479293822829
             ],
             [
              -123.11566162109375,
              49.244873046870865
             ],
             [
              -123.11562347412108,
              49.24494934081617
             ],
             [
              -123.11559295654297,
              49.24502944945875
             ],
             [
              -123.11556243896484,
              49.245109558101326
             ],
             [
              -123.11554718017578,
              49.24519348144115
             ],
             [
              -123.11553192138673,
              49.24527359008374
             ],
             [
              -123.11504364013672,
              49.25687026977125
             ],
             [
              -123.08984375,
              49.25637817382398
             ],
             [
              -123.09053802490233,
              49.232822418208734
             ],
             [
              -123.10562133789061,
              49.23311614989819
             ]
            ]
           ],
           "type": "Polygon"
          },
          "id": "6",
          "properties": {
           "mapid": "RP",
           "name": "Riley Park"
          },
          "type": "Feature"
         },
         {
          "geometry": {
           "coordinates": [
            [
             [
              -123.15527343749999,
              49.2345237731892
             ],
             [
              -123.1550827026367,
              49.23939895629468
             ],
             [
              -123.15507507324216,
              49.23947525023999
             ],
             [
              -123.15505981445314,
              49.239555358882576
             ],
             [
              -123.15504455566405,
              49.23963165282788
             ],
             [
              -123.15502166748044,
              49.239707946773194
             ],
             [
              -123.15498352050778,
              49.23978424071851
             ],
             [
              -123.15494537353514,
              49.23986053466382
             ],
             [
              -123.1549072265625,
              49.23993301391187
             ],
             [
              -123.15485382080077,
              49.24000549315991
             ],
             [
              -123.15480041503905,
              49.240074157710694
             ],
             [
              -123.15473937988278,
              49.240142822261475
             ],
             [
              -123.154670715332,
              49.24020767211499
             ],
             [
              -123.15459442138672,
              49.240272521968514
             ],
             [
              -123.15451812744139,
              49.240333557124764
             ],
             [
              -123.15444183349607,
              49.24039077758374
             ],
             [
              -123.1543502807617,
              49.24044418334546
             ],
             [
              -123.15425872802733,
              49.24049758910719
             ],
             [
              -123.15416717529298,
              49.24054336547437
             ],
             [
              -123.15406799316405,
              49.240589141841554
             ],
             [
              -123.1539611816406,
              49.240631103511475
             ],
             [
              -123.1538619995117,
              49.24066925048413
             ],
             [
              -123.15374755859375,
              49.24070358275953
             ],
             [
              -123.15364074707033,
              49.24073410033765
             ],
             [
              -123.15352630615233,
              49.24076080321852
             ],
             [
              -123.15341186523436,
              49.240779876704835
             ],
             [
              -123.15328979492186,
              49.24079895019116
             ],
             [
              -123.1531753540039,
              49.24081420898023
             ],
             [
              -123.15305328369142,
              49.240821838374764
             ],
             [
              -123.15293121337889,
              49.24082946776928
             ],
             [
              -123.15281677246092,
              49.24082946776929
             ],
             [
              -123.15269470214842,
              49.240825653072015
             ],
             [
              -123.15257263183594,
              49.24082183837476
             ],
             [
              -123.15245819091798,
              49.24081039428297
             ],
             [
              -123.15233612060547,
              49.2407951354939
             ],
             [
              -123.15222167968751,
              49.24077224731031
             ],
             [
              -123.15210723876952,
              49.24074935912672
             ],
             [
              -123.15199279785155,
              49.24072265624585
             ],
             [
              -123.15007019042967,
              49.24038696288647
             ],
             [
              -123.14994049072266,
              49.240367889400154
             ],
             [
              -123.14981842041016,
              49.240352630611085
             ],
             [
              -123.14968872070311,
              49.240345001216554
             ],
             [
              -123.14955902099608,
              49.24033737182203
             ],
             [
              -123.14942932128905,
              49.24033355712476
             ],
             [
              -123.14929962158203,
              49.24033737182204
             ],
             [
              -123.14916992187499,
              49.24034500121656
             ],
             [
              -123.14904022216797,
              49.24035644530836
             ],
             [
              -123.14891815185548,
              49.24037170409742
             ],
             [
              -123.14878845214844,
              49.24039077758374
             ],
             [
              -123.14866638183591,
              49.240413665767335
             ],
             [
              -123.14854431152344,
              49.24044418334546
             ],
             [
              -123.14842224121095,
              49.24047470092358
             ],
             [
              -123.14830780029297,
              49.24051284789625
             ],
             [
              -123.148193359375,
              49.24055480956616
             ],
             [
              -123.14808654785158,
              49.240596771236085
             ],
             [
              -123.14797973632812,
              49.240646362300524
             ],
             [
              -123.1478729248047,
              49.24069976806226
             ],
             [
              -123.14778137207033,
              49.240753173823975
             ],
             [
              -123.14768218994142,
              49.24081039428297
             ],
             [
              -123.14759826660156,
              49.24087142943922
             ],
             [
              -123.1475143432617,
              49.24093627929272
             ],
             [
              -123.14743041992188,
              49.24100494384351
             ],
             [
              -123.1473617553711,
              49.24107360839428
             ],
             [
              -123.14729309082031,
              49.24114608764234
             ],
             [
              -123.14723205566405,
              49.24122238158766
             ],
             [
              -123.14717864990234,
              49.24129867553296
             ],
             [
              -123.14712524414062,
              49.24137496947828
             ],
             [
              -123.14708709716797,
              49.24145507812086
             ],
             [
              -123.14704895019533,
              49.241539001460694
             ],
             [
              -123.14701843261717,
              49.24161911010329
             ],
             [
              -123.14699554443358,
              49.241703033443116
             ],
             [
              -123.14698028564453,
              49.24178695678295
             ],
             [
              -123.14697265624999,
              49.2418708801228
             ],
             [
              -123.14696502685547,
              49.241954803462654
             ],
             [
              -123.14694976806642,
              49.24256134032788
             ],
             [
              -123.14694976806642,
              49.24273300170482
             ],
             [
              -123.14697265624999,
              49.24290084838452
             ],
             [
              -123.14700317382814,
              49.24307250976148
             ],
             [
              -123.14704895019533,
              49.24324035644117
             ],
             [
              -123.14710235595703,
              49.24340438842359
             ],
             [
              -123.14717864990234,
              49.24356842040601
             ],
             [
              -123.1472625732422,
              49.24372863769117
             ],
             [
              -123.14736938476562,
              49.24388504027905
             ],
             [
              -123.15238189697266,
              49.25062179565015
             ],
             [
              -123.1524658203125,
              49.25074768065992
             ],
             [
              -123.15254211425778,
              49.250877380366944
             ],
             [
              -123.1526107788086,
              49.25100708007397
             ],
             [
              -123.15266418457028,
              49.25114059447827
             ],
             [
              -123.15270996093747,
              49.251277923579835
             ],
             [
              -123.1527404785156,
              49.25141525268141
             ],
             [
              -123.15276336669919,
              49.25155258178297
             ],
             [
              -123.15277099609376,
              49.25169372558179
             ],
             [
              -123.15276336669919,
              49.251831054683365
             ],
             [
              -123.15259552001953,
              49.25722503661694
             ],
             [
              -123.14598846435547,
              49.25712203979079
             ],
             [
              -123.13842010498048,
              49.2570075988728
             ],
             [
              -123.1383056640625,
              49.257099151607186
             ],
             [
              -123.13819122314453,
              49.25719070434156
             ],
             [
              -123.13806152343751,
              49.25727462768141
             ],
             [
              -123.13793182373047,
              49.25735473632398
             ],
             [
              -123.1377944946289,
              49.257431030269295
             ],
             [
              -123.13764953613281,
              49.25750350951734
             ],
             [
              -123.13750457763672,
              49.25756835937086
             ],
             [
              -123.13735198974611,
              49.25762939452711
             ],
             [
              -123.13719177246095,
              49.257682800288826
             ],
             [
              -123.13702392578126,
              49.25773239135327
             ],
             [
              -123.13685607910158,
              49.257778167720474
             ],
             [
              -123.13668823242186,
              49.257812499995865
             ],
             [
              -123.13651275634766,
              49.25784683227125
             ],
             [
              -123.13633728027345,
              49.257869720454835
             ],
             [
              -123.13616180419922,
              49.25788879394118
             ],
             [
              -123.13597869873045,
              49.25790405273023
             ],
             [
              -123.13565826416016,
              49.25791549682202
             ],
             [
              -123.13533782958984,
              49.25791549682202
             ],
             [
              -123.13500976562499,
              49.25790405273024
             ],
             [
              -123.13468933105469,
              49.25788116454664
             ],
             [
              -123.13436889648436,
              49.25784683227125
             ],
             [
              -123.1340560913086,
              49.2577972412068
             ],
             [
              -123.13374328613281,
              49.25774002074781
             ],
             [
              -123.13343811035156,
              49.25767135619704
             ],
             [
              -123.13313293457031,
              49.25759124755445
             ],
             [
              -123.13284301757812,
              49.25749969482008
             ],
             [
              -123.13256072998047,
              49.257396697993904
             ],
             [
              -123.13228607177734,
              49.25728225707594
             ],
             [
              -123.13201904296875,
              49.25716018676343
             ],
             [
              -123.13176727294922,
              49.257030487056404
             ],
             [
              -123.12721252441408,
              49.25696945190016
             ],
             [
              -123.12804412841797,
              49.23390579223219
             ],
             [
              -123.13959503173827,
              49.234272003169686
             ],
             [
              -123.15527343749999,
              49.2345237731892
             ]
            ]
           ],
           "type": "Polygon"
          },
          "id": "7",
          "properties": {
           "mapid": "SHAU",
           "name": "Shaughnessy"
          },
          "type": "Feature"
         },
         {
          "geometry": {
           "coordinates": [
            [
             [
              -123.0992889404297,
              49.28927230834548
             ],
             [
              -123.09390258789064,
              49.29051589965409
             ],
             [
              -123.07701873779298,
              49.29024887084548
             ],
             [
              -123.0774154663086,
              49.26514053344312
             ],
             [
              -123.08094787597658,
              49.26515579223218
             ],
             [
              -123.08120727539064,
              49.26517105102126
             ],
             [
              -123.08145904541016,
              49.26519393920483
             ],
             [
              -123.08171081542969,
              49.265224456782974
             ],
             [
              -123.08196258544923,
              49.26527023315016
             ],
             [
              -123.08874511718751,
              49.26657867431227
             ],
             [
              -123.08895111083984,
              49.26662445067945
             ],
             [
              -123.08915710449219,
              49.266658782954835
             ],
             [
              -123.08936309814455,
              49.26668930053297
             ],
             [
              -123.08956909179686,
              49.2667083740193
             ],
             [
              -123.08978271484374,
              49.266723632808365
             ],
             [
              -123.08999633789061,
              49.26672744750563
             ],
             [
              -123.09612274169923,
              49.26676940917555
             ],
             [
              -123.09619903564453,
              49.26677703857008
             ],
             [
              -123.09628295898436,
              49.26678848266187
             ],
             [
              -123.0963592529297,
              49.266803741450936
             ],
             [
              -123.096435546875,
              49.26681900024
             ],
             [
              -123.09651184082031,
              49.266838073726326
             ],
             [
              -123.09658813476562,
              49.26686096190991
             ],
             [
              -123.0966567993164,
              49.26688385009351
             ],
             [
              -123.09672546386719,
              49.26691055297437
             ],
             [
              -123.09679412841797,
              49.266941070552505
             ],
             [
              -123.09686279296875,
              49.26697158813063
             ],
             [
              -123.09692382812501,
              49.26700592040602
             ],
             [
              -123.10066986083984,
              49.269130706782974
             ],
             [
              -123.10060119628906,
              49.270889282222434
             ],
             [
              -123.10003662109375,
              49.27192306518141
             ],
             [
              -123.09999847412111,
              49.272750854488045
             ],
             [
              -123.0992889404297,
              49.28927230834548
             ]
            ]
           ],
           "type": "Polygon"
          },
          "id": "8",
          "properties": {
           "mapid": "STR",
           "name": "Strathcona"
          },
          "type": "Feature"
         },
         {
          "geometry": {
           "coordinates": [
            [
             [
              -123.13768005371092,
              49.27531814574782
             ],
             [
              -123.14125823974611,
              49.27829360961501
             ],
             [
              -123.14267730712892,
              49.28133010863845
             ],
             [
              -123.14553833007812,
              49.28436279296462
             ],
             [
              -123.1454086303711,
              49.28713607787673
             ],
             [
              -123.14775085449217,
              49.288906097407974
             ],
             [
              -123.14168548583984,
              49.29291915893141
             ],
             [
              -123.13809967041016,
              49.29351425170485
             ],
             [
              -123.13668060302734,
              49.294456481929465
             ],
             [
              -123.12109375,
              49.28436660766189
             ],
             [
              -123.13233184814453,
              49.27693176269117
             ],
             [
              -123.13768005371092,
              49.27531814574782
             ]
            ]
           ],
           "type": "Polygon"
          },
          "id": "9",
          "properties": {
           "mapid": "WE",
           "name": "West End"
          },
          "type": "Feature"
         },
         {
          "geometry": {
           "coordinates": [
            [
             [
              -123.17016601562499,
              49.24789047240798
             ],
             [
              -123.17024993896482,
              49.23470306396071
             ],
             [
              -123.17870330810545,
              49.23472213744702
             ],
             [
              -123.17909240722653,
              49.216804504390375
             ],
             [
              -123.17908477783202,
              49.215557098384515
             ],
             [
              -123.17910003662107,
              49.215557098384515
             ],
             [
              -123.17975616455075,
              49.21558761596264
             ],
             [
              -123.18041229248044,
              49.2156372070271
             ],
             [
              -123.1810607910156,
              49.21571350097242
             ],
             [
              -123.18170166015622,
              49.215812683101305
             ],
             [
              -123.18232727050778,
              49.21593475341382
             ],
             [
              -123.18295288085935,
              49.21607971190991
             ],
             [
              -123.18355560302733,
              49.2162475585896
             ],
             [
              -123.18415069580075,
              49.21643447875562
             ],
             [
              -123.1847229003906,
              49.21664428710522
             ],
             [
              -123.18527984619139,
              49.21687316894117
             ],
             [
              -123.18581390380857,
              49.21712112426342
             ],
             [
              -123.18633270263669,
              49.217391967769295
             ],
             [
              -123.18682098388669,
              49.21767807006421
             ],
             [
              -123.18728637695311,
              49.217979431148194
             ],
             [
              -123.18772888183591,
              49.21829986571849
             ],
             [
              -123.18795013427733,
              49.21846389770093
             ],
             [
              -123.1881866455078,
              49.21861648559156
             ],
             [
              -123.18843841552732,
              49.21876144408764
             ],
             [
              -123.18869781494138,
              49.21889877318919
             ],
             [
              -123.18896484374999,
              49.219024658198975
             ],
             [
              -123.18924713134764,
              49.219142913814196
             ],
             [
              -123.18953704833983,
              49.21924972533764
             ],
             [
              -123.18983459472653,
              49.21934890746656
             ],
             [
              -123.19014739990233,
              49.219432830806404
             ],
             [
              -123.1904602050781,
              49.21950912475172
             ],
             [
              -123.19077301025388,
              49.21957397460523
             ],
             [
              -123.19110107421872,
              49.21962356566967
             ],
             [
              -123.19758605957028,
              49.220554351802484
             ],
             [
              -123.19785308837889,
              49.220600128169664
             ],
             [
              -123.19811248779295,
              49.22065353393138
             ],
             [
              -123.19836425781247,
              49.2207183837849
             ],
             [
              -123.19861602783202,
              49.22079086303296
             ],
             [
              -123.19885253906247,
              49.2208747863728
             ],
             [
              -123.19908905029294,
              49.220966339107164
             ],
             [
              -123.19931793212889,
              49.22106170653881
             ],
             [
              -123.19953155517577,
              49.22116851806226
             ],
             [
              -123.19974517822264,
              49.22128295898022
             ],
             [
              -123.19994354248044,
              49.221405029292725
             ],
             [
              -123.20550537109372,
              49.22499465941967
             ],
             [
              -123.20590972900388,
              49.22529983520093
             ],
             [
              -123.20629119873045,
              49.225616455073975
             ],
             [
              -123.20664215087888,
              49.22594451903882
             ],
             [
              -123.20697021484372,
              49.22628784179272
             ],
             [
              -123.20726776123045,
              49.226638793941156
             ],
             [
              -123.20754241943355,
              49.227001190181376
             ],
             [
              -123.20888519287107,
              49.228946685786866
             ],
             [
              -123.20916748046872,
              49.229259490962654
             ],
             [
              -123.2094802856445,
              49.22956085204663
             ],
             [
              -123.20982360839841,
              49.229846954341554
             ],
             [
              -123.21018218994138,
              49.23012161254467
             ],
             [
              -123.21057128906249,
              49.230381011958734
             ],
             [
              -123.21098327636716,
              49.23062515258374
             ],
             [
              -123.21141815185544,
              49.23085403441967
             ],
             [
              -123.219856262207,
              49.23502349853101
             ],
             [
              -123.22194671630858,
              49.236576080318116
             ],
             [
              -123.21992492675778,
              49.23954772948803
             ],
             [
              -123.20859527587888,
              49.23518371581616
             ],
             [
              -123.20560455322264,
              49.237201690669686
             ],
             [
              -123.19683074951169,
              49.23485565185131
             ],
             [
              -123.19685363769528,
              49.23651504516186
             ],
             [
              -123.19857025146482,
              49.23651885985914
             ],
             [
              -123.19857025146482,
              49.238346099849366
             ],
             [
              -123.19685363769528,
              49.23847961425365
             ],
             [
              -123.1967849731445,
              49.24619674682202
             ],
             [
              -123.19854736328122,
              49.24620819091382
             ],
             [
              -123.19858551025389,
              49.24620819091383
             ],
             [
              -123.19863128662108,
              49.24620819091383
             ],
             [
              -123.19867706298827,
              49.24621200561109
             ],
             [
              -123.19871520996091,
              49.24621582030837
             ],
             [
              -123.1987609863281,
              49.24622344970289
             ],
             [
              -123.19879913330077,
              49.24623107909742
             ],
             [
              -123.19884490966795,
              49.24623870849194
             ],
             [
              -123.1988830566406,
              49.24624633788648
             ],
             [
              -123.19892120361327,
              49.24625778197829
             ],
             [
              -123.19895935058591,
              49.24627304076734
             ],
             [
              -123.19899749755857,
              49.246288299556404
             ],
             [
              -123.19903564453124,
              49.2462997436482
             ],
             [
              -123.19906616210935,
              49.24631881713453
             ],
             [
              -123.20494079589841,
              49.24926376342359
             ],
             [
              -123.20099639892577,
              49.249973297115
             ],
             [
              -123.20079040527342,
              49.250011444087654
             ],
             [
              -123.20057678222655,
              49.250038146968514
             ],
             [
              -123.20036315917967,
              49.25005722045483
             ],
             [
              -123.20014190673825,
              49.25006866454663
             ],
             [
              -123.19992828369138,
              49.25007247924389
             ],
             [
              -123.19867706298827,
              49.25007629394118
             ],
             [
              -123.19867706298827,
              49.249923706050545
             ],
             [
              -123.19660949707028,
              49.2499275207478
             ],
             [
              -123.19654846191403,
              49.25651931762281
             ],
             [
              -123.20288085937497,
              49.25661468505445
             ],
             [
              -123.20321655273436,
              49.25814819335523
             ],
             [
              -123.1839904785156,
              49.25786590575759
             ],
             [
              -123.17807006835936,
              49.257766723628684
             ],
             [
              -123.17810058593747,
              49.25716400146071
             ],
             [
              -123.17792510986327,
              49.25693893432204
             ],
             [
              -123.17616271972653,
              49.25561141967359
             ],
             [
              -123.17501068115232,
              49.25408172607007
             ],
             [
              -123.17347717285155,
              49.25284957885328
             ],
             [
              -123.17189788818358,
              49.251544952388436
             ],
             [
              -123.16960144042967,
              49.2489624023396
             ],
             [
              -123.17092895507811,
              49.249671936031
             ],
             [
              -123.17218780517575,
              49.25004577636304
             ],
             [
              -123.1709518432617,
              49.24844741820875
             ],
             [
              -123.17051696777341,
              49.24809265136304
             ],
             [
              -123.17016601562499,
              49.24789047240798
             ]
            ]
           ],
           "type": "Polygon"
          },
          "id": "10",
          "properties": {
           "mapid": "DS",
           "name": "Dunbar-Southlands"
          },
          "type": "Feature"
         },
         {
          "geometry": {
           "coordinates": [
            [
             [
              -123.17908477783202,
              49.215557098384515
             ],
             [
              -123.17563629150389,
              49.2153701782185
             ],
             [
              -123.17217254638669,
              49.215278625484125
             ],
             [
              -123.17156982421874,
              49.21524810790601
             ],
             [
              -123.17096710205075,
              49.21519851684155
             ],
             [
              -123.17037200927732,
              49.21512603759349
             ],
             [
              -123.16978454589841,
              49.21503067016186
             ],
             [
              -123.16920471191405,
              49.2149162292439
             ],
             [
              -123.16864013671872,
              49.21477890014234
             ],
             [
              -123.16809082031249,
              49.21461868285717
             ],
             [
              -123.16754913330077,
              49.21443939208569
             ],
             [
              -123.16702270507811,
              49.21424102782788
             ],
             [
              -123.16651916503903,
              49.21401977538647
             ],
             [
              -123.16598510742186,
              49.213787078853265
             ],
             [
              -123.16542816162107,
              49.21357727050365
             ],
             [
              -123.1648483276367,
              49.213390350337654
             ],
             [
              -123.16425323486325,
              49.213226318355225
             ],
             [
              -123.16365051269528,
              49.21308517455639
             ],
             [
              -123.16310882568357,
              49.21296310424388
             ],
             [
              -123.16258239746092,
              49.21282196044505
             ],
             [
              -123.16207122802732,
              49.212661743159906
             ],
             [
              -123.16156768798827,
              49.21248626708569
             ],
             [
              -123.1610870361328,
              49.21229171752515
             ],
             [
              -123.16061401367183,
              49.21208190917553
             ],
             [
              -123.1601638793945,
              49.21185302733958
             ],
             [
              -123.15972900390622,
              49.211612701411866
             ],
             [
              -123.15931701660155,
              49.21135711669506
             ],
             [
              -123.15892791748044,
              49.21108627318921
             ],
             [
              -123.15856170654295,
              49.210803985591554
             ],
             [
              -123.15821075439452,
              49.210506439204835
             ],
             [
              -123.15789031982419,
              49.21020126342358
             ],
             [
              -123.157600402832,
              49.209880828853265
             ],
             [
              -123.15755462646482,
              49.209831237788805
             ],
             [
              -123.15750122070311,
              49.20978546142162
             ],
             [
              -123.15744781494139,
              49.209739685054444
             ],
             [
              -123.15738677978513,
              49.20969390868725
             ],
             [
              -123.15732574462888,
              49.20965194701733
             ],
             [
              -123.15726470947264,
              49.20961380004467
             ],
             [
              -123.15719604492186,
              49.20957565307201
             ],
             [
              -123.15712738037107,
              49.20954132079661
             ],
             [
              -123.15705108642577,
              49.20950698852124
             ],
             [
              -123.15697479248045,
              49.209480285640375
             ],
             [
              -123.15689849853513,
              49.209453582759515
             ],
             [
              -123.1568145751953,
              49.209426879878656
             ],
             [
              -123.15673065185544,
              49.20940780639232
             ],
             [
              -123.15664672851561,
              49.20938873290601
             ],
             [
              -123.15656280517575,
              49.20937347411694
             ],
             [
              -123.15647125244138,
              49.209362030025126
             ],
             [
              -123.15638732910155,
              49.20935440063062
             ],
             [
              -123.15629577636717,
              49.20934295653882
             ],
             [
              -123.15621185302732,
              49.20933151244702
             ],
             [
              -123.15612030029294,
              49.20931625365794
             ],
             [
              -123.15603637695311,
              49.209297180171625
             ],
             [
              -123.15595245361325,
              49.20927429198803
             ],
             [
              -123.15588378906247,
              49.20925140380443
             ],
             [
              -123.1558151245117,
              49.209224700923585
             ],
             [
              -123.15574645996092,
              49.20919799804272
             ],
             [
              -123.15567779541014,
              49.20916748046459
             ],
             [
              -123.15561676025388,
              49.2091331481892
             ],
             [
              -123.15555572509764,
              49.20909881591382
             ],
             [
              -123.15549468994138,
              49.20906448363843
             ],
             [
              -123.15544128417967,
              49.20902633666576
             ],
             [
              -123.15538787841794,
              49.20898437499584
             ],
             [
              -123.15534210205077,
              49.20894241332592
             ],
             [
              -123.15529632568358,
              49.208900451656
             ],
             [
              -123.15291595458983,
              49.207023620601305
             ],
             [
              -123.15283966064452,
              49.2069587707478
             ],
             [
              -123.1527633666992,
              49.20689010619701
             ],
             [
              -123.15270233154295,
              49.20682144164623
             ],
             [
              -123.15264129638669,
              49.20674896239818
             ],
             [
              -123.15258789062497,
              49.206672668452875
             ],
             [
              -123.1525344848633,
              49.206596374507555
             ],
             [
              -123.15249633789062,
              49.20652008056224
             ],
             [
              -123.15246582031249,
              49.20643997191967
             ],
             [
              -123.15243530273439,
              49.20635986327709
             ],
             [
              -123.15242004394531,
              49.206275939937264
             ],
             [
              -123.15238952636717,
              49.2061920165974
             ],
             [
              -123.15235900878903,
              49.206108093257555
             ],
             [
              -123.15231323242185,
              49.206027984614984
             ],
             [
              -123.15226745605467,
              49.205944061275154
             ],
             [
              -123.15221405029294,
              49.205867767329835
             ],
             [
              -123.1521530151367,
              49.205791473384515
             ],
             [
              -123.15208435058592,
              49.20571517943921
             ],
             [
              -123.15201568603514,
              49.20564270019115
             ],
             [
              -123.15193939208986,
              49.205574035640375
             ],
             [
              -123.15185546874997,
              49.205505371089586
             ],
             [
              -123.1517639160156,
              49.20544052123608
             ],
             [
              -123.15167236328122,
              49.205379486079835
             ],
             [
              -123.15157318115232,
              49.20532226562084
             ],
             [
              -123.15146636962892,
              49.20526885985912
             ],
             [
              -123.15135955810547,
              49.20521926879467
             ],
             [
              -123.14993286132814,
              49.20480346679271
             ],
             [
              -123.14884948730469,
              49.20867156982006
             ],
             [
              -123.14817810058592,
              49.20894622802319
             ],
             [
              -123.1486587524414,
              49.20946121215406
             ],
             [
              -123.14823913574219,
              49.21940231322826
             ],
             [
              -123.14015197753906,
              49.219306945796625
             ],
             [
              -123.13959503173827,
              49.234272003169686
             ],
             [
              -123.15527343749999,
              49.2345237731892
             ],
             [
              -123.17024993896482,
              49.23470306396071
             ],
             [
              -123.17870330810545,
              49.23472213744702
             ],
             [
              -123.17908477783202,
              49.215557098384515
             ]
            ]
           ],
           "type": "Polygon"
          },
          "id": "11",
          "properties": {
           "mapid": "KERR",
           "name": "Kerrisdale"
          },
          "type": "Feature"
         },
         {
          "geometry": {
           "coordinates": [
            [
             [
              -123.0235595703125,
              49.2001457214314
             ],
             [
              -123.03997802734376,
              49.203960418697015
             ],
             [
              -123.04232025146484,
              49.20400238036693
             ],
             [
              -123.0568313598633,
              49.20420074462476
             ],
             [
              -123.05684661865234,
              49.20718383788647
             ],
             [
              -123.05683898925781,
              49.207294464107164
             ],
             [
              -123.05682373046875,
              49.20740509032788
             ],
             [
              -123.0568084716797,
              49.20751571654858
             ],
             [
              -123.05677795410155,
              49.207622528072015
             ],
             [
              -123.05673217773436,
              49.20772933959545
             ],
             [
              -123.0566864013672,
              49.20783615111889
             ],
             [
              -123.05663299560547,
              49.207942962642335
             ],
             [
              -123.05656433105469,
              49.208042144771234
             ],
             [
              -123.05649566650389,
              49.20814132690013
             ],
             [
              -123.05641174316406,
              49.20824050902903
             ],
             [
              -123.05604553222655,
              49.20868682860913
             ],
             [
              -123.05572509765625,
              49.209148406978265
             ],
             [
              -123.05545806884767,
              49.20962524413646
             ],
             [
              -123.05509948730467,
              49.21189498900952
             ],
             [
              -123.05507659912108,
              49.21202087401929
             ],
             [
              -123.05503845214844,
              49.21214675902904
             ],
             [
              -123.05499267578125,
              49.212268829341554
             ],
             [
              -123.054931640625,
              49.21239089965405
             ],
             [
              -123.0548629760742,
              49.21251296996656
             ],
             [
              -123.0547866821289,
              49.212627410884515
             ],
             [
              -123.05469512939453,
              49.2127418518025
             ],
             [
              -123.05459594726562,
              49.21285247802319
             ],
             [
              -123.0544891357422,
              49.21295928954663
             ],
             [
              -123.05437469482423,
              49.2130622863728
             ],
             [
              -123.05175018310548,
              49.21535491942944
             ],
             [
              -123.05153656005861,
              49.21555709838451
             ],
             [
              -123.05133819580078,
              49.215766906734125
             ],
             [
              -123.05115509033205,
              49.21598434447826
             ],
             [
              -123.05099487304689,
              49.216209411616944
             ],
             [
              -123.05085754394531,
              49.21644210815013
             ],
             [
              -123.05073547363283,
              49.21667480468336
             ],
             [
              -123.05063629150392,
              49.216915130611085
             ],
             [
              -123.05055999755858,
              49.21715927123606
             ],
             [
              -123.05007171630861,
              49.229293823238045
             ],
             [
              -123.0488052368164,
              49.22929382323803
             ],
             [
              -123.04875183105469,
              49.23275375365796
             ],
             [
              -123.0467071533203,
              49.23288726806225
             ],
             [
              -123.03839874267578,
              49.232872009273194
             ],
             [
              -123.0383071899414,
              49.232860565181404
             ],
             [
              -123.03821563720703,
              49.23285293578687
             ],
             [
              -123.03811645507812,
              49.232845306392335
             ],
             [
              -123.03802490234375,
              49.23284530639232
             ],
             [
              -123.03792572021484,
              49.23284530639233
             ],
             [
              -123.03783416748047,
              49.23284912108959
             ],
             [
              -123.0377426147461,
              49.23285675048413
             ],
             [
              -123.03765106201172,
              49.23286819457592
             ],
             [
              -123.03755950927733,
              49.232883453364984
             ],
             [
              -123.03746795654298,
              49.232898712154054
             ],
             [
              -123.03737640380861,
              49.232921600337654
             ],
             [
              -123.03728485107422,
              49.23294448852124
             ],
             [
              -123.03720092773438,
              49.232971191402115
             ],
             [
              -123.03711700439455,
              49.23299789428297
             ],
             [
              -123.03704071044923,
              49.23303222655836
             ],
             [
              -123.03695678710938,
              49.23306655883374
             ],
             [
              -123.0368881225586,
              49.23310470580639
             ],
             [
              -123.03681182861328,
              49.233142852779054
             ],
             [
              -123.0367431640625,
              49.23318481444898
             ],
             [
              -123.03667449951172,
              49.23323059081616
             ],
             [
              -123.03661346435545,
              49.23327636718334
             ],
             [
              -123.03656005859375,
              49.23332595824781
             ],
             [
              -123.03650665283203,
              49.23337936400952
             ],
             [
              -123.03645324707033,
              49.233428955073975
             ],
             [
              -123.03585815429689,
              49.23410415649
             ],
             [
              -123.03250885009766,
              49.23235321044507
             ],
             [
              -123.03236389160158,
              49.23228454589428
             ],
             [
              -123.03221130371094,
              49.23222351073804
             ],
             [
              -123.03205871582031,
              49.232166290279054
             ],
             [
              -123.03189849853516,
              49.23211669921459
             ],
             [
              -123.03173065185547,
              49.23207092284742
             ],
             [
              -123.03156280517578,
              49.232028961177484
             ],
             [
              -123.03139495849611,
              49.231998443599366
             ],
             [
              -123.03122711181642,
              49.2319717407185
             ],
             [
              -123.03105163574219,
              49.23194885253491
             ],
             [
              -123.03086853027342,
              49.23193740844313
             ],
             [
              -123.03069305419922,
              49.23192977904858
             ],
             [
              -123.03051757812501,
              49.231929779048585
             ],
             [
              -123.03034210205078,
              49.23193359374585
             ],
             [
              -123.02356719970705,
              49.23226928710523
             ],
             [
              -123.0232620239258,
              49.209407806392335
             ],
             [
              -123.0235595703125,
              49.2001457214314
             ]
            ]
           ],
           "type": "Polygon"
          },
          "id": "12",
          "properties": {
           "mapid": "KIL",
           "name": "Killarney"
          },
          "type": "Feature"
         },
         {
          "geometry": {
           "coordinates": [
            [
             [
              -123.13768005371092,
              49.27531814574782
             ],
             [
              -123.14374542236328,
              49.27323150634351
             ],
             [
              -123.14389801025389,
              49.2731781005818
             ],
             [
              -123.14404296875001,
              49.27311706542555
             ],
             [
              -123.14418792724611,
              49.27305221557202
             ],
             [
              -123.14432525634767,
              49.272983551021255
             ],
             [
              -123.14445495605469,
              49.2729110717732
             ],
             [
              -123.1445846557617,
              49.27283096313063
             ],
             [
              -123.14469909667969,
              49.27274703979079
             ],
             [
              -123.14481353759766,
              49.272659301753684
             ],
             [
              -123.14491271972656,
              49.2725677490193
             ],
             [
              -123.14500427246094,
              49.27247238158765
             ],
             [
              -123.14509582519531,
              49.272373199458755
             ],
             [
              -123.14517211914062,
              49.27227401732985
             ],
             [
              -123.1452407836914,
              49.27217102050368
             ],
             [
              -123.14530181884766,
              49.27206420898024
             ],
             [
              -123.14535522460938,
              49.271957397456816
             ],
             [
              -123.14540100097656,
              49.2718467712361
             ],
             [
              -123.14598846435547,
              49.25712203979079
             ],
             [
              -123.16487884521483,
              49.25741958617749
             ],
             [
              -123.16487884521483,
              49.25756835937086
             ],
             [
              -123.1839904785156,
              49.25786590575759
             ],
             [
              -123.18392944335936,
              49.25976562499586
             ],
             [
              -123.18593597412108,
              49.26113891601148
             ],
             [
              -123.18548583984374,
              49.27497100829665
             ],
             [
              -123.17374420166014,
              49.27434158324782
             ],
             [
              -123.16479492187497,
              49.275566101070076
             ],
             [
              -123.15970611572263,
              49.27554702758375
             ],
             [
              -123.15265655517577,
              49.280307769771255
             ],
             [
              -123.14600372314455,
              49.28031539916578
             ],
             [
              -123.14358520507812,
              49.27966690063063
             ],
             [
              -123.14125823974611,
              49.27829360961501
             ],
             [
              -123.13768005371092,
              49.27531814574782
             ]
            ]
           ],
           "type": "Polygon"
          },
          "id": "13",
          "properties": {
           "mapid": "KITS",
           "name": "Kitsilano"
          },
          "type": "Feature"
         },
         {
          "geometry": {
           "coordinates": [
            [
             [
              -123.1159896850586,
              49.237937927241944
             ],
             [
              -123.1161651611328,
              49.233489990230225
             ],
             [
              -123.12804412841797,
              49.23390579223219
             ],
             [
              -123.12721252441408,
              49.25696945190016
             ],
             [
              -123.12721252441408,
              49.257099151607186
             ],
             [
              -123.11504364013672,
              49.25687026977125
             ],
             [
              -123.11553192138673,
              49.24527359008374
             ],
             [
              -123.11554718017578,
              49.24519348144115
             ],
             [
              -123.11556243896484,
              49.245109558101326
             ],
             [
              -123.11559295654297,
              49.24502944945875
             ],
             [
              -123.11562347412108,
              49.24494934081617
             ],
             [
              -123.11566162109375,
              49.244873046870865
             ],
             [
              -123.11569976806642,
              49.24479293822829
             ],
             [
              -123.11575317382812,
              49.244720458980225
             ],
             [
              -123.11580657958984,
              49.24464416503492
             ],
             [
              -123.11586761474611,
              49.24457550048413
             ],
             [
              -123.11593627929689,
              49.244503021236085
             ],
             [
              -123.11601257324219,
              49.24443817138258
             ],
             [
              -123.1160888671875,
              49.24437332152907
             ],
             [
              -123.11617279052736,
              49.24431228637281
             ],
             [
              -123.11626434326173,
              49.24425125121655
             ],
             [
              -123.11635589599608,
              49.24419784545484
             ],
             [
              -123.1181411743164,
              49.24317932128493
             ],
             [
              -123.11817932128908,
              49.24314117431226
             ],
             [
              -123.11820983886719,
              49.24309921264233
             ],
             [
              -123.11824035644531,
              49.24305725097241
             ],
             [
              -123.11827087402342,
              49.24301528930249
             ],
             [
              -123.11829376220702,
              49.242973327632576
             ],
             [
              -123.1183090209961,
              49.24292755126539
             ],
             [
              -123.11832427978517,
              49.242881774898194
             ],
             [
              -123.11833953857422,
              49.242835998531014
             ],
             [
              -123.11834716796876,
              49.24279022216382
             ],
             [
              -123.11834716796876,
              49.24274444579663
             ],
             [
              -123.1184310913086,
              49.2409286498982
             ],
             [
              -123.1184310913086,
              49.24087142943921
             ],
             [
              -123.11842346191406,
              49.24081802367749
             ],
             [
              -123.11842346191406,
              49.24076461791577
             ],
             [
              -123.118408203125,
              49.24071121215405
             ],
             [
              -123.11839294433595,
              49.240657806392335
             ],
             [
              -123.11837005615236,
              49.240604400630616
             ],
             [
              -123.11834716796876,
              49.24055099486889
             ],
             [
              -123.11831665039061,
              49.240501403804444
             ],
             [
              -123.1182861328125,
              49.240447998042725
             ],
             [
              -123.11824798583983,
              49.240402221675545
             ],
             [
              -123.11820983886719,
              49.240352630611085
             ],
             [
              -123.1181640625,
              49.24030685424391
             ],
             [
              -123.11811828613281,
              49.24026107787671
             ],
             [
              -123.11631011962892,
              49.23866271972241
             ],
             [
              -123.11625671386719,
              49.23861312865795
             ],
             [
              -123.1162109375,
              49.23856353759351
             ],
             [
              -123.1161651611328,
              49.2385101318318
             ],
             [
              -123.11612701416017,
              49.238456726070076
             ],
             [
              -123.11609649658202,
              49.23840332030835
             ],
             [
              -123.1160659790039,
              49.23834609984936
             ],
             [
              -123.11603546142578,
              49.23829269408765
             ],
             [
              -123.11602020263672,
              49.2382316589314
             ],
             [
              -123.11600494384767,
              49.23817443847241
             ],
             [
              -123.1159896850586,
              49.238117218013436
             ],
             [
              -123.11598205566408,
              49.238056182857186
             ],
             [
              -123.11598205566408,
              49.23799896239819
             ],
             [
              -123.1159896850586,
              49.237937927241944
             ]
            ]
           ],
           "type": "Polygon"
          },
          "id": "14",
          "properties": {
           "mapid": "SC",
           "name": "South Cambie"
          },
          "type": "Feature"
         },
         {
          "geometry": {
           "coordinates": [
            [
             [
              -123.0568313598633,
              49.20420074462476
             ],
             [
              -123.05846405029298,
              49.20421981811106
             ],
             [
              -123.0594482421875,
              49.20424270629467
             ],
             [
              -123.06043243408203,
              49.20430374145092
             ],
             [
              -123.06140899658203,
              49.2043952941853
             ],
             [
              -123.0623779296875,
              49.20452499389232
             ],
             [
              -123.06333160400392,
              49.20469284057201
             ],
             [
              -123.0642776489258,
              49.204895019527086
             ],
             [
              -123.06519317626953,
              49.2051277160603
             ],
             [
              -123.0660934448242,
              49.205398559566156
             ],
             [
              -123.06697082519533,
              49.20569992065015
             ],
             [
              -123.06781768798828,
              49.20603179931226
             ],
             [
              -123.06854248046875,
              49.206340789790765
             ],
             [
              -123.0688247680664,
              49.20645523070873
             ],
             [
              -123.06912231445314,
              49.20655822753492
             ],
             [
              -123.06942749023436,
              49.206649780269274
             ],
             [
              -123.06974029541017,
              49.20672988891185
             ],
             [
              -123.07006072998047,
              49.20679473876538
             ],
             [
              -123.07438659667969,
              49.20759963988842
             ],
             [
              -123.07478332519531,
              49.2076454162556
             ],
             [
              -123.07517242431639,
              49.207675933833734
             ],
             [
              -123.07556915283203,
              49.20769500732007
             ],
             [
              -123.07596588134766,
              49.20769500732006
             ],
             [
              -123.0763626098633,
              49.207683563228265
             ],
             [
              -123.07675170898438,
              49.207656860347406
             ],
             [
              -123.0771484375,
              49.207614898677484
             ],
             [
              -123.07701110839844,
              49.219184875484125
             ],
             [
              -123.07742309570314,
              49.21997070312085
             ],
             [
              -123.07703399658203,
              49.23266601562084
             ],
             [
              -123.06674194335938,
              49.23255538940015
             ],
             [
              -123.06444549560548,
              49.232864379878656
             ],
             [
              -123.05885314941406,
              49.232807159419686
             ],
             [
              -123.04875183105469,
              49.23275375365796
             ],
             [
              -123.0488052368164,
              49.22929382323803
             ],
             [
              -123.05007171630861,
              49.229293823238045
             ],
             [
              -123.05055999755858,
              49.21715927123606
             ],
             [
              -123.05063629150392,
              49.216915130611085
             ],
             [
              -123.05073547363283,
              49.21667480468336
             ],
             [
              -123.05085754394531,
              49.21644210815013
             ],
             [
              -123.05099487304689,
              49.216209411616944
             ],
             [
              -123.05115509033205,
              49.21598434447826
             ],
             [
              -123.05133819580078,
              49.215766906734125
             ],
             [
              -123.05153656005861,
              49.21555709838451
             ],
             [
              -123.05175018310548,
              49.21535491942944
             ],
             [
              -123.05437469482423,
              49.2130622863728
             ],
             [
              -123.0544891357422,
              49.21295928954663
             ],
             [
              -123.05459594726562,
              49.21285247802319
             ],
             [
              -123.05469512939453,
              49.2127418518025
             ],
             [
              -123.0547866821289,
              49.212627410884515
             ],
             [
              -123.0548629760742,
              49.21251296996656
             ],
             [
              -123.054931640625,
              49.21239089965405
             ],
             [
              -123.05499267578125,
              49.212268829341554
             ],
             [
              -123.05503845214844,
              49.21214675902904
             ],
             [
              -123.05507659912108,
              49.21202087401929
             ],
             [
              -123.05509948730467,
              49.21189498900952
             ],
             [
              -123.05545806884767,
              49.20962524413646
             ],
             [
              -123.05572509765625,
              49.209148406978265
             ],
             [
              -123.05604553222655,
              49.20868682860913
             ],
             [
              -123.05641174316406,
              49.20824050902903
             ],
             [
              -123.05649566650389,
              49.20814132690013
             ],
             [
              -123.05656433105469,
              49.208042144771234
             ],
             [
              -123.05663299560547,
              49.207942962642335
             ],
             [
              -123.0566864013672,
              49.20783615111889
             ],
             [
              -123.05673217773436,
              49.20772933959545
             ],
             [
              -123.05677795410155,
              49.207622528072015
             ],
             [
              -123.0568084716797,
              49.20751571654858
             ],
             [
              -123.05682373046875,
              49.20740509032788
             ],
             [
              -123.05683898925781,
              49.207294464107164
             ],
             [
              -123.05684661865234,
              49.20718383788647
             ],
             [
              -123.0568313598633,
              49.20420074462476
             ]
            ]
           ],
           "type": "Polygon"
          },
          "id": "15",
          "properties": {
           "mapid": "VF",
           "name": "Victoria-Fraserview"
          },
          "type": "Feature"
         },
         {
          "geometry": {
           "coordinates": [
            [
             [
              -123.05658721923828,
              49.26198196410718
             ],
             [
              -123.05662536621094,
              49.24317550658764
             ],
             [
              -123.05811309814453,
              49.24182891845287
             ],
             [
              -123.05819702148436,
              49.241752624507555
             ],
             [
              -123.0582733154297,
              49.241672515865
             ],
             [
              -123.05834197998048,
              49.24158859252516
             ],
             [
              -123.05841064453124,
              49.2415046691853
             ],
             [
              -123.0584716796875,
              49.24141693114819
             ],
             [
              -123.05851745605469,
              49.24132537841382
             ],
             [
              -123.05856323242188,
              49.24123764037672
             ],
             [
              -123.05860137939455,
              49.24114227294507
             ],
             [
              -123.05862426757811,
              49.241050720210694
             ],
             [
              -123.0586471557617,
              49.240955352779054
             ],
             [
              -123.05866241455078,
              49.2408599853474
             ],
             [
              -123.0586700439453,
              49.24076461791577
             ],
             [
              -123.05885314941406,
              49.232807159419686
             ],
             [
              -123.06444549560548,
              49.232864379878656
             ],
             [
              -123.06674194335938,
              49.23255538940015
             ],
             [
              -123.07703399658203,
              49.23266601562084
             ],
             [
              -123.09053802490233,
              49.232822418208734
             ],
             [
              -123.08984375,
              49.25637817382398
             ],
             [
              -123.07779693603514,
              49.25619888305251
             ],
             [
              -123.07778930664062,
              49.25663375854078
             ],
             [
              -123.07758331298827,
              49.25662612914625
             ],
             [
              -123.07746887207033,
              49.2623367309529
             ],
             [
              -123.05658721923828,
              49.26217651366774
             ],
             [
              -123.05658721923828,
              49.26198196410718
             ]
            ]
           ],
           "type": "Polygon"
          },
          "id": "16",
          "properties": {
           "mapid": "KC",
           "name": "Kensington-Cedar Cottage"
          },
          "type": "Feature"
         },
         {
          "geometry": {
           "coordinates": [
            [
             [
              -123.10066986083984,
              49.269130706782974
             ],
             [
              -123.09692382812501,
              49.26700592040602
             ],
             [
              -123.09688568115234,
              49.266975402827896
             ],
             [
              -123.09683990478516,
              49.26694869994703
             ],
             [
              -123.09679412841797,
              49.26692581176344
             ],
             [
              -123.09674072265626,
              49.266899108882576
             ],
             [
              -123.09669494628906,
              49.26688003539626
             ],
             [
              -123.09664154052736,
              49.26685714721266
             ],
             [
              -123.09658813476562,
              49.2668418884236
             ],
             [
              -123.0965347290039,
              49.26682662963454
             ],
             [
              -123.09647369384764,
              49.26681137084547
             ],
             [
              -123.09642028808594,
              49.266799926753684
             ],
             [
              -123.0963592529297,
              49.26678848266188
             ],
             [
              -123.09629821777344,
              49.26678085326735
             ],
             [
              -123.09623718261717,
              49.266773223872825
             ],
             [
              -123.09618377685547,
              49.26677322387282
             ],
             [
              -123.09612274169923,
              49.26676940917555
             ],
             [
              -123.08999633789061,
              49.26672744750563
             ],
             [
              -123.08967590332031,
              49.26670837401931
             ],
             [
              -123.08936309814455,
              49.266674041743904
             ],
             [
              -123.0890579223633,
              49.26663208007399
             ],
             [
              -123.08874511718751,
              49.26657867431227
             ],
             [
              -123.08196258544923,
              49.26527023315016
             ],
             [
              -123.08179473876955,
              49.26523590087477
             ],
             [
              -123.08162689208983,
              49.26520919799391
             ],
             [
              -123.08145904541016,
              49.26518630981031
             ],
             [
              -123.08129119873047,
              49.265171051021255
             ],
             [
              -123.08111572265625,
              49.26515960692946
             ],
             [
              -123.08094787597658,
              49.26515579223218
             ],
             [
              -123.0774154663086,
              49.26514053344312
             ],
             [
              -123.07758331298827,
              49.25662612914625
             ],
             [
              -123.07778930664062,
              49.25663375854078
             ],
             [
              -123.07779693603514,
              49.25619888305251
             ],
             [
              -123.08984375,
              49.25637817382398
             ],
             [
              -123.10120391845705,
              49.25654602050365
             ],
             [
              -123.11504364013672,
              49.25687026977125
             ],
             [
              -123.1144485473633,
              49.271774291988045
             ],
             [
              -123.11107635498047,
              49.27292633056227
             ],
             [
              -123.10169982910158,
              49.27297210692946
             ],
             [
              -123.09999847412111,
              49.272750854488045
             ],
             [
              -123.10003662109375,
              49.27192306518141
             ],
             [
              -123.10060119628906,
              49.270889282222434
             ],
             [
              -123.10066986083984,
              49.269130706782974
             ]
            ]
           ],
           "type": "Polygon"
          },
          "id": "17",
          "properties": {
           "mapid": "MP",
           "name": "Mount Pleasant"
          },
          "type": "Feature"
         },
         {
          "geometry": {
           "coordinates": [
            [
             [
              -123.10562133789061,
              49.23311614989819
             ],
             [
              -123.10616302490234,
              49.218875885005616
             ],
             [
              -123.14015197753906,
              49.219306945796625
             ],
             [
              -123.13959503173827,
              49.234272003169686
             ],
             [
              -123.12804412841797,
              49.23390579223219
             ],
             [
              -123.10562133789061,
              49.23311614989819
             ]
            ]
           ],
           "type": "Polygon"
          },
          "id": "18",
          "properties": {
           "mapid": "OAK",
           "name": "Oakridge"
          },
          "type": "Feature"
         },
         {
          "geometry": {
           "coordinates": [
            [
             [
              -123.0235595703125,
              49.2347908019978
             ],
             [
              -123.02356719970705,
              49.23226928710523
             ],
             [
              -123.03034210205078,
              49.23193359374585
             ],
             [
              -123.03051757812501,
              49.231929779048585
             ],
             [
              -123.03069305419922,
              49.23192977904858
             ],
             [
              -123.03086853027342,
              49.23193740844313
             ],
             [
              -123.03105163574219,
              49.23194885253491
             ],
             [
              -123.03122711181642,
              49.2319717407185
             ],
             [
              -123.03139495849611,
              49.231998443599366
             ],
             [
              -123.03156280517578,
              49.232028961177484
             ],
             [
              -123.03173065185547,
              49.23207092284742
             ],
             [
              -123.03189849853516,
              49.23211669921459
             ],
             [
              -123.03205871582031,
              49.232166290279054
             ],
             [
              -123.03221130371094,
              49.23222351073804
             ],
             [
              -123.03236389160158,
              49.23228454589428
             ],
             [
              -123.03250885009766,
              49.23235321044507
             ],
             [
              -123.03585815429689,
              49.23410415649
             ],
             [
              -123.03645324707033,
              49.233428955073975
             ],
             [
              -123.03650665283203,
              49.23337554931226
             ],
             [
              -123.0365676879883,
              49.23331832885327
             ],
             [
              -123.03662872314453,
              49.23326492309155
             ],
             [
              -123.03669738769531,
              49.2332153320271
             ],
             [
              -123.0367660522461,
              49.233169555659906
             ],
             [
              -123.0368423461914,
              49.23312377929272
             ],
             [
              -123.0369186401367,
              49.2330818176228
             ],
             [
              -123.03700256347656,
              49.23304367065013
             ],
             [
              -123.03708648681639,
              49.233005523677505
             ],
             [
              -123.03717803955078,
              49.23297119140211
             ],
             [
              -123.03726959228516,
              49.23294067382396
             ],
             [
              -123.03736114501953,
              49.23291397094312
             ],
             [
              -123.0374526977539,
              49.23289108275952
             ],
             [
              -123.03755187988281,
              49.2328720092732
             ],
             [
              -123.03765106201172,
              49.23285675048412
             ],
             [
              -123.03775024414064,
              49.232841491695076
             ],
             [
              -123.03784942626955,
              49.23283386230054
             ],
             [
              -123.0467071533203,
              49.23288726806225
             ],
             [
              -123.04875183105469,
              49.23275375365796
             ],
             [
              -123.05885314941406,
              49.232807159419686
             ],
             [
              -123.0586700439453,
              49.24076461791577
             ],
             [
              -123.05866241455078,
              49.2408599853474
             ],
             [
              -123.0586471557617,
              49.240955352779054
             ],
             [
              -123.05862426757811,
              49.241050720210694
             ],
             [
              -123.05860137939455,
              49.24114227294507
             ],
             [
              -123.05856323242188,
              49.24123764037672
             ],
             [
              -123.05851745605469,
              49.24132537841382
             ],
             [
              -123.0584716796875,
              49.24141693114819
             ],
             [
              -123.05841064453124,
              49.2415046691853
             ],
             [
              -123.05834197998048,
              49.24158859252516
             ],
             [
              -123.0582733154297,
              49.241672515865
             ],
             [
              -123.05819702148436,
              49.241752624507555
             ],
             [
              -123.05811309814453,
              49.24182891845287
             ],
             [
              -123.05662536621094,
              49.24317550658764
             ],
             [
              -123.05658721923828,
              49.26198196410718
             ],
             [
              -123.04424285888672,
              49.261936187739984
             ],
             [
              -123.04424285888672,
              49.26187133788648
             ],
             [
              -123.03262329101564,
              49.26182937621656
             ],
             [
              -123.03239440917969,
              49.261833190913826
             ],
             [
              -123.03216552734375,
              49.26184463500563
             ],
             [
              -123.03193664550783,
              49.261867523189224
             ],
             [
              -123.03170776367188,
              49.261894226070076
             ],
             [
              -123.03148651123048,
              49.26193237304273
             ],
             [
              -123.03126525878906,
              49.26197814940991
             ],
             [
              -123.03104400634766,
              49.26202774047437
             ],
             [
              -123.03083801269531,
              49.26208877563063
             ],
             [
              -123.03063201904295,
              49.26215744018141
             ],
             [
              -123.03042602539064,
              49.26222991942946
             ],
             [
              -123.03023529052736,
              49.2623138427693
             ],
             [
              -123.03004455566408,
              49.262401580806404
             ],
             [
              -123.02986907958984,
              49.262496948238045
             ],
             [
              -123.02969360351564,
              49.262596130366944
             ],
             [
              -123.02953338623047,
              49.262706756587654
             ],
             [
              -123.02794647216797,
              49.26375198363843
             ],
             [
              -123.02762603759766,
              49.26398086547438
             ],
             [
              -123.02729034423828,
              49.26419830321852
             ],
             [
              -123.02693176269531,
              49.26440429687086
             ],
             [
              -123.02655792236328,
              49.264595031734146
             ],
             [
              -123.0261688232422,
              49.26477050780836
             ],
             [
              -123.02576446533205,
              49.26493453979079
             ],
             [
              -123.02534484863281,
              49.26508331298414
             ],
             [
              -123.02491760253908,
              49.2652206420857
             ],
             [
              -123.02447509765625,
              49.26533889770094
             ],
             [
              -123.0240249633789,
              49.265441894527115
             ],
             [
              -123.02356719970705,
              49.26552581786695
             ],
             [
              -123.0235595703125,
              49.2347908019978
             ]
            ]
           ],
           "type": "Polygon"
          },
          "id": "19",
          "properties": {
           "mapid": "RC",
           "name": "Renfrew-Collingwood"
          },
          "type": "Feature"
         },
         {
          "geometry": {
           "coordinates": [
            [
             [
              -123.10696411132812,
              49.20415878295483
             ],
             [
              -123.10616302490234,
              49.218875885005616
             ],
             [
              -123.10562133789061,
              49.23311614989819
             ],
             [
              -123.09053802490233,
              49.232822418208734
             ],
             [
              -123.07703399658203,
              49.23266601562084
             ],
             [
              -123.07742309570314,
              49.21997070312085
             ],
             [
              -123.07701110839844,
              49.219184875484125
             ],
             [
              -123.0771484375,
              49.207614898677484
             ],
             [
              -123.07750701904297,
              49.20756149291577
             ],
             [
              -123.07786560058592,
              49.207496643062235
             ],
             [
              -123.07821655273438,
              49.207420349116944
             ],
             [
              -123.0785598754883,
              49.207332611079835
             ],
             [
              -123.07889556884766,
              49.20723342895092
             ],
             [
              -123.0792236328125,
              49.20712280273021
             ],
             [
              -123.07995605468751,
              49.206874847407946
             ],
             [
              -123.08071899414062,
              49.206661224361085
             ],
             [
              -123.08149719238281,
              49.20647811889233
             ],
             [
              -123.08839416503908,
              49.20477676391185
             ],
             [
              -123.08956146240234,
              49.20444488524975
             ],
             [
              -123.08972930908203,
              49.20438385009349
             ],
             [
              -123.08989715576172,
              49.204326629634515
             ],
             [
              -123.09007263183595,
              49.20427703857007
             ],
             [
              -123.09024810791016,
              49.20423507690013
             ],
             [
              -123.0904312133789,
              49.204196929927484
             ],
             [
              -123.09061431884767,
              49.20416641234935
             ],
             [
              -123.0907974243164,
              49.20414352416576
             ],
             [
              -123.09098815917967,
              49.204124450679444
             ],
             [
              -123.09117126464844,
              49.204116821284906
             ],
             [
              -123.09136199951172,
              49.20411300658765
             ],
             [
              -123.10379028320312,
              49.204082489009515
             ],
             [
              -123.10507202148438,
              49.20407104491771
             ],
             [
              -123.10635375976561,
              49.20412063598216
             ],
             [
              -123.10696411132812,
              49.20415878295483
             ]
            ]
           ],
           "type": "Polygon"
          },
          "id": "20",
          "properties": {
           "mapid": "SUN",
           "name": "Sunset"
          },
          "type": "Feature"
         },
         {
          "geometry": {
           "coordinates": [
            [
             [
              -123.22444915771483,
              49.27892303466384
             ],
             [
              -123.20515441894527,
              49.27805709838453
             ],
             [
              -123.18941497802733,
              49.275215148921646
             ],
             [
              -123.18548583984374,
              49.27497100829665
             ],
             [
              -123.18550109863278,
              49.27325439452711
             ],
             [
              -123.18594360351561,
              49.26113891601148
             ],
             [
              -123.18392944335936,
              49.25976562499586
             ],
             [
              -123.1839904785156,
              49.25786590575759
             ],
             [
              -123.20321655273436,
              49.25814819335523
             ],
             [
              -123.21538543701169,
              49.258331298824
             ],
             [
              -123.21508789062499,
              49.26735687255446
             ],
             [
              -123.21713256835935,
              49.267333984370865
             ],
             [
              -123.21838378906247,
              49.267250061031014
             ],
             [
              -123.21961975097653,
              49.26710891723218
             ],
             [
              -123.21962738037108,
              49.268829345699
             ],
             [
              -123.22189331054686,
              49.26853942870681
             ],
             [
              -123.22174835205075,
              49.2702598571736
             ],
             [
              -123.22431945800778,
              49.27226638793532
             ],
             [
              -123.22484588623044,
              49.274654388423606
             ],
             [
              -123.22457122802733,
              49.27789688109938
             ],
             [
              -123.22444915771483,
              49.27892303466384
             ]
            ]
           ],
           "type": "Polygon"
          },
          "id": "21",
          "properties": {
           "mapid": "WPG",
           "name": "West Point Grey"
          },
          "type": "Feature"
         }
        ]
       },
       "encoding": {
        "color": {
         "field": "properties.name",
         "legend": null,
         "scale": {
          "scheme": "blues"
         },
         "title": "Neighbourhood",
         "type": "nominal"
        },
        "tooltip": [
         {
          "field": "properties.name",
          "title": "Neighbourhood",
          "type": "nominal"
         }
        ]
       },
       "height": 400,
       "mark": {
        "stroke": "white",
        "type": "geoshape"
       },
       "selection": {
        "selector017": {
         "empty": "none",
         "fields": [
          "properties.name"
         ],
         "on": "mouseover",
         "type": "single"
        }
       },
       "title": "Local Area Boundaries of Vancouver Neighbourhoods",
       "width": 500
      },
      "image/png": "[encoded data removed]",
      "text/plain": [
       "<VegaLite 4 object>\n",
       "\n",
       "If you see this message, it means the renderer has not been properly enabled\n",
       "for the frontend that you are using. For more information, see\n",
       "https://altair-viz.github.io/user_guide/troubleshooting.html\n"
      ]
     },
     "execution_count": 104,
     "metadata": {},
     "output_type": "execute_result"
    }
   ],
   "source": [
    "# convert Geopandas Dataframe back to GeoJSON\n",
    "choro_json = json.loads(van_areas.to_json())\n",
    "choro_data = alt.Data(values=choro_json['features'])\n",
    "\n",
    "label = alt.selection_single(\n",
    "    fields=[\"properties.name\"],\n",
    "    on='mouseover',  # select on mouseover events   \n",
    "    empty='none'     \n",
    ")\n",
    "\n",
    "# map choropleth layer\n",
    "choro = alt.Chart(choro_data\n",
    "    ).mark_geoshape(stroke='white'\n",
    "    ).encode(\n",
    "        alt.Color('properties.name:N',\n",
    "                  scale=alt.Scale(scheme='blues'),\n",
    "                  title = 'Neighbourhood',\n",
    "                 legend=None),\n",
    "        tooltip = [alt.Tooltip('properties.name:N', title='Neighbourhood')]\n",
    "    ).properties(\n",
    "        width=500,\n",
    "        height=400,\n",
    "        background='transparent',\n",
    "        title=\"Local Area Boundaries of Vancouver Neighbourhoods\"\n",
    "    ).configure_view(strokeWidth=0\n",
    "    ).configure_title(fontSize=24\n",
    "    ).add_selection(label)\n",
    "\n",
    "\n",
    "choro  \n",
    "#choro.save(\"../figures/van_area_map.png\")"
   ]
  },
  {
   "cell_type": "code",
   "execution_count": 33,
   "metadata": {},
   "outputs": [
    {
     "name": "stderr",
     "output_type": "stream",
     "text": [
      "/home/keanna/anaconda3/lib/python3.7/site-packages/IPython/core/interactiveshell.py:3063: DtypeWarning: Columns (14) have mixed types.Specify dtype option on import or set low_memory=False.\n",
      "  interactivity=interactivity, compiler=compiler, result=result)\n"
     ]
    },
    {
     "data": {
      "text/html": [
       "<div>\n",
       "<style scoped>\n",
       "    .dataframe tbody tr th:only-of-type {\n",
       "        vertical-align: middle;\n",
       "    }\n",
       "\n",
       "    .dataframe tbody tr th {\n",
       "        vertical-align: top;\n",
       "    }\n",
       "\n",
       "    .dataframe thead th {\n",
       "        text-align: right;\n",
       "    }\n",
       "</style>\n",
       "<table border=\"1\" class=\"dataframe\">\n",
       "  <thead>\n",
       "    <tr style=\"text-align: right;\">\n",
       "      <th></th>\n",
       "      <th>business_id</th>\n",
       "      <th>FOLDERYEAR</th>\n",
       "      <th>LicenceRSN</th>\n",
       "      <th>LicenceNumber</th>\n",
       "      <th>LicenceRevisionNumber</th>\n",
       "      <th>BusinessName</th>\n",
       "      <th>BusinessTradeName</th>\n",
       "      <th>Status</th>\n",
       "      <th>IssuedDate</th>\n",
       "      <th>ExpiredDate</th>\n",
       "      <th>...</th>\n",
       "      <th>Street</th>\n",
       "      <th>City</th>\n",
       "      <th>Province</th>\n",
       "      <th>Country</th>\n",
       "      <th>PostalCode</th>\n",
       "      <th>LocalArea</th>\n",
       "      <th>NumberofEmployees</th>\n",
       "      <th>FeePaid</th>\n",
       "      <th>ExtractDate</th>\n",
       "      <th>Geom</th>\n",
       "    </tr>\n",
       "  </thead>\n",
       "  <tbody>\n",
       "    <tr>\n",
       "      <th>0</th>\n",
       "      <td>1</td>\n",
       "      <td>18.0</td>\n",
       "      <td>3100450</td>\n",
       "      <td>18-516072</td>\n",
       "      <td>0.0</td>\n",
       "      <td>!Exotics BySIYTHE Corporation</td>\n",
       "      <td>NaN</td>\n",
       "      <td>Issued</td>\n",
       "      <td>2018-02-14</td>\n",
       "      <td>2018-12-31</td>\n",
       "      <td>...</td>\n",
       "      <td>RICHARDS ST</td>\n",
       "      <td>Vancouver</td>\n",
       "      <td>BC</td>\n",
       "      <td>CA</td>\n",
       "      <td>V6B 2Z4</td>\n",
       "      <td>Downtown</td>\n",
       "      <td>1.0</td>\n",
       "      <td>189.0</td>\n",
       "      <td>2020-04-01T09:32:19Z</td>\n",
       "      <td>{\"type\": \"Point\", \"coordinates\": [-123.1119263...</td>\n",
       "    </tr>\n",
       "    <tr>\n",
       "      <th>1</th>\n",
       "      <td>1</td>\n",
       "      <td>19.0</td>\n",
       "      <td>3265242</td>\n",
       "      <td>19-139570</td>\n",
       "      <td>0.0</td>\n",
       "      <td>!Exotics BySIYTHE Corporation</td>\n",
       "      <td>NaN</td>\n",
       "      <td>Pending</td>\n",
       "      <td>2019-08-15</td>\n",
       "      <td>2019-12-31</td>\n",
       "      <td>...</td>\n",
       "      <td>RICHARDS ST</td>\n",
       "      <td>Vancouver</td>\n",
       "      <td>BC</td>\n",
       "      <td>CA</td>\n",
       "      <td>V6B 2Z4</td>\n",
       "      <td>Downtown</td>\n",
       "      <td>1.0</td>\n",
       "      <td>50.0</td>\n",
       "      <td>2020-04-01T09:32:24Z</td>\n",
       "      <td>{\"type\": \"Point\", \"coordinates\": [-123.1119263...</td>\n",
       "    </tr>\n",
       "    <tr>\n",
       "      <th>2</th>\n",
       "      <td>2</td>\n",
       "      <td>4.0</td>\n",
       "      <td>804123</td>\n",
       "      <td>04-036444</td>\n",
       "      <td>0.0</td>\n",
       "      <td>.243 Racing Inc</td>\n",
       "      <td>NaN</td>\n",
       "      <td>Issued</td>\n",
       "      <td>2004-04-07</td>\n",
       "      <td>2004-12-31</td>\n",
       "      <td>...</td>\n",
       "      <td>POWELL ST</td>\n",
       "      <td>Vancouver</td>\n",
       "      <td>BC</td>\n",
       "      <td>CA</td>\n",
       "      <td>V5L 1H6</td>\n",
       "      <td>Grandview-Woodland</td>\n",
       "      <td>0.0</td>\n",
       "      <td>100.0</td>\n",
       "      <td>2019-07-21T13:48:32Z</td>\n",
       "      <td>{\"type\": \"Point\", \"coordinates\": [-123.0693914...</td>\n",
       "    </tr>\n",
       "    <tr>\n",
       "      <th>3</th>\n",
       "      <td>2</td>\n",
       "      <td>5.0</td>\n",
       "      <td>884526</td>\n",
       "      <td>05-112560</td>\n",
       "      <td>0.0</td>\n",
       "      <td>.243 Racing Inc</td>\n",
       "      <td>NaN</td>\n",
       "      <td>Issued</td>\n",
       "      <td>2004-12-23</td>\n",
       "      <td>2005-12-31</td>\n",
       "      <td>...</td>\n",
       "      <td>POWELL ST</td>\n",
       "      <td>Vancouver</td>\n",
       "      <td>BC</td>\n",
       "      <td>CA</td>\n",
       "      <td>V5L 1H6</td>\n",
       "      <td>Grandview-Woodland</td>\n",
       "      <td>0.0</td>\n",
       "      <td>103.0</td>\n",
       "      <td>2019-07-21T13:48:35Z</td>\n",
       "      <td>{\"type\": \"Point\", \"coordinates\": [-123.0693914...</td>\n",
       "    </tr>\n",
       "    <tr>\n",
       "      <th>4</th>\n",
       "      <td>2</td>\n",
       "      <td>6.0</td>\n",
       "      <td>1010837</td>\n",
       "      <td>06-140328</td>\n",
       "      <td>0.0</td>\n",
       "      <td>.243 Racing Inc</td>\n",
       "      <td>NaN</td>\n",
       "      <td>Issued</td>\n",
       "      <td>2005-12-12</td>\n",
       "      <td>2006-12-31</td>\n",
       "      <td>...</td>\n",
       "      <td>POWELL ST</td>\n",
       "      <td>Vancouver</td>\n",
       "      <td>BC</td>\n",
       "      <td>CA</td>\n",
       "      <td>V5L 1H6</td>\n",
       "      <td>Grandview-Woodland</td>\n",
       "      <td>0.0</td>\n",
       "      <td>106.0</td>\n",
       "      <td>2019-07-21T13:48:41Z</td>\n",
       "      <td>{\"type\": \"Point\", \"coordinates\": [-123.0693914...</td>\n",
       "    </tr>\n",
       "    <tr>\n",
       "      <th>...</th>\n",
       "      <td>...</td>\n",
       "      <td>...</td>\n",
       "      <td>...</td>\n",
       "      <td>...</td>\n",
       "      <td>...</td>\n",
       "      <td>...</td>\n",
       "      <td>...</td>\n",
       "      <td>...</td>\n",
       "      <td>...</td>\n",
       "      <td>...</td>\n",
       "      <td>...</td>\n",
       "      <td>...</td>\n",
       "      <td>...</td>\n",
       "      <td>...</td>\n",
       "      <td>...</td>\n",
       "      <td>...</td>\n",
       "      <td>...</td>\n",
       "      <td>...</td>\n",
       "      <td>...</td>\n",
       "      <td>...</td>\n",
       "      <td>...</td>\n",
       "    </tr>\n",
       "    <tr>\n",
       "      <th>1463265</th>\n",
       "      <td>241465</td>\n",
       "      <td>18.0</td>\n",
       "      <td>3214527</td>\n",
       "      <td>18-629678</td>\n",
       "      <td>0.0</td>\n",
       "      <td>NaN</td>\n",
       "      <td>NaN</td>\n",
       "      <td>Pending</td>\n",
       "      <td>NaN</td>\n",
       "      <td>NaN</td>\n",
       "      <td>...</td>\n",
       "      <td>NaN</td>\n",
       "      <td>NaN</td>\n",
       "      <td>NaN</td>\n",
       "      <td>NaN</td>\n",
       "      <td>NaN</td>\n",
       "      <td>NaN</td>\n",
       "      <td>0.0</td>\n",
       "      <td>NaN</td>\n",
       "      <td>2020-04-01T09:32:14Z</td>\n",
       "      <td>NaN</td>\n",
       "    </tr>\n",
       "    <tr>\n",
       "      <th>1463266</th>\n",
       "      <td>241465</td>\n",
       "      <td>20.0</td>\n",
       "      <td>3580571</td>\n",
       "      <td>20-214973</td>\n",
       "      <td>0.0</td>\n",
       "      <td>NaN</td>\n",
       "      <td>NaN</td>\n",
       "      <td>Pending</td>\n",
       "      <td>NaN</td>\n",
       "      <td>NaN</td>\n",
       "      <td>...</td>\n",
       "      <td>NaN</td>\n",
       "      <td>NaN</td>\n",
       "      <td>NaN</td>\n",
       "      <td>NaN</td>\n",
       "      <td>NaN</td>\n",
       "      <td>NaN</td>\n",
       "      <td>0.0</td>\n",
       "      <td>NaN</td>\n",
       "      <td>2020-04-04T07:08:41Z</td>\n",
       "      <td>NaN</td>\n",
       "    </tr>\n",
       "    <tr>\n",
       "      <th>1463267</th>\n",
       "      <td>241465</td>\n",
       "      <td>20.0</td>\n",
       "      <td>3542917</td>\n",
       "      <td>20-177747</td>\n",
       "      <td>0.0</td>\n",
       "      <td>NaN</td>\n",
       "      <td>NaN</td>\n",
       "      <td>Cancelled</td>\n",
       "      <td>NaN</td>\n",
       "      <td>NaN</td>\n",
       "      <td>...</td>\n",
       "      <td>NaN</td>\n",
       "      <td>NaN</td>\n",
       "      <td>NaN</td>\n",
       "      <td>NaN</td>\n",
       "      <td>NaN</td>\n",
       "      <td>NaN</td>\n",
       "      <td>0.0</td>\n",
       "      <td>NaN</td>\n",
       "      <td>2020-04-04T07:08:41Z</td>\n",
       "      <td>NaN</td>\n",
       "    </tr>\n",
       "    <tr>\n",
       "      <th>1463268</th>\n",
       "      <td>241465</td>\n",
       "      <td>20.0</td>\n",
       "      <td>3560217</td>\n",
       "      <td>20-194843</td>\n",
       "      <td>0.0</td>\n",
       "      <td>NaN</td>\n",
       "      <td>NaN</td>\n",
       "      <td>Cancelled</td>\n",
       "      <td>NaN</td>\n",
       "      <td>NaN</td>\n",
       "      <td>...</td>\n",
       "      <td>NaN</td>\n",
       "      <td>NaN</td>\n",
       "      <td>NaN</td>\n",
       "      <td>NaN</td>\n",
       "      <td>NaN</td>\n",
       "      <td>NaN</td>\n",
       "      <td>0.0</td>\n",
       "      <td>NaN</td>\n",
       "      <td>2020-04-04T07:08:41Z</td>\n",
       "      <td>NaN</td>\n",
       "    </tr>\n",
       "    <tr>\n",
       "      <th>1463269</th>\n",
       "      <td>241465</td>\n",
       "      <td>20.0</td>\n",
       "      <td>3567090</td>\n",
       "      <td>20-201641</td>\n",
       "      <td>0.0</td>\n",
       "      <td>NaN</td>\n",
       "      <td>NaN</td>\n",
       "      <td>Cancelled</td>\n",
       "      <td>NaN</td>\n",
       "      <td>NaN</td>\n",
       "      <td>...</td>\n",
       "      <td>NaN</td>\n",
       "      <td>NaN</td>\n",
       "      <td>NaN</td>\n",
       "      <td>NaN</td>\n",
       "      <td>NaN</td>\n",
       "      <td>NaN</td>\n",
       "      <td>0.0</td>\n",
       "      <td>NaN</td>\n",
       "      <td>2020-04-04T07:08:41Z</td>\n",
       "      <td>NaN</td>\n",
       "    </tr>\n",
       "  </tbody>\n",
       "</table>\n",
       "<p>1463270 rows × 25 columns</p>\n",
       "</div>"
      ],
      "text/plain": [
       "         business_id  FOLDERYEAR  LicenceRSN LicenceNumber  \\\n",
       "0                  1        18.0     3100450     18-516072   \n",
       "1                  1        19.0     3265242     19-139570   \n",
       "2                  2         4.0      804123     04-036444   \n",
       "3                  2         5.0      884526     05-112560   \n",
       "4                  2         6.0     1010837     06-140328   \n",
       "...              ...         ...         ...           ...   \n",
       "1463265       241465        18.0     3214527     18-629678   \n",
       "1463266       241465        20.0     3580571     20-214973   \n",
       "1463267       241465        20.0     3542917     20-177747   \n",
       "1463268       241465        20.0     3560217     20-194843   \n",
       "1463269       241465        20.0     3567090     20-201641   \n",
       "\n",
       "         LicenceRevisionNumber                   BusinessName  \\\n",
       "0                          0.0  !Exotics BySIYTHE Corporation   \n",
       "1                          0.0  !Exotics BySIYTHE Corporation   \n",
       "2                          0.0                .243 Racing Inc   \n",
       "3                          0.0                .243 Racing Inc   \n",
       "4                          0.0                .243 Racing Inc   \n",
       "...                        ...                            ...   \n",
       "1463265                    0.0                            NaN   \n",
       "1463266                    0.0                            NaN   \n",
       "1463267                    0.0                            NaN   \n",
       "1463268                    0.0                            NaN   \n",
       "1463269                    0.0                            NaN   \n",
       "\n",
       "        BusinessTradeName     Status  IssuedDate ExpiredDate  ...  \\\n",
       "0                     NaN     Issued  2018-02-14  2018-12-31  ...   \n",
       "1                     NaN    Pending  2019-08-15  2019-12-31  ...   \n",
       "2                     NaN     Issued  2004-04-07  2004-12-31  ...   \n",
       "3                     NaN     Issued  2004-12-23  2005-12-31  ...   \n",
       "4                     NaN     Issued  2005-12-12  2006-12-31  ...   \n",
       "...                   ...        ...         ...         ...  ...   \n",
       "1463265               NaN    Pending         NaN         NaN  ...   \n",
       "1463266               NaN    Pending         NaN         NaN  ...   \n",
       "1463267               NaN  Cancelled         NaN         NaN  ...   \n",
       "1463268               NaN  Cancelled         NaN         NaN  ...   \n",
       "1463269               NaN  Cancelled         NaN         NaN  ...   \n",
       "\n",
       "              Street       City Province Country PostalCode  \\\n",
       "0        RICHARDS ST  Vancouver       BC      CA    V6B 2Z4   \n",
       "1        RICHARDS ST  Vancouver       BC      CA    V6B 2Z4   \n",
       "2          POWELL ST  Vancouver       BC      CA    V5L 1H6   \n",
       "3          POWELL ST  Vancouver       BC      CA    V5L 1H6   \n",
       "4          POWELL ST  Vancouver       BC      CA    V5L 1H6   \n",
       "...              ...        ...      ...     ...        ...   \n",
       "1463265          NaN        NaN      NaN     NaN        NaN   \n",
       "1463266          NaN        NaN      NaN     NaN        NaN   \n",
       "1463267          NaN        NaN      NaN     NaN        NaN   \n",
       "1463268          NaN        NaN      NaN     NaN        NaN   \n",
       "1463269          NaN        NaN      NaN     NaN        NaN   \n",
       "\n",
       "                  LocalArea NumberofEmployees FeePaid           ExtractDate  \\\n",
       "0                  Downtown               1.0   189.0  2020-04-01T09:32:19Z   \n",
       "1                  Downtown               1.0    50.0  2020-04-01T09:32:24Z   \n",
       "2        Grandview-Woodland               0.0   100.0  2019-07-21T13:48:32Z   \n",
       "3        Grandview-Woodland               0.0   103.0  2019-07-21T13:48:35Z   \n",
       "4        Grandview-Woodland               0.0   106.0  2019-07-21T13:48:41Z   \n",
       "...                     ...               ...     ...                   ...   \n",
       "1463265                 NaN               0.0     NaN  2020-04-01T09:32:14Z   \n",
       "1463266                 NaN               0.0     NaN  2020-04-04T07:08:41Z   \n",
       "1463267                 NaN               0.0     NaN  2020-04-04T07:08:41Z   \n",
       "1463268                 NaN               0.0     NaN  2020-04-04T07:08:41Z   \n",
       "1463269                 NaN               0.0     NaN  2020-04-04T07:08:41Z   \n",
       "\n",
       "                                                      Geom  \n",
       "0        {\"type\": \"Point\", \"coordinates\": [-123.1119263...  \n",
       "1        {\"type\": \"Point\", \"coordinates\": [-123.1119263...  \n",
       "2        {\"type\": \"Point\", \"coordinates\": [-123.0693914...  \n",
       "3        {\"type\": \"Point\", \"coordinates\": [-123.0693914...  \n",
       "4        {\"type\": \"Point\", \"coordinates\": [-123.0693914...  \n",
       "...                                                    ...  \n",
       "1463265                                                NaN  \n",
       "1463266                                                NaN  \n",
       "1463267                                                NaN  \n",
       "1463268                                                NaN  \n",
       "1463269                                                NaN  \n",
       "\n",
       "[1463270 rows x 25 columns]"
      ]
     },
     "execution_count": 33,
     "metadata": {},
     "output_type": "execute_result"
    }
   ],
   "source": [
    "# buisness licence dataset\n",
    "licence_df = pd.read_csv('../data/processed/licences.csv')\n",
    "licence_df"
   ]
  },
  {
   "cell_type": "code",
   "execution_count": 34,
   "metadata": {},
   "outputs": [],
   "source": [
    "# split into train and test sets\n",
    "train_inds, test_inds = next(GroupShuffleSplit(test_size=.20, n_splits=2, random_state = 7).split(licence_df, groups=licence_df['business_id']))\n",
    "\n",
    "train = licence_df.iloc[train_inds]\n",
    "test = licence_df.iloc[test_inds]\n",
    "\n",
    "# save as csv files\n",
    "train.to_csv('../data/processed/licence_train.csv')\n",
    "test.to_csv('../data/processed/licence_test.csv')"
   ]
  },
  {
   "cell_type": "code",
   "execution_count": 69,
   "metadata": {},
   "outputs": [
    {
     "data": {
      "text/html": [
       "<div>\n",
       "<style scoped>\n",
       "    .dataframe tbody tr th:only-of-type {\n",
       "        vertical-align: middle;\n",
       "    }\n",
       "\n",
       "    .dataframe tbody tr th {\n",
       "        vertical-align: top;\n",
       "    }\n",
       "\n",
       "    .dataframe thead th {\n",
       "        text-align: right;\n",
       "    }\n",
       "</style>\n",
       "<table border=\"1\" class=\"dataframe\">\n",
       "  <thead>\n",
       "    <tr style=\"text-align: right;\">\n",
       "      <th></th>\n",
       "      <th>business_id</th>\n",
       "      <th>BusinessName</th>\n",
       "      <th>Status</th>\n",
       "      <th>IssuedDate</th>\n",
       "      <th>ExpiredDate</th>\n",
       "      <th>BusinessType</th>\n",
       "      <th>BusinessSubType</th>\n",
       "      <th>Street</th>\n",
       "      <th>City</th>\n",
       "      <th>PostalCode</th>\n",
       "      <th>LocalArea</th>\n",
       "      <th>NumberofEmployees</th>\n",
       "    </tr>\n",
       "  </thead>\n",
       "  <tbody>\n",
       "    <tr>\n",
       "      <th>0</th>\n",
       "      <td>1</td>\n",
       "      <td>!Exotics BySIYTHE Corporation</td>\n",
       "      <td>Issued</td>\n",
       "      <td>2018-02-14</td>\n",
       "      <td>2018-12-31</td>\n",
       "      <td>Office</td>\n",
       "      <td>Design Company</td>\n",
       "      <td>RICHARDS ST</td>\n",
       "      <td>Vancouver</td>\n",
       "      <td>V6B 2Z4</td>\n",
       "      <td>Downtown</td>\n",
       "      <td>1.0</td>\n",
       "    </tr>\n",
       "    <tr>\n",
       "      <th>1</th>\n",
       "      <td>1</td>\n",
       "      <td>!Exotics BySIYTHE Corporation</td>\n",
       "      <td>Pending</td>\n",
       "      <td>2019-08-15</td>\n",
       "      <td>2019-12-31</td>\n",
       "      <td>Office</td>\n",
       "      <td>Design Company</td>\n",
       "      <td>RICHARDS ST</td>\n",
       "      <td>Vancouver</td>\n",
       "      <td>V6B 2Z4</td>\n",
       "      <td>Downtown</td>\n",
       "      <td>1.0</td>\n",
       "    </tr>\n",
       "    <tr>\n",
       "      <th>6</th>\n",
       "      <td>3</td>\n",
       "      <td>.243 Racing Inc</td>\n",
       "      <td>Issued</td>\n",
       "      <td>2003-04-08</td>\n",
       "      <td>2003-12-31</td>\n",
       "      <td>Wholesale  Dealer</td>\n",
       "      <td>NaN</td>\n",
       "      <td>Homer St</td>\n",
       "      <td>Vancouver</td>\n",
       "      <td>V6B 2V2</td>\n",
       "      <td>Downtown</td>\n",
       "      <td>0.0</td>\n",
       "    </tr>\n",
       "    <tr>\n",
       "      <th>7</th>\n",
       "      <td>3</td>\n",
       "      <td>.243 Racing Inc</td>\n",
       "      <td>Issued</td>\n",
       "      <td>2003-04-08</td>\n",
       "      <td>2003-12-31</td>\n",
       "      <td>Office</td>\n",
       "      <td>Design Company</td>\n",
       "      <td>Homer St</td>\n",
       "      <td>Vancouver</td>\n",
       "      <td>V6B 2V2</td>\n",
       "      <td>Downtown</td>\n",
       "      <td>0.0</td>\n",
       "    </tr>\n",
       "    <tr>\n",
       "      <th>8</th>\n",
       "      <td>3</td>\n",
       "      <td>.243 Racing Inc</td>\n",
       "      <td>Gone Out of Business</td>\n",
       "      <td>NaN</td>\n",
       "      <td>NaN</td>\n",
       "      <td>Office</td>\n",
       "      <td>Design Company</td>\n",
       "      <td>Homer St</td>\n",
       "      <td>Vancouver</td>\n",
       "      <td>V6B 2V2</td>\n",
       "      <td>Downtown</td>\n",
       "      <td>0.0</td>\n",
       "    </tr>\n",
       "    <tr>\n",
       "      <th>10</th>\n",
       "      <td>5</td>\n",
       "      <td>\"Mata Hari's\" of Gentlemen's Leisure Spa Inc</td>\n",
       "      <td>Issued</td>\n",
       "      <td>1999-03-24</td>\n",
       "      <td>1999-12-31</td>\n",
       "      <td>Health Services</td>\n",
       "      <td>Other</td>\n",
       "      <td>Hornby St</td>\n",
       "      <td>Vancouver</td>\n",
       "      <td>V6Z 2L4</td>\n",
       "      <td>Downtown</td>\n",
       "      <td>0.0</td>\n",
       "    </tr>\n",
       "    <tr>\n",
       "      <th>11</th>\n",
       "      <td>5</td>\n",
       "      <td>\"Mata Hari's\" of Gentlemen's Leisure Spa Inc</td>\n",
       "      <td>Issued</td>\n",
       "      <td>2000-01-11</td>\n",
       "      <td>2000-12-31</td>\n",
       "      <td>Health Services</td>\n",
       "      <td>Other</td>\n",
       "      <td>Hornby St</td>\n",
       "      <td>Vancouver</td>\n",
       "      <td>V6Z 2L4</td>\n",
       "      <td>Downtown</td>\n",
       "      <td>0.0</td>\n",
       "    </tr>\n",
       "    <tr>\n",
       "      <th>12</th>\n",
       "      <td>5</td>\n",
       "      <td>\"Mata Hari's\" of Gentlemen's Leisure Spa Inc</td>\n",
       "      <td>Gone Out of Business</td>\n",
       "      <td>NaN</td>\n",
       "      <td>NaN</td>\n",
       "      <td>Health Services</td>\n",
       "      <td>Other</td>\n",
       "      <td>Hornby St</td>\n",
       "      <td>Vancouver</td>\n",
       "      <td>V6Z 2L4</td>\n",
       "      <td>Downtown</td>\n",
       "      <td>0.0</td>\n",
       "    </tr>\n",
       "  </tbody>\n",
       "</table>\n",
       "</div>"
      ],
      "text/plain": [
       "    business_id                                  BusinessName  \\\n",
       "0             1                 !Exotics BySIYTHE Corporation   \n",
       "1             1                 !Exotics BySIYTHE Corporation   \n",
       "6             3                               .243 Racing Inc   \n",
       "7             3                               .243 Racing Inc   \n",
       "8             3                               .243 Racing Inc   \n",
       "10            5  \"Mata Hari's\" of Gentlemen's Leisure Spa Inc   \n",
       "11            5  \"Mata Hari's\" of Gentlemen's Leisure Spa Inc   \n",
       "12            5  \"Mata Hari's\" of Gentlemen's Leisure Spa Inc   \n",
       "\n",
       "                  Status  IssuedDate ExpiredDate       BusinessType  \\\n",
       "0                 Issued  2018-02-14  2018-12-31             Office   \n",
       "1                Pending  2019-08-15  2019-12-31             Office   \n",
       "6                 Issued  2003-04-08  2003-12-31  Wholesale  Dealer   \n",
       "7                 Issued  2003-04-08  2003-12-31             Office   \n",
       "8   Gone Out of Business         NaN         NaN             Office   \n",
       "10                Issued  1999-03-24  1999-12-31    Health Services   \n",
       "11                Issued  2000-01-11  2000-12-31    Health Services   \n",
       "12  Gone Out of Business         NaN         NaN    Health Services   \n",
       "\n",
       "   BusinessSubType       Street       City PostalCode LocalArea  \\\n",
       "0   Design Company  RICHARDS ST  Vancouver    V6B 2Z4  Downtown   \n",
       "1   Design Company  RICHARDS ST  Vancouver    V6B 2Z4  Downtown   \n",
       "6              NaN     Homer St  Vancouver    V6B 2V2  Downtown   \n",
       "7   Design Company     Homer St  Vancouver    V6B 2V2  Downtown   \n",
       "8   Design Company     Homer St  Vancouver    V6B 2V2  Downtown   \n",
       "10           Other    Hornby St  Vancouver    V6Z 2L4  Downtown   \n",
       "11           Other    Hornby St  Vancouver    V6Z 2L4  Downtown   \n",
       "12           Other    Hornby St  Vancouver    V6Z 2L4  Downtown   \n",
       "\n",
       "    NumberofEmployees  \n",
       "0                 1.0  \n",
       "1                 1.0  \n",
       "6                 0.0  \n",
       "7                 0.0  \n",
       "8                 0.0  \n",
       "10                0.0  \n",
       "11                0.0  \n",
       "12                0.0  "
      ]
     },
     "execution_count": 69,
     "metadata": {},
     "output_type": "execute_result"
    }
   ],
   "source": [
    "train.iloc[:,[0,5,7,8,9,10,11,15,16,19,20,21]].head(8)"
   ]
  },
  {
   "cell_type": "code",
   "execution_count": null,
   "metadata": {},
   "outputs": [],
   "source": []
  }
 ],
 "metadata": {
  "kernelspec": {
   "display_name": "Python 3",
   "language": "python",
   "name": "python3"
  },
  "language_info": {
   "codemirror_mode": {
    "name": "ipython",
    "version": 3
   },
   "file_extension": ".py",
   "mimetype": "text/x-python",
   "name": "python",
   "nbconvert_exporter": "python",
   "pygments_lexer": "ipython3",
   "version": "3.7.6"
  }
 },
 "nbformat": 4,
 "nbformat_minor": 4
}
