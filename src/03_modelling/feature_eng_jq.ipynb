{
 "cells": [
  {
   "cell_type": "markdown",
   "metadata": {},
   "source": [
    "# Feature Engineering\n",
    "\n",
    "\n",
    "Author: Jasmine Qin  \n",
    "Date: 2020-06-12"
   ]
  },
  {
   "cell_type": "code",
   "execution_count": 1,
   "metadata": {},
   "outputs": [
    {
     "name": "stderr",
     "output_type": "stream",
     "text": [
      "/Users/jq/anaconda3/lib/python3.7/site-packages/sklearn/utils/deprecation.py:144: FutureWarning: The sklearn.metrics.scorer module is  deprecated in version 0.22 and will be removed in version 0.24. The corresponding classes / functions should instead be imported from sklearn.metrics. Anything that cannot be imported from sklearn.metrics is now part of the private API.\n",
      "  warnings.warn(message, FutureWarning)\n",
      "/Users/jq/anaconda3/lib/python3.7/site-packages/sklearn/utils/deprecation.py:144: FutureWarning: The sklearn.feature_selection.base module is  deprecated in version 0.22 and will be removed in version 0.24. The corresponding classes / functions should instead be imported from sklearn.feature_selection. Anything that cannot be imported from sklearn.feature_selection is now part of the private API.\n",
      "  warnings.warn(message, FutureWarning)\n",
      "Using TensorFlow backend.\n"
     ]
    }
   ],
   "source": [
    "# Basics\n",
    "import pandas as pd\n",
    "import geopandas as gpd\n",
    "import numpy as np\n",
    "import seaborn as sns\n",
    "import time\n",
    "import re\n",
    "import json\n",
    "from collections import defaultdict, Counter\n",
    "\n",
    "from shapely.ops import nearest_points\n",
    "from shapely.geometry import Point\n",
    "import shapely.speedups"
   ]
  },
  {
   "cell_type": "code",
   "execution_count": 2,
   "metadata": {},
   "outputs": [],
   "source": [
    "# Options\n",
    "pd.set_option('display.max_columns', 100)\n",
    "pd.set_option('display.max_rows', 100)\n",
    "shapely.speedups.enable()"
   ]
  },
  {
   "cell_type": "code",
   "execution_count": 3,
   "metadata": {},
   "outputs": [],
   "source": [
    "combined_train = pd.read_csv('../../data/processed/04_combined_train.csv',\n",
    "                    low_memory=False)\n",
    "combined_validation = pd.read_csv('../../data/processed/04_combined_validate.csv',\n",
    "                         low_memory=False)"
   ]
  },
  {
   "cell_type": "code",
   "execution_count": 4,
   "metadata": {},
   "outputs": [],
   "source": [
    "def fill_geom(df):\n",
    "    \"\"\"This function fills Geom for some business_id\n",
    "        and recovers around 1000 geoms in train set.\n",
    "    \"\"\"\n",
    "\n",
    "    # list of business_id that has null geom\n",
    "    list_of_id = df[df.Geom.isnull()].business_id.unique()\n",
    "\n",
    "    # get all rows for these ids from original df\n",
    "    could_fill = df[df.business_id.isin(list_of_id)]\n",
    "\n",
    "    # able to find geom for these ids\n",
    "    list_of_id = could_fill[could_fill.Geom.notnull()].business_id.unique()\n",
    "\n",
    "    # fill geoms\n",
    "    for i in list_of_id:\n",
    "        df_i = df[df.business_id == i]\n",
    "        geom = df_i[df_i.Geom.notnull()].Geom.values[0]\n",
    "        df.loc[df.business_id == i, 'Geom'] = geom\n",
    "\n",
    "    return df\n"
   ]
  },
  {
   "cell_type": "code",
   "execution_count": 5,
   "metadata": {},
   "outputs": [],
   "source": [
    "def chain(df):\n",
    "    \"\"\"This function counts how many times a business name\n",
    "        occurs in the entire dataframe.\n",
    "\n",
    "       It is not aggregated to years in order to capture\n",
    "        the scenario of a business gone out of business\n",
    "        for a couple of years but came back at a different\n",
    "        location later on.\n",
    "\n",
    "       When counting chain businesses, both business name\n",
    "        and business industry are used. This is because\n",
    "        some business names are owner's names so there are\n",
    "        duplicated names for completely different businesses.\n",
    "    \"\"\"\n",
    "\n",
    "    # count business by name so filter out the ones\n",
    "    #   without a name first\n",
    "    df_copy2 = df.copy()\n",
    "    df_copy = df[df.BusinessName.notnull()]\n",
    "\n",
    "    names = []\n",
    "\n",
    "    # use business_id because ids are aggregated\n",
    "    #  using location. e.g., Starbucks at different locations\n",
    "    #  will have the same name but different ids\n",
    "    for i in df_copy.business_id.unique():\n",
    "        names.append(\n",
    "            (df_copy.loc[df_copy.business_id == i,\n",
    "                         'BusinessName'].values[0],\n",
    "             df_copy.loc[df_copy.business_id == i,\n",
    "                         'BusinessIndustry'].values[0]))\n",
    "\n",
    "    # count names\n",
    "    name_dict = Counter(names)\n",
    "\n",
    "    # add chain column\n",
    "    chain = []\n",
    "    for i in range(len(df_copy2)):\n",
    "        name = df_copy2.iloc[i, df_copy2.columns.get_loc(\n",
    "            'BusinessName')]\n",
    "        industry = df_copy2.iloc[i, df_copy2.columns.get_loc(\n",
    "            'BusinessIndustry')]\n",
    "        \n",
    "        if pd.isnull(name):\n",
    "            chain.append(name)\n",
    "        else:\n",
    "            try:\n",
    "                chain.append(name_dict[\n",
    "                    (name, industry)])\n",
    "            except:\n",
    "                chain.append(0)\n",
    "\n",
    "    df_copy2['chain'] = chain\n",
    "\n",
    "    return df_copy2\n"
   ]
  },
  {
   "cell_type": "code",
   "execution_count": 6,
   "metadata": {},
   "outputs": [],
   "source": [
    "def history(df):\n",
    "    \"\"\"This function assigns a binary variable\n",
    "        to each business id:\n",
    "        if the business has been operating for\n",
    "        more than 5 years, it will be assigned\n",
    "        an 1, otherwise 0.\n",
    "    \"\"\"\n",
    "\n",
    "    df_copy = df.copy()\n",
    "    df_copy['history'] = np.zeros(len(df_copy))\n",
    "\n",
    "    for i in df_copy.business_id.unique():\n",
    "        id_hist = len(df_copy[df_copy.business_id == i])\n",
    "\n",
    "        if id_hist >= 5:\n",
    "            history = [0]*5+[1]*(id_hist-5)\n",
    "            df_copy.loc[df_copy.business_id == i, \n",
    "                        'history'] = history\n",
    "\n",
    "    return df_copy"
   ]
  },
  {
   "cell_type": "markdown",
   "metadata": {},
   "source": [
    "## Nearby business - train set"
   ]
  },
  {
   "cell_type": "code",
   "execution_count": 9,
   "metadata": {},
   "outputs": [],
   "source": [
    "geom_train = combined_train[['business_id', 'FOLDERYEAR', 'BusinessType', 'BusinessIndustry', 'Geom']]\n",
    "geom_train = geom_train[geom_train.Geom.notnull()]\n",
    "geom_train['lat'] = geom_train.Geom.apply(lambda p: json.loads(p)['coordinates'][0])\n",
    "geom_train['lon'] = geom_train.Geom.apply(lambda p: json.loads(p)['coordinates'][1])\n",
    "geom_train['geometry'] = [Point(geom_train['lat'].iloc[i], \n",
    "                             geom_train['lon'].iloc[i]) for i in range(len(geom_train['lat']))]\n",
    "geom_train.drop(columns=['Geom', 'lat', 'lon'], inplace=True)\n",
    "\n",
    "geom_train_gpd = gpd.GeoDataFrame(geom_train, crs={'init': 'epsg:4326'} , geometry='geometry')"
   ]
  },
  {
   "cell_type": "code",
   "execution_count": 11,
   "metadata": {},
   "outputs": [],
   "source": [
    "# Main Function\n",
    "def get_nearest_values(row, other_gdf):\n",
    "    \"\"\"Find the nearest point and return count of nearest businesses for selected row.\"\"\"\n",
    "\n",
    "    # get union of the other GeoDataFrame's geometries\n",
    "    other_points = other_gdf[\"geometry\"].unary_union\n",
    "\n",
    "    # find the nearest points\n",
    "    nearest_geoms = nearest_points(row[\"geometry\"], other_points)\n",
    "    \n",
    "    nearest_data = other_gdf.loc[other_gdf[\"geometry\"] == nearest_geoms[1]]\n",
    "\n",
    "    return len(nearest_data)"
   ]
  },
  {
   "cell_type": "code",
   "execution_count": 14,
   "metadata": {},
   "outputs": [],
   "source": [
    "df2 = geom_train_gpd.copy()\n",
    "df2 = df2[df2.FOLDERYEAR == 2000]\n",
    "count_dict_2000 = defaultdict(dict)\n",
    "for y in df2.FOLDERYEAR.unique():\n",
    "    for i in df2.BusinessType.unique():\n",
    "        df = df2[(df2.FOLDERYEAR == y) & (df2.BusinessType == i)]\n",
    "        for index, row in df.iterrows():\n",
    "            count_dict_2000[y][row['business_id']] = get_nearest_values(row, other_gdf=df)"
   ]
  },
  {
   "cell_type": "code",
   "execution_count": 16,
   "metadata": {},
   "outputs": [],
   "source": [
    "df2 = geom_train_gpd.copy()\n",
    "df2 = df2[df2.FOLDERYEAR == 2001]\n",
    "count_dict_2001 = defaultdict(dict)\n",
    "for y in df2.FOLDERYEAR.unique():\n",
    "    for i in df2.BusinessType.unique():\n",
    "        df = df2[(df2.FOLDERYEAR == y) & (df2.BusinessType == i)]\n",
    "        for index, row in df.iterrows():\n",
    "            count_dict_2001[y][row['business_id']] = get_nearest_values(row, other_gdf=df)"
   ]
  },
  {
   "cell_type": "code",
   "execution_count": 17,
   "metadata": {},
   "outputs": [],
   "source": [
    "df2 = geom_train_gpd.copy()\n",
    "df2 = df2[df2.FOLDERYEAR == 2002]\n",
    "count_dict_2002 = defaultdict(dict)\n",
    "for y in df2.FOLDERYEAR.unique():\n",
    "    for i in df2.BusinessType.unique():\n",
    "        df = df2[(df2.FOLDERYEAR == y) & (df2.BusinessType == i)]\n",
    "        for index, row in df.iterrows():\n",
    "            count_dict_2002[y][row['business_id']] = get_nearest_values(row, other_gdf=df)"
   ]
  },
  {
   "cell_type": "code",
   "execution_count": 55,
   "metadata": {},
   "outputs": [],
   "source": [
    "df2 = geom_train_gpd.copy()\n",
    "df2 = df2[df2.FOLDERYEAR == 2003]\n",
    "count_dict_2003 = defaultdict(dict)\n",
    "for y in df2.FOLDERYEAR.unique():\n",
    "    for i in df2.BusinessType.unique():\n",
    "        df = df2[(df2.FOLDERYEAR == y) & (df2.BusinessType == i)]\n",
    "        for index, row in df.iterrows():\n",
    "            count_dict_2003[y][row['business_id']] = get_nearest_values(row, other_gdf=df)"
   ]
  },
  {
   "cell_type": "code",
   "execution_count": 56,
   "metadata": {},
   "outputs": [],
   "source": [
    "df2 = geom_train_gpd.copy()\n",
    "df2 = df2[df2.FOLDERYEAR == 2004]\n",
    "count_dict_2004 = defaultdict(dict)\n",
    "for y in df2.FOLDERYEAR.unique():\n",
    "    for i in df2.BusinessType.unique():\n",
    "        df = df2[(df2.FOLDERYEAR == y) & (df2.BusinessType == i)]\n",
    "        for index, row in df.iterrows():\n",
    "            count_dict_2004[y][row['business_id']] = get_nearest_values(row, other_gdf=df)"
   ]
  },
  {
   "cell_type": "code",
   "execution_count": 57,
   "metadata": {},
   "outputs": [],
   "source": [
    "df2 = geom_train_gpd.copy()\n",
    "df2 = df2[df2.FOLDERYEAR == 2005]\n",
    "count_dict_2005 = defaultdict(dict)\n",
    "for y in df2.FOLDERYEAR.unique():\n",
    "    for i in df2.BusinessType.unique():\n",
    "        df = df2[(df2.FOLDERYEAR == y) & (df2.BusinessType == i)]\n",
    "        for index, row in df.iterrows():\n",
    "            count_dict_2005[y][row['business_id']] = get_nearest_values(row, other_gdf=df)"
   ]
  },
  {
   "cell_type": "code",
   "execution_count": 65,
   "metadata": {},
   "outputs": [],
   "source": [
    "df2 = geom_train_gpd.copy()\n",
    "df2 = df2[df2.FOLDERYEAR == 2006]\n",
    "count_dict_2006 = defaultdict(dict)\n",
    "for y in df2.FOLDERYEAR.unique():\n",
    "    for i in df2.BusinessType.unique():\n",
    "        df = df2[(df2.FOLDERYEAR == y) & (df2.BusinessType == i)]\n",
    "        for index, row in df.iterrows():\n",
    "            count_dict_2006[y][row['business_id']] = get_nearest_values(row, other_gdf=df)"
   ]
  },
  {
   "cell_type": "code",
   "execution_count": 69,
   "metadata": {},
   "outputs": [],
   "source": [
    "df2 = geom_train_gpd.copy()\n",
    "df2 = df2[df2.FOLDERYEAR == 2007]\n",
    "count_dict_2007 = defaultdict(dict)\n",
    "for y in df2.FOLDERYEAR.unique():\n",
    "    for i in df2.BusinessType.unique():\n",
    "        df = df2[(df2.FOLDERYEAR == y) & (df2.BusinessType == i)]\n",
    "        for index, row in df.iterrows():\n",
    "            count_dict_2007[y][row['business_id']] = get_nearest_values(row, other_gdf=df)"
   ]
  },
  {
   "cell_type": "code",
   "execution_count": 70,
   "metadata": {},
   "outputs": [],
   "source": [
    "df2 = geom_train_gpd.copy()\n",
    "df2 = df2[df2.FOLDERYEAR == 2008]\n",
    "count_dict_2008 = defaultdict(dict)\n",
    "for y in df2.FOLDERYEAR.unique():\n",
    "    for i in df2.BusinessType.unique():\n",
    "        df = df2[(df2.FOLDERYEAR == y) & (df2.BusinessType == i)]\n",
    "        for index, row in df.iterrows():\n",
    "            count_dict_2008[y][row['business_id']] = get_nearest_values(row, other_gdf=df)"
   ]
  },
  {
   "cell_type": "code",
   "execution_count": 71,
   "metadata": {},
   "outputs": [],
   "source": [
    "df2 = geom_train_gpd.copy()\n",
    "df2 = df2[df2.FOLDERYEAR == 2009]\n",
    "count_dict_2009 = defaultdict(dict)\n",
    "for y in df2.FOLDERYEAR.unique():\n",
    "    for i in df2.BusinessType.unique():\n",
    "        df = df2[(df2.FOLDERYEAR == y) & (df2.BusinessType == i)]\n",
    "        for index, row in df.iterrows():\n",
    "            count_dict_2009[y][row['business_id']] = get_nearest_values(row, other_gdf=df)"
   ]
  },
  {
   "cell_type": "code",
   "execution_count": 72,
   "metadata": {},
   "outputs": [],
   "source": [
    "df2 = geom_train_gpd.copy()\n",
    "df2 = df2[df2.FOLDERYEAR == 2010]\n",
    "count_dict_2010 = defaultdict(dict)\n",
    "for y in df2.FOLDERYEAR.unique():\n",
    "    for i in df2.BusinessType.unique():\n",
    "        df = df2[(df2.FOLDERYEAR == y) & (df2.BusinessType == i)]\n",
    "        for index, row in df.iterrows():\n",
    "            count_dict_2010[y][row['business_id']] = get_nearest_values(row, other_gdf=df)"
   ]
  },
  {
   "cell_type": "code",
   "execution_count": 73,
   "metadata": {},
   "outputs": [],
   "source": [
    "df2 = geom_train_gpd.copy()\n",
    "df2 = df2[df2.FOLDERYEAR == 2011]\n",
    "count_dict_2011 = defaultdict(dict)\n",
    "for y in df2.FOLDERYEAR.unique():\n",
    "    for i in df2.BusinessType.unique():\n",
    "        df = df2[(df2.FOLDERYEAR == y) & (df2.BusinessType == i)]\n",
    "        for index, row in df.iterrows():\n",
    "            count_dict_2011[y][row['business_id']] = get_nearest_values(row, other_gdf=df)"
   ]
  },
  {
   "cell_type": "code",
   "execution_count": 74,
   "metadata": {},
   "outputs": [],
   "source": [
    "df2 = geom_train_gpd.copy()\n",
    "df2 = df2[df2.FOLDERYEAR == 2012]\n",
    "count_dict_2012 = defaultdict(dict)\n",
    "for y in df2.FOLDERYEAR.unique():\n",
    "    for i in df2.BusinessType.unique():\n",
    "        df = df2[(df2.FOLDERYEAR == y) & (df2.BusinessType == i)]\n",
    "        for index, row in df.iterrows():\n",
    "            count_dict_2012[y][row['business_id']] = get_nearest_values(row, other_gdf=df)"
   ]
  },
  {
   "cell_type": "code",
   "execution_count": 75,
   "metadata": {},
   "outputs": [],
   "source": [
    "df2 = geom_train_gpd.copy()\n",
    "df2 = df2[df2.FOLDERYEAR == 2013]\n",
    "count_dict_2013 = defaultdict(dict)\n",
    "for y in df2.FOLDERYEAR.unique():\n",
    "    for i in df2.BusinessType.unique():\n",
    "        df = df2[(df2.FOLDERYEAR == y) & (df2.BusinessType == i)]\n",
    "        for index, row in df.iterrows():\n",
    "            count_dict_2013[y][row['business_id']] = get_nearest_values(row, other_gdf=df)"
   ]
  },
  {
   "cell_type": "code",
   "execution_count": 76,
   "metadata": {},
   "outputs": [],
   "source": [
    "df2 = geom_train_gpd.copy()\n",
    "df2 = df2[df2.FOLDERYEAR == 2014]\n",
    "count_dict_2014 = defaultdict(dict)\n",
    "for y in df2.FOLDERYEAR.unique():\n",
    "    for i in df2.BusinessType.unique():\n",
    "        df = df2[(df2.FOLDERYEAR == y) & (df2.BusinessType == i)]\n",
    "        for index, row in df.iterrows():\n",
    "            count_dict_2014[y][row['business_id']] = get_nearest_values(row, other_gdf=df)"
   ]
  },
  {
   "cell_type": "code",
   "execution_count": 77,
   "metadata": {},
   "outputs": [],
   "source": [
    "df2 = geom_train_gpd.copy()\n",
    "df2 = df2[df2.FOLDERYEAR == 2015]\n",
    "count_dict_2015 = defaultdict(dict)\n",
    "for y in df2.FOLDERYEAR.unique():\n",
    "    for i in df2.BusinessType.unique():\n",
    "        df = df2[(df2.FOLDERYEAR == y) & (df2.BusinessType == i)]\n",
    "        for index, row in df.iterrows():\n",
    "            count_dict_2015[y][row['business_id']] = get_nearest_values(row, other_gdf=df)"
   ]
  },
  {
   "cell_type": "code",
   "execution_count": 78,
   "metadata": {},
   "outputs": [],
   "source": [
    "df2 = geom_train_gpd.copy()\n",
    "df2 = df2[df2.FOLDERYEAR == 2016]\n",
    "count_dict_2016 = defaultdict(dict)\n",
    "for y in df2.FOLDERYEAR.unique():\n",
    "    for i in df2.BusinessType.unique():\n",
    "        df = df2[(df2.FOLDERYEAR == y) & (df2.BusinessType == i)]\n",
    "        for index, row in df.iterrows():\n",
    "            count_dict_2016[y][row['business_id']] = get_nearest_values(row, other_gdf=df)"
   ]
  },
  {
   "cell_type": "code",
   "execution_count": 83,
   "metadata": {},
   "outputs": [],
   "source": [
    "df2 = geom_train_gpd.copy()\n",
    "df2 = df2[df2.FOLDERYEAR == 2017]\n",
    "count_dict_2017 = defaultdict(dict)\n",
    "for y in df2.FOLDERYEAR.unique():\n",
    "    for i in df2.BusinessType.unique():\n",
    "        df = df2[(df2.FOLDERYEAR == y) & (df2.BusinessType == i)]\n",
    "        for index, row in df.iterrows():\n",
    "            count_dict_2017[y][row['business_id']] = get_nearest_values(row, other_gdf=df)"
   ]
  },
  {
   "cell_type": "code",
   "execution_count": 84,
   "metadata": {},
   "outputs": [],
   "source": [
    "df2 = geom_train_gpd.copy()\n",
    "df2 = df2[df2.FOLDERYEAR == 2018]\n",
    "count_dict_2018 = defaultdict(dict)\n",
    "for y in df2.FOLDERYEAR.unique():\n",
    "    for i in df2.BusinessType.unique():\n",
    "        df = df2[(df2.FOLDERYEAR == y) & (df2.BusinessType == i)]\n",
    "        for index, row in df.iterrows():\n",
    "            count_dict_2018[y][row['business_id']] = get_nearest_values(row, other_gdf=df)"
   ]
  },
  {
   "cell_type": "code",
   "execution_count": 85,
   "metadata": {},
   "outputs": [],
   "source": [
    "df2 = geom_train_gpd.copy()\n",
    "df2 = df2[df2.FOLDERYEAR == 2019]\n",
    "count_dict_2019 = defaultdict(dict)\n",
    "for y in df2.FOLDERYEAR.unique():\n",
    "    for i in df2.BusinessType.unique():\n",
    "        df = df2[(df2.FOLDERYEAR == y) & (df2.BusinessType == i)]\n",
    "        for index, row in df.iterrows():\n",
    "            count_dict_2019[y][row['business_id']] = get_nearest_values(row, other_gdf=df)"
   ]
  },
  {
   "cell_type": "code",
   "execution_count": 86,
   "metadata": {},
   "outputs": [],
   "source": [
    "df2 = geom_train_gpd.copy()\n",
    "df2 = df2[df2.FOLDERYEAR == 2020]\n",
    "count_dict_2020 = defaultdict(dict)\n",
    "for y in df2.FOLDERYEAR.unique():\n",
    "    for i in df2.BusinessType.unique():\n",
    "        df = df2[(df2.FOLDERYEAR == y) & (df2.BusinessType == i)]\n",
    "        for index, row in df.iterrows():\n",
    "            count_dict_2020[y][row['business_id']] = get_nearest_values(row, other_gdf=df)"
   ]
  },
  {
   "cell_type": "code",
   "execution_count": 87,
   "metadata": {},
   "outputs": [],
   "source": [
    "df2 = geom_train_gpd.copy()\n",
    "df2 = df2[df2.FOLDERYEAR == 1999]\n",
    "count_dict_1999 = defaultdict(dict)\n",
    "for y in df2.FOLDERYEAR.unique():\n",
    "    for i in df2.BusinessType.unique():\n",
    "        df = df2[(df2.FOLDERYEAR == y) & (df2.BusinessType == i)]\n",
    "        for index, row in df.iterrows():\n",
    "            count_dict_1999[y][row['business_id']] = get_nearest_values(row, other_gdf=df)"
   ]
  },
  {
   "cell_type": "code",
   "execution_count": 88,
   "metadata": {},
   "outputs": [],
   "source": [
    "df2 = geom_train_gpd.copy()\n",
    "df2 = df2[df2.FOLDERYEAR == 1998]\n",
    "count_dict_1998 = defaultdict(dict)\n",
    "for y in df2.FOLDERYEAR.unique():\n",
    "    for i in df2.BusinessType.unique():\n",
    "        df = df2[(df2.FOLDERYEAR == y) & (df2.BusinessType == i)]\n",
    "        for index, row in df.iterrows():\n",
    "            count_dict_1998[y][row['business_id']] = get_nearest_values(row, other_gdf=df)"
   ]
  },
  {
   "cell_type": "code",
   "execution_count": 89,
   "metadata": {},
   "outputs": [],
   "source": [
    "df2 = geom_train_gpd.copy()\n",
    "df2 = df2[df2.FOLDERYEAR == 1997]\n",
    "count_dict_1997 = defaultdict(dict)\n",
    "for y in df2.FOLDERYEAR.unique():\n",
    "    for i in df2.BusinessType.unique():\n",
    "        df = df2[(df2.FOLDERYEAR == y) & (df2.BusinessType == i)]\n",
    "        for index, row in df.iterrows():\n",
    "            count_dict_1997[y][row['business_id']] = get_nearest_values(row, other_gdf=df)"
   ]
  },
  {
   "cell_type": "code",
   "execution_count": 99,
   "metadata": {},
   "outputs": [],
   "source": [
    "dict_all_years = {**count_dict_1997,\n",
    "                  **count_dict_1998,\n",
    "                  **count_dict_1999,\n",
    "                  **count_dict_2000,\n",
    "                  **count_dict_2001,\n",
    "                  **count_dict_2002,\n",
    "                  **count_dict_2003,\n",
    "                  **count_dict_2004,\n",
    "                  **count_dict_2005,\n",
    "                  **count_dict_2006,\n",
    "                  **count_dict_2007,\n",
    "                  **count_dict_2008,\n",
    "                  **count_dict_2009,\n",
    "                  **count_dict_2010,\n",
    "                  **count_dict_2011,\n",
    "                  **count_dict_2012,\n",
    "                  **count_dict_2013,\n",
    "                  **count_dict_2014,\n",
    "                  **count_dict_2015,\n",
    "                  **count_dict_2016,\n",
    "                  **count_dict_2017,\n",
    "                  **count_dict_2018,\n",
    "                  **count_dict_2019,\n",
    "                  **count_dict_2020}\n"
   ]
  },
  {
   "cell_type": "code",
   "execution_count": 100,
   "metadata": {},
   "outputs": [],
   "source": [
    "dict_all_years = {(outerKey, innerKey): values for outerKey, innerDict in dict_all_years.items()\n",
    "                  for innerKey, values in innerDict.items()}\n",
    "pd.DataFrame(dict_all_years, index=[\n",
    "    'nearest_business_count']).T.reset_index().rename(\n",
    "    columns={'level_0': 'FOLDERYEAR',\n",
    "             'level_1': 'business_id'}).to_csv(\"nearby_business_train.csv\", index=False)\n"
   ]
  },
  {
   "cell_type": "markdown",
   "metadata": {},
   "source": [
    "## Nearby business - validation set"
   ]
  },
  {
   "cell_type": "code",
   "execution_count": 101,
   "metadata": {},
   "outputs": [],
   "source": [
    "geom_valid = combined_validation[['business_id', 'FOLDERYEAR', 'BusinessType', 'BusinessIndustry', 'Geom']]\n",
    "geom_valid = geom_valid[geom_valid.Geom.notnull()]\n",
    "geom_valid['lat'] = geom_valid.Geom.apply(lambda p: json.loads(p)['coordinates'][0])\n",
    "geom_valid['lon'] = geom_valid.Geom.apply(lambda p: json.loads(p)['coordinates'][1])\n",
    "geom_valid['geometry'] = [Point(geom_valid['lat'].iloc[i], \n",
    "                             geom_valid['lon'].iloc[i]) for i in range(len(geom_valid['lat']))]\n",
    "geom_valid.drop(columns=['Geom', 'lat', 'lon'], inplace=True)\n",
    "\n",
    "geom_valid_gpd = gpd.GeoDataFrame(geom_valid, crs={'init': 'epsg:4326'} , geometry='geometry')"
   ]
  },
  {
   "cell_type": "code",
   "execution_count": 102,
   "metadata": {},
   "outputs": [],
   "source": [
    "count_dict_valid = defaultdict(dict)\n",
    "for y in geom_valid_gpd.FOLDERYEAR.unique():\n",
    "    for i in geom_valid_gpd.BusinessType.unique():\n",
    "        df = geom_valid_gpd[(geom_valid_gpd.FOLDERYEAR == y) & (geom_valid_gpd.BusinessType == i)]\n",
    "        for index, row in df.iterrows():\n",
    "            count_dict_valid[y][row['business_id']] = get_nearest_values(row, other_gdf=df)"
   ]
  },
  {
   "cell_type": "code",
   "execution_count": 104,
   "metadata": {},
   "outputs": [],
   "source": [
    "count_dict_valid = {(outerKey, innerKey): values for outerKey, innerDict in count_dict_valid.items()\n",
    "                  for innerKey, values in innerDict.items()}\n",
    "pd.DataFrame(count_dict_valid, index=[\n",
    "    'nearest_business_count']).T.reset_index().rename(\n",
    "    columns={'level_0': 'FOLDERYEAR',\n",
    "             'level_1': 'business_id'}).to_csv(\"nearby_business_valid.csv\", index=False)"
   ]
  },
  {
   "cell_type": "code",
   "execution_count": null,
   "metadata": {},
   "outputs": [],
   "source": []
  }
 ],
 "metadata": {
  "kernelspec": {
   "display_name": "Python 3",
   "language": "python",
   "name": "python3"
  },
  "language_info": {
   "codemirror_mode": {
    "name": "ipython",
    "version": 3
   },
   "file_extension": ".py",
   "mimetype": "text/x-python",
   "name": "python",
   "nbconvert_exporter": "python",
   "pygments_lexer": "ipython3",
   "version": "3.7.6"
  }
 },
 "nbformat": 4,
 "nbformat_minor": 4
}
