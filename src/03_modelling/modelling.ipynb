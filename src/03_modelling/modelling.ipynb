{
 "cells": [
  {
   "cell_type": "markdown",
   "metadata": {
    "colab_type": "text",
    "id": "iXzs3ziMsCHN"
   },
   "source": [
    "# Model Pipeline\n",
    "\n",
    "Author: Jasmine Qin  \n",
    "Date: 2020-05-27"
   ]
  },
  {
   "cell_type": "code",
   "execution_count": 1,
   "metadata": {
    "colab": {
     "base_uri": "https://localhost:8080/",
     "height": 71
    },
    "colab_type": "code",
    "id": "ZMI6M8q7sCHO",
    "outputId": "052c6c83-7322-4f89-9668-2f98111dab27"
   },
   "outputs": [
    {
     "name": "stderr",
     "output_type": "stream",
     "text": [
      "/anaconda3/lib/python3.7/site-packages/lightgbm/__init__.py:48: UserWarning: Starting from version 2.2.1, the library file in distribution wheels for macOS is built by the Apple Clang (Xcode_8.3.3) compiler.\n",
      "This means that in case of installing LightGBM from PyPI via the ``pip install lightgbm`` command, you don't need to install the gcc compiler anymore.\n",
      "Instead of that, you need to install the OpenMP library, which is required for running LightGBM on the system with the Apple Clang compiler.\n",
      "You can install the OpenMP library by the following command: ``brew install libomp``.\n",
      "  \"You can install the OpenMP library by the following command: ``brew install libomp``.\", UserWarning)\n"
     ]
    }
   ],
   "source": [
    "# Basics\n",
    "import pandas as pd\n",
    "import numpy as np\n",
    "import seaborn as sns\n",
    "import time\n",
    "import re\n",
    "from collections import defaultdict, Counter\n",
    "import matplotlib.pyplot as plt\n",
    "\n",
    "# Preprocessing\n",
    "from sklearn.preprocessing import StandardScaler, OneHotEncoder, PolynomialFeatures\n",
    "from sklearn.impute import SimpleImputer\n",
    "from sklearn.model_selection import train_test_split\n",
    "from sklearn.feature_selection import RFE, SelectFromModel\n",
    "\n",
    "# Models\n",
    "from sklearn.linear_model import LogisticRegression\n",
    "from sklearn.svm import SVC\n",
    "from sklearn.tree import DecisionTreeClassifier\n",
    "from sklearn.neighbors import KNeighborsClassifier\n",
    "from xgboost import XGBClassifier\n",
    "from lightgbm import LGBMClassifier\n",
    "from sklearn.ensemble import RandomForestClassifier\n",
    "from sklearn.naive_bayes import GaussianNB\n",
    "from sklearn.ensemble import VotingClassifier\n",
    "\n",
    "# Pipeline\n",
    "from sklearn.pipeline import Pipeline, FeatureUnion\n",
    "from sklearn.compose import ColumnTransformer, make_column_selector\n",
    "from sklearn.model_selection import GridSearchCV, RandomizedSearchCV\n",
    "\n",
    "# Evaluation\n",
    "from sklearn.metrics import plot_confusion_matrix, f1_score, recall_score, precision_score\n",
    "from sklearn.metrics import classification_report, confusion_matrix, ConfusionMatrixDisplay\n",
    "from sklearn.metrics import roc_curve, roc_auc_score, r2_score\n",
    "\n",
    "# Model Explanation\n",
    "import eli5\n",
    "#import shap"
   ]
  },
  {
   "cell_type": "code",
   "execution_count": 110,
   "metadata": {},
   "outputs": [
    {
     "name": "stderr",
     "output_type": "stream",
     "text": [
      "/Users/coco/.local/lib/python3.7/site-packages/sklearn/utils/deprecation.py:143: FutureWarning: The sklearn.metrics.scorer module is  deprecated in version 0.22 and will be removed in version 0.24. The corresponding classes / functions should instead be imported from sklearn.metrics. Anything that cannot be imported from sklearn.metrics is now part of the private API.\n",
      "  warnings.warn(message, FutureWarning)\n",
      "/Users/coco/.local/lib/python3.7/site-packages/sklearn/utils/deprecation.py:143: FutureWarning: The sklearn.feature_selection.base module is  deprecated in version 0.22 and will be removed in version 0.24. The corresponding classes / functions should instead be imported from sklearn.feature_selection. Anything that cannot be imported from sklearn.feature_selection is now part of the private API.\n",
      "  warnings.warn(message, FutureWarning)\n",
      "Using TensorFlow backend.\n"
     ]
    }
   ],
   "source": [
    "import eli5"
   ]
  },
  {
   "cell_type": "code",
   "execution_count": 0,
   "metadata": {
    "colab": {},
    "colab_type": "code",
    "id": "JqUI3bnhsCHU"
   },
   "outputs": [],
   "source": [
    "# Options\n",
    "pd.set_option('display.max_columns', 100)\n",
    "pd.set_option('display.max_rows', 100)"
   ]
  },
  {
   "cell_type": "markdown",
   "metadata": {
    "colab_type": "text",
    "id": "dfE2jMf1sCHY"
   },
   "source": [
    "## Table of Contents\n",
    "- [1. Load Data](#ld)\n",
    "- [2. Summary](#s)\n",
    "- [3. Feature Engineering](#fe)\n",
    "- [4. Split Data](#sd)\n",
    "- [5. Preprocessing](#pp)\n",
    "- [6. Baseline Model](#bm)\n",
    "- [7. Feature Importance and Selection](#fi)\n",
    "- [8. Other Models](#om)\n",
    "- [9. Hyperparameter Tuning](#ht)\n",
    "- [10. Other Tests](#ot)"
   ]
  },
  {
   "cell_type": "markdown",
   "metadata": {
    "colab_type": "text",
    "id": "4Pfrb7B_sCHY"
   },
   "source": [
    "## 1. Load Data <a name=\"ld\"></a>\n",
    "\n",
    "- Run all scripts 01 to 04 to have the combined and cleaned data\n",
    "- Load `combined_train.csv` and `combined_validate.csv`"
   ]
  },
  {
   "cell_type": "code",
   "execution_count": 185,
   "metadata": {
    "colab": {},
    "colab_type": "code",
    "id": "bFFi3WTlsCHZ"
   },
   "outputs": [],
   "source": [
    "train = pd.read_csv('../../data/processed/05_feat_eng_train.csv',\n",
    "        low_memory=False)\n",
    "validation = pd.read_csv('../../data/processed/05_feat_eng_validate.csv',\n",
    "                         low_memory=False)"
   ]
  },
  {
   "cell_type": "code",
   "execution_count": 186,
   "metadata": {},
   "outputs": [
    {
     "data": {
      "text/html": [
       "<div>\n",
       "<style scoped>\n",
       "    .dataframe tbody tr th:only-of-type {\n",
       "        vertical-align: middle;\n",
       "    }\n",
       "\n",
       "    .dataframe tbody tr th {\n",
       "        vertical-align: top;\n",
       "    }\n",
       "\n",
       "    .dataframe thead th {\n",
       "        text-align: right;\n",
       "    }\n",
       "</style>\n",
       "<table border=\"1\" class=\"dataframe\">\n",
       "  <thead>\n",
       "    <tr style=\"text-align: right;\">\n",
       "      <th></th>\n",
       "      <th>business_id</th>\n",
       "      <th>FOLDERYEAR</th>\n",
       "      <th>BusinessName</th>\n",
       "      <th>BusinessTradeName</th>\n",
       "      <th>Status</th>\n",
       "      <th>BusinessType</th>\n",
       "      <th>BusinessSubType</th>\n",
       "      <th>LocalArea</th>\n",
       "      <th>NumberofEmployees</th>\n",
       "      <th>FeePaid</th>\n",
       "      <th>...</th>\n",
       "      <th>Worked outside Canada</th>\n",
       "      <th>No fixed workplace</th>\n",
       "      <th>education below postsecondary</th>\n",
       "      <th>education above postsecondary</th>\n",
       "      <th>Non-immigrants</th>\n",
       "      <th>Non-permanent residents</th>\n",
       "      <th>Immigrants</th>\n",
       "      <th>history</th>\n",
       "      <th>chain</th>\n",
       "      <th>nearest_business_count</th>\n",
       "    </tr>\n",
       "  </thead>\n",
       "  <tbody>\n",
       "    <tr>\n",
       "      <th>0</th>\n",
       "      <td>1</td>\n",
       "      <td>2018</td>\n",
       "      <td>!Exotics BySIYTHE Corporation</td>\n",
       "      <td>NaN</td>\n",
       "      <td>Issued</td>\n",
       "      <td>Office</td>\n",
       "      <td>Design Company</td>\n",
       "      <td>Downtown</td>\n",
       "      <td>1.0</td>\n",
       "      <td>189.0</td>\n",
       "      <td>...</td>\n",
       "      <td>0.014698</td>\n",
       "      <td>0.086070</td>\n",
       "      <td>0.232857</td>\n",
       "      <td>0.767143</td>\n",
       "      <td>0.504460</td>\n",
       "      <td>0.094724</td>\n",
       "      <td>0.400901</td>\n",
       "      <td>0.0</td>\n",
       "      <td>1.0</td>\n",
       "      <td>23.0</td>\n",
       "    </tr>\n",
       "    <tr>\n",
       "      <th>1</th>\n",
       "      <td>2</td>\n",
       "      <td>2004</td>\n",
       "      <td>.243 Racing Inc</td>\n",
       "      <td>NaN</td>\n",
       "      <td>Issued</td>\n",
       "      <td>Wholesale  Dealer</td>\n",
       "      <td>NaN</td>\n",
       "      <td>Grandview-Woodland</td>\n",
       "      <td>NaN</td>\n",
       "      <td>100.0</td>\n",
       "      <td>...</td>\n",
       "      <td>0.004929</td>\n",
       "      <td>0.150647</td>\n",
       "      <td>0.460827</td>\n",
       "      <td>0.539173</td>\n",
       "      <td>0.658794</td>\n",
       "      <td>0.019860</td>\n",
       "      <td>0.321346</td>\n",
       "      <td>0.0</td>\n",
       "      <td>1.0</td>\n",
       "      <td>1.0</td>\n",
       "    </tr>\n",
       "    <tr>\n",
       "      <th>2</th>\n",
       "      <td>2</td>\n",
       "      <td>2005</td>\n",
       "      <td>.243 Racing Inc</td>\n",
       "      <td>NaN</td>\n",
       "      <td>Issued</td>\n",
       "      <td>Wholesale  Dealer</td>\n",
       "      <td>NaN</td>\n",
       "      <td>Grandview-Woodland</td>\n",
       "      <td>NaN</td>\n",
       "      <td>103.0</td>\n",
       "      <td>...</td>\n",
       "      <td>0.004929</td>\n",
       "      <td>0.150647</td>\n",
       "      <td>0.460827</td>\n",
       "      <td>0.539173</td>\n",
       "      <td>0.658794</td>\n",
       "      <td>0.019860</td>\n",
       "      <td>0.321346</td>\n",
       "      <td>0.0</td>\n",
       "      <td>1.0</td>\n",
       "      <td>1.0</td>\n",
       "    </tr>\n",
       "    <tr>\n",
       "      <th>3</th>\n",
       "      <td>2</td>\n",
       "      <td>2006</td>\n",
       "      <td>.243 Racing Inc</td>\n",
       "      <td>NaN</td>\n",
       "      <td>Issued</td>\n",
       "      <td>Wholesale  Dealer</td>\n",
       "      <td>NaN</td>\n",
       "      <td>Grandview-Woodland</td>\n",
       "      <td>NaN</td>\n",
       "      <td>106.0</td>\n",
       "      <td>...</td>\n",
       "      <td>0.004929</td>\n",
       "      <td>0.150647</td>\n",
       "      <td>0.460827</td>\n",
       "      <td>0.539173</td>\n",
       "      <td>0.658794</td>\n",
       "      <td>0.019860</td>\n",
       "      <td>0.321346</td>\n",
       "      <td>0.0</td>\n",
       "      <td>1.0</td>\n",
       "      <td>1.0</td>\n",
       "    </tr>\n",
       "    <tr>\n",
       "      <th>4</th>\n",
       "      <td>6</td>\n",
       "      <td>1997</td>\n",
       "      <td>\"return To Sender\" Cards &amp; Novelties Inc</td>\n",
       "      <td>NaN</td>\n",
       "      <td>Issued</td>\n",
       "      <td>Retail Dealer</td>\n",
       "      <td>NaN</td>\n",
       "      <td>West End</td>\n",
       "      <td>NaN</td>\n",
       "      <td>85.0</td>\n",
       "      <td>...</td>\n",
       "      <td>0.008735</td>\n",
       "      <td>0.080137</td>\n",
       "      <td>0.940355</td>\n",
       "      <td>0.059645</td>\n",
       "      <td>0.590074</td>\n",
       "      <td>0.078621</td>\n",
       "      <td>0.331305</td>\n",
       "      <td>0.0</td>\n",
       "      <td>1.0</td>\n",
       "      <td>NaN</td>\n",
       "    </tr>\n",
       "    <tr>\n",
       "      <th>...</th>\n",
       "      <td>...</td>\n",
       "      <td>...</td>\n",
       "      <td>...</td>\n",
       "      <td>...</td>\n",
       "      <td>...</td>\n",
       "      <td>...</td>\n",
       "      <td>...</td>\n",
       "      <td>...</td>\n",
       "      <td>...</td>\n",
       "      <td>...</td>\n",
       "      <td>...</td>\n",
       "      <td>...</td>\n",
       "      <td>...</td>\n",
       "      <td>...</td>\n",
       "      <td>...</td>\n",
       "      <td>...</td>\n",
       "      <td>...</td>\n",
       "      <td>...</td>\n",
       "      <td>...</td>\n",
       "      <td>...</td>\n",
       "      <td>...</td>\n",
       "    </tr>\n",
       "    <tr>\n",
       "      <th>448006</th>\n",
       "      <td>258426</td>\n",
       "      <td>1998</td>\n",
       "      <td>NaN</td>\n",
       "      <td>Dhanda Lawn Service</td>\n",
       "      <td>Issued</td>\n",
       "      <td>Landscape Gardener</td>\n",
       "      <td>NaN</td>\n",
       "      <td>Sunset</td>\n",
       "      <td>NaN</td>\n",
       "      <td>88.0</td>\n",
       "      <td>...</td>\n",
       "      <td>0.001359</td>\n",
       "      <td>0.122324</td>\n",
       "      <td>0.596872</td>\n",
       "      <td>0.403128</td>\n",
       "      <td>0.389991</td>\n",
       "      <td>0.011422</td>\n",
       "      <td>0.598587</td>\n",
       "      <td>0.0</td>\n",
       "      <td>NaN</td>\n",
       "      <td>NaN</td>\n",
       "    </tr>\n",
       "    <tr>\n",
       "      <th>448007</th>\n",
       "      <td>258427</td>\n",
       "      <td>1998</td>\n",
       "      <td>NaN</td>\n",
       "      <td>Nirmal Singh Dhanda (Nirmal Dhanda)</td>\n",
       "      <td>Issued</td>\n",
       "      <td>Landscape Gardener</td>\n",
       "      <td>NaN</td>\n",
       "      <td>Sunset</td>\n",
       "      <td>NaN</td>\n",
       "      <td>88.0</td>\n",
       "      <td>...</td>\n",
       "      <td>0.001359</td>\n",
       "      <td>0.122324</td>\n",
       "      <td>0.596872</td>\n",
       "      <td>0.403128</td>\n",
       "      <td>0.389991</td>\n",
       "      <td>0.011422</td>\n",
       "      <td>0.598587</td>\n",
       "      <td>0.0</td>\n",
       "      <td>NaN</td>\n",
       "      <td>NaN</td>\n",
       "    </tr>\n",
       "    <tr>\n",
       "      <th>448008</th>\n",
       "      <td>258429</td>\n",
       "      <td>2000</td>\n",
       "      <td>NaN</td>\n",
       "      <td>NaN</td>\n",
       "      <td>Issued</td>\n",
       "      <td>Vending Machines</td>\n",
       "      <td>NaN</td>\n",
       "      <td>Sunset</td>\n",
       "      <td>NaN</td>\n",
       "      <td>22.0</td>\n",
       "      <td>...</td>\n",
       "      <td>0.001359</td>\n",
       "      <td>0.122324</td>\n",
       "      <td>0.596872</td>\n",
       "      <td>0.403128</td>\n",
       "      <td>0.389991</td>\n",
       "      <td>0.011422</td>\n",
       "      <td>0.598587</td>\n",
       "      <td>0.0</td>\n",
       "      <td>NaN</td>\n",
       "      <td>NaN</td>\n",
       "    </tr>\n",
       "    <tr>\n",
       "      <th>448009</th>\n",
       "      <td>258453</td>\n",
       "      <td>1997</td>\n",
       "      <td>NaN</td>\n",
       "      <td>NaN</td>\n",
       "      <td>Issued</td>\n",
       "      <td>Esthetician *Historic*</td>\n",
       "      <td>NaN</td>\n",
       "      <td>West Point Grey</td>\n",
       "      <td>NaN</td>\n",
       "      <td>85.0</td>\n",
       "      <td>...</td>\n",
       "      <td>0.009731</td>\n",
       "      <td>0.066617</td>\n",
       "      <td>0.994953</td>\n",
       "      <td>0.005047</td>\n",
       "      <td>0.674162</td>\n",
       "      <td>0.027219</td>\n",
       "      <td>0.299408</td>\n",
       "      <td>0.0</td>\n",
       "      <td>NaN</td>\n",
       "      <td>NaN</td>\n",
       "    </tr>\n",
       "    <tr>\n",
       "      <th>448010</th>\n",
       "      <td>258453</td>\n",
       "      <td>1998</td>\n",
       "      <td>NaN</td>\n",
       "      <td>NaN</td>\n",
       "      <td>Issued</td>\n",
       "      <td>Esthetician *Historic*</td>\n",
       "      <td>NaN</td>\n",
       "      <td>West Point Grey</td>\n",
       "      <td>NaN</td>\n",
       "      <td>93.0</td>\n",
       "      <td>...</td>\n",
       "      <td>0.009731</td>\n",
       "      <td>0.066617</td>\n",
       "      <td>0.994953</td>\n",
       "      <td>0.005047</td>\n",
       "      <td>0.674162</td>\n",
       "      <td>0.027219</td>\n",
       "      <td>0.299408</td>\n",
       "      <td>0.0</td>\n",
       "      <td>NaN</td>\n",
       "      <td>NaN</td>\n",
       "    </tr>\n",
       "  </tbody>\n",
       "</table>\n",
       "<p>448011 rows × 114 columns</p>\n",
       "</div>"
      ],
      "text/plain": [
       "        business_id  FOLDERYEAR                              BusinessName  \\\n",
       "0                 1        2018             !Exotics BySIYTHE Corporation   \n",
       "1                 2        2004                           .243 Racing Inc   \n",
       "2                 2        2005                           .243 Racing Inc   \n",
       "3                 2        2006                           .243 Racing Inc   \n",
       "4                 6        1997  \"return To Sender\" Cards & Novelties Inc   \n",
       "...             ...         ...                                       ...   \n",
       "448006       258426        1998                                       NaN   \n",
       "448007       258427        1998                                       NaN   \n",
       "448008       258429        2000                                       NaN   \n",
       "448009       258453        1997                                       NaN   \n",
       "448010       258453        1998                                       NaN   \n",
       "\n",
       "                          BusinessTradeName  Status            BusinessType  \\\n",
       "0                                       NaN  Issued                  Office   \n",
       "1                                       NaN  Issued       Wholesale  Dealer   \n",
       "2                                       NaN  Issued       Wholesale  Dealer   \n",
       "3                                       NaN  Issued       Wholesale  Dealer   \n",
       "4                                       NaN  Issued           Retail Dealer   \n",
       "...                                     ...     ...                     ...   \n",
       "448006                  Dhanda Lawn Service  Issued      Landscape Gardener   \n",
       "448007  Nirmal Singh Dhanda (Nirmal Dhanda)  Issued      Landscape Gardener   \n",
       "448008                                  NaN  Issued        Vending Machines   \n",
       "448009                                  NaN  Issued  Esthetician *Historic*   \n",
       "448010                                  NaN  Issued  Esthetician *Historic*   \n",
       "\n",
       "       BusinessSubType           LocalArea  NumberofEmployees  FeePaid  ...  \\\n",
       "0       Design Company            Downtown                1.0    189.0  ...   \n",
       "1                  NaN  Grandview-Woodland                NaN    100.0  ...   \n",
       "2                  NaN  Grandview-Woodland                NaN    103.0  ...   \n",
       "3                  NaN  Grandview-Woodland                NaN    106.0  ...   \n",
       "4                  NaN            West End                NaN     85.0  ...   \n",
       "...                ...                 ...                ...      ...  ...   \n",
       "448006             NaN              Sunset                NaN     88.0  ...   \n",
       "448007             NaN              Sunset                NaN     88.0  ...   \n",
       "448008             NaN              Sunset                NaN     22.0  ...   \n",
       "448009             NaN     West Point Grey                NaN     85.0  ...   \n",
       "448010             NaN     West Point Grey                NaN     93.0  ...   \n",
       "\n",
       "       Worked outside Canada No fixed workplace  \\\n",
       "0                   0.014698           0.086070   \n",
       "1                   0.004929           0.150647   \n",
       "2                   0.004929           0.150647   \n",
       "3                   0.004929           0.150647   \n",
       "4                   0.008735           0.080137   \n",
       "...                      ...                ...   \n",
       "448006              0.001359           0.122324   \n",
       "448007              0.001359           0.122324   \n",
       "448008              0.001359           0.122324   \n",
       "448009              0.009731           0.066617   \n",
       "448010              0.009731           0.066617   \n",
       "\n",
       "        education below postsecondary education above postsecondary  \\\n",
       "0                            0.232857                      0.767143   \n",
       "1                            0.460827                      0.539173   \n",
       "2                            0.460827                      0.539173   \n",
       "3                            0.460827                      0.539173   \n",
       "4                            0.940355                      0.059645   \n",
       "...                               ...                           ...   \n",
       "448006                       0.596872                      0.403128   \n",
       "448007                       0.596872                      0.403128   \n",
       "448008                       0.596872                      0.403128   \n",
       "448009                       0.994953                      0.005047   \n",
       "448010                       0.994953                      0.005047   \n",
       "\n",
       "        Non-immigrants  Non-permanent residents  Immigrants  history  chain  \\\n",
       "0             0.504460                 0.094724    0.400901      0.0    1.0   \n",
       "1             0.658794                 0.019860    0.321346      0.0    1.0   \n",
       "2             0.658794                 0.019860    0.321346      0.0    1.0   \n",
       "3             0.658794                 0.019860    0.321346      0.0    1.0   \n",
       "4             0.590074                 0.078621    0.331305      0.0    1.0   \n",
       "...                ...                      ...         ...      ...    ...   \n",
       "448006        0.389991                 0.011422    0.598587      0.0    NaN   \n",
       "448007        0.389991                 0.011422    0.598587      0.0    NaN   \n",
       "448008        0.389991                 0.011422    0.598587      0.0    NaN   \n",
       "448009        0.674162                 0.027219    0.299408      0.0    NaN   \n",
       "448010        0.674162                 0.027219    0.299408      0.0    NaN   \n",
       "\n",
       "        nearest_business_count  \n",
       "0                         23.0  \n",
       "1                          1.0  \n",
       "2                          1.0  \n",
       "3                          1.0  \n",
       "4                          NaN  \n",
       "...                        ...  \n",
       "448006                     NaN  \n",
       "448007                     NaN  \n",
       "448008                     NaN  \n",
       "448009                     NaN  \n",
       "448010                     NaN  \n",
       "\n",
       "[448011 rows x 114 columns]"
      ]
     },
     "execution_count": 186,
     "metadata": {},
     "output_type": "execute_result"
    }
   ],
   "source": [
    "train"
   ]
  },
  {
   "cell_type": "code",
   "execution_count": 189,
   "metadata": {},
   "outputs": [],
   "source": [
    "df_list = [train, validation]\n",
    "for df in df_list:\n",
    "    df.drop(columns=['business_id','BusinessName','BusinessTradeName','Status','BusinessSubType','Geom','NextYearStatus','BusinessIndustry'],inplace=True)\n"
   ]
  },
  {
   "cell_type": "code",
   "execution_count": 190,
   "metadata": {},
   "outputs": [],
   "source": [
    "X_train, y_train = feature_engineering(train)\n",
    "X_valid, y_valid = feature_engineering(validation)"
   ]
  },
  {
   "cell_type": "code",
   "execution_count": 192,
   "metadata": {},
   "outputs": [],
   "source": [
    "def evaluate_model(model, X_train=train, X_test=validation, y_train=y_train, y_test=y_valid, verbose=True):\n",
    "        \"\"\"\n",
    "        This function prints train and test accuracies,\n",
    "        classification report, and confusion matrix.\n",
    "        \"\"\"\n",
    "        model.fit(X_train, y_train)\n",
    "        train_acc = model.score(X_train, y_train)\n",
    "        test_acc = model.score(X_test, y_test)\n",
    "        \n",
    "        if verbose:\n",
    "            print(\"Train Accuracy:\", train_acc)\n",
    "            print(\"Validation Accuracy\", test_acc, \"\\n\")\n",
    "\n",
    "            print(classification_report(y_test, model.predict(X_test)))\n",
    "            print(plot_confusion_matrix(model, X_test, y_test,\n",
    "                                        display_labels=[0, 1],\n",
    "                                        cmap=plt.cm.Blues,\n",
    "                                        values_format='d'))\n",
    "        else:\n",
    "            report = {}\n",
    "            f1 = f1_score(y_test, model.predict(X_test))\n",
    "            recall = recall_score(y_test, model.predict(X_test))\n",
    "            precision = precision_score(y_test, model.predict(X_test))\n",
    "            report['renewed'] = [f1, recall, precision]\n",
    "            \n",
    "            f1 = f1_score(y_test, model.predict(X_test), pos_label=0)\n",
    "            recall = recall_score(y_test, model.predict(X_test), pos_label=0)\n",
    "            precision = precision_score(y_test, model.predict(X_test), pos_label=0)\n",
    "            report['not_renewed'] = [f1, recall, precision]\n",
    "            \n",
    "            report['accuracy'] = [train_acc, test_acc]\n",
    "            \n",
    "            return report"
   ]
  },
  {
   "cell_type": "code",
   "execution_count": null,
   "metadata": {},
   "outputs": [],
   "source": [
    "lr = LogisticRegression(solver='saga', class_weight='balanced')\n",
    "lr_pip = Pipeline(steps=[('preprocessor', preprocessor),\n",
    "                        ('classifier', lr)])\n",
    "lr_performance = evaluate_model(lr_pip, verbose=False)"
   ]
  },
  {
   "cell_type": "code",
   "execution_count": 5,
   "metadata": {
    "colab": {
     "base_uri": "https://localhost:8080/",
     "height": 34
    },
    "colab_type": "code",
    "id": "Lui15Lx6UEaa",
    "outputId": "14ae1137-d02a-4522-a901-185714c3d71c"
   },
   "outputs": [
    {
     "data": {
      "text/plain": [
       "(693348, 28)"
      ]
     },
     "execution_count": 5,
     "metadata": {
      "tags": []
     },
     "output_type": "execute_result"
    }
   ],
   "source": [
    "#the survisal.csv is the output of 03_clean_licence.py using combined_licence as input \n",
    "#licence = pd.read_csv('../../data/processed/survisal.csv',\n",
    "#                    low_memory=False)\n",
    "licence = pd.read_csv('survisal.csv',\n",
    "                    low_memory=False)\n",
    "licence.shape"
   ]
  },
  {
   "cell_type": "code",
   "execution_count": 0,
   "metadata": {
    "colab": {},
    "colab_type": "code",
    "id": "4bHqPFbIUEad"
   },
   "outputs": [],
   "source": [
    "# get the bussiness in 1997 and 2020\n",
    "business_97 = list(licence[licence['FOLDERYEAR']==1997]['BusinessName'])\n",
    "business_20 = list(licence[licence['FOLDERYEAR']==2020]['BusinessName'])"
   ]
  },
  {
   "cell_type": "code",
   "execution_count": 0,
   "metadata": {
    "colab": {},
    "colab_type": "code",
    "id": "TKELbzTBUEag"
   },
   "outputs": [],
   "source": [
    "#only keeping those that started and failed between 1997 and 2020\n",
    "licence = licence[~licence['BusinessName'].isin(business_97)]\n",
    "licence = licence[~licence['BusinessName'].isin(business_20)]"
   ]
  },
  {
   "cell_type": "code",
   "execution_count": 0,
   "metadata": {
    "colab": {},
    "colab_type": "code",
    "id": "q7i7QN9vUEan"
   },
   "outputs": [],
   "source": [
    "#get the number of years each business exists\n",
    "survived_length = licence.groupby(['BusinessName', 'BusinessTradeName','BusinessType','PostalCode']).count()\n",
    "#a business can apply for mutiple licence within one year"
   ]
  },
  {
   "cell_type": "code",
   "execution_count": 0,
   "metadata": {
    "colab": {},
    "colab_type": "code",
    "id": "1J5JlR5xUEaq"
   },
   "outputs": [],
   "source": [
    "plot_df = survived_length.groupby('FOLDERYEAR').count()"
   ]
  },
  {
   "cell_type": "code",
   "execution_count": 0,
   "metadata": {
    "colab": {},
    "colab_type": "code",
    "id": "Bbq1yIvqsCHd",
    "outputId": "ff5170a6-9a94-491e-8f2c-e0bf0ae96cd6"
   },
   "outputs": [
    {
     "data": {
      "text/plain": [
       "RendererRegistry.enable('notebook')"
      ]
     },
     "execution_count": 28,
     "metadata": {
      "tags": []
     },
     "output_type": "execute_result"
    }
   ],
   "source": [
    "import altair as alt\n",
    "alt.data_transformers.disable_max_rows()\n",
    "alt.renderers.enable('notebook')"
   ]
  },
  {
   "cell_type": "code",
   "execution_count": 0,
   "metadata": {
    "colab": {},
    "colab_type": "code",
    "id": "QJ15EWYPUEav"
   },
   "outputs": [],
   "source": [
    "plot_df['dA'] = (plot_df['business_id'] - plot_df['business_id'].shift(-1))/plot_df['business_id']"
   ]
  },
  {
   "cell_type": "code",
   "execution_count": 0,
   "metadata": {
    "colab": {},
    "colab_type": "code",
    "id": "P6abhnM8UEa0",
    "outputId": "8b8b5ab8-6811-4d16-80bf-5dd0b5583d78"
   },
   "outputs": [
    {
     "data": {
      "application/javascript": [
       "const spec = {\"config\": {\"view\": {\"width\": 400, \"height\": 300}, \"mark\": {\"tooltip\": null}}, \"data\": {\"name\": \"data-dd19524c656faa34dade726910ff6e9a\"}, \"mark\": \"line\", \"encoding\": {\"x\": {\"type\": \"quantitative\", \"field\": \"FOLDERYEAR\", \"title\": \"Survived years\"}, \"y\": {\"type\": \"quantitative\", \"field\": \"business_id\", \"title\": \"Number of businesses\"}}, \"$schema\": \"https://vega.github.io/schema/vega-lite/v3.4.0.json\", \"datasets\": {\"data-dd19524c656faa34dade726910ff6e9a\": [{\"FOLDERYEAR\": 1, \"business_id\": 14099, \"LicenceRSN\": 14099, \"LicenceNumber\": 14099, \"LicenceRevisionNumber\": 14099, \"Status\": 14099, \"IssuedDate\": 14099, \"ExpiredDate\": 14099, \"BusinessSubType\": 14099, \"Unit\": 14099, \"UnitType\": 14099, \"House\": 14099, \"Street\": 14099, \"City\": 14099, \"Province\": 14099, \"Country\": 14099, \"LocalArea\": 14099, \"NumberofEmployees\": 14099, \"FeePaid\": 14099, \"ExtractDate\": 14099, \"Geom\": 14099, \"NextYearStatus\": 14099, \"label\": 14099, \"BusinessIndustry\": 14099}, {\"FOLDERYEAR\": 2, \"business_id\": 9686, \"LicenceRSN\": 9686, \"LicenceNumber\": 9686, \"LicenceRevisionNumber\": 9686, \"Status\": 9686, \"IssuedDate\": 9686, \"ExpiredDate\": 9686, \"BusinessSubType\": 9686, \"Unit\": 9686, \"UnitType\": 9686, \"House\": 9686, \"Street\": 9686, \"City\": 9686, \"Province\": 9686, \"Country\": 9686, \"LocalArea\": 9686, \"NumberofEmployees\": 9686, \"FeePaid\": 9686, \"ExtractDate\": 9686, \"Geom\": 9686, \"NextYearStatus\": 9686, \"label\": 9686, \"BusinessIndustry\": 9686}, {\"FOLDERYEAR\": 3, \"business_id\": 6803, \"LicenceRSN\": 6803, \"LicenceNumber\": 6803, \"LicenceRevisionNumber\": 6803, \"Status\": 6803, \"IssuedDate\": 6803, \"ExpiredDate\": 6803, \"BusinessSubType\": 6803, \"Unit\": 6803, \"UnitType\": 6803, \"House\": 6803, \"Street\": 6803, \"City\": 6803, \"Province\": 6803, \"Country\": 6803, \"LocalArea\": 6803, \"NumberofEmployees\": 6803, \"FeePaid\": 6803, \"ExtractDate\": 6803, \"Geom\": 6803, \"NextYearStatus\": 6803, \"label\": 6803, \"BusinessIndustry\": 6803}, {\"FOLDERYEAR\": 4, \"business_id\": 4421, \"LicenceRSN\": 4421, \"LicenceNumber\": 4421, \"LicenceRevisionNumber\": 4421, \"Status\": 4421, \"IssuedDate\": 4421, \"ExpiredDate\": 4421, \"BusinessSubType\": 4421, \"Unit\": 4421, \"UnitType\": 4421, \"House\": 4421, \"Street\": 4421, \"City\": 4421, \"Province\": 4421, \"Country\": 4421, \"LocalArea\": 4421, \"NumberofEmployees\": 4421, \"FeePaid\": 4421, \"ExtractDate\": 4421, \"Geom\": 4421, \"NextYearStatus\": 4421, \"label\": 4421, \"BusinessIndustry\": 4421}, {\"FOLDERYEAR\": 5, \"business_id\": 3272, \"LicenceRSN\": 3272, \"LicenceNumber\": 3272, \"LicenceRevisionNumber\": 3272, \"Status\": 3272, \"IssuedDate\": 3272, \"ExpiredDate\": 3272, \"BusinessSubType\": 3272, \"Unit\": 3272, \"UnitType\": 3272, \"House\": 3272, \"Street\": 3272, \"City\": 3272, \"Province\": 3272, \"Country\": 3272, \"LocalArea\": 3272, \"NumberofEmployees\": 3272, \"FeePaid\": 3272, \"ExtractDate\": 3272, \"Geom\": 3272, \"NextYearStatus\": 3272, \"label\": 3272, \"BusinessIndustry\": 3272}, {\"FOLDERYEAR\": 6, \"business_id\": 2554, \"LicenceRSN\": 2554, \"LicenceNumber\": 2554, \"LicenceRevisionNumber\": 2554, \"Status\": 2554, \"IssuedDate\": 2554, \"ExpiredDate\": 2554, \"BusinessSubType\": 2554, \"Unit\": 2554, \"UnitType\": 2554, \"House\": 2554, \"Street\": 2554, \"City\": 2554, \"Province\": 2554, \"Country\": 2554, \"LocalArea\": 2554, \"NumberofEmployees\": 2554, \"FeePaid\": 2554, \"ExtractDate\": 2554, \"Geom\": 2554, \"NextYearStatus\": 2554, \"label\": 2554, \"BusinessIndustry\": 2554}, {\"FOLDERYEAR\": 7, \"business_id\": 1786, \"LicenceRSN\": 1786, \"LicenceNumber\": 1786, \"LicenceRevisionNumber\": 1786, \"Status\": 1786, \"IssuedDate\": 1786, \"ExpiredDate\": 1786, \"BusinessSubType\": 1786, \"Unit\": 1786, \"UnitType\": 1786, \"House\": 1786, \"Street\": 1786, \"City\": 1786, \"Province\": 1786, \"Country\": 1786, \"LocalArea\": 1786, \"NumberofEmployees\": 1786, \"FeePaid\": 1786, \"ExtractDate\": 1786, \"Geom\": 1786, \"NextYearStatus\": 1786, \"label\": 1786, \"BusinessIndustry\": 1786}, {\"FOLDERYEAR\": 8, \"business_id\": 1420, \"LicenceRSN\": 1420, \"LicenceNumber\": 1420, \"LicenceRevisionNumber\": 1420, \"Status\": 1420, \"IssuedDate\": 1420, \"ExpiredDate\": 1420, \"BusinessSubType\": 1420, \"Unit\": 1420, \"UnitType\": 1420, \"House\": 1420, \"Street\": 1420, \"City\": 1420, \"Province\": 1420, \"Country\": 1420, \"LocalArea\": 1420, \"NumberofEmployees\": 1420, \"FeePaid\": 1420, \"ExtractDate\": 1420, \"Geom\": 1420, \"NextYearStatus\": 1420, \"label\": 1420, \"BusinessIndustry\": 1420}, {\"FOLDERYEAR\": 9, \"business_id\": 1188, \"LicenceRSN\": 1188, \"LicenceNumber\": 1188, \"LicenceRevisionNumber\": 1188, \"Status\": 1188, \"IssuedDate\": 1188, \"ExpiredDate\": 1188, \"BusinessSubType\": 1188, \"Unit\": 1188, \"UnitType\": 1188, \"House\": 1188, \"Street\": 1188, \"City\": 1188, \"Province\": 1188, \"Country\": 1188, \"LocalArea\": 1188, \"NumberofEmployees\": 1188, \"FeePaid\": 1188, \"ExtractDate\": 1188, \"Geom\": 1188, \"NextYearStatus\": 1188, \"label\": 1188, \"BusinessIndustry\": 1188}, {\"FOLDERYEAR\": 10, \"business_id\": 946, \"LicenceRSN\": 946, \"LicenceNumber\": 946, \"LicenceRevisionNumber\": 946, \"Status\": 946, \"IssuedDate\": 946, \"ExpiredDate\": 946, \"BusinessSubType\": 946, \"Unit\": 946, \"UnitType\": 946, \"House\": 946, \"Street\": 946, \"City\": 946, \"Province\": 946, \"Country\": 946, \"LocalArea\": 946, \"NumberofEmployees\": 946, \"FeePaid\": 946, \"ExtractDate\": 946, \"Geom\": 946, \"NextYearStatus\": 946, \"label\": 946, \"BusinessIndustry\": 946}, {\"FOLDERYEAR\": 11, \"business_id\": 720, \"LicenceRSN\": 720, \"LicenceNumber\": 720, \"LicenceRevisionNumber\": 720, \"Status\": 720, \"IssuedDate\": 720, \"ExpiredDate\": 720, \"BusinessSubType\": 720, \"Unit\": 720, \"UnitType\": 720, \"House\": 720, \"Street\": 720, \"City\": 720, \"Province\": 720, \"Country\": 720, \"LocalArea\": 720, \"NumberofEmployees\": 720, \"FeePaid\": 720, \"ExtractDate\": 720, \"Geom\": 720, \"NextYearStatus\": 720, \"label\": 720, \"BusinessIndustry\": 720}, {\"FOLDERYEAR\": 12, \"business_id\": 731, \"LicenceRSN\": 731, \"LicenceNumber\": 731, \"LicenceRevisionNumber\": 731, \"Status\": 731, \"IssuedDate\": 731, \"ExpiredDate\": 731, \"BusinessSubType\": 731, \"Unit\": 731, \"UnitType\": 731, \"House\": 731, \"Street\": 731, \"City\": 731, \"Province\": 731, \"Country\": 731, \"LocalArea\": 731, \"NumberofEmployees\": 731, \"FeePaid\": 731, \"ExtractDate\": 731, \"Geom\": 731, \"NextYearStatus\": 731, \"label\": 731, \"BusinessIndustry\": 731}, {\"FOLDERYEAR\": 13, \"business_id\": 411, \"LicenceRSN\": 411, \"LicenceNumber\": 411, \"LicenceRevisionNumber\": 411, \"Status\": 411, \"IssuedDate\": 411, \"ExpiredDate\": 411, \"BusinessSubType\": 411, \"Unit\": 411, \"UnitType\": 411, \"House\": 411, \"Street\": 411, \"City\": 411, \"Province\": 411, \"Country\": 411, \"LocalArea\": 411, \"NumberofEmployees\": 411, \"FeePaid\": 411, \"ExtractDate\": 411, \"Geom\": 411, \"NextYearStatus\": 411, \"label\": 411, \"BusinessIndustry\": 411}, {\"FOLDERYEAR\": 14, \"business_id\": 364, \"LicenceRSN\": 364, \"LicenceNumber\": 364, \"LicenceRevisionNumber\": 364, \"Status\": 364, \"IssuedDate\": 364, \"ExpiredDate\": 364, \"BusinessSubType\": 364, \"Unit\": 364, \"UnitType\": 364, \"House\": 364, \"Street\": 364, \"City\": 364, \"Province\": 364, \"Country\": 364, \"LocalArea\": 364, \"NumberofEmployees\": 364, \"FeePaid\": 364, \"ExtractDate\": 364, \"Geom\": 364, \"NextYearStatus\": 364, \"label\": 364, \"BusinessIndustry\": 364}, {\"FOLDERYEAR\": 15, \"business_id\": 298, \"LicenceRSN\": 298, \"LicenceNumber\": 298, \"LicenceRevisionNumber\": 298, \"Status\": 298, \"IssuedDate\": 298, \"ExpiredDate\": 298, \"BusinessSubType\": 298, \"Unit\": 298, \"UnitType\": 298, \"House\": 298, \"Street\": 298, \"City\": 298, \"Province\": 298, \"Country\": 298, \"LocalArea\": 298, \"NumberofEmployees\": 298, \"FeePaid\": 298, \"ExtractDate\": 298, \"Geom\": 298, \"NextYearStatus\": 298, \"label\": 298, \"BusinessIndustry\": 298}, {\"FOLDERYEAR\": 16, \"business_id\": 232, \"LicenceRSN\": 232, \"LicenceNumber\": 232, \"LicenceRevisionNumber\": 232, \"Status\": 232, \"IssuedDate\": 232, \"ExpiredDate\": 232, \"BusinessSubType\": 232, \"Unit\": 232, \"UnitType\": 232, \"House\": 232, \"Street\": 232, \"City\": 232, \"Province\": 232, \"Country\": 232, \"LocalArea\": 232, \"NumberofEmployees\": 232, \"FeePaid\": 232, \"ExtractDate\": 232, \"Geom\": 232, \"NextYearStatus\": 232, \"label\": 232, \"BusinessIndustry\": 232}, {\"FOLDERYEAR\": 17, \"business_id\": 192, \"LicenceRSN\": 192, \"LicenceNumber\": 192, \"LicenceRevisionNumber\": 192, \"Status\": 192, \"IssuedDate\": 192, \"ExpiredDate\": 192, \"BusinessSubType\": 192, \"Unit\": 192, \"UnitType\": 192, \"House\": 192, \"Street\": 192, \"City\": 192, \"Province\": 192, \"Country\": 192, \"LocalArea\": 192, \"NumberofEmployees\": 192, \"FeePaid\": 192, \"ExtractDate\": 192, \"Geom\": 192, \"NextYearStatus\": 192, \"label\": 192, \"BusinessIndustry\": 192}, {\"FOLDERYEAR\": 18, \"business_id\": 177, \"LicenceRSN\": 177, \"LicenceNumber\": 177, \"LicenceRevisionNumber\": 177, \"Status\": 177, \"IssuedDate\": 177, \"ExpiredDate\": 177, \"BusinessSubType\": 177, \"Unit\": 177, \"UnitType\": 177, \"House\": 177, \"Street\": 177, \"City\": 177, \"Province\": 177, \"Country\": 177, \"LocalArea\": 177, \"NumberofEmployees\": 177, \"FeePaid\": 177, \"ExtractDate\": 177, \"Geom\": 177, \"NextYearStatus\": 177, \"label\": 177, \"BusinessIndustry\": 177}, {\"FOLDERYEAR\": 19, \"business_id\": 112, \"LicenceRSN\": 112, \"LicenceNumber\": 112, \"LicenceRevisionNumber\": 112, \"Status\": 112, \"IssuedDate\": 112, \"ExpiredDate\": 112, \"BusinessSubType\": 112, \"Unit\": 112, \"UnitType\": 112, \"House\": 112, \"Street\": 112, \"City\": 112, \"Province\": 112, \"Country\": 112, \"LocalArea\": 112, \"NumberofEmployees\": 112, \"FeePaid\": 112, \"ExtractDate\": 112, \"Geom\": 112, \"NextYearStatus\": 112, \"label\": 112, \"BusinessIndustry\": 112}, {\"FOLDERYEAR\": 20, \"business_id\": 107, \"LicenceRSN\": 107, \"LicenceNumber\": 107, \"LicenceRevisionNumber\": 107, \"Status\": 107, \"IssuedDate\": 107, \"ExpiredDate\": 107, \"BusinessSubType\": 107, \"Unit\": 107, \"UnitType\": 107, \"House\": 107, \"Street\": 107, \"City\": 107, \"Province\": 107, \"Country\": 107, \"LocalArea\": 107, \"NumberofEmployees\": 107, \"FeePaid\": 107, \"ExtractDate\": 107, \"Geom\": 107, \"NextYearStatus\": 107, \"label\": 107, \"BusinessIndustry\": 107}, {\"FOLDERYEAR\": 21, \"business_id\": 75, \"LicenceRSN\": 75, \"LicenceNumber\": 75, \"LicenceRevisionNumber\": 75, \"Status\": 75, \"IssuedDate\": 75, \"ExpiredDate\": 75, \"BusinessSubType\": 75, \"Unit\": 75, \"UnitType\": 75, \"House\": 75, \"Street\": 75, \"City\": 75, \"Province\": 75, \"Country\": 75, \"LocalArea\": 75, \"NumberofEmployees\": 75, \"FeePaid\": 75, \"ExtractDate\": 75, \"Geom\": 75, \"NextYearStatus\": 75, \"label\": 75, \"BusinessIndustry\": 75}, {\"FOLDERYEAR\": 22, \"business_id\": 137, \"LicenceRSN\": 137, \"LicenceNumber\": 137, \"LicenceRevisionNumber\": 137, \"Status\": 137, \"IssuedDate\": 137, \"ExpiredDate\": 137, \"BusinessSubType\": 137, \"Unit\": 137, \"UnitType\": 137, \"House\": 137, \"Street\": 137, \"City\": 137, \"Province\": 137, \"Country\": 137, \"LocalArea\": 137, \"NumberofEmployees\": 137, \"FeePaid\": 137, \"ExtractDate\": 137, \"Geom\": 137, \"NextYearStatus\": 137, \"label\": 137, \"BusinessIndustry\": 137}, {\"FOLDERYEAR\": 23, \"business_id\": 1, \"LicenceRSN\": 1, \"LicenceNumber\": 1, \"LicenceRevisionNumber\": 1, \"Status\": 1, \"IssuedDate\": 1, \"ExpiredDate\": 1, \"BusinessSubType\": 1, \"Unit\": 1, \"UnitType\": 1, \"House\": 1, \"Street\": 1, \"City\": 1, \"Province\": 1, \"Country\": 1, \"LocalArea\": 1, \"NumberofEmployees\": 1, \"FeePaid\": 1, \"ExtractDate\": 1, \"Geom\": 1, \"NextYearStatus\": 1, \"label\": 1, \"BusinessIndustry\": 1}]}};\n",
       "const opt = {};\n",
       "const type = \"vega-lite\";\n",
       "const id = \"a791fa90-b4a7-41eb-8232-db6ff3ee2446\";\n",
       "\n",
       "const output_area = this;\n",
       "\n",
       "require([\"nbextensions/jupyter-vega/index\"], function(vega) {\n",
       "  const target = document.createElement(\"div\");\n",
       "  target.id = id;\n",
       "  target.className = \"vega-embed\";\n",
       "\n",
       "  const style = document.createElement(\"style\");\n",
       "  style.textContent = [\n",
       "    \".vega-embed .error p {\",\n",
       "    \"  color: firebrick;\",\n",
       "    \"  font-size: 14px;\",\n",
       "    \"}\",\n",
       "  ].join(\"\\\\n\");\n",
       "\n",
       "  // element is a jQuery wrapped DOM element inside the output area\n",
       "  // see http://ipython.readthedocs.io/en/stable/api/generated/\\\n",
       "  // IPython.display.html#IPython.display.Javascript.__init__\n",
       "  element[0].appendChild(target);\n",
       "  element[0].appendChild(style);\n",
       "\n",
       "  vega.render(\"#\" + id, spec, type, opt, output_area);\n",
       "}, function (err) {\n",
       "  if (err.requireType !== \"scripterror\") {\n",
       "    throw(err);\n",
       "  }\n",
       "});\n"
      ],
      "text/plain": [
       "<vega.vegalite.VegaLite at 0x11f1105c0>"
      ]
     },
     "metadata": {
      "jupyter-vega": "#a791fa90-b4a7-41eb-8232-db6ff3ee2446",
      "tags": []
     },
     "output_type": "display_data"
    },
    {
     "data": {
      "text/plain": []
     },
     "execution_count": 29,
     "metadata": {
      "tags": []
     },
     "output_type": "execute_result"
    },
    {
     "data": {
      "image/png": "[encoded data removed]"
     },
     "metadata": {
      "jupyter-vega": "#a791fa90-b4a7-41eb-8232-db6ff3ee2446",
      "tags": []
     },
     "output_type": "display_data"
    }
   ],
   "source": [
    "alt.Chart(plot_df.reset_index()).mark_line().encode(\n",
    "    x=alt.X('FOLDERYEAR:Q',title = 'Survived years'),\n",
    "    y=alt.Y('business_id:Q', title = 'Number of businesses')\n",
    ")"
   ]
  },
  {
   "cell_type": "code",
   "execution_count": 0,
   "metadata": {
    "colab": {},
    "colab_type": "code",
    "id": "yQoH0yTmUEa3",
    "outputId": "9fc4de39-497f-4c2f-d2ad-2639fc3cc56b"
   },
   "outputs": [
    {
     "data": {
      "application/javascript": [
       "const spec = {\"config\": {\"view\": {\"width\": 400, \"height\": 300}, \"mark\": {\"tooltip\": null}}, \"data\": {\"name\": \"data-9131943526e0a017859709cd5b63c05e\"}, \"mark\": \"line\", \"encoding\": {\"x\": {\"type\": \"quantitative\", \"field\": \"FOLDERYEAR\", \"title\": \"Survived years\"}, \"y\": {\"type\": \"quantitative\", \"field\": \"dA\", \"title\": \"Porpotion change\"}}, \"$schema\": \"https://vega.github.io/schema/vega-lite/v3.4.0.json\", \"datasets\": {\"data-9131943526e0a017859709cd5b63c05e\": [{\"FOLDERYEAR\": 1, \"business_id\": 14099, \"LicenceRSN\": 14099, \"LicenceNumber\": 14099, \"LicenceRevisionNumber\": 14099, \"Status\": 14099, \"IssuedDate\": 14099, \"ExpiredDate\": 14099, \"BusinessSubType\": 14099, \"Unit\": 14099, \"UnitType\": 14099, \"House\": 14099, \"Street\": 14099, \"City\": 14099, \"Province\": 14099, \"Country\": 14099, \"LocalArea\": 14099, \"NumberofEmployees\": 14099, \"FeePaid\": 14099, \"ExtractDate\": 14099, \"Geom\": 14099, \"NextYearStatus\": 14099, \"label\": 14099, \"BusinessIndustry\": 14099, \"dA\": 0.31300092205120933}, {\"FOLDERYEAR\": 2, \"business_id\": 9686, \"LicenceRSN\": 9686, \"LicenceNumber\": 9686, \"LicenceRevisionNumber\": 9686, \"Status\": 9686, \"IssuedDate\": 9686, \"ExpiredDate\": 9686, \"BusinessSubType\": 9686, \"Unit\": 9686, \"UnitType\": 9686, \"House\": 9686, \"Street\": 9686, \"City\": 9686, \"Province\": 9686, \"Country\": 9686, \"LocalArea\": 9686, \"NumberofEmployees\": 9686, \"FeePaid\": 9686, \"ExtractDate\": 9686, \"Geom\": 9686, \"NextYearStatus\": 9686, \"label\": 9686, \"BusinessIndustry\": 9686, \"dA\": 0.29764608713607266}, {\"FOLDERYEAR\": 3, \"business_id\": 6803, \"LicenceRSN\": 6803, \"LicenceNumber\": 6803, \"LicenceRevisionNumber\": 6803, \"Status\": 6803, \"IssuedDate\": 6803, \"ExpiredDate\": 6803, \"BusinessSubType\": 6803, \"Unit\": 6803, \"UnitType\": 6803, \"House\": 6803, \"Street\": 6803, \"City\": 6803, \"Province\": 6803, \"Country\": 6803, \"LocalArea\": 6803, \"NumberofEmployees\": 6803, \"FeePaid\": 6803, \"ExtractDate\": 6803, \"Geom\": 6803, \"NextYearStatus\": 6803, \"label\": 6803, \"BusinessIndustry\": 6803, \"dA\": 0.3501396442745847}, {\"FOLDERYEAR\": 4, \"business_id\": 4421, \"LicenceRSN\": 4421, \"LicenceNumber\": 4421, \"LicenceRevisionNumber\": 4421, \"Status\": 4421, \"IssuedDate\": 4421, \"ExpiredDate\": 4421, \"BusinessSubType\": 4421, \"Unit\": 4421, \"UnitType\": 4421, \"House\": 4421, \"Street\": 4421, \"City\": 4421, \"Province\": 4421, \"Country\": 4421, \"LocalArea\": 4421, \"NumberofEmployees\": 4421, \"FeePaid\": 4421, \"ExtractDate\": 4421, \"Geom\": 4421, \"NextYearStatus\": 4421, \"label\": 4421, \"BusinessIndustry\": 4421, \"dA\": 0.2598959511422755}, {\"FOLDERYEAR\": 5, \"business_id\": 3272, \"LicenceRSN\": 3272, \"LicenceNumber\": 3272, \"LicenceRevisionNumber\": 3272, \"Status\": 3272, \"IssuedDate\": 3272, \"ExpiredDate\": 3272, \"BusinessSubType\": 3272, \"Unit\": 3272, \"UnitType\": 3272, \"House\": 3272, \"Street\": 3272, \"City\": 3272, \"Province\": 3272, \"Country\": 3272, \"LocalArea\": 3272, \"NumberofEmployees\": 3272, \"FeePaid\": 3272, \"ExtractDate\": 3272, \"Geom\": 3272, \"NextYearStatus\": 3272, \"label\": 3272, \"BusinessIndustry\": 3272, \"dA\": 0.21943765281173594}, {\"FOLDERYEAR\": 6, \"business_id\": 2554, \"LicenceRSN\": 2554, \"LicenceNumber\": 2554, \"LicenceRevisionNumber\": 2554, \"Status\": 2554, \"IssuedDate\": 2554, \"ExpiredDate\": 2554, \"BusinessSubType\": 2554, \"Unit\": 2554, \"UnitType\": 2554, \"House\": 2554, \"Street\": 2554, \"City\": 2554, \"Province\": 2554, \"Country\": 2554, \"LocalArea\": 2554, \"NumberofEmployees\": 2554, \"FeePaid\": 2554, \"ExtractDate\": 2554, \"Geom\": 2554, \"NextYearStatus\": 2554, \"label\": 2554, \"BusinessIndustry\": 2554, \"dA\": 0.3007047768206735}, {\"FOLDERYEAR\": 7, \"business_id\": 1786, \"LicenceRSN\": 1786, \"LicenceNumber\": 1786, \"LicenceRevisionNumber\": 1786, \"Status\": 1786, \"IssuedDate\": 1786, \"ExpiredDate\": 1786, \"BusinessSubType\": 1786, \"Unit\": 1786, \"UnitType\": 1786, \"House\": 1786, \"Street\": 1786, \"City\": 1786, \"Province\": 1786, \"Country\": 1786, \"LocalArea\": 1786, \"NumberofEmployees\": 1786, \"FeePaid\": 1786, \"ExtractDate\": 1786, \"Geom\": 1786, \"NextYearStatus\": 1786, \"label\": 1786, \"BusinessIndustry\": 1786, \"dA\": 0.20492721164613661}, {\"FOLDERYEAR\": 8, \"business_id\": 1420, \"LicenceRSN\": 1420, \"LicenceNumber\": 1420, \"LicenceRevisionNumber\": 1420, \"Status\": 1420, \"IssuedDate\": 1420, \"ExpiredDate\": 1420, \"BusinessSubType\": 1420, \"Unit\": 1420, \"UnitType\": 1420, \"House\": 1420, \"Street\": 1420, \"City\": 1420, \"Province\": 1420, \"Country\": 1420, \"LocalArea\": 1420, \"NumberofEmployees\": 1420, \"FeePaid\": 1420, \"ExtractDate\": 1420, \"Geom\": 1420, \"NextYearStatus\": 1420, \"label\": 1420, \"BusinessIndustry\": 1420, \"dA\": 0.16338028169014085}, {\"FOLDERYEAR\": 9, \"business_id\": 1188, \"LicenceRSN\": 1188, \"LicenceNumber\": 1188, \"LicenceRevisionNumber\": 1188, \"Status\": 1188, \"IssuedDate\": 1188, \"ExpiredDate\": 1188, \"BusinessSubType\": 1188, \"Unit\": 1188, \"UnitType\": 1188, \"House\": 1188, \"Street\": 1188, \"City\": 1188, \"Province\": 1188, \"Country\": 1188, \"LocalArea\": 1188, \"NumberofEmployees\": 1188, \"FeePaid\": 1188, \"ExtractDate\": 1188, \"Geom\": 1188, \"NextYearStatus\": 1188, \"label\": 1188, \"BusinessIndustry\": 1188, \"dA\": 0.2037037037037037}, {\"FOLDERYEAR\": 10, \"business_id\": 946, \"LicenceRSN\": 946, \"LicenceNumber\": 946, \"LicenceRevisionNumber\": 946, \"Status\": 946, \"IssuedDate\": 946, \"ExpiredDate\": 946, \"BusinessSubType\": 946, \"Unit\": 946, \"UnitType\": 946, \"House\": 946, \"Street\": 946, \"City\": 946, \"Province\": 946, \"Country\": 946, \"LocalArea\": 946, \"NumberofEmployees\": 946, \"FeePaid\": 946, \"ExtractDate\": 946, \"Geom\": 946, \"NextYearStatus\": 946, \"label\": 946, \"BusinessIndustry\": 946, \"dA\": 0.23890063424947147}, {\"FOLDERYEAR\": 11, \"business_id\": 720, \"LicenceRSN\": 720, \"LicenceNumber\": 720, \"LicenceRevisionNumber\": 720, \"Status\": 720, \"IssuedDate\": 720, \"ExpiredDate\": 720, \"BusinessSubType\": 720, \"Unit\": 720, \"UnitType\": 720, \"House\": 720, \"Street\": 720, \"City\": 720, \"Province\": 720, \"Country\": 720, \"LocalArea\": 720, \"NumberofEmployees\": 720, \"FeePaid\": 720, \"ExtractDate\": 720, \"Geom\": 720, \"NextYearStatus\": 720, \"label\": 720, \"BusinessIndustry\": 720, \"dA\": -0.015277777777777777}, {\"FOLDERYEAR\": 12, \"business_id\": 731, \"LicenceRSN\": 731, \"LicenceNumber\": 731, \"LicenceRevisionNumber\": 731, \"Status\": 731, \"IssuedDate\": 731, \"ExpiredDate\": 731, \"BusinessSubType\": 731, \"Unit\": 731, \"UnitType\": 731, \"House\": 731, \"Street\": 731, \"City\": 731, \"Province\": 731, \"Country\": 731, \"LocalArea\": 731, \"NumberofEmployees\": 731, \"FeePaid\": 731, \"ExtractDate\": 731, \"Geom\": 731, \"NextYearStatus\": 731, \"label\": 731, \"BusinessIndustry\": 731, \"dA\": 0.4377564979480164}, {\"FOLDERYEAR\": 13, \"business_id\": 411, \"LicenceRSN\": 411, \"LicenceNumber\": 411, \"LicenceRevisionNumber\": 411, \"Status\": 411, \"IssuedDate\": 411, \"ExpiredDate\": 411, \"BusinessSubType\": 411, \"Unit\": 411, \"UnitType\": 411, \"House\": 411, \"Street\": 411, \"City\": 411, \"Province\": 411, \"Country\": 411, \"LocalArea\": 411, \"NumberofEmployees\": 411, \"FeePaid\": 411, \"ExtractDate\": 411, \"Geom\": 411, \"NextYearStatus\": 411, \"label\": 411, \"BusinessIndustry\": 411, \"dA\": 0.11435523114355231}, {\"FOLDERYEAR\": 14, \"business_id\": 364, \"LicenceRSN\": 364, \"LicenceNumber\": 364, \"LicenceRevisionNumber\": 364, \"Status\": 364, \"IssuedDate\": 364, \"ExpiredDate\": 364, \"BusinessSubType\": 364, \"Unit\": 364, \"UnitType\": 364, \"House\": 364, \"Street\": 364, \"City\": 364, \"Province\": 364, \"Country\": 364, \"LocalArea\": 364, \"NumberofEmployees\": 364, \"FeePaid\": 364, \"ExtractDate\": 364, \"Geom\": 364, \"NextYearStatus\": 364, \"label\": 364, \"BusinessIndustry\": 364, \"dA\": 0.1813186813186813}, {\"FOLDERYEAR\": 15, \"business_id\": 298, \"LicenceRSN\": 298, \"LicenceNumber\": 298, \"LicenceRevisionNumber\": 298, \"Status\": 298, \"IssuedDate\": 298, \"ExpiredDate\": 298, \"BusinessSubType\": 298, \"Unit\": 298, \"UnitType\": 298, \"House\": 298, \"Street\": 298, \"City\": 298, \"Province\": 298, \"Country\": 298, \"LocalArea\": 298, \"NumberofEmployees\": 298, \"FeePaid\": 298, \"ExtractDate\": 298, \"Geom\": 298, \"NextYearStatus\": 298, \"label\": 298, \"BusinessIndustry\": 298, \"dA\": 0.2214765100671141}, {\"FOLDERYEAR\": 16, \"business_id\": 232, \"LicenceRSN\": 232, \"LicenceNumber\": 232, \"LicenceRevisionNumber\": 232, \"Status\": 232, \"IssuedDate\": 232, \"ExpiredDate\": 232, \"BusinessSubType\": 232, \"Unit\": 232, \"UnitType\": 232, \"House\": 232, \"Street\": 232, \"City\": 232, \"Province\": 232, \"Country\": 232, \"LocalArea\": 232, \"NumberofEmployees\": 232, \"FeePaid\": 232, \"ExtractDate\": 232, \"Geom\": 232, \"NextYearStatus\": 232, \"label\": 232, \"BusinessIndustry\": 232, \"dA\": 0.1724137931034483}, {\"FOLDERYEAR\": 17, \"business_id\": 192, \"LicenceRSN\": 192, \"LicenceNumber\": 192, \"LicenceRevisionNumber\": 192, \"Status\": 192, \"IssuedDate\": 192, \"ExpiredDate\": 192, \"BusinessSubType\": 192, \"Unit\": 192, \"UnitType\": 192, \"House\": 192, \"Street\": 192, \"City\": 192, \"Province\": 192, \"Country\": 192, \"LocalArea\": 192, \"NumberofEmployees\": 192, \"FeePaid\": 192, \"ExtractDate\": 192, \"Geom\": 192, \"NextYearStatus\": 192, \"label\": 192, \"BusinessIndustry\": 192, \"dA\": 0.078125}, {\"FOLDERYEAR\": 18, \"business_id\": 177, \"LicenceRSN\": 177, \"LicenceNumber\": 177, \"LicenceRevisionNumber\": 177, \"Status\": 177, \"IssuedDate\": 177, \"ExpiredDate\": 177, \"BusinessSubType\": 177, \"Unit\": 177, \"UnitType\": 177, \"House\": 177, \"Street\": 177, \"City\": 177, \"Province\": 177, \"Country\": 177, \"LocalArea\": 177, \"NumberofEmployees\": 177, \"FeePaid\": 177, \"ExtractDate\": 177, \"Geom\": 177, \"NextYearStatus\": 177, \"label\": 177, \"BusinessIndustry\": 177, \"dA\": 0.3672316384180791}, {\"FOLDERYEAR\": 19, \"business_id\": 112, \"LicenceRSN\": 112, \"LicenceNumber\": 112, \"LicenceRevisionNumber\": 112, \"Status\": 112, \"IssuedDate\": 112, \"ExpiredDate\": 112, \"BusinessSubType\": 112, \"Unit\": 112, \"UnitType\": 112, \"House\": 112, \"Street\": 112, \"City\": 112, \"Province\": 112, \"Country\": 112, \"LocalArea\": 112, \"NumberofEmployees\": 112, \"FeePaid\": 112, \"ExtractDate\": 112, \"Geom\": 112, \"NextYearStatus\": 112, \"label\": 112, \"BusinessIndustry\": 112, \"dA\": 0.044642857142857144}, {\"FOLDERYEAR\": 20, \"business_id\": 107, \"LicenceRSN\": 107, \"LicenceNumber\": 107, \"LicenceRevisionNumber\": 107, \"Status\": 107, \"IssuedDate\": 107, \"ExpiredDate\": 107, \"BusinessSubType\": 107, \"Unit\": 107, \"UnitType\": 107, \"House\": 107, \"Street\": 107, \"City\": 107, \"Province\": 107, \"Country\": 107, \"LocalArea\": 107, \"NumberofEmployees\": 107, \"FeePaid\": 107, \"ExtractDate\": 107, \"Geom\": 107, \"NextYearStatus\": 107, \"label\": 107, \"BusinessIndustry\": 107, \"dA\": 0.29906542056074764}, {\"FOLDERYEAR\": 21, \"business_id\": 75, \"LicenceRSN\": 75, \"LicenceNumber\": 75, \"LicenceRevisionNumber\": 75, \"Status\": 75, \"IssuedDate\": 75, \"ExpiredDate\": 75, \"BusinessSubType\": 75, \"Unit\": 75, \"UnitType\": 75, \"House\": 75, \"Street\": 75, \"City\": 75, \"Province\": 75, \"Country\": 75, \"LocalArea\": 75, \"NumberofEmployees\": 75, \"FeePaid\": 75, \"ExtractDate\": 75, \"Geom\": 75, \"NextYearStatus\": 75, \"label\": 75, \"BusinessIndustry\": 75, \"dA\": -0.8266666666666667}, {\"FOLDERYEAR\": 22, \"business_id\": 137, \"LicenceRSN\": 137, \"LicenceNumber\": 137, \"LicenceRevisionNumber\": 137, \"Status\": 137, \"IssuedDate\": 137, \"ExpiredDate\": 137, \"BusinessSubType\": 137, \"Unit\": 137, \"UnitType\": 137, \"House\": 137, \"Street\": 137, \"City\": 137, \"Province\": 137, \"Country\": 137, \"LocalArea\": 137, \"NumberofEmployees\": 137, \"FeePaid\": 137, \"ExtractDate\": 137, \"Geom\": 137, \"NextYearStatus\": 137, \"label\": 137, \"BusinessIndustry\": 137, \"dA\": 0.9927007299270073}, {\"FOLDERYEAR\": 23, \"business_id\": 1, \"LicenceRSN\": 1, \"LicenceNumber\": 1, \"LicenceRevisionNumber\": 1, \"Status\": 1, \"IssuedDate\": 1, \"ExpiredDate\": 1, \"BusinessSubType\": 1, \"Unit\": 1, \"UnitType\": 1, \"House\": 1, \"Street\": 1, \"City\": 1, \"Province\": 1, \"Country\": 1, \"LocalArea\": 1, \"NumberofEmployees\": 1, \"FeePaid\": 1, \"ExtractDate\": 1, \"Geom\": 1, \"NextYearStatus\": 1, \"label\": 1, \"BusinessIndustry\": 1, \"dA\": null}]}};\n",
       "const opt = {};\n",
       "const type = \"vega-lite\";\n",
       "const id = \"e7b7e86f-3a7b-4061-b940-13876542779c\";\n",
       "\n",
       "const output_area = this;\n",
       "\n",
       "require([\"nbextensions/jupyter-vega/index\"], function(vega) {\n",
       "  const target = document.createElement(\"div\");\n",
       "  target.id = id;\n",
       "  target.className = \"vega-embed\";\n",
       "\n",
       "  const style = document.createElement(\"style\");\n",
       "  style.textContent = [\n",
       "    \".vega-embed .error p {\",\n",
       "    \"  color: firebrick;\",\n",
       "    \"  font-size: 14px;\",\n",
       "    \"}\",\n",
       "  ].join(\"\\\\n\");\n",
       "\n",
       "  // element is a jQuery wrapped DOM element inside the output area\n",
       "  // see http://ipython.readthedocs.io/en/stable/api/generated/\\\n",
       "  // IPython.display.html#IPython.display.Javascript.__init__\n",
       "  element[0].appendChild(target);\n",
       "  element[0].appendChild(style);\n",
       "\n",
       "  vega.render(\"#\" + id, spec, type, opt, output_area);\n",
       "}, function (err) {\n",
       "  if (err.requireType !== \"scripterror\") {\n",
       "    throw(err);\n",
       "  }\n",
       "});\n"
      ],
      "text/plain": [
       "<vega.vegalite.VegaLite at 0x12031a748>"
      ]
     },
     "metadata": {
      "jupyter-vega": "#e7b7e86f-3a7b-4061-b940-13876542779c",
      "tags": []
     },
     "output_type": "display_data"
    },
    {
     "data": {
      "text/plain": []
     },
     "execution_count": 56,
     "metadata": {
      "tags": []
     },
     "output_type": "execute_result"
    },
    {
     "data": {
      "image/png": "[encoded data removed]"
     },
     "metadata": {
      "jupyter-vega": "#e7b7e86f-3a7b-4061-b940-13876542779c",
      "tags": []
     },
     "output_type": "display_data"
    }
   ],
   "source": [
    "alt.Chart(plot_df.reset_index()).mark_line().encode(\n",
    "    x=alt.X('FOLDERYEAR:Q',title = 'Survived years'),\n",
    "    y=alt.Y('dA:Q', title = 'Porpotion change')\n",
    ")"
   ]
  },
  {
   "cell_type": "markdown",
   "metadata": {
    "colab_type": "text",
    "id": "XNQRfnulUEbR"
   },
   "source": [
    "# for correlation between variables"
   ]
  },
  {
   "cell_type": "code",
   "execution_count": 0,
   "metadata": {
    "colab": {},
    "colab_type": "code",
    "id": "2u4m73cUsCHh",
    "outputId": "bfafdea9-aba8-4b34-fc58-f4a7c6c815ac"
   },
   "outputs": [
    {
     "data": {
      "text/html": [
       "<div>\n",
       "<style scoped>\n",
       "    .dataframe tbody tr th:only-of-type {\n",
       "        vertical-align: middle;\n",
       "    }\n",
       "\n",
       "    .dataframe tbody tr th {\n",
       "        vertical-align: top;\n",
       "    }\n",
       "\n",
       "    .dataframe thead th {\n",
       "        text-align: right;\n",
       "    }\n",
       "</style>\n",
       "<table border=\"1\" class=\"dataframe\">\n",
       "  <thead>\n",
       "    <tr style=\"text-align: right;\">\n",
       "      <th></th>\n",
       "      <th>variable</th>\n",
       "      <th>variable2</th>\n",
       "      <th>correlation</th>\n",
       "      <th>correlation_label</th>\n",
       "    </tr>\n",
       "  </thead>\n",
       "  <tbody>\n",
       "    <tr>\n",
       "      <th>0</th>\n",
       "      <td>FOLDERYEAR</td>\n",
       "      <td>FOLDERYEAR</td>\n",
       "      <td>1.000000</td>\n",
       "      <td>1.00</td>\n",
       "    </tr>\n",
       "    <tr>\n",
       "      <th>1</th>\n",
       "      <td>FOLDERYEAR</td>\n",
       "      <td>NumberofEmployees</td>\n",
       "      <td>-0.000042</td>\n",
       "      <td>-0.00</td>\n",
       "    </tr>\n",
       "    <tr>\n",
       "      <th>2</th>\n",
       "      <td>FOLDERYEAR</td>\n",
       "      <td>FeePaid</td>\n",
       "      <td>0.117842</td>\n",
       "      <td>0.12</td>\n",
       "    </tr>\n",
       "    <tr>\n",
       "      <th>3</th>\n",
       "      <td>FOLDERYEAR</td>\n",
       "      <td>Parking meters</td>\n",
       "      <td>0.005132</td>\n",
       "      <td>0.01</td>\n",
       "    </tr>\n",
       "    <tr>\n",
       "      <th>4</th>\n",
       "      <td>FOLDERYEAR</td>\n",
       "      <td>Disability parking</td>\n",
       "      <td>0.005770</td>\n",
       "      <td>0.01</td>\n",
       "    </tr>\n",
       "  </tbody>\n",
       "</table>\n",
       "</div>"
      ],
      "text/plain": [
       "     variable           variable2  correlation correlation_label\n",
       "0  FOLDERYEAR          FOLDERYEAR     1.000000              1.00\n",
       "1  FOLDERYEAR   NumberofEmployees    -0.000042             -0.00\n",
       "2  FOLDERYEAR             FeePaid     0.117842              0.12\n",
       "3  FOLDERYEAR      Parking meters     0.005132              0.01\n",
       "4  FOLDERYEAR  Disability parking     0.005770              0.01"
      ]
     },
     "execution_count": 31,
     "metadata": {
      "tags": []
     },
     "output_type": "execute_result"
    }
   ],
   "source": [
    "cor_data = (train.drop(columns=['LocalArea','label','BusinessIndustry']).corr().stack()\n",
    "              .reset_index()     # The stacking results in an index on the correlation values, we need the index as normal columns for Altair\n",
    "              .rename(columns={0: 'correlation', 'level_0': 'variable', 'level_1': 'variable2'}))\n",
    "cor_data['correlation_label'] = cor_data['correlation'].map('{:.2f}'.format)  # Round to 2 decimal\n",
    "cor_data.head()"
   ]
  },
  {
   "cell_type": "code",
   "execution_count": 0,
   "metadata": {
    "colab": {},
    "colab_type": "code",
    "id": "1pA4U9nWsCHk"
   },
   "outputs": [],
   "source": [
    "base = alt.Chart(cor_data).encode(\n",
    "    x='variable2:O',\n",
    "    y='variable:O'    \n",
    ")\n",
    "\n",
    "# Text layer with correlation labels\n",
    "# Colors are for easier readability\n",
    "text = base.mark_text().encode(\n",
    "    text='correlation_label',\n",
    "    color=alt.condition(\n",
    "        alt.datum.correlation > 0.5, \n",
    "        alt.value('white'),\n",
    "        alt.value('black')\n",
    "    )\n",
    ")\n",
    "\n",
    "# The correlation heatmap itself\n",
    "cor_plot = base.mark_rect().encode(\n",
    "    color='correlation:Q'\n",
    ")\n",
    "\n",
    "final_plot = cor_plot + text \n",
    "save(final_plot,'cor_plot.html')"
   ]
  },
  {
   "cell_type": "markdown",
   "metadata": {
    "colab_type": "text",
    "id": "zUeOMhzhsCHo"
   },
   "source": [
    "## 2. Summary <a name=\"s\"></a>"
   ]
  },
  {
   "cell_type": "code",
   "execution_count": 187,
   "metadata": {
    "colab": {},
    "colab_type": "code",
    "id": "Z_31dKpIsCHp"
   },
   "outputs": [],
   "source": [
    "# get categorical and numerical variables\n",
    "cat_vars = ['FOLDERYEAR', 'BusinessType', 'LocalArea']\n",
    "#cat_vars = ['BusinessIndustry']\n",
    "label = ['label']\n",
    "\n",
    "num_vars = [i for i in train.columns if i not in cat_vars and i not in label]"
   ]
  },
  {
   "cell_type": "code",
   "execution_count": 0,
   "metadata": {
    "colab": {},
    "colab_type": "code",
    "id": "1fv4qgFnsCHt"
   },
   "outputs": [],
   "source": [
    "def describe_data(df, num_vars, cat_vars):\n",
    "    \"\"\"\n",
    "    This function prints shape of the given dataframe\n",
    "    and returns two separate reports for both \n",
    "    numeric and categorical variables.\n",
    "    \"\"\"\n",
    "    \n",
    "    print(\"The dataset has\", df.shape[0], \"rows and\", df.shape[1], \"columns.\\n\")\n",
    "    \n",
    "    num_summary = df[num_vars].describe()\n",
    "    num_summary.loc['missing'] = [df[s].isnull().sum() for s in num_vars]\n",
    "    \n",
    "    cat_summary = {'cat_var':[], 'missing':[], 'unique':[]}\n",
    "    for c in cat_vars:\n",
    "        cat_summary['cat_var'].append(c)\n",
    "        cat_summary['missing'].append(sum(df[c].isnull()))\n",
    "        cat_summary['unique'].append(len(df[c].unique()))\n",
    "    \n",
    "    return num_summary, pd.DataFrame(cat_summary)"
   ]
  },
  {
   "cell_type": "code",
   "execution_count": 0,
   "metadata": {
    "colab": {},
    "colab_type": "code",
    "id": "H3uKPJtLsCHx",
    "outputId": "b75add80-a034-4120-f588-96d508801e72"
   },
   "outputs": [
    {
     "name": "stdout",
     "output_type": "stream",
     "text": [
      "The dataset has 448011 rows and 104 columns.\n",
      "\n"
     ]
    },
    {
     "data": {
      "text/html": [
       "<div>\n",
       "<style scoped>\n",
       "    .dataframe tbody tr th:only-of-type {\n",
       "        vertical-align: middle;\n",
       "    }\n",
       "\n",
       "    .dataframe tbody tr th {\n",
       "        vertical-align: top;\n",
       "    }\n",
       "\n",
       "    .dataframe thead th {\n",
       "        text-align: right;\n",
       "    }\n",
       "</style>\n",
       "<table border=\"1\" class=\"dataframe\">\n",
       "  <thead>\n",
       "    <tr style=\"text-align: right;\">\n",
       "      <th></th>\n",
       "      <th>NumberofEmployees</th>\n",
       "      <th>FeePaid</th>\n",
       "      <th>Parking meters</th>\n",
       "      <th>Disability parking</th>\n",
       "      <th>Unemployment_rate</th>\n",
       "      <th>Without children at home</th>\n",
       "      <th>1 child</th>\n",
       "      <th>2 children</th>\n",
       "      <th>3 or more children</th>\n",
       "      <th>English</th>\n",
       "      <th>...</th>\n",
       "      <th>other transportation</th>\n",
       "      <th>Worked at home</th>\n",
       "      <th>Worked at usual place</th>\n",
       "      <th>Worked outside Canada</th>\n",
       "      <th>No fixed workplace</th>\n",
       "      <th>education below postsecondary</th>\n",
       "      <th>education above postsecondary</th>\n",
       "      <th>Non-immigrants</th>\n",
       "      <th>Non-permanent residents</th>\n",
       "      <th>Immigrants</th>\n",
       "    </tr>\n",
       "  </thead>\n",
       "  <tbody>\n",
       "    <tr>\n",
       "      <th>count</th>\n",
       "      <td>1.795020e+05</td>\n",
       "      <td>443599.000000</td>\n",
       "      <td>409894.000000</td>\n",
       "      <td>434145.000000</td>\n",
       "      <td>448011.000000</td>\n",
       "      <td>448011.000000</td>\n",
       "      <td>448011.000000</td>\n",
       "      <td>448011.000000</td>\n",
       "      <td>448011.000000</td>\n",
       "      <td>448011.000000</td>\n",
       "      <td>...</td>\n",
       "      <td>448011.000000</td>\n",
       "      <td>448011.000000</td>\n",
       "      <td>448011.000000</td>\n",
       "      <td>448011.000000</td>\n",
       "      <td>448011.000000</td>\n",
       "      <td>448011.000000</td>\n",
       "      <td>448011.000000</td>\n",
       "      <td>448011.000000</td>\n",
       "      <td>448011.000000</td>\n",
       "      <td>448011.000000</td>\n",
       "    </tr>\n",
       "    <tr>\n",
       "      <th>mean</th>\n",
       "      <td>6.739126e+04</td>\n",
       "      <td>202.333659</td>\n",
       "      <td>1648.666626</td>\n",
       "      <td>11.186046</td>\n",
       "      <td>6.266494</td>\n",
       "      <td>0.592673</td>\n",
       "      <td>0.198782</td>\n",
       "      <td>0.158850</td>\n",
       "      <td>0.049495</td>\n",
       "      <td>0.560665</td>\n",
       "      <td>...</td>\n",
       "      <td>0.015732</td>\n",
       "      <td>0.092852</td>\n",
       "      <td>0.792807</td>\n",
       "      <td>0.010820</td>\n",
       "      <td>0.103521</td>\n",
       "      <td>0.359783</td>\n",
       "      <td>0.640217</td>\n",
       "      <td>0.547568</td>\n",
       "      <td>0.048296</td>\n",
       "      <td>0.404159</td>\n",
       "    </tr>\n",
       "    <tr>\n",
       "      <th>std</th>\n",
       "      <td>2.018491e+07</td>\n",
       "      <td>436.703545</td>\n",
       "      <td>1538.957270</td>\n",
       "      <td>6.840940</td>\n",
       "      <td>1.413287</td>\n",
       "      <td>0.156282</td>\n",
       "      <td>0.038368</td>\n",
       "      <td>0.083252</td>\n",
       "      <td>0.041358</td>\n",
       "      <td>0.140725</td>\n",
       "      <td>...</td>\n",
       "      <td>0.004988</td>\n",
       "      <td>0.028627</td>\n",
       "      <td>0.026758</td>\n",
       "      <td>0.007562</td>\n",
       "      <td>0.021872</td>\n",
       "      <td>0.139427</td>\n",
       "      <td>0.139427</td>\n",
       "      <td>0.098328</td>\n",
       "      <td>0.030938</td>\n",
       "      <td>0.101331</td>\n",
       "    </tr>\n",
       "    <tr>\n",
       "      <th>min</th>\n",
       "      <td>0.000000e+00</td>\n",
       "      <td>-940.000000</td>\n",
       "      <td>7.000000</td>\n",
       "      <td>1.000000</td>\n",
       "      <td>4.000000</td>\n",
       "      <td>0.303209</td>\n",
       "      <td>0.118407</td>\n",
       "      <td>0.043171</td>\n",
       "      <td>0.006378</td>\n",
       "      <td>0.256763</td>\n",
       "      <td>...</td>\n",
       "      <td>0.003484</td>\n",
       "      <td>0.033845</td>\n",
       "      <td>0.676393</td>\n",
       "      <td>0.000000</td>\n",
       "      <td>0.041667</td>\n",
       "      <td>0.138569</td>\n",
       "      <td>0.005047</td>\n",
       "      <td>0.310705</td>\n",
       "      <td>0.008676</td>\n",
       "      <td>0.256277</td>\n",
       "    </tr>\n",
       "    <tr>\n",
       "      <th>25%</th>\n",
       "      <td>1.000000e+00</td>\n",
       "      <td>100.000000</td>\n",
       "      <td>280.000000</td>\n",
       "      <td>5.000000</td>\n",
       "      <td>4.700000</td>\n",
       "      <td>0.408842</td>\n",
       "      <td>0.173055</td>\n",
       "      <td>0.087394</td>\n",
       "      <td>0.015099</td>\n",
       "      <td>0.459787</td>\n",
       "      <td>...</td>\n",
       "      <td>0.011740</td>\n",
       "      <td>0.077628</td>\n",
       "      <td>0.784780</td>\n",
       "      <td>0.005785</td>\n",
       "      <td>0.086070</td>\n",
       "      <td>0.237883</td>\n",
       "      <td>0.544681</td>\n",
       "      <td>0.504460</td>\n",
       "      <td>0.023744</td>\n",
       "      <td>0.321346</td>\n",
       "    </tr>\n",
       "    <tr>\n",
       "      <th>50%</th>\n",
       "      <td>2.000000e+00</td>\n",
       "      <td>126.000000</td>\n",
       "      <td>940.000000</td>\n",
       "      <td>10.000000</td>\n",
       "      <td>6.600000</td>\n",
       "      <td>0.657711</td>\n",
       "      <td>0.189055</td>\n",
       "      <td>0.122388</td>\n",
       "      <td>0.026539</td>\n",
       "      <td>0.570918</td>\n",
       "      <td>...</td>\n",
       "      <td>0.015165</td>\n",
       "      <td>0.101322</td>\n",
       "      <td>0.792766</td>\n",
       "      <td>0.008735</td>\n",
       "      <td>0.100564</td>\n",
       "      <td>0.340364</td>\n",
       "      <td>0.659636</td>\n",
       "      <td>0.542273</td>\n",
       "      <td>0.037511</td>\n",
       "      <td>0.390754</td>\n",
       "    </tr>\n",
       "    <tr>\n",
       "      <th>75%</th>\n",
       "      <td>6.000000e+00</td>\n",
       "      <td>166.000000</td>\n",
       "      <td>3771.000000</td>\n",
       "      <td>19.000000</td>\n",
       "      <td>7.200000</td>\n",
       "      <td>0.730159</td>\n",
       "      <td>0.232658</td>\n",
       "      <td>0.255413</td>\n",
       "      <td>0.078853</td>\n",
       "      <td>0.648828</td>\n",
       "      <td>...</td>\n",
       "      <td>0.018963</td>\n",
       "      <td>0.105563</td>\n",
       "      <td>0.809569</td>\n",
       "      <td>0.014189</td>\n",
       "      <td>0.119759</td>\n",
       "      <td>0.455319</td>\n",
       "      <td>0.762117</td>\n",
       "      <td>0.629853</td>\n",
       "      <td>0.064937</td>\n",
       "      <td>0.462656</td>\n",
       "    </tr>\n",
       "    <tr>\n",
       "      <th>max</th>\n",
       "      <td>6.047106e+09</td>\n",
       "      <td>33155.000000</td>\n",
       "      <td>3771.000000</td>\n",
       "      <td>19.000000</td>\n",
       "      <td>8.800000</td>\n",
       "      <td>0.824004</td>\n",
       "      <td>0.305720</td>\n",
       "      <td>0.308194</td>\n",
       "      <td>0.203310</td>\n",
       "      <td>0.792318</td>\n",
       "      <td>...</td>\n",
       "      <td>0.041005</td>\n",
       "      <td>0.205570</td>\n",
       "      <td>0.868699</td>\n",
       "      <td>0.049089</td>\n",
       "      <td>0.166318</td>\n",
       "      <td>0.994953</td>\n",
       "      <td>0.861431</td>\n",
       "      <td>0.719883</td>\n",
       "      <td>0.113870</td>\n",
       "      <td>0.662663</td>\n",
       "    </tr>\n",
       "    <tr>\n",
       "      <th>missing</th>\n",
       "      <td>2.685090e+05</td>\n",
       "      <td>4412.000000</td>\n",
       "      <td>38117.000000</td>\n",
       "      <td>13866.000000</td>\n",
       "      <td>0.000000</td>\n",
       "      <td>0.000000</td>\n",
       "      <td>0.000000</td>\n",
       "      <td>0.000000</td>\n",
       "      <td>0.000000</td>\n",
       "      <td>0.000000</td>\n",
       "      <td>...</td>\n",
       "      <td>0.000000</td>\n",
       "      <td>0.000000</td>\n",
       "      <td>0.000000</td>\n",
       "      <td>0.000000</td>\n",
       "      <td>0.000000</td>\n",
       "      <td>0.000000</td>\n",
       "      <td>0.000000</td>\n",
       "      <td>0.000000</td>\n",
       "      <td>0.000000</td>\n",
       "      <td>0.000000</td>\n",
       "    </tr>\n",
       "  </tbody>\n",
       "</table>\n",
       "<p>9 rows × 100 columns</p>\n",
       "</div>"
      ],
      "text/plain": [
       "         NumberofEmployees        FeePaid  Parking meters  Disability parking  \\\n",
       "count         1.795020e+05  443599.000000   409894.000000       434145.000000   \n",
       "mean          6.739126e+04     202.333659     1648.666626           11.186046   \n",
       "std           2.018491e+07     436.703545     1538.957270            6.840940   \n",
       "min           0.000000e+00    -940.000000        7.000000            1.000000   \n",
       "25%           1.000000e+00     100.000000      280.000000            5.000000   \n",
       "50%           2.000000e+00     126.000000      940.000000           10.000000   \n",
       "75%           6.000000e+00     166.000000     3771.000000           19.000000   \n",
       "max           6.047106e+09   33155.000000     3771.000000           19.000000   \n",
       "missing       2.685090e+05    4412.000000    38117.000000        13866.000000   \n",
       "\n",
       "         Unemployment_rate  Without children at home        1 child  \\\n",
       "count        448011.000000             448011.000000  448011.000000   \n",
       "mean              6.266494                  0.592673       0.198782   \n",
       "std               1.413287                  0.156282       0.038368   \n",
       "min               4.000000                  0.303209       0.118407   \n",
       "25%               4.700000                  0.408842       0.173055   \n",
       "50%               6.600000                  0.657711       0.189055   \n",
       "75%               7.200000                  0.730159       0.232658   \n",
       "max               8.800000                  0.824004       0.305720   \n",
       "missing           0.000000                  0.000000       0.000000   \n",
       "\n",
       "            2 children  3 or more children        English  ...  \\\n",
       "count    448011.000000       448011.000000  448011.000000  ...   \n",
       "mean          0.158850            0.049495       0.560665  ...   \n",
       "std           0.083252            0.041358       0.140725  ...   \n",
       "min           0.043171            0.006378       0.256763  ...   \n",
       "25%           0.087394            0.015099       0.459787  ...   \n",
       "50%           0.122388            0.026539       0.570918  ...   \n",
       "75%           0.255413            0.078853       0.648828  ...   \n",
       "max           0.308194            0.203310       0.792318  ...   \n",
       "missing       0.000000            0.000000       0.000000  ...   \n",
       "\n",
       "         other transportation  Worked at home  Worked at usual place  \\\n",
       "count           448011.000000   448011.000000          448011.000000   \n",
       "mean                 0.015732        0.092852               0.792807   \n",
       "std                  0.004988        0.028627               0.026758   \n",
       "min                  0.003484        0.033845               0.676393   \n",
       "25%                  0.011740        0.077628               0.784780   \n",
       "50%                  0.015165        0.101322               0.792766   \n",
       "75%                  0.018963        0.105563               0.809569   \n",
       "max                  0.041005        0.205570               0.868699   \n",
       "missing              0.000000        0.000000               0.000000   \n",
       "\n",
       "         Worked outside Canada  No fixed workplace  \\\n",
       "count            448011.000000       448011.000000   \n",
       "mean                  0.010820            0.103521   \n",
       "std                   0.007562            0.021872   \n",
       "min                   0.000000            0.041667   \n",
       "25%                   0.005785            0.086070   \n",
       "50%                   0.008735            0.100564   \n",
       "75%                   0.014189            0.119759   \n",
       "max                   0.049089            0.166318   \n",
       "missing               0.000000            0.000000   \n",
       "\n",
       "         education below postsecondary  education above postsecondary  \\\n",
       "count                    448011.000000                  448011.000000   \n",
       "mean                          0.359783                       0.640217   \n",
       "std                           0.139427                       0.139427   \n",
       "min                           0.138569                       0.005047   \n",
       "25%                           0.237883                       0.544681   \n",
       "50%                           0.340364                       0.659636   \n",
       "75%                           0.455319                       0.762117   \n",
       "max                           0.994953                       0.861431   \n",
       "missing                       0.000000                       0.000000   \n",
       "\n",
       "         Non-immigrants  Non-permanent residents     Immigrants  \n",
       "count     448011.000000            448011.000000  448011.000000  \n",
       "mean           0.547568                 0.048296       0.404159  \n",
       "std            0.098328                 0.030938       0.101331  \n",
       "min            0.310705                 0.008676       0.256277  \n",
       "25%            0.504460                 0.023744       0.321346  \n",
       "50%            0.542273                 0.037511       0.390754  \n",
       "75%            0.629853                 0.064937       0.462656  \n",
       "max            0.719883                 0.113870       0.662663  \n",
       "missing        0.000000                 0.000000       0.000000  \n",
       "\n",
       "[9 rows x 100 columns]"
      ]
     },
     "metadata": {
      "tags": []
     },
     "output_type": "display_data"
    },
    {
     "data": {
      "text/html": [
       "<div>\n",
       "<style scoped>\n",
       "    .dataframe tbody tr th:only-of-type {\n",
       "        vertical-align: middle;\n",
       "    }\n",
       "\n",
       "    .dataframe tbody tr th {\n",
       "        vertical-align: top;\n",
       "    }\n",
       "\n",
       "    .dataframe thead th {\n",
       "        text-align: right;\n",
       "    }\n",
       "</style>\n",
       "<table border=\"1\" class=\"dataframe\">\n",
       "  <thead>\n",
       "    <tr style=\"text-align: right;\">\n",
       "      <th></th>\n",
       "      <th>cat_var</th>\n",
       "      <th>missing</th>\n",
       "      <th>unique</th>\n",
       "    </tr>\n",
       "  </thead>\n",
       "  <tbody>\n",
       "    <tr>\n",
       "      <th>0</th>\n",
       "      <td>FOLDERYEAR</td>\n",
       "      <td>0</td>\n",
       "      <td>23</td>\n",
       "    </tr>\n",
       "    <tr>\n",
       "      <th>1</th>\n",
       "      <td>BusinessIndustry</td>\n",
       "      <td>0</td>\n",
       "      <td>15</td>\n",
       "    </tr>\n",
       "    <tr>\n",
       "      <th>2</th>\n",
       "      <td>LocalArea</td>\n",
       "      <td>0</td>\n",
       "      <td>22</td>\n",
       "    </tr>\n",
       "  </tbody>\n",
       "</table>\n",
       "</div>"
      ],
      "text/plain": [
       "            cat_var  missing  unique\n",
       "0        FOLDERYEAR        0      23\n",
       "1  BusinessIndustry        0      15\n",
       "2         LocalArea        0      22"
      ]
     },
     "metadata": {
      "tags": []
     },
     "output_type": "display_data"
    }
   ],
   "source": [
    "num_df, cat_df = describe_data(train, num_vars, cat_vars)\n",
    "display(num_df, cat_df)"
   ]
  },
  {
   "cell_type": "code",
   "execution_count": 0,
   "metadata": {
    "colab": {},
    "colab_type": "code",
    "id": "rP7IcAQksCH2",
    "outputId": "6455296c-df49-470b-ecc0-185028b709da"
   },
   "outputs": [
    {
     "data": {
      "text/plain": [
       "1    375350\n",
       "0     72661\n",
       "Name: label, dtype: int64"
      ]
     },
     "execution_count": 62,
     "metadata": {
      "tags": []
     },
     "output_type": "execute_result"
    }
   ],
   "source": [
    "train['label'].value_counts()"
   ]
  },
  {
   "cell_type": "markdown",
   "metadata": {
    "colab_type": "text",
    "id": "1ZQNeZgysCH5"
   },
   "source": [
    "## 3. Feauture Engineering <a name=\"fe\"></a>\n",
    "\n",
    "- Including just cleaning for now, other steps to add in the future\n",
    "- Will be moved to a separate feature engineering script"
   ]
  },
  {
   "cell_type": "code",
   "execution_count": 188,
   "metadata": {
    "colab": {},
    "colab_type": "code",
    "id": "JPjPoGw9sCH6"
   },
   "outputs": [],
   "source": [
    "def feature_engineering(df):\n",
    "    df = df[df.LocalArea.notnull()]\n",
    "    #df = df[df.Status == 'Issued']\n",
    "\n",
    "    #df = df[num_vars+cat_vars+label]\n",
    "    return df.drop(columns=label), df['label']\n"
   ]
  },
  {
   "cell_type": "markdown",
   "metadata": {
    "colab_type": "text",
    "id": "FMqcnw_xsCIB"
   },
   "source": [
    "## 4. Split Data <a name=\"sd\"></a>\n",
    "\n",
    "\n",
    "- Split data here because Validation set is used directly as Test"
   ]
  },
  {
   "cell_type": "code",
   "execution_count": 55,
   "metadata": {
    "colab": {},
    "colab_type": "code",
    "id": "yyd1czBysCIC"
   },
   "outputs": [],
   "source": [
    "X_train_valid, y_train_valid = feature_engineering(train)\n",
    "#X_test, y_test = feature_engineering(validation)\n",
    "\n",
    "X_train, X_valid, y_train, y_valid = train_test_split(X_train_valid, y_train_valid, test_size=0.2, random_state=2020)"
   ]
  },
  {
   "cell_type": "markdown",
   "metadata": {
    "colab_type": "text",
    "id": "WlW_4UwqsCIH"
   },
   "source": [
    "## 5. Preprocessing <a name=\"pp\"></a>\n",
    "\n",
    "- include polynomial features (interactions, e.g., local area x business type)"
   ]
  },
  {
   "cell_type": "code",
   "execution_count": 56,
   "metadata": {
    "colab": {},
    "colab_type": "code",
    "id": "kSa_x6IKsCIH"
   },
   "outputs": [],
   "source": [
    "numeric_transformer = Pipeline(steps=[\n",
    "    ('imputer', SimpleImputer(strategy='median')),\n",
    "    ('scaler', StandardScaler())\n",
    "])\n",
    "\n",
    "categorical_transformer = Pipeline(steps=[\n",
    "    ('imputer', SimpleImputer(strategy='constant',\n",
    "                              fill_value='missing')),\n",
    "    ('onehot', OneHotEncoder(\n",
    "        handle_unknown='ignore'))\n",
    "])\n",
    "\n",
    "preprocessor = ColumnTransformer(\n",
    "    transformers=[\n",
    "        ('num', numeric_transformer, num_vars),\n",
    "        ('cat', categorical_transformer, cat_vars)\n",
    "    ])"
   ]
  },
  {
   "cell_type": "markdown",
   "metadata": {
    "colab_type": "text",
    "id": "IMIvkpcpsCIL"
   },
   "source": [
    "## 6. Baseline Model <a name=\"bm\"></a>\n",
    "\n",
    "[ROC AUC](https://github.com/dariyasydykova/open_projects/tree/master/ROC_animation) source"
   ]
  },
  {
   "cell_type": "code",
   "execution_count": 57,
   "metadata": {
    "colab": {},
    "colab_type": "code",
    "id": "PTl7YZdvsCIM"
   },
   "outputs": [],
   "source": [
    "def evaluate_model(model, X_train=X_train, X_test=X_valid, y_train=y_train, y_test=y_valid, verbose=True):\n",
    "    \"\"\"\n",
    "    This function prints train and test accuracies,\n",
    "    classification report, and confusion matrix.\n",
    "    \"\"\"\n",
    "    model.fit(X_train, y_train)\n",
    "    train_acc = model.score(X_train, y_train)\n",
    "    test_acc = model.score(X_test, y_test)\n",
    "    \n",
    "    if verbose:\n",
    "        print(\"Train Accuracy:\", train_acc)\n",
    "        print(\"Validation Accuracy\", test_acc, \"\\n\")\n",
    "\n",
    "        print(classification_report(y_test, model.predict(X_test)))\n",
    "        print(plot_confusion_matrix(model, X_test, y_test,\n",
    "                                     display_labels=[0, 1],\n",
    "                                     cmap=plt.cm.Blues,\n",
    "                                     values_format='d'))\n",
    "    else:\n",
    "        report = {}\n",
    "        f1 = f1_score(y_test, model.predict(X_test))\n",
    "        recall = recall_score(y_test, model.predict(X_test))\n",
    "        precision = precision_score(y_test, model.predict(X_test))\n",
    "        report['renewed'] = [f1, recall, precision]\n",
    "        \n",
    "        f1 = f1_score(y_test, model.predict(X_test), pos_label=0)\n",
    "        recall = recall_score(y_test, model.predict(X_test), pos_label=0)\n",
    "        precision = precision_score(y_test, model.predict(X_test), pos_label=0)\n",
    "        report['not_renewed'] = [f1, recall, precision]\n",
    "        \n",
    "        report['accuracy'] = [train_acc, test_acc]\n",
    "        \n",
    "        return report"
   ]
  },
  {
   "cell_type": "code",
   "execution_count": 105,
   "metadata": {
    "colab": {},
    "colab_type": "code",
    "id": "NL08ipH_sCIP"
   },
   "outputs": [],
   "source": [
    "def roc_curve_auc(model, X_train=X_train, X_test=X_valid, y_train=y_train, y_test=y_valid):\n",
    "    \"\"\"\n",
    "    This function plots ROC curve and prints AUC score.\n",
    "    \"\"\"\n",
    "    # assume fit model first\n",
    "    #mode.fit(X_train, y_train)\n",
    "    fpr, tpr, thresholds = roc_curve(y_test, model.predict_proba(X_test)[:,1])\n",
    "    auc = roc_auc_score(y_test, model.predict_proba(X_test)[:,1])\n",
    "        \n",
    "    fig = plt.figure(figsize=(6, 4))\n",
    "    plt.plot(fpr, tpr)\n",
    "    plt.plot((0,1),(0,1),'--k')\n",
    "    plt.xlabel('false positive rate')\n",
    "    plt.ylabel('true positive rate')\n",
    "    plt.annotate(f'AUC score = {auc: .4f}', (0.0, 0.9))\n",
    "    "
   ]
  },
  {
   "cell_type": "code",
   "execution_count": 28,
   "metadata": {},
   "outputs": [],
   "source": [
    "X_train.drop(columns=['business_id','BusinessName', 'BusinessTradeName','Status',\n",
    "                      'BusinessSubType','Geom','NextYearStatus','BusinessIndustry'],inplace=True)"
   ]
  },
  {
   "cell_type": "code",
   "execution_count": 29,
   "metadata": {},
   "outputs": [],
   "source": [
    "X_valid.drop(columns=['business_id','BusinessName', 'BusinessTradeName','Status',\n",
    "                      'BusinessSubType','Geom','NextYearStatus','BusinessIndustry'],inplace=True)"
   ]
  },
  {
   "cell_type": "code",
   "execution_count": 59,
   "metadata": {
    "colab": {},
    "colab_type": "code",
    "id": "2HOZH8kOsCIS",
    "outputId": "072ef035-f55b-4d56-ed79-602625eff42b"
   },
   "outputs": [
    {
     "name": "stderr",
     "output_type": "stream",
     "text": [
      "/Users/coco/.local/lib/python3.7/site-packages/sklearn/linear_model/_sag.py:330: ConvergenceWarning: The max_iter was reached which means the coef_ did not converge\n",
      "  \"the coef_ did not converge\", ConvergenceWarning)\n"
     ]
    },
    {
     "name": "stdout",
     "output_type": "stream",
     "text": [
      "Train Accuracy: 0.5779335282694583\n",
      "Validation Accuracy 0.5763981116703681 \n",
      "\n",
      "              precision    recall  f1-score   support\n",
      "\n",
      "           0       0.20      0.55      0.29     14416\n",
      "           1       0.87      0.58      0.70     75187\n",
      "\n",
      "    accuracy                           0.58     89603\n",
      "   macro avg       0.54      0.56      0.50     89603\n",
      "weighted avg       0.76      0.58      0.63     89603\n",
      "\n",
      "<sklearn.metrics._plot.confusion_matrix.ConfusionMatrixDisplay object at 0x13b386f98>\n"
     ]
    },
    {
     "data": {
      "image/png": "[encoded data removed]",
      "text/plain": [
       "<Figure size 432x288 with 2 Axes>"
      ]
     },
     "metadata": {
      "needs_background": "light"
     },
     "output_type": "display_data"
    }
   ],
   "source": [
    "lr = LogisticRegression(solver='saga', class_weight='balanced')\n",
    "\n",
    "lr_pip = Pipeline(steps=[('preprocessor', preprocessor),\n",
    "                         ('classifier', lr)])\n",
    "\n",
    "evaluate_model(lr_pip)"
   ]
  },
  {
   "cell_type": "code",
   "execution_count": 63,
   "metadata": {},
   "outputs": [
    {
     "name": "stderr",
     "output_type": "stream",
     "text": [
      "/Users/coco/.local/lib/python3.7/site-packages/sklearn/linear_model/_sag.py:330: ConvergenceWarning: The max_iter was reached which means the coef_ did not converge\n",
      "  \"the coef_ did not converge\", ConvergenceWarning)\n"
     ]
    }
   ],
   "source": [
    "a = evaluate_model(lr_pip, verbose=False)"
   ]
  },
  {
   "cell_type": "code",
   "execution_count": 97,
   "metadata": {},
   "outputs": [],
   "source": [
    "def convert_for_output(df):\n",
    "    renew_df = pd.DataFrame.from_dict(df['renewed'])\n",
    "    renew_df.columns=['renwed']\n",
    "    renew_df['label']=['f1','recall','precision']\n",
    "    renew_df.set_index('label',inplace = True)\n",
    "    \n",
    "    no_df = pd.DataFrame.from_dict(df['not_renewed'])\n",
    "    no_df.columns=['not_renwed']\n",
    "    no_df['label']=['f1','recall','precision']\n",
    "    no_df.set_index('label',inplace = True)\n",
    "    \n",
    "    confusion = pd.concat([renew_df,no_df],axis=1)\n",
    "    \n",
    "    accu = pd.DataFrame(df['accuracy'])\n",
    "    accu.columns=['accuracy']\n",
    "    accu['label']=['train','validation']\n",
    "    accu.set_index('label',inplace = True)\n",
    "    \n",
    "    return confusion, accu"
   ]
  },
  {
   "cell_type": "markdown",
   "metadata": {
    "colab_type": "text",
    "id": "qIxO62pXsCIZ"
   },
   "source": [
    "## 7. Feature Importance and Selection <a name=\"fi\"></a>\n",
    "\n",
    "- weights\n",
    "- RFE\n",
    "- L1, L2\n",
    "- PCA"
   ]
  },
  {
   "cell_type": "code",
   "execution_count": 132,
   "metadata": {
    "colab": {},
    "colab_type": "code",
    "id": "90N125cbsCIZ"
   },
   "outputs": [],
   "source": [
    "def explain_model(pip, df, verbose=True):\n",
    "    pp1_features = num_vars + \\\n",
    "        list(pip['preprocessor'].transformers_[\n",
    "             1][1]['onehot'].get_feature_names())\n",
    "    \n",
    "    return eli5.formatters.as_dataframe.explain_weights_df(pip['classifier'],\n",
    "                             feature_names=pp1_features,\n",
    "                             top=30)\n",
    "\n"
   ]
  },
  {
   "cell_type": "code",
   "execution_count": 134,
   "metadata": {},
   "outputs": [],
   "source": [
    "b = explain_model(lr_pip, X_train)"
   ]
  },
  {
   "cell_type": "code",
   "execution_count": 135,
   "metadata": {
    "colab": {},
    "colab_type": "code",
    "id": "5Sw44KCTsCIj",
    "outputId": "af9187b4-2539-44c3-9ed2-bb2cdb36f43f"
   },
   "outputs": [
    {
     "data": {
      "text/plain": [
       "pandas.core.frame.DataFrame"
      ]
     },
     "execution_count": 135,
     "metadata": {},
     "output_type": "execute_result"
    }
   ],
   "source": [
    "type(b)"
   ]
  },
  {
   "cell_type": "code",
   "execution_count": 0,
   "metadata": {
    "colab": {},
    "colab_type": "code",
    "id": "6zdsxOrYsCIn"
   },
   "outputs": [],
   "source": [
    "rfe_train = X_train.drop(columns=['BusinessIndustry', 'LocalArea'])\n",
    "rfe_train['label']=y_train\n",
    "rfe_train.dropna(inplace=True)\n",
    "rfe_label = rfe_train['label']\n",
    "rfe_train.drop(columns=['label'],inplace=True)"
   ]
  },
  {
   "cell_type": "code",
   "execution_count": 0,
   "metadata": {
    "colab": {},
    "colab_type": "code",
    "id": "YBm1QeuLsCIq"
   },
   "outputs": [],
   "source": [
    "rfe_train = preprocessor.fit_transform(X_train)\n"
   ]
  },
  {
   "cell_type": "code",
   "execution_count": 0,
   "metadata": {
    "colab": {},
    "colab_type": "code",
    "id": "P5pDX3EesCIv"
   },
   "outputs": [],
   "source": [
    "lr = LogisticRegression(solver='saga', class_weight='balanced', penalty ='l1',max_iter=2000)\n",
    "rfe = RFE(estimator = lr, n_features_to_select = 50, step = 10)\n",
    "rfe.fit(rfe_train, y_train)\n",
    "rfe_train_sel = rfe_train.iloc[:, rfe.support_]"
   ]
  },
  {
   "cell_type": "code",
   "execution_count": 0,
   "metadata": {
    "colab": {},
    "colab_type": "code",
    "id": "hWKn66d8sCIy"
   },
   "outputs": [],
   "source": [
    "print(rfe.ranking_)\n",
    "print('The relevant features are'+str(list(rfe_train_sel.columns)))"
   ]
  },
  {
   "cell_type": "markdown",
   "metadata": {
    "colab_type": "text",
    "id": "hkXhEYAEsCI5"
   },
   "source": [
    "## 8. Other Models <a name=\"om\"></a>"
   ]
  },
  {
   "cell_type": "code",
   "execution_count": 0,
   "metadata": {
    "colab": {},
    "colab_type": "code",
    "id": "skAT7F_BsCI6",
    "outputId": "a0d7381e-8484-4e60-c175-e807858deaaa"
   },
   "outputs": [
    {
     "name": "stdout",
     "output_type": "stream",
     "text": [
      "Train Accuracy: 0.594227807415013\n",
      "Validation Accuracy 0.5879490642054396 \n",
      "\n",
      "              precision    recall  f1-score   support\n",
      "\n",
      "           0       0.21      0.58      0.31     14416\n",
      "           1       0.88      0.59      0.71     75187\n",
      "\n",
      "    accuracy                           0.59     89603\n",
      "   macro avg       0.55      0.58      0.51     89603\n",
      "weighted avg       0.77      0.59      0.64     89603\n",
      "\n",
      "<sklearn.metrics._plot.confusion_matrix.ConfusionMatrixDisplay object at 0x1498a5c88>\n"
     ]
    },
    {
     "data": {
      "image/png": "[encoded data removed]",
      "text/plain": [
       "<Figure size 432x288 with 2 Axes>"
      ]
     },
     "metadata": {
      "needs_background": "light",
      "tags": []
     },
     "output_type": "display_data"
    }
   ],
   "source": [
    "lgbm = LGBMClassifier(class_weight='balanced')\n",
    "\n",
    "lgbm_pip = Pipeline(steps=[('preprocessor', preprocessor),\n",
    "                           ('classifier', lgbm)])\n",
    "\n",
    "evaluate_model(lgbm_pip)"
   ]
  },
  {
   "cell_type": "code",
   "execution_count": 0,
   "metadata": {
    "colab": {},
    "colab_type": "code",
    "id": "Xw0N73tesCI9"
   },
   "outputs": [],
   "source": [
    "roc_curve_auc(lgbm_pip)"
   ]
  },
  {
   "cell_type": "code",
   "execution_count": 0,
   "metadata": {
    "colab": {},
    "colab_type": "code",
    "id": "2WoNKcOKsCJA"
   },
   "outputs": [],
   "source": [
    "explain_model(lgbm_pip, X_train)"
   ]
  },
  {
   "cell_type": "code",
   "execution_count": 0,
   "metadata": {
    "colab": {
     "base_uri": "https://localhost:8080/",
     "height": 500
    },
    "colab_type": "code",
    "id": "BmyZEyUVsCJD",
    "outputId": "3c798d9a-688b-4978-efae-de8a5148dbea"
   },
   "outputs": [
    {
     "name": "stdout",
     "output_type": "stream",
     "text": [
      "Train Accuracy: 0.8011488750598372\n",
      "Validation Accuracy 0.7982388973966309 \n",
      "\n",
      "              precision    recall  f1-score   support\n",
      "\n",
      "           0       0.50      0.00      0.00       527\n",
      "           1       0.80      1.00      0.89      2085\n",
      "\n",
      "    accuracy                           0.80      2612\n",
      "   macro avg       0.65      0.50      0.45      2612\n",
      "weighted avg       0.74      0.80      0.71      2612\n",
      "\n",
      "<sklearn.metrics._plot.confusion_matrix.ConfusionMatrixDisplay object at 0x7fa3ee87f748>\n"
     ]
    },
    {
     "data": {
      "image/png": "[encoded data removed]",
      "text/plain": [
       "<Figure size 432x288 with 2 Axes>"
      ]
     },
     "metadata": {
      "needs_background": "light",
      "tags": []
     },
     "output_type": "display_data"
    }
   ],
   "source": [
    "xgboost = XGBClassifier(objective=\"binary:logistic\", random_state=42)\n",
    "\n",
    "xg_pip = Pipeline(steps=[('preprocessor', preprocessor),\n",
    "                           ('classifier', xgboost)])\n",
    "\n",
    "evaluate_model(xg_pip)"
   ]
  },
  {
   "cell_type": "code",
   "execution_count": 0,
   "metadata": {
    "colab": {},
    "colab_type": "code",
    "id": "auGHjgCjsCJG"
   },
   "outputs": [],
   "source": [
    "roc_curve_auc(lgbm_pip)"
   ]
  },
  {
   "cell_type": "code",
   "execution_count": 0,
   "metadata": {
    "colab": {
     "base_uri": "https://localhost:8080/",
     "height": 429
    },
    "colab_type": "code",
    "id": "rApVxhszsCJL",
    "outputId": "23193277-3d66-4493-be67-93b30b9ede97"
   },
   "outputs": [
    {
     "name": "stderr",
     "output_type": "stream",
     "text": [
      "/usr/local/lib/python3.6/dist-packages/sklearn/utils/deprecation.py:87: FutureWarning: Function safe_indexing is deprecated; safe_indexing is deprecated in version 0.22 and will be removed in version 0.24.\n",
      "  warnings.warn(msg, category=FutureWarning)\n",
      "/usr/local/lib/python3.6/dist-packages/sklearn/linear_model/_sag.py:330: ConvergenceWarning: The max_iter was reached which means the coef_ did not converge\n",
      "  \"the coef_ did not converge\", ConvergenceWarning)\n"
     ]
    },
    {
     "ename": "KeyboardInterrupt",
     "evalue": "ignored",
     "output_type": "error",
     "traceback": [
      "\u001b[0;31m---------------------------------------------------------------------------\u001b[0m",
      "\u001b[0;31mKeyboardInterrupt\u001b[0m                         Traceback (most recent call last)",
      "\u001b[0;32m<ipython-input-18-ffed58a4762f>\u001b[0m in \u001b[0;36m<module>\u001b[0;34m()\u001b[0m\n\u001b[1;32m     12\u001b[0m                              \u001b[0;34m(\u001b[0m\u001b[0;34m'smote'\u001b[0m\u001b[0;34m,\u001b[0m \u001b[0mSMOTE\u001b[0m\u001b[0;34m(\u001b[0m\u001b[0msampling_strategy\u001b[0m\u001b[0;34m=\u001b[0m\u001b[0;36m0.85\u001b[0m\u001b[0;34m)\u001b[0m\u001b[0;34m)\u001b[0m\u001b[0;34m,\u001b[0m\u001b[0;34m\u001b[0m\u001b[0;34m\u001b[0m\u001b[0m\n\u001b[1;32m     13\u001b[0m                            ('classifier', ensemble)])\n\u001b[0;32m---> 14\u001b[0;31m \u001b[0mevaluate_model\u001b[0m\u001b[0;34m(\u001b[0m\u001b[0mvoting_pip\u001b[0m\u001b[0;34m)\u001b[0m\u001b[0;34m\u001b[0m\u001b[0;34m\u001b[0m\u001b[0m\n\u001b[0m",
      "\u001b[0;32m<ipython-input-10-8093a9ec3a84>\u001b[0m in \u001b[0;36mevaluate_model\u001b[0;34m(model, X_train, X_test, y_train, y_test, verbose)\u001b[0m\n\u001b[1;32m      4\u001b[0m     \u001b[0mclassification\u001b[0m \u001b[0mreport\u001b[0m\u001b[0;34m,\u001b[0m \u001b[0;32mand\u001b[0m \u001b[0mconfusion\u001b[0m \u001b[0mmatrix\u001b[0m\u001b[0;34m.\u001b[0m\u001b[0;34m\u001b[0m\u001b[0;34m\u001b[0m\u001b[0m\n\u001b[1;32m      5\u001b[0m     \"\"\"\n\u001b[0;32m----> 6\u001b[0;31m     \u001b[0mmodel\u001b[0m\u001b[0;34m.\u001b[0m\u001b[0mfit\u001b[0m\u001b[0;34m(\u001b[0m\u001b[0mX_train\u001b[0m\u001b[0;34m,\u001b[0m \u001b[0my_train\u001b[0m\u001b[0;34m)\u001b[0m\u001b[0;34m\u001b[0m\u001b[0;34m\u001b[0m\u001b[0m\n\u001b[0m\u001b[1;32m      7\u001b[0m     \u001b[0mtrain_acc\u001b[0m \u001b[0;34m=\u001b[0m \u001b[0mmodel\u001b[0m\u001b[0;34m.\u001b[0m\u001b[0mscore\u001b[0m\u001b[0;34m(\u001b[0m\u001b[0mX_train\u001b[0m\u001b[0;34m,\u001b[0m \u001b[0my_train\u001b[0m\u001b[0;34m)\u001b[0m\u001b[0;34m\u001b[0m\u001b[0;34m\u001b[0m\u001b[0m\n\u001b[1;32m      8\u001b[0m     \u001b[0mtest_acc\u001b[0m \u001b[0;34m=\u001b[0m \u001b[0mmodel\u001b[0m\u001b[0;34m.\u001b[0m\u001b[0mscore\u001b[0m\u001b[0;34m(\u001b[0m\u001b[0mX_test\u001b[0m\u001b[0;34m,\u001b[0m \u001b[0my_test\u001b[0m\u001b[0;34m)\u001b[0m\u001b[0;34m\u001b[0m\u001b[0;34m\u001b[0m\u001b[0m\n",
      "\u001b[0;32m/usr/local/lib/python3.6/dist-packages/imblearn/pipeline.py\u001b[0m in \u001b[0;36mfit\u001b[0;34m(self, X, y, **fit_params)\u001b[0m\n\u001b[1;32m    237\u001b[0m         \u001b[0mXt\u001b[0m\u001b[0;34m,\u001b[0m \u001b[0myt\u001b[0m\u001b[0;34m,\u001b[0m \u001b[0mfit_params\u001b[0m \u001b[0;34m=\u001b[0m \u001b[0mself\u001b[0m\u001b[0;34m.\u001b[0m\u001b[0m_fit\u001b[0m\u001b[0;34m(\u001b[0m\u001b[0mX\u001b[0m\u001b[0;34m,\u001b[0m \u001b[0my\u001b[0m\u001b[0;34m,\u001b[0m \u001b[0;34m**\u001b[0m\u001b[0mfit_params\u001b[0m\u001b[0;34m)\u001b[0m\u001b[0;34m\u001b[0m\u001b[0;34m\u001b[0m\u001b[0m\n\u001b[1;32m    238\u001b[0m         \u001b[0;32mif\u001b[0m \u001b[0mself\u001b[0m\u001b[0;34m.\u001b[0m\u001b[0m_final_estimator\u001b[0m \u001b[0;32mis\u001b[0m \u001b[0;32mnot\u001b[0m \u001b[0;32mNone\u001b[0m\u001b[0;34m:\u001b[0m\u001b[0;34m\u001b[0m\u001b[0;34m\u001b[0m\u001b[0m\n\u001b[0;32m--> 239\u001b[0;31m             \u001b[0mself\u001b[0m\u001b[0;34m.\u001b[0m\u001b[0m_final_estimator\u001b[0m\u001b[0;34m.\u001b[0m\u001b[0mfit\u001b[0m\u001b[0;34m(\u001b[0m\u001b[0mXt\u001b[0m\u001b[0;34m,\u001b[0m \u001b[0myt\u001b[0m\u001b[0;34m,\u001b[0m \u001b[0;34m**\u001b[0m\u001b[0mfit_params\u001b[0m\u001b[0;34m)\u001b[0m\u001b[0;34m\u001b[0m\u001b[0;34m\u001b[0m\u001b[0m\n\u001b[0m\u001b[1;32m    240\u001b[0m         \u001b[0;32mreturn\u001b[0m \u001b[0mself\u001b[0m\u001b[0;34m\u001b[0m\u001b[0;34m\u001b[0m\u001b[0m\n\u001b[1;32m    241\u001b[0m \u001b[0;34m\u001b[0m\u001b[0m\n",
      "\u001b[0;32m/usr/local/lib/python3.6/dist-packages/sklearn/ensemble/_voting.py\u001b[0m in \u001b[0;36mfit\u001b[0;34m(self, X, y, sample_weight)\u001b[0m\n\u001b[1;32m    220\u001b[0m         \u001b[0mtransformed_y\u001b[0m \u001b[0;34m=\u001b[0m \u001b[0mself\u001b[0m\u001b[0;34m.\u001b[0m\u001b[0mle_\u001b[0m\u001b[0;34m.\u001b[0m\u001b[0mtransform\u001b[0m\u001b[0;34m(\u001b[0m\u001b[0my\u001b[0m\u001b[0;34m)\u001b[0m\u001b[0;34m\u001b[0m\u001b[0;34m\u001b[0m\u001b[0m\n\u001b[1;32m    221\u001b[0m \u001b[0;34m\u001b[0m\u001b[0m\n\u001b[0;32m--> 222\u001b[0;31m         \u001b[0;32mreturn\u001b[0m \u001b[0msuper\u001b[0m\u001b[0;34m(\u001b[0m\u001b[0;34m)\u001b[0m\u001b[0;34m.\u001b[0m\u001b[0mfit\u001b[0m\u001b[0;34m(\u001b[0m\u001b[0mX\u001b[0m\u001b[0;34m,\u001b[0m \u001b[0mtransformed_y\u001b[0m\u001b[0;34m,\u001b[0m \u001b[0msample_weight\u001b[0m\u001b[0;34m)\u001b[0m\u001b[0;34m\u001b[0m\u001b[0;34m\u001b[0m\u001b[0m\n\u001b[0m\u001b[1;32m    223\u001b[0m \u001b[0;34m\u001b[0m\u001b[0m\n\u001b[1;32m    224\u001b[0m     \u001b[0;32mdef\u001b[0m \u001b[0mpredict\u001b[0m\u001b[0;34m(\u001b[0m\u001b[0mself\u001b[0m\u001b[0;34m,\u001b[0m \u001b[0mX\u001b[0m\u001b[0;34m)\u001b[0m\u001b[0;34m:\u001b[0m\u001b[0;34m\u001b[0m\u001b[0;34m\u001b[0m\u001b[0m\n",
      "\u001b[0;32m/usr/local/lib/python3.6/dist-packages/sklearn/ensemble/_voting.py\u001b[0m in \u001b[0;36mfit\u001b[0;34m(self, X, y, sample_weight)\u001b[0m\n\u001b[1;32m     66\u001b[0m                 delayed(_parallel_fit_estimator)(clone(clf), X, y,\n\u001b[1;32m     67\u001b[0m                                                  sample_weight=sample_weight)\n\u001b[0;32m---> 68\u001b[0;31m                 \u001b[0;32mfor\u001b[0m \u001b[0mclf\u001b[0m \u001b[0;32min\u001b[0m \u001b[0mclfs\u001b[0m \u001b[0;32mif\u001b[0m \u001b[0mclf\u001b[0m \u001b[0;32mnot\u001b[0m \u001b[0;32min\u001b[0m \u001b[0;34m(\u001b[0m\u001b[0;32mNone\u001b[0m\u001b[0;34m,\u001b[0m \u001b[0;34m'drop'\u001b[0m\u001b[0;34m)\u001b[0m\u001b[0;34m\u001b[0m\u001b[0;34m\u001b[0m\u001b[0m\n\u001b[0m\u001b[1;32m     69\u001b[0m             )\n\u001b[1;32m     70\u001b[0m \u001b[0;34m\u001b[0m\u001b[0m\n",
      "\u001b[0;32m/usr/local/lib/python3.6/dist-packages/joblib/parallel.py\u001b[0m in \u001b[0;36m__call__\u001b[0;34m(self, iterable)\u001b[0m\n\u001b[1;32m   1030\u001b[0m                 \u001b[0mself\u001b[0m\u001b[0;34m.\u001b[0m\u001b[0m_iterating\u001b[0m \u001b[0;34m=\u001b[0m \u001b[0mself\u001b[0m\u001b[0;34m.\u001b[0m\u001b[0m_original_iterator\u001b[0m \u001b[0;32mis\u001b[0m \u001b[0;32mnot\u001b[0m \u001b[0;32mNone\u001b[0m\u001b[0;34m\u001b[0m\u001b[0;34m\u001b[0m\u001b[0m\n\u001b[1;32m   1031\u001b[0m \u001b[0;34m\u001b[0m\u001b[0m\n\u001b[0;32m-> 1032\u001b[0;31m             \u001b[0;32mwhile\u001b[0m \u001b[0mself\u001b[0m\u001b[0;34m.\u001b[0m\u001b[0mdispatch_one_batch\u001b[0m\u001b[0;34m(\u001b[0m\u001b[0miterator\u001b[0m\u001b[0;34m)\u001b[0m\u001b[0;34m:\u001b[0m\u001b[0;34m\u001b[0m\u001b[0;34m\u001b[0m\u001b[0m\n\u001b[0m\u001b[1;32m   1033\u001b[0m                 \u001b[0;32mpass\u001b[0m\u001b[0;34m\u001b[0m\u001b[0;34m\u001b[0m\u001b[0m\n\u001b[1;32m   1034\u001b[0m \u001b[0;34m\u001b[0m\u001b[0m\n",
      "\u001b[0;32m/usr/local/lib/python3.6/dist-packages/joblib/parallel.py\u001b[0m in \u001b[0;36mdispatch_one_batch\u001b[0;34m(self, iterator)\u001b[0m\n\u001b[1;32m    845\u001b[0m                 \u001b[0;32mreturn\u001b[0m \u001b[0;32mFalse\u001b[0m\u001b[0;34m\u001b[0m\u001b[0;34m\u001b[0m\u001b[0m\n\u001b[1;32m    846\u001b[0m             \u001b[0;32melse\u001b[0m\u001b[0;34m:\u001b[0m\u001b[0;34m\u001b[0m\u001b[0;34m\u001b[0m\u001b[0m\n\u001b[0;32m--> 847\u001b[0;31m                 \u001b[0mself\u001b[0m\u001b[0;34m.\u001b[0m\u001b[0m_dispatch\u001b[0m\u001b[0;34m(\u001b[0m\u001b[0mtasks\u001b[0m\u001b[0;34m)\u001b[0m\u001b[0;34m\u001b[0m\u001b[0;34m\u001b[0m\u001b[0m\n\u001b[0m\u001b[1;32m    848\u001b[0m                 \u001b[0;32mreturn\u001b[0m \u001b[0;32mTrue\u001b[0m\u001b[0;34m\u001b[0m\u001b[0;34m\u001b[0m\u001b[0m\n\u001b[1;32m    849\u001b[0m \u001b[0;34m\u001b[0m\u001b[0m\n",
      "\u001b[0;32m/usr/local/lib/python3.6/dist-packages/joblib/parallel.py\u001b[0m in \u001b[0;36m_dispatch\u001b[0;34m(self, batch)\u001b[0m\n\u001b[1;32m    763\u001b[0m         \u001b[0;32mwith\u001b[0m \u001b[0mself\u001b[0m\u001b[0;34m.\u001b[0m\u001b[0m_lock\u001b[0m\u001b[0;34m:\u001b[0m\u001b[0;34m\u001b[0m\u001b[0;34m\u001b[0m\u001b[0m\n\u001b[1;32m    764\u001b[0m             \u001b[0mjob_idx\u001b[0m \u001b[0;34m=\u001b[0m \u001b[0mlen\u001b[0m\u001b[0;34m(\u001b[0m\u001b[0mself\u001b[0m\u001b[0;34m.\u001b[0m\u001b[0m_jobs\u001b[0m\u001b[0;34m)\u001b[0m\u001b[0;34m\u001b[0m\u001b[0;34m\u001b[0m\u001b[0m\n\u001b[0;32m--> 765\u001b[0;31m             \u001b[0mjob\u001b[0m \u001b[0;34m=\u001b[0m \u001b[0mself\u001b[0m\u001b[0;34m.\u001b[0m\u001b[0m_backend\u001b[0m\u001b[0;34m.\u001b[0m\u001b[0mapply_async\u001b[0m\u001b[0;34m(\u001b[0m\u001b[0mbatch\u001b[0m\u001b[0;34m,\u001b[0m \u001b[0mcallback\u001b[0m\u001b[0;34m=\u001b[0m\u001b[0mcb\u001b[0m\u001b[0;34m)\u001b[0m\u001b[0;34m\u001b[0m\u001b[0;34m\u001b[0m\u001b[0m\n\u001b[0m\u001b[1;32m    766\u001b[0m             \u001b[0;31m# A job can complete so quickly than its callback is\u001b[0m\u001b[0;34m\u001b[0m\u001b[0;34m\u001b[0m\u001b[0;34m\u001b[0m\u001b[0m\n\u001b[1;32m    767\u001b[0m             \u001b[0;31m# called before we get here, causing self._jobs to\u001b[0m\u001b[0;34m\u001b[0m\u001b[0;34m\u001b[0m\u001b[0;34m\u001b[0m\u001b[0m\n",
      "\u001b[0;32m/usr/local/lib/python3.6/dist-packages/joblib/_parallel_backends.py\u001b[0m in \u001b[0;36mapply_async\u001b[0;34m(self, func, callback)\u001b[0m\n\u001b[1;32m    204\u001b[0m     \u001b[0;32mdef\u001b[0m \u001b[0mapply_async\u001b[0m\u001b[0;34m(\u001b[0m\u001b[0mself\u001b[0m\u001b[0;34m,\u001b[0m \u001b[0mfunc\u001b[0m\u001b[0;34m,\u001b[0m \u001b[0mcallback\u001b[0m\u001b[0;34m=\u001b[0m\u001b[0;32mNone\u001b[0m\u001b[0;34m)\u001b[0m\u001b[0;34m:\u001b[0m\u001b[0;34m\u001b[0m\u001b[0;34m\u001b[0m\u001b[0m\n\u001b[1;32m    205\u001b[0m         \u001b[0;34m\"\"\"Schedule a func to be run\"\"\"\u001b[0m\u001b[0;34m\u001b[0m\u001b[0;34m\u001b[0m\u001b[0m\n\u001b[0;32m--> 206\u001b[0;31m         \u001b[0mresult\u001b[0m \u001b[0;34m=\u001b[0m \u001b[0mImmediateResult\u001b[0m\u001b[0;34m(\u001b[0m\u001b[0mfunc\u001b[0m\u001b[0;34m)\u001b[0m\u001b[0;34m\u001b[0m\u001b[0;34m\u001b[0m\u001b[0m\n\u001b[0m\u001b[1;32m    207\u001b[0m         \u001b[0;32mif\u001b[0m \u001b[0mcallback\u001b[0m\u001b[0;34m:\u001b[0m\u001b[0;34m\u001b[0m\u001b[0;34m\u001b[0m\u001b[0m\n\u001b[1;32m    208\u001b[0m             \u001b[0mcallback\u001b[0m\u001b[0;34m(\u001b[0m\u001b[0mresult\u001b[0m\u001b[0;34m)\u001b[0m\u001b[0;34m\u001b[0m\u001b[0;34m\u001b[0m\u001b[0m\n",
      "\u001b[0;32m/usr/local/lib/python3.6/dist-packages/joblib/_parallel_backends.py\u001b[0m in \u001b[0;36m__init__\u001b[0;34m(self, batch)\u001b[0m\n\u001b[1;32m    568\u001b[0m         \u001b[0;31m# Don't delay the application, to avoid keeping the input\u001b[0m\u001b[0;34m\u001b[0m\u001b[0;34m\u001b[0m\u001b[0;34m\u001b[0m\u001b[0m\n\u001b[1;32m    569\u001b[0m         \u001b[0;31m# arguments in memory\u001b[0m\u001b[0;34m\u001b[0m\u001b[0;34m\u001b[0m\u001b[0;34m\u001b[0m\u001b[0m\n\u001b[0;32m--> 570\u001b[0;31m         \u001b[0mself\u001b[0m\u001b[0;34m.\u001b[0m\u001b[0mresults\u001b[0m \u001b[0;34m=\u001b[0m \u001b[0mbatch\u001b[0m\u001b[0;34m(\u001b[0m\u001b[0;34m)\u001b[0m\u001b[0;34m\u001b[0m\u001b[0;34m\u001b[0m\u001b[0m\n\u001b[0m\u001b[1;32m    571\u001b[0m \u001b[0;34m\u001b[0m\u001b[0m\n\u001b[1;32m    572\u001b[0m     \u001b[0;32mdef\u001b[0m \u001b[0mget\u001b[0m\u001b[0;34m(\u001b[0m\u001b[0mself\u001b[0m\u001b[0;34m)\u001b[0m\u001b[0;34m:\u001b[0m\u001b[0;34m\u001b[0m\u001b[0;34m\u001b[0m\u001b[0m\n",
      "\u001b[0;32m/usr/local/lib/python3.6/dist-packages/joblib/parallel.py\u001b[0m in \u001b[0;36m__call__\u001b[0;34m(self)\u001b[0m\n\u001b[1;32m    251\u001b[0m         \u001b[0;32mwith\u001b[0m \u001b[0mparallel_backend\u001b[0m\u001b[0;34m(\u001b[0m\u001b[0mself\u001b[0m\u001b[0;34m.\u001b[0m\u001b[0m_backend\u001b[0m\u001b[0;34m,\u001b[0m \u001b[0mn_jobs\u001b[0m\u001b[0;34m=\u001b[0m\u001b[0mself\u001b[0m\u001b[0;34m.\u001b[0m\u001b[0m_n_jobs\u001b[0m\u001b[0;34m)\u001b[0m\u001b[0;34m:\u001b[0m\u001b[0;34m\u001b[0m\u001b[0;34m\u001b[0m\u001b[0m\n\u001b[1;32m    252\u001b[0m             return [func(*args, **kwargs)\n\u001b[0;32m--> 253\u001b[0;31m                     for func, args, kwargs in self.items]\n\u001b[0m\u001b[1;32m    254\u001b[0m \u001b[0;34m\u001b[0m\u001b[0m\n\u001b[1;32m    255\u001b[0m     \u001b[0;32mdef\u001b[0m \u001b[0m__reduce__\u001b[0m\u001b[0;34m(\u001b[0m\u001b[0mself\u001b[0m\u001b[0;34m)\u001b[0m\u001b[0;34m:\u001b[0m\u001b[0;34m\u001b[0m\u001b[0;34m\u001b[0m\u001b[0m\n",
      "\u001b[0;32m/usr/local/lib/python3.6/dist-packages/joblib/parallel.py\u001b[0m in \u001b[0;36m<listcomp>\u001b[0;34m(.0)\u001b[0m\n\u001b[1;32m    251\u001b[0m         \u001b[0;32mwith\u001b[0m \u001b[0mparallel_backend\u001b[0m\u001b[0;34m(\u001b[0m\u001b[0mself\u001b[0m\u001b[0;34m.\u001b[0m\u001b[0m_backend\u001b[0m\u001b[0;34m,\u001b[0m \u001b[0mn_jobs\u001b[0m\u001b[0;34m=\u001b[0m\u001b[0mself\u001b[0m\u001b[0;34m.\u001b[0m\u001b[0m_n_jobs\u001b[0m\u001b[0;34m)\u001b[0m\u001b[0;34m:\u001b[0m\u001b[0;34m\u001b[0m\u001b[0;34m\u001b[0m\u001b[0m\n\u001b[1;32m    252\u001b[0m             return [func(*args, **kwargs)\n\u001b[0;32m--> 253\u001b[0;31m                     for func, args, kwargs in self.items]\n\u001b[0m\u001b[1;32m    254\u001b[0m \u001b[0;34m\u001b[0m\u001b[0m\n\u001b[1;32m    255\u001b[0m     \u001b[0;32mdef\u001b[0m \u001b[0m__reduce__\u001b[0m\u001b[0;34m(\u001b[0m\u001b[0mself\u001b[0m\u001b[0;34m)\u001b[0m\u001b[0;34m:\u001b[0m\u001b[0;34m\u001b[0m\u001b[0;34m\u001b[0m\u001b[0m\n",
      "\u001b[0;32m/usr/local/lib/python3.6/dist-packages/sklearn/ensemble/_base.py\u001b[0m in \u001b[0;36m_parallel_fit_estimator\u001b[0;34m(estimator, X, y, sample_weight)\u001b[0m\n\u001b[1;32m     34\u001b[0m             \u001b[0;32mraise\u001b[0m\u001b[0;34m\u001b[0m\u001b[0;34m\u001b[0m\u001b[0m\n\u001b[1;32m     35\u001b[0m     \u001b[0;32melse\u001b[0m\u001b[0;34m:\u001b[0m\u001b[0;34m\u001b[0m\u001b[0;34m\u001b[0m\u001b[0m\n\u001b[0;32m---> 36\u001b[0;31m         \u001b[0mestimator\u001b[0m\u001b[0;34m.\u001b[0m\u001b[0mfit\u001b[0m\u001b[0;34m(\u001b[0m\u001b[0mX\u001b[0m\u001b[0;34m,\u001b[0m \u001b[0my\u001b[0m\u001b[0;34m)\u001b[0m\u001b[0;34m\u001b[0m\u001b[0;34m\u001b[0m\u001b[0m\n\u001b[0m\u001b[1;32m     37\u001b[0m     \u001b[0;32mreturn\u001b[0m \u001b[0mestimator\u001b[0m\u001b[0;34m\u001b[0m\u001b[0;34m\u001b[0m\u001b[0m\n\u001b[1;32m     38\u001b[0m \u001b[0;34m\u001b[0m\u001b[0m\n",
      "\u001b[0;32m/usr/local/lib/python3.6/dist-packages/sklearn/svm/_base.py\u001b[0m in \u001b[0;36mfit\u001b[0;34m(self, X, y, sample_weight)\u001b[0m\n\u001b[1;32m    197\u001b[0m \u001b[0;34m\u001b[0m\u001b[0m\n\u001b[1;32m    198\u001b[0m         \u001b[0mseed\u001b[0m \u001b[0;34m=\u001b[0m \u001b[0mrnd\u001b[0m\u001b[0;34m.\u001b[0m\u001b[0mrandint\u001b[0m\u001b[0;34m(\u001b[0m\u001b[0mnp\u001b[0m\u001b[0;34m.\u001b[0m\u001b[0miinfo\u001b[0m\u001b[0;34m(\u001b[0m\u001b[0;34m'i'\u001b[0m\u001b[0;34m)\u001b[0m\u001b[0;34m.\u001b[0m\u001b[0mmax\u001b[0m\u001b[0;34m)\u001b[0m\u001b[0;34m\u001b[0m\u001b[0;34m\u001b[0m\u001b[0m\n\u001b[0;32m--> 199\u001b[0;31m         \u001b[0mfit\u001b[0m\u001b[0;34m(\u001b[0m\u001b[0mX\u001b[0m\u001b[0;34m,\u001b[0m \u001b[0my\u001b[0m\u001b[0;34m,\u001b[0m \u001b[0msample_weight\u001b[0m\u001b[0;34m,\u001b[0m \u001b[0msolver_type\u001b[0m\u001b[0;34m,\u001b[0m \u001b[0mkernel\u001b[0m\u001b[0;34m,\u001b[0m \u001b[0mrandom_seed\u001b[0m\u001b[0;34m=\u001b[0m\u001b[0mseed\u001b[0m\u001b[0;34m)\u001b[0m\u001b[0;34m\u001b[0m\u001b[0;34m\u001b[0m\u001b[0m\n\u001b[0m\u001b[1;32m    200\u001b[0m         \u001b[0;31m# see comment on the other call to np.iinfo in this file\u001b[0m\u001b[0;34m\u001b[0m\u001b[0;34m\u001b[0m\u001b[0;34m\u001b[0m\u001b[0m\n\u001b[1;32m    201\u001b[0m \u001b[0;34m\u001b[0m\u001b[0m\n",
      "\u001b[0;32m/usr/local/lib/python3.6/dist-packages/sklearn/svm/_base.py\u001b[0m in \u001b[0;36m_dense_fit\u001b[0;34m(self, X, y, sample_weight, solver_type, kernel, random_seed)\u001b[0m\n\u001b[1;32m    256\u001b[0m                 \u001b[0mcache_size\u001b[0m\u001b[0;34m=\u001b[0m\u001b[0mself\u001b[0m\u001b[0;34m.\u001b[0m\u001b[0mcache_size\u001b[0m\u001b[0;34m,\u001b[0m \u001b[0mcoef0\u001b[0m\u001b[0;34m=\u001b[0m\u001b[0mself\u001b[0m\u001b[0;34m.\u001b[0m\u001b[0mcoef0\u001b[0m\u001b[0;34m,\u001b[0m\u001b[0;34m\u001b[0m\u001b[0;34m\u001b[0m\u001b[0m\n\u001b[1;32m    257\u001b[0m                 \u001b[0mgamma\u001b[0m\u001b[0;34m=\u001b[0m\u001b[0mself\u001b[0m\u001b[0;34m.\u001b[0m\u001b[0m_gamma\u001b[0m\u001b[0;34m,\u001b[0m \u001b[0mepsilon\u001b[0m\u001b[0;34m=\u001b[0m\u001b[0mself\u001b[0m\u001b[0;34m.\u001b[0m\u001b[0mepsilon\u001b[0m\u001b[0;34m,\u001b[0m\u001b[0;34m\u001b[0m\u001b[0;34m\u001b[0m\u001b[0m\n\u001b[0;32m--> 258\u001b[0;31m                 max_iter=self.max_iter, random_seed=random_seed)\n\u001b[0m\u001b[1;32m    259\u001b[0m \u001b[0;34m\u001b[0m\u001b[0m\n\u001b[1;32m    260\u001b[0m         \u001b[0mself\u001b[0m\u001b[0;34m.\u001b[0m\u001b[0m_warn_from_fit_status\u001b[0m\u001b[0;34m(\u001b[0m\u001b[0;34m)\u001b[0m\u001b[0;34m\u001b[0m\u001b[0;34m\u001b[0m\u001b[0m\n",
      "\u001b[0;31mKeyboardInterrupt\u001b[0m: "
     ]
    }
   ],
   "source": [
    "#use ensemble\n",
    "classifiers_e = {\n",
    "    \"KNN\"                   : KNeighborsClassifier(),\n",
    "    \"Naive Bayes\"           : GaussianNB(),\n",
    "    \"Logistic Regression\"   : LogisticRegression(solver='saga', class_weight='balanced'),\n",
    "    \"SVM\"                   : SVC(probability=True)\n",
    "}\n",
    "\n",
    "\n",
    "ensemble = VotingClassifier(classifiers_e.items(), voting=\"soft\")\n",
    "voting_pip = Pipeline(steps=[('preprocessor', preprocessor),\n",
    "                             ('smote', SMOTE(sampling_strategy=0.85)),\n",
    "                           ('classifier', ensemble)])\n",
    "evaluate_model(voting_pip)"
   ]
  },
  {
   "cell_type": "markdown",
   "metadata": {
    "colab_type": "text",
    "id": "Ld9AQW-lsCJN"
   },
   "source": [
    "## 9. Hyperparameter Tuning <a name=\"ht\"></a>\n",
    "\n",
    "- regularization strength\n",
    "- tree max depth\n",
    "- sampling strategy for SMOTE\n",
    "- missing value imputing strategy\n",
    "- degree of polynomial terms"
   ]
  },
  {
   "cell_type": "code",
   "execution_count": 0,
   "metadata": {
    "colab": {},
    "colab_type": "code",
    "id": "lsOXcAf9sCJO"
   },
   "outputs": [],
   "source": [
    "lrhp = Pipeline(steps=[('preprocessor', preprocessor),\n",
    "                       ('classifier', LGBMClassifier(class_weight='balanced'))])\n",
    "\n",
    "param_grid = {\n",
    "    'classifier__reg_lambda': [0.1, 1],\n",
    "}\n",
    "\n",
    "#gs = GridSearchCV(lrhp, param_grid, cv=5, scoring='f1')\n",
    "#gs.fit(X_train, y_train);"
   ]
  },
  {
   "cell_type": "markdown",
   "metadata": {
    "colab_type": "text",
    "id": "7ImIlkCfsCJT"
   },
   "source": [
    "## 10. Other Tests <a name=\"ot\"></a>\n",
    "\n",
    "- SMOTE"
   ]
  },
  {
   "cell_type": "code",
   "execution_count": 0,
   "metadata": {
    "colab": {
     "base_uri": "https://localhost:8080/",
     "height": 554
    },
    "colab_type": "code",
    "id": "2PkpxhzUsCJT",
    "outputId": "c1a39ac7-4f8b-492a-adeb-23be76bfeab7"
   },
   "outputs": [
    {
     "name": "stderr",
     "output_type": "stream",
     "text": [
      "/usr/local/lib/python3.6/dist-packages/sklearn/utils/deprecation.py:87: FutureWarning: Function safe_indexing is deprecated; safe_indexing is deprecated in version 0.22 and will be removed in version 0.24.\n",
      "  warnings.warn(msg, category=FutureWarning)\n"
     ]
    },
    {
     "name": "stdout",
     "output_type": "stream",
     "text": [
      "Train Accuracy: 0.8195308760172332\n",
      "Validation Accuracy 0.7522970903522205 \n",
      "\n",
      "              precision    recall  f1-score   support\n",
      "\n",
      "           0       0.31      0.19      0.23       527\n",
      "           1       0.81      0.90      0.85      2085\n",
      "\n",
      "    accuracy                           0.75      2612\n",
      "   macro avg       0.56      0.54      0.54      2612\n",
      "weighted avg       0.71      0.75      0.73      2612\n",
      "\n",
      "<sklearn.metrics._plot.confusion_matrix.ConfusionMatrixDisplay object at 0x7fa3ed9e34a8>\n"
     ]
    },
    {
     "data": {
      "image/png": "[encoded data removed]",
      "text/plain": [
       "<Figure size 432x288 with 2 Axes>"
      ]
     },
     "metadata": {
      "needs_background": "light",
      "tags": []
     },
     "output_type": "display_data"
    }
   ],
   "source": [
    "from imblearn.pipeline import Pipeline\n",
    "from imblearn.over_sampling import SMOTE\n",
    "smote_pip = Pipeline(steps=[('preprocessor', preprocessor),\n",
    "                            ('smote', SMOTE(sampling_strategy=0.85)),\n",
    "                            ('classifier', LGBMClassifier(class_weight='balanced'))])\n",
    "\n",
    "#param_grid = {\n",
    "#    'smote__sampling_strategy': [0.1, 0.5, 0.8, 1.0],\n",
    "#}\n",
    "\n",
    "#gs = GridSearchCV(smote_pip, param_grid, cv=5, scoring='f1')\n",
    "#gs.fit(X_train_valid, y_train_valid)\n",
    "evaluate_model(smote_pip)"
   ]
  },
  {
   "cell_type": "code",
   "execution_count": 0,
   "metadata": {
    "colab": {
     "base_uri": "https://localhost:8080/",
     "height": 279
    },
    "colab_type": "code",
    "id": "x0NBIEia9K75",
    "outputId": "570375f9-c5f0-436a-ee29-718b4063ceb4"
   },
   "outputs": [
    {
     "data": {
      "image/png": "[encoded data removed]",
      "text/plain": [
       "<Figure size 432x288 with 1 Axes>"
      ]
     },
     "metadata": {
      "needs_background": "light",
      "tags": []
     },
     "output_type": "display_data"
    }
   ],
   "source": [
    "roc_curve_auc(smote_pip)"
   ]
  },
  {
   "cell_type": "code",
   "execution_count": 0,
   "metadata": {
    "colab": {
     "base_uri": "https://localhost:8080/",
     "height": 554
    },
    "colab_type": "code",
    "id": "uSUwP_bm2nLU",
    "outputId": "d6277f9d-9aff-41e1-a850-90106af03804"
   },
   "outputs": [
    {
     "name": "stderr",
     "output_type": "stream",
     "text": [
      "/usr/local/lib/python3.6/dist-packages/sklearn/utils/deprecation.py:87: FutureWarning: Function safe_indexing is deprecated; safe_indexing is deprecated in version 0.22 and will be removed in version 0.24.\n",
      "  warnings.warn(msg, category=FutureWarning)\n"
     ]
    },
    {
     "name": "stdout",
     "output_type": "stream",
     "text": [
      "Train Accuracy: 0.7988511249401627\n",
      "Validation Accuracy 0.7534456355283308 \n",
      "\n",
      "              precision    recall  f1-score   support\n",
      "\n",
      "           0       0.32      0.19      0.24       527\n",
      "           1       0.81      0.89      0.85      2085\n",
      "\n",
      "    accuracy                           0.75      2612\n",
      "   macro avg       0.57      0.54      0.55      2612\n",
      "weighted avg       0.71      0.75      0.73      2612\n",
      "\n",
      "<sklearn.metrics._plot.confusion_matrix.ConfusionMatrixDisplay object at 0x7fa3ee5e35c0>\n"
     ]
    },
    {
     "data": {
      "image/png": "[encoded data removed]",
      "text/plain": [
       "<Figure size 432x288 with 2 Axes>"
      ]
     },
     "metadata": {
      "needs_background": "light",
      "tags": []
     },
     "output_type": "display_data"
    }
   ],
   "source": [
    "smote_pip = Pipeline(steps=[('preprocessor', preprocessor),\n",
    "                            ('smote', SMOTE(sampling_strategy=0.85)),\n",
    "                            ('classifier',  LGBMClassifier(boosting_type='dart',class_weight='balanced'))])\n",
    "\n",
    "#param_grid = {\n",
    "#    'smote__sampling_strategy': [0.1, 0.5, 0.8, 1.0],\n",
    "#}\n",
    "\n",
    "#gs = GridSearchCV(smote_pip, param_grid, cv=5, scoring='f1')\n",
    "#gs.fit(X_train_valid, y_train_valid)\n",
    "evaluate_model(smote_pip)"
   ]
  },
  {
   "cell_type": "code",
   "execution_count": 0,
   "metadata": {
    "colab": {
     "base_uri": "https://localhost:8080/",
     "height": 554
    },
    "colab_type": "code",
    "id": "GOoLImDR8hCN",
    "outputId": "33ee5058-939b-4868-b9f2-4e5ba5f9e91d"
   },
   "outputs": [
    {
     "name": "stderr",
     "output_type": "stream",
     "text": [
      "/usr/local/lib/python3.6/dist-packages/sklearn/utils/deprecation.py:87: FutureWarning: Function safe_indexing is deprecated; safe_indexing is deprecated in version 0.22 and will be removed in version 0.24.\n",
      "  warnings.warn(msg, category=FutureWarning)\n"
     ]
    },
    {
     "name": "stdout",
     "output_type": "stream",
     "text": [
      "Train Accuracy: 0.820009573958832\n",
      "Validation Accuracy 0.7545941807044411 \n",
      "\n",
      "              precision    recall  f1-score   support\n",
      "\n",
      "           0       0.34      0.22      0.27       527\n",
      "           1       0.82      0.89      0.85      2085\n",
      "\n",
      "    accuracy                           0.75      2612\n",
      "   macro avg       0.58      0.55      0.56      2612\n",
      "weighted avg       0.72      0.75      0.73      2612\n",
      "\n",
      "<sklearn.metrics._plot.confusion_matrix.ConfusionMatrixDisplay object at 0x7fa3edf63470>\n"
     ]
    },
    {
     "data": {
      "image/png": "[encoded data removed]",
      "text/plain": [
       "<Figure size 432x288 with 2 Axes>"
      ]
     },
     "metadata": {
      "needs_background": "light",
      "tags": []
     },
     "output_type": "display_data"
    }
   ],
   "source": [
    "smote_pip = Pipeline(steps=[('preprocessor', preprocessor),\n",
    "                            ('smote', SMOTE(sampling_strategy=0.75)),\n",
    "                            ('classifier',  LGBMClassifier(class_weight='balanced'))])\n",
    "evaluate_model(smote_pip)"
   ]
  },
  {
   "cell_type": "code",
   "execution_count": 138,
   "metadata": {},
   "outputs": [
    {
     "data": {
      "text/html": [
       "<div>\n",
       "<style scoped>\n",
       "    .dataframe tbody tr th:only-of-type {\n",
       "        vertical-align: middle;\n",
       "    }\n",
       "\n",
       "    .dataframe tbody tr th {\n",
       "        vertical-align: top;\n",
       "    }\n",
       "\n",
       "    .dataframe thead th {\n",
       "        text-align: right;\n",
       "    }\n",
       "</style>\n",
       "<table border=\"1\" class=\"dataframe\">\n",
       "  <thead>\n",
       "    <tr style=\"text-align: right;\">\n",
       "      <th></th>\n",
       "      <th>renwed</th>\n",
       "      <th>not_renwed</th>\n",
       "    </tr>\n",
       "    <tr>\n",
       "      <th>label</th>\n",
       "      <th></th>\n",
       "      <th></th>\n",
       "    </tr>\n",
       "  </thead>\n",
       "  <tbody>\n",
       "    <tr>\n",
       "      <th>f1</th>\n",
       "      <td>0.697445</td>\n",
       "      <td>0.293836</td>\n",
       "    </tr>\n",
       "    <tr>\n",
       "      <th>recall</th>\n",
       "      <td>0.581869</td>\n",
       "      <td>0.547794</td>\n",
       "    </tr>\n",
       "    <tr>\n",
       "      <th>precision</th>\n",
       "      <td>0.870315</td>\n",
       "      <td>0.200763</td>\n",
       "    </tr>\n",
       "  </tbody>\n",
       "</table>\n",
       "</div>"
      ],
      "text/plain": [
       "             renwed  not_renwed\n",
       "label                          \n",
       "f1         0.697445    0.293836\n",
       "recall     0.581869    0.547794\n",
       "precision  0.870315    0.200763"
      ]
     },
     "execution_count": 138,
     "metadata": {},
     "output_type": "execute_result"
    }
   ],
   "source": [
    "c"
   ]
  },
  {
   "cell_type": "code",
   "execution_count": 145,
   "metadata": {},
   "outputs": [],
   "source": [
    "writer = pd.ExcelWriter('file.xlsx')\n",
    "for i, df in enumerate(df_list):\n",
    "    df.to_excel(writer,df_name[i])\n",
    "writer.save() "
   ]
  },
  {
   "cell_type": "markdown",
   "metadata": {
    "colab_type": "text",
    "id": "21dxX_hB2Fd5"
   },
   "source": [
    "#hyperparameter tuning\n"
   ]
  },
  {
   "cell_type": "code",
   "execution_count": 0,
   "metadata": {
    "colab": {
     "base_uri": "https://localhost:8080/",
     "height": 1000
    },
    "colab_type": "code",
    "id": "jmoAo6BH18uM",
    "outputId": "5d6a7e0a-d75c-481d-d662-2080a158b707"
   },
   "outputs": [
    {
     "name": "stderr",
     "output_type": "stream",
     "text": [
      "/usr/local/lib/python3.6/dist-packages/sklearn/utils/deprecation.py:87: FutureWarning: Function safe_indexing is deprecated; safe_indexing is deprecated in version 0.22 and will be removed in version 0.24.\n",
      "  warnings.warn(msg, category=FutureWarning)\n",
      "/usr/local/lib/python3.6/dist-packages/sklearn/utils/deprecation.py:87: FutureWarning: Function safe_indexing is deprecated; safe_indexing is deprecated in version 0.22 and will be removed in version 0.24.\n",
      "  warnings.warn(msg, category=FutureWarning)\n",
      "/usr/local/lib/python3.6/dist-packages/sklearn/utils/deprecation.py:87: FutureWarning: Function safe_indexing is deprecated; safe_indexing is deprecated in version 0.22 and will be removed in version 0.24.\n",
      "  warnings.warn(msg, category=FutureWarning)\n",
      "/usr/local/lib/python3.6/dist-packages/sklearn/utils/deprecation.py:87: FutureWarning: Function safe_indexing is deprecated; safe_indexing is deprecated in version 0.22 and will be removed in version 0.24.\n",
      "  warnings.warn(msg, category=FutureWarning)\n",
      "/usr/local/lib/python3.6/dist-packages/sklearn/utils/deprecation.py:87: FutureWarning: Function safe_indexing is deprecated; safe_indexing is deprecated in version 0.22 and will be removed in version 0.24.\n",
      "  warnings.warn(msg, category=FutureWarning)\n",
      "/usr/local/lib/python3.6/dist-packages/sklearn/utils/deprecation.py:87: FutureWarning: Function safe_indexing is deprecated; safe_indexing is deprecated in version 0.22 and will be removed in version 0.24.\n",
      "  warnings.warn(msg, category=FutureWarning)\n",
      "/usr/local/lib/python3.6/dist-packages/sklearn/utils/deprecation.py:87: FutureWarning: Function safe_indexing is deprecated; safe_indexing is deprecated in version 0.22 and will be removed in version 0.24.\n",
      "  warnings.warn(msg, category=FutureWarning)\n",
      "/usr/local/lib/python3.6/dist-packages/sklearn/utils/deprecation.py:87: FutureWarning: Function safe_indexing is deprecated; safe_indexing is deprecated in version 0.22 and will be removed in version 0.24.\n",
      "  warnings.warn(msg, category=FutureWarning)\n",
      "/usr/local/lib/python3.6/dist-packages/sklearn/utils/deprecation.py:87: FutureWarning: Function safe_indexing is deprecated; safe_indexing is deprecated in version 0.22 and will be removed in version 0.24.\n",
      "  warnings.warn(msg, category=FutureWarning)\n",
      "/usr/local/lib/python3.6/dist-packages/sklearn/utils/deprecation.py:87: FutureWarning: Function safe_indexing is deprecated; safe_indexing is deprecated in version 0.22 and will be removed in version 0.24.\n",
      "  warnings.warn(msg, category=FutureWarning)\n",
      "/usr/local/lib/python3.6/dist-packages/sklearn/utils/deprecation.py:87: FutureWarning: Function safe_indexing is deprecated; safe_indexing is deprecated in version 0.22 and will be removed in version 0.24.\n",
      "  warnings.warn(msg, category=FutureWarning)\n",
      "/usr/local/lib/python3.6/dist-packages/sklearn/utils/deprecation.py:87: FutureWarning: Function safe_indexing is deprecated; safe_indexing is deprecated in version 0.22 and will be removed in version 0.24.\n",
      "  warnings.warn(msg, category=FutureWarning)\n",
      "/usr/local/lib/python3.6/dist-packages/sklearn/utils/deprecation.py:87: FutureWarning: Function safe_indexing is deprecated; safe_indexing is deprecated in version 0.22 and will be removed in version 0.24.\n",
      "  warnings.warn(msg, category=FutureWarning)\n",
      "/usr/local/lib/python3.6/dist-packages/sklearn/utils/deprecation.py:87: FutureWarning: Function safe_indexing is deprecated; safe_indexing is deprecated in version 0.22 and will be removed in version 0.24.\n",
      "  warnings.warn(msg, category=FutureWarning)\n",
      "/usr/local/lib/python3.6/dist-packages/sklearn/utils/deprecation.py:87: FutureWarning: Function safe_indexing is deprecated; safe_indexing is deprecated in version 0.22 and will be removed in version 0.24.\n",
      "  warnings.warn(msg, category=FutureWarning)\n",
      "/usr/local/lib/python3.6/dist-packages/sklearn/utils/deprecation.py:87: FutureWarning: Function safe_indexing is deprecated; safe_indexing is deprecated in version 0.22 and will be removed in version 0.24.\n",
      "  warnings.warn(msg, category=FutureWarning)\n"
     ]
    },
    {
     "data": {
      "text/plain": [
       "GridSearchCV(cv=5, error_score=nan,\n",
       "             estimator=Pipeline(memory=None,\n",
       "                                steps=[('preprocessor',\n",
       "                                        ColumnTransformer(n_jobs=None,\n",
       "                                                          remainder='drop',\n",
       "                                                          sparse_threshold=0.3,\n",
       "                                                          transformer_weights=None,\n",
       "                                                          transformers=[('num',\n",
       "                                                                         Pipeline(memory=None,\n",
       "                                                                                  steps=[('imputer',\n",
       "                                                                                          SimpleImputer(add_indicator=False,\n",
       "                                                                                                        copy=True,\n",
       "                                                                                                        fill_value=None,\n",
       "                                                                                                        missing_values=nan,\n",
       "                                                                                                        strategy='median',\n",
       "                                                                                                        verbose=0)),...\n",
       "                                                       n_estimators=100,\n",
       "                                                       n_jobs=-1, num_leaves=31,\n",
       "                                                       objective=None,\n",
       "                                                       random_state=None,\n",
       "                                                       reg_alpha=0.0,\n",
       "                                                       reg_lambda=0.0,\n",
       "                                                       silent=True,\n",
       "                                                       subsample=1.0,\n",
       "                                                       subsample_for_bin=200000,\n",
       "                                                       subsample_freq=0))],\n",
       "                                verbose=False),\n",
       "             iid='deprecated', n_jobs=None,\n",
       "             param_grid={'classifier__reg_alpha': [0.1, 0.3, 0.5]},\n",
       "             pre_dispatch='2*n_jobs', refit=True, return_train_score=False,\n",
       "             scoring='f1', verbose=0)"
      ]
     },
     "execution_count": 21,
     "metadata": {
      "tags": []
     },
     "output_type": "execute_result"
    }
   ],
   "source": [
    "#use l1 to drop out some variables\n",
    "lrhp = Pipeline(steps=[('preprocessor', preprocessor),\n",
    "                       ('smote', SMOTE(sampling_strategy=0.85)),\n",
    "                       ('classifier', LGBMClassifier(class_weight='balanced'))])\n",
    "\n",
    "param_grid = {\n",
    "    'classifier__reg_alpha': [0.1, 0.3, 0.5],\n",
    "}\n",
    "\n",
    "gs = GridSearchCV(lrhp, param_grid, cv=5, scoring='f1')\n",
    "gs.fit(X_train, y_train)\n"
   ]
  },
  {
   "cell_type": "code",
   "execution_count": 0,
   "metadata": {
    "colab": {
     "base_uri": "https://localhost:8080/",
     "height": 496
    },
    "colab_type": "code",
    "id": "4oCBz-CS33m0",
    "outputId": "b112fa64-146e-4dbd-9487-83745dcd6e89"
   },
   "outputs": [
    {
     "data": {
      "text/plain": [
       "Pipeline(memory=None,\n",
       "         steps=[('preprocessor',\n",
       "                 ColumnTransformer(n_jobs=None, remainder='drop',\n",
       "                                   sparse_threshold=0.3,\n",
       "                                   transformer_weights=None,\n",
       "                                   transformers=[('num',\n",
       "                                                  Pipeline(memory=None,\n",
       "                                                           steps=[('imputer',\n",
       "                                                                   SimpleImputer(add_indicator=False,\n",
       "                                                                                 copy=True,\n",
       "                                                                                 fill_value=None,\n",
       "                                                                                 missing_values=nan,\n",
       "                                                                                 strategy='median',\n",
       "                                                                                 verbose=0)),\n",
       "                                                                  ('scaler',\n",
       "                                                                   StandardScaler(copy=True,\n",
       "                                                                                  with_mean...\n",
       "                 LGBMClassifier(boosting_type='gbdt', class_weight='balanced',\n",
       "                                colsample_bytree=1.0, importance_type='split',\n",
       "                                learning_rate=0.1, max_depth=-1,\n",
       "                                min_child_samples=20, min_child_weight=0.001,\n",
       "                                min_split_gain=0.0, n_estimators=100, n_jobs=-1,\n",
       "                                num_leaves=31, objective=None,\n",
       "                                random_state=None, reg_alpha=0.5,\n",
       "                                reg_lambda=0.0, silent=True, subsample=1.0,\n",
       "                                subsample_for_bin=200000, subsample_freq=0))],\n",
       "         verbose=False)"
      ]
     },
     "execution_count": 22,
     "metadata": {
      "tags": []
     },
     "output_type": "execute_result"
    }
   ],
   "source": [
    "gs.best_estimator_"
   ]
  },
  {
   "cell_type": "code",
   "execution_count": 0,
   "metadata": {
    "colab": {
     "base_uri": "https://localhost:8080/",
     "height": 554
    },
    "colab_type": "code",
    "id": "VehChH-tsCJW",
    "outputId": "de26c4b9-fb8d-4f8b-9b7e-e558d388e91d"
   },
   "outputs": [
    {
     "name": "stderr",
     "output_type": "stream",
     "text": [
      "/usr/local/lib/python3.6/dist-packages/sklearn/utils/deprecation.py:87: FutureWarning: Function safe_indexing is deprecated; safe_indexing is deprecated in version 0.22 and will be removed in version 0.24.\n",
      "  warnings.warn(msg, category=FutureWarning)\n"
     ]
    },
    {
     "name": "stdout",
     "output_type": "stream",
     "text": [
      "Train Accuracy: 0.8197223551938727\n",
      "Validation Accuracy 0.7572741194486983 \n",
      "\n",
      "              precision    recall  f1-score   support\n",
      "\n",
      "           0       0.32      0.19      0.24       527\n",
      "           1       0.81      0.90      0.86      2085\n",
      "\n",
      "    accuracy                           0.76      2612\n",
      "   macro avg       0.57      0.54      0.55      2612\n",
      "weighted avg       0.72      0.76      0.73      2612\n",
      "\n",
      "<sklearn.metrics._plot.confusion_matrix.ConfusionMatrixDisplay object at 0x7fa3ee5973c8>\n"
     ]
    },
    {
     "data": {
      "image/png": "[encoded data removed]",
      "text/plain": [
       "<Figure size 432x288 with 2 Axes>"
      ]
     },
     "metadata": {
      "needs_background": "light",
      "tags": []
     },
     "output_type": "display_data"
    }
   ],
   "source": [
    "from imblearn.pipeline import Pipeline\n",
    "from imblearn.over_sampling import SMOTE\n",
    "smote_lg_pip = Pipeline(steps=[('preprocessor', preprocessor),\n",
    "                            ('smote', SMOTE(sampling_strategy=0.85)),\n",
    "                            ('classifier', LGBMClassifier(boosting_type='gbdt', class_weight='balanced',\n",
    "                                colsample_bytree=1.0, importance_type='split',\n",
    "                                learning_rate=0.1, max_depth=-1,\n",
    "                                min_child_samples=20, min_child_weight=0.001,\n",
    "                                min_split_gain=0.0, n_estimators=100, n_jobs=-1,\n",
    "                                num_leaves=31, objective=None,\n",
    "                                random_state=None, reg_alpha=0.5,\n",
    "                                reg_lambda=0.0, silent=True, subsample=1.0,\n",
    "                                subsample_for_bin=200000, subsample_freq=0))])\n",
    "\n",
    "evaluate_model(smote_lg_pip)"
   ]
  },
  {
   "cell_type": "code",
   "execution_count": 0,
   "metadata": {
    "colab": {
     "base_uri": "https://localhost:8080/",
     "height": 279
    },
    "colab_type": "code",
    "id": "XkoDhKfu90WT",
    "outputId": "a74e7b4b-8f90-4d3c-aec0-3122b77a48c2"
   },
   "outputs": [
    {
     "data": {
      "image/png": "[encoded data removed]",
      "text/plain": [
       "<Figure size 432x288 with 1 Axes>"
      ]
     },
     "metadata": {
      "needs_background": "light",
      "tags": []
     },
     "output_type": "display_data"
    }
   ],
   "source": [
    "roc_curve_auc(smote_lg_pip)"
   ]
  },
  {
   "cell_type": "code",
   "execution_count": 0,
   "metadata": {
    "colab": {
     "base_uri": "https://localhost:8080/",
     "height": 622
    },
    "colab_type": "code",
    "id": "ogQrxb6CsCJZ",
    "outputId": "1523f093-5300-42dd-ad38-de608ca77380"
   },
   "outputs": [
    {
     "name": "stderr",
     "output_type": "stream",
     "text": [
      "/usr/local/lib/python3.6/dist-packages/sklearn/externals/six.py:31: FutureWarning: The module is deprecated in version 0.21 and will be removed in version 0.23 since we've dropped support for Python 2.7. Please rely on the official version of six (https://pypi.org/project/six/).\n",
      "  \"(https://pypi.org/project/six/).\", FutureWarning)\n",
      "/usr/local/lib/python3.6/dist-packages/sklearn/utils/deprecation.py:144: FutureWarning: The sklearn.neighbors.base module is  deprecated in version 0.22 and will be removed in version 0.24. The corresponding classes / functions should instead be imported from sklearn.neighbors. Anything that cannot be imported from sklearn.neighbors is now part of the private API.\n",
      "  warnings.warn(message, FutureWarning)\n",
      "/usr/local/lib/python3.6/dist-packages/sklearn/utils/deprecation.py:87: FutureWarning: Function safe_indexing is deprecated; safe_indexing is deprecated in version 0.22 and will be removed in version 0.24.\n",
      "  warnings.warn(msg, category=FutureWarning)\n"
     ]
    },
    {
     "name": "stdout",
     "output_type": "stream",
     "text": [
      "Train Accuracy: 0.7898516036381044\n",
      "Validation Accuracy 0.776416539050536 \n",
      "\n",
      "              precision    recall  f1-score   support\n",
      "\n",
      "           0       0.34      0.12      0.18       527\n",
      "           1       0.81      0.94      0.87      2085\n",
      "\n",
      "    accuracy                           0.78      2612\n",
      "   macro avg       0.58      0.53      0.52      2612\n",
      "weighted avg       0.72      0.78      0.73      2612\n",
      "\n",
      "<sklearn.metrics._plot.confusion_matrix.ConfusionMatrixDisplay object at 0x7fa3ee8dfe80>\n"
     ]
    },
    {
     "data": {
      "image/png": "[encoded data removed]",
      "text/plain": [
       "<Figure size 432x288 with 2 Axes>"
      ]
     },
     "metadata": {
      "needs_background": "light",
      "tags": []
     },
     "output_type": "display_data"
    }
   ],
   "source": [
    "from imblearn.pipeline import Pipeline\n",
    "from imblearn.over_sampling import SMOTE\n",
    "xgboost = XGBClassifier(objective=\"binary:logistic\", random_state=42)\n",
    "\n",
    "xg_pip = Pipeline(steps=[('preprocessor', preprocessor),\n",
    "                         ('smote', SMOTE(sampling_strategy=0.85)),\n",
    "                           ('classifier', xgboost)])\n",
    "\n",
    "evaluate_model(xg_pip)"
   ]
  },
  {
   "cell_type": "code",
   "execution_count": 0,
   "metadata": {
    "colab": {
     "base_uri": "https://localhost:8080/",
     "height": 554
    },
    "colab_type": "code",
    "id": "eo8AJMRKtIgn",
    "outputId": "f01b9d44-b87a-47c0-9cf6-6e5a2b8d9101"
   },
   "outputs": [
    {
     "name": "stderr",
     "output_type": "stream",
     "text": [
      "/usr/local/lib/python3.6/dist-packages/sklearn/utils/deprecation.py:87: FutureWarning: Function safe_indexing is deprecated; safe_indexing is deprecated in version 0.22 and will be removed in version 0.24.\n",
      "  warnings.warn(msg, category=FutureWarning)\n"
     ]
    },
    {
     "name": "stdout",
     "output_type": "stream",
     "text": [
      "Train Accuracy: 0.7164193393968405\n",
      "Validation Accuracy 0.5696784073506891 \n",
      "\n",
      "              precision    recall  f1-score   support\n",
      "\n",
      "           0       0.23      0.47      0.31       527\n",
      "           1       0.82      0.60      0.69      2085\n",
      "\n",
      "    accuracy                           0.57      2612\n",
      "   macro avg       0.52      0.53      0.50      2612\n",
      "weighted avg       0.70      0.57      0.61      2612\n",
      "\n",
      "<sklearn.metrics._plot.confusion_matrix.ConfusionMatrixDisplay object at 0x7fa3ee6d3cf8>\n"
     ]
    },
    {
     "data": {
      "image/png": "[encoded data removed]",
      "text/plain": [
       "<Figure size 432x288 with 2 Axes>"
      ]
     },
     "metadata": {
      "needs_background": "light",
      "tags": []
     },
     "output_type": "display_data"
    }
   ],
   "source": [
    "knn =KNeighborsClassifier()\n",
    "\n",
    "knn_pip = Pipeline(steps=[('preprocessor', preprocessor),\n",
    "                         ('smote', SMOTE(sampling_strategy=0.85)),\n",
    "                           ('classifier', knn)])\n",
    "\n",
    "evaluate_model(knn_pip)"
   ]
  },
  {
   "cell_type": "code",
   "execution_count": 0,
   "metadata": {
    "colab": {
     "base_uri": "https://localhost:8080/",
     "height": 279
    },
    "colab_type": "code",
    "id": "V9Tb7Xlg0fMk",
    "outputId": "3a21f720-159d-477a-cdc0-42464731ca4c"
   },
   "outputs": [
    {
     "data": {
      "image/png": "[encoded data removed]",
      "text/plain": [
       "<Figure size 432x288 with 1 Axes>"
      ]
     },
     "metadata": {
      "needs_background": "light",
      "tags": []
     },
     "output_type": "display_data"
    }
   ],
   "source": [
    "roc_curve_auc(knn_pip)"
   ]
  },
  {
   "cell_type": "code",
   "execution_count": 0,
   "metadata": {
    "colab": {
     "base_uri": "https://localhost:8080/",
     "height": 71
    },
    "colab_type": "code",
    "id": "iSeTy_FR-MIg",
    "outputId": "6f780304-29c6-4475-8f78-b6cdd69d42f7"
   },
   "outputs": [
    {
     "name": "stderr",
     "output_type": "stream",
     "text": [
      "/usr/local/lib/python3.6/dist-packages/sklearn/utils/deprecation.py:87: FutureWarning: Function safe_indexing is deprecated; safe_indexing is deprecated in version 0.22 and will be removed in version 0.24.\n",
      "  warnings.warn(msg, category=FutureWarning)\n"
     ]
    }
   ],
   "source": [
    "svm = SVC(probability=True)\n",
    "svm_pip = Pipeline(steps=[('preprocessor', preprocessor),\n",
    "                         ('smote', SMOTE(sampling_strategy=0.85)),\n",
    "                           ('classifier', svm)])\n",
    "\n",
    "evaluate_model(svm_pip)"
   ]
  },
  {
   "cell_type": "code",
   "execution_count": 0,
   "metadata": {
    "colab": {},
    "colab_type": "code",
    "id": "_fwikK3k-jSi"
   },
   "outputs": [],
   "source": [
    "roc_curve_auc(svm_pip)"
   ]
  },
  {
   "cell_type": "code",
   "execution_count": 154,
   "metadata": {},
   "outputs": [],
   "source": [
    "new_df = pd.read_csv('../../data/processed/05_feat_eng_train.csv')"
   ]
  },
  {
   "cell_type": "code",
   "execution_count": 155,
   "metadata": {},
   "outputs": [],
   "source": [
    "new_df.drop(columns=['business_id','BusinessName', 'BusinessTradeName','Status',\n",
    "                      'BusinessSubType','Geom','NextYearStatus','BusinessIndustry'],inplace=True)"
   ]
  },
  {
   "cell_type": "code",
   "execution_count": 159,
   "metadata": {},
   "outputs": [],
   "source": [
    "df_list = [new_df]"
   ]
  },
  {
   "cell_type": "code",
   "execution_count": 163,
   "metadata": {},
   "outputs": [],
   "source": [
    "for df in df_list:\n",
    "    df.drop(columns=['FOLDERYEAR'],inplace=True)"
   ]
  },
  {
   "cell_type": "code",
   "execution_count": 164,
   "metadata": {},
   "outputs": [
    {
     "data": {
      "text/html": [
       "<div>\n",
       "<style scoped>\n",
       "    .dataframe tbody tr th:only-of-type {\n",
       "        vertical-align: middle;\n",
       "    }\n",
       "\n",
       "    .dataframe tbody tr th {\n",
       "        vertical-align: top;\n",
       "    }\n",
       "\n",
       "    .dataframe thead th {\n",
       "        text-align: right;\n",
       "    }\n",
       "</style>\n",
       "<table border=\"1\" class=\"dataframe\">\n",
       "  <thead>\n",
       "    <tr style=\"text-align: right;\">\n",
       "      <th></th>\n",
       "      <th>BusinessType</th>\n",
       "      <th>LocalArea</th>\n",
       "      <th>NumberofEmployees</th>\n",
       "      <th>FeePaid</th>\n",
       "      <th>Parking meters</th>\n",
       "      <th>Disability parking</th>\n",
       "      <th>Without children at home</th>\n",
       "      <th>1 child</th>\n",
       "      <th>2 children</th>\n",
       "      <th>3 or more children</th>\n",
       "      <th>...</th>\n",
       "      <th>Worked outside Canada</th>\n",
       "      <th>No fixed workplace</th>\n",
       "      <th>education below postsecondary</th>\n",
       "      <th>education above postsecondary</th>\n",
       "      <th>Non-immigrants</th>\n",
       "      <th>Non-permanent residents</th>\n",
       "      <th>Immigrants</th>\n",
       "      <th>history</th>\n",
       "      <th>chain</th>\n",
       "      <th>nearest_business_count</th>\n",
       "    </tr>\n",
       "  </thead>\n",
       "  <tbody>\n",
       "    <tr>\n",
       "      <th>0</th>\n",
       "      <td>Office</td>\n",
       "      <td>Downtown</td>\n",
       "      <td>1.0</td>\n",
       "      <td>189.0</td>\n",
       "      <td>3771.0</td>\n",
       "      <td>19.0</td>\n",
       "      <td>0.730159</td>\n",
       "      <td>0.173055</td>\n",
       "      <td>0.081688</td>\n",
       "      <td>0.015099</td>\n",
       "      <td>...</td>\n",
       "      <td>0.014698</td>\n",
       "      <td>0.086070</td>\n",
       "      <td>0.232857</td>\n",
       "      <td>0.767143</td>\n",
       "      <td>0.504460</td>\n",
       "      <td>0.094724</td>\n",
       "      <td>0.400901</td>\n",
       "      <td>0.0</td>\n",
       "      <td>1.0</td>\n",
       "      <td>23.0</td>\n",
       "    </tr>\n",
       "    <tr>\n",
       "      <th>1</th>\n",
       "      <td>Wholesale  Dealer</td>\n",
       "      <td>Grandview-Woodland</td>\n",
       "      <td>NaN</td>\n",
       "      <td>100.0</td>\n",
       "      <td>312.0</td>\n",
       "      <td>7.0</td>\n",
       "      <td>0.548880</td>\n",
       "      <td>0.237271</td>\n",
       "      <td>0.155804</td>\n",
       "      <td>0.057026</td>\n",
       "      <td>...</td>\n",
       "      <td>0.004929</td>\n",
       "      <td>0.150647</td>\n",
       "      <td>0.460827</td>\n",
       "      <td>0.539173</td>\n",
       "      <td>0.658794</td>\n",
       "      <td>0.019860</td>\n",
       "      <td>0.321346</td>\n",
       "      <td>0.0</td>\n",
       "      <td>1.0</td>\n",
       "      <td>1.0</td>\n",
       "    </tr>\n",
       "    <tr>\n",
       "      <th>2</th>\n",
       "      <td>Wholesale  Dealer</td>\n",
       "      <td>Grandview-Woodland</td>\n",
       "      <td>NaN</td>\n",
       "      <td>103.0</td>\n",
       "      <td>312.0</td>\n",
       "      <td>7.0</td>\n",
       "      <td>0.548880</td>\n",
       "      <td>0.237271</td>\n",
       "      <td>0.155804</td>\n",
       "      <td>0.057026</td>\n",
       "      <td>...</td>\n",
       "      <td>0.004929</td>\n",
       "      <td>0.150647</td>\n",
       "      <td>0.460827</td>\n",
       "      <td>0.539173</td>\n",
       "      <td>0.658794</td>\n",
       "      <td>0.019860</td>\n",
       "      <td>0.321346</td>\n",
       "      <td>0.0</td>\n",
       "      <td>1.0</td>\n",
       "      <td>1.0</td>\n",
       "    </tr>\n",
       "    <tr>\n",
       "      <th>3</th>\n",
       "      <td>Wholesale  Dealer</td>\n",
       "      <td>Grandview-Woodland</td>\n",
       "      <td>NaN</td>\n",
       "      <td>106.0</td>\n",
       "      <td>312.0</td>\n",
       "      <td>7.0</td>\n",
       "      <td>0.548880</td>\n",
       "      <td>0.237271</td>\n",
       "      <td>0.155804</td>\n",
       "      <td>0.057026</td>\n",
       "      <td>...</td>\n",
       "      <td>0.004929</td>\n",
       "      <td>0.150647</td>\n",
       "      <td>0.460827</td>\n",
       "      <td>0.539173</td>\n",
       "      <td>0.658794</td>\n",
       "      <td>0.019860</td>\n",
       "      <td>0.321346</td>\n",
       "      <td>0.0</td>\n",
       "      <td>1.0</td>\n",
       "      <td>1.0</td>\n",
       "    </tr>\n",
       "    <tr>\n",
       "      <th>4</th>\n",
       "      <td>Retail Dealer</td>\n",
       "      <td>West End</td>\n",
       "      <td>NaN</td>\n",
       "      <td>85.0</td>\n",
       "      <td>940.0</td>\n",
       "      <td>10.0</td>\n",
       "      <td>0.820241</td>\n",
       "      <td>0.127389</td>\n",
       "      <td>0.043171</td>\n",
       "      <td>0.008493</td>\n",
       "      <td>...</td>\n",
       "      <td>0.008735</td>\n",
       "      <td>0.080137</td>\n",
       "      <td>0.940355</td>\n",
       "      <td>0.059645</td>\n",
       "      <td>0.590074</td>\n",
       "      <td>0.078621</td>\n",
       "      <td>0.331305</td>\n",
       "      <td>0.0</td>\n",
       "      <td>1.0</td>\n",
       "      <td>NaN</td>\n",
       "    </tr>\n",
       "    <tr>\n",
       "      <th>...</th>\n",
       "      <td>...</td>\n",
       "      <td>...</td>\n",
       "      <td>...</td>\n",
       "      <td>...</td>\n",
       "      <td>...</td>\n",
       "      <td>...</td>\n",
       "      <td>...</td>\n",
       "      <td>...</td>\n",
       "      <td>...</td>\n",
       "      <td>...</td>\n",
       "      <td>...</td>\n",
       "      <td>...</td>\n",
       "      <td>...</td>\n",
       "      <td>...</td>\n",
       "      <td>...</td>\n",
       "      <td>...</td>\n",
       "      <td>...</td>\n",
       "      <td>...</td>\n",
       "      <td>...</td>\n",
       "      <td>...</td>\n",
       "      <td>...</td>\n",
       "    </tr>\n",
       "    <tr>\n",
       "      <th>448006</th>\n",
       "      <td>Landscape Gardener</td>\n",
       "      <td>Sunset</td>\n",
       "      <td>NaN</td>\n",
       "      <td>88.0</td>\n",
       "      <td>77.0</td>\n",
       "      <td>4.0</td>\n",
       "      <td>0.345528</td>\n",
       "      <td>0.214092</td>\n",
       "      <td>0.275068</td>\n",
       "      <td>0.166667</td>\n",
       "      <td>...</td>\n",
       "      <td>0.001359</td>\n",
       "      <td>0.122324</td>\n",
       "      <td>0.596872</td>\n",
       "      <td>0.403128</td>\n",
       "      <td>0.389991</td>\n",
       "      <td>0.011422</td>\n",
       "      <td>0.598587</td>\n",
       "      <td>0.0</td>\n",
       "      <td>NaN</td>\n",
       "      <td>NaN</td>\n",
       "    </tr>\n",
       "    <tr>\n",
       "      <th>448007</th>\n",
       "      <td>Landscape Gardener</td>\n",
       "      <td>Sunset</td>\n",
       "      <td>NaN</td>\n",
       "      <td>88.0</td>\n",
       "      <td>77.0</td>\n",
       "      <td>4.0</td>\n",
       "      <td>0.345528</td>\n",
       "      <td>0.214092</td>\n",
       "      <td>0.275068</td>\n",
       "      <td>0.166667</td>\n",
       "      <td>...</td>\n",
       "      <td>0.001359</td>\n",
       "      <td>0.122324</td>\n",
       "      <td>0.596872</td>\n",
       "      <td>0.403128</td>\n",
       "      <td>0.389991</td>\n",
       "      <td>0.011422</td>\n",
       "      <td>0.598587</td>\n",
       "      <td>0.0</td>\n",
       "      <td>NaN</td>\n",
       "      <td>NaN</td>\n",
       "    </tr>\n",
       "    <tr>\n",
       "      <th>448008</th>\n",
       "      <td>Vending Machines</td>\n",
       "      <td>Sunset</td>\n",
       "      <td>NaN</td>\n",
       "      <td>22.0</td>\n",
       "      <td>77.0</td>\n",
       "      <td>4.0</td>\n",
       "      <td>0.345528</td>\n",
       "      <td>0.214092</td>\n",
       "      <td>0.275068</td>\n",
       "      <td>0.166667</td>\n",
       "      <td>...</td>\n",
       "      <td>0.001359</td>\n",
       "      <td>0.122324</td>\n",
       "      <td>0.596872</td>\n",
       "      <td>0.403128</td>\n",
       "      <td>0.389991</td>\n",
       "      <td>0.011422</td>\n",
       "      <td>0.598587</td>\n",
       "      <td>0.0</td>\n",
       "      <td>NaN</td>\n",
       "      <td>NaN</td>\n",
       "    </tr>\n",
       "    <tr>\n",
       "      <th>448009</th>\n",
       "      <td>Esthetician *Historic*</td>\n",
       "      <td>West Point Grey</td>\n",
       "      <td>NaN</td>\n",
       "      <td>85.0</td>\n",
       "      <td>177.0</td>\n",
       "      <td>3.0</td>\n",
       "      <td>0.450000</td>\n",
       "      <td>0.193103</td>\n",
       "      <td>0.256897</td>\n",
       "      <td>0.101724</td>\n",
       "      <td>...</td>\n",
       "      <td>0.009731</td>\n",
       "      <td>0.066617</td>\n",
       "      <td>0.994953</td>\n",
       "      <td>0.005047</td>\n",
       "      <td>0.674162</td>\n",
       "      <td>0.027219</td>\n",
       "      <td>0.299408</td>\n",
       "      <td>0.0</td>\n",
       "      <td>NaN</td>\n",
       "      <td>NaN</td>\n",
       "    </tr>\n",
       "    <tr>\n",
       "      <th>448010</th>\n",
       "      <td>Esthetician *Historic*</td>\n",
       "      <td>West Point Grey</td>\n",
       "      <td>NaN</td>\n",
       "      <td>93.0</td>\n",
       "      <td>177.0</td>\n",
       "      <td>3.0</td>\n",
       "      <td>0.450000</td>\n",
       "      <td>0.193103</td>\n",
       "      <td>0.256897</td>\n",
       "      <td>0.101724</td>\n",
       "      <td>...</td>\n",
       "      <td>0.009731</td>\n",
       "      <td>0.066617</td>\n",
       "      <td>0.994953</td>\n",
       "      <td>0.005047</td>\n",
       "      <td>0.674162</td>\n",
       "      <td>0.027219</td>\n",
       "      <td>0.299408</td>\n",
       "      <td>0.0</td>\n",
       "      <td>NaN</td>\n",
       "      <td>NaN</td>\n",
       "    </tr>\n",
       "  </tbody>\n",
       "</table>\n",
       "<p>448011 rows × 104 columns</p>\n",
       "</div>"
      ],
      "text/plain": [
       "                  BusinessType           LocalArea  NumberofEmployees  \\\n",
       "0                       Office            Downtown                1.0   \n",
       "1            Wholesale  Dealer  Grandview-Woodland                NaN   \n",
       "2            Wholesale  Dealer  Grandview-Woodland                NaN   \n",
       "3            Wholesale  Dealer  Grandview-Woodland                NaN   \n",
       "4                Retail Dealer            West End                NaN   \n",
       "...                        ...                 ...                ...   \n",
       "448006      Landscape Gardener              Sunset                NaN   \n",
       "448007      Landscape Gardener              Sunset                NaN   \n",
       "448008        Vending Machines              Sunset                NaN   \n",
       "448009  Esthetician *Historic*     West Point Grey                NaN   \n",
       "448010  Esthetician *Historic*     West Point Grey                NaN   \n",
       "\n",
       "        FeePaid  Parking meters  Disability parking  Without children at home  \\\n",
       "0         189.0          3771.0                19.0                  0.730159   \n",
       "1         100.0           312.0                 7.0                  0.548880   \n",
       "2         103.0           312.0                 7.0                  0.548880   \n",
       "3         106.0           312.0                 7.0                  0.548880   \n",
       "4          85.0           940.0                10.0                  0.820241   \n",
       "...         ...             ...                 ...                       ...   \n",
       "448006     88.0            77.0                 4.0                  0.345528   \n",
       "448007     88.0            77.0                 4.0                  0.345528   \n",
       "448008     22.0            77.0                 4.0                  0.345528   \n",
       "448009     85.0           177.0                 3.0                  0.450000   \n",
       "448010     93.0           177.0                 3.0                  0.450000   \n",
       "\n",
       "         1 child  2 children  3 or more children  ...  Worked outside Canada  \\\n",
       "0       0.173055    0.081688            0.015099  ...               0.014698   \n",
       "1       0.237271    0.155804            0.057026  ...               0.004929   \n",
       "2       0.237271    0.155804            0.057026  ...               0.004929   \n",
       "3       0.237271    0.155804            0.057026  ...               0.004929   \n",
       "4       0.127389    0.043171            0.008493  ...               0.008735   \n",
       "...          ...         ...                 ...  ...                    ...   \n",
       "448006  0.214092    0.275068            0.166667  ...               0.001359   \n",
       "448007  0.214092    0.275068            0.166667  ...               0.001359   \n",
       "448008  0.214092    0.275068            0.166667  ...               0.001359   \n",
       "448009  0.193103    0.256897            0.101724  ...               0.009731   \n",
       "448010  0.193103    0.256897            0.101724  ...               0.009731   \n",
       "\n",
       "        No fixed workplace  education below postsecondary  \\\n",
       "0                 0.086070                       0.232857   \n",
       "1                 0.150647                       0.460827   \n",
       "2                 0.150647                       0.460827   \n",
       "3                 0.150647                       0.460827   \n",
       "4                 0.080137                       0.940355   \n",
       "...                    ...                            ...   \n",
       "448006            0.122324                       0.596872   \n",
       "448007            0.122324                       0.596872   \n",
       "448008            0.122324                       0.596872   \n",
       "448009            0.066617                       0.994953   \n",
       "448010            0.066617                       0.994953   \n",
       "\n",
       "        education above postsecondary  Non-immigrants  \\\n",
       "0                            0.767143        0.504460   \n",
       "1                            0.539173        0.658794   \n",
       "2                            0.539173        0.658794   \n",
       "3                            0.539173        0.658794   \n",
       "4                            0.059645        0.590074   \n",
       "...                               ...             ...   \n",
       "448006                       0.403128        0.389991   \n",
       "448007                       0.403128        0.389991   \n",
       "448008                       0.403128        0.389991   \n",
       "448009                       0.005047        0.674162   \n",
       "448010                       0.005047        0.674162   \n",
       "\n",
       "        Non-permanent residents  Immigrants  history  chain  \\\n",
       "0                      0.094724    0.400901      0.0    1.0   \n",
       "1                      0.019860    0.321346      0.0    1.0   \n",
       "2                      0.019860    0.321346      0.0    1.0   \n",
       "3                      0.019860    0.321346      0.0    1.0   \n",
       "4                      0.078621    0.331305      0.0    1.0   \n",
       "...                         ...         ...      ...    ...   \n",
       "448006                 0.011422    0.598587      0.0    NaN   \n",
       "448007                 0.011422    0.598587      0.0    NaN   \n",
       "448008                 0.011422    0.598587      0.0    NaN   \n",
       "448009                 0.027219    0.299408      0.0    NaN   \n",
       "448010                 0.027219    0.299408      0.0    NaN   \n",
       "\n",
       "        nearest_business_count  \n",
       "0                         23.0  \n",
       "1                          1.0  \n",
       "2                          1.0  \n",
       "3                          1.0  \n",
       "4                          NaN  \n",
       "...                        ...  \n",
       "448006                     NaN  \n",
       "448007                     NaN  \n",
       "448008                     NaN  \n",
       "448009                     NaN  \n",
       "448010                     NaN  \n",
       "\n",
       "[448011 rows x 104 columns]"
      ]
     },
     "execution_count": 164,
     "metadata": {},
     "output_type": "execute_result"
    }
   ],
   "source": [
    "new_df"
   ]
  },
  {
   "cell_type": "markdown",
   "metadata": {},
   "source": [
    "python3 src/03_modelling/011_modelling.py --file_path1=\"data/processed/05_feat_eng_train.csv\" \\\n",
    "--file_path2=\"data/processed/05_feat_eng_validate.csv\" --file_path3=\"data/processed/05_feat_eng_test.csv\" \\\n",
    "--save_to1=\"src/03_modelling/model_performance.xlsx\" --save_to2=\"src/03_modelling/important_feature.csv\""
   ]
  }
 ],
 "metadata": {
  "colab": {
   "collapsed_sections": [],
   "name": "modelling.ipynb",
   "provenance": [],
   "toc_visible": true
  },
  "kernelspec": {
   "display_name": "Python 3",
   "language": "python",
   "name": "python3"
  },
  "language_info": {
   "codemirror_mode": {
    "name": "ipython",
    "version": 3
   },
   "file_extension": ".py",
   "mimetype": "text/x-python",
   "name": "python",
   "nbconvert_exporter": "python",
   "pygments_lexer": "ipython3",
   "version": "3.7.3"
  }
 },
 "nbformat": 4,
 "nbformat_minor": 1
}
