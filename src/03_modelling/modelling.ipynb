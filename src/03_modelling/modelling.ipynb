{
 "cells": [
  {
   "cell_type": "markdown",
   "metadata": {},
   "source": [
    "# Model Pipeline\n",
    "\n",
    "Author: Jasmine Qin  \n",
    "Date: 2020-05-27"
   ]
  },
  {
   "cell_type": "code",
   "execution_count": 76,
   "metadata": {},
   "outputs": [],
   "source": [
    "# Basics\n",
    "import pandas as pd\n",
    "import numpy as np\n",
    "import seaborn as sns\n",
    "import time\n",
    "import re\n",
    "from collections import defaultdict, Counter\n",
    "import matplotlib.pyplot as plt\n",
    "\n",
    "# Preprocessing\n",
    "from sklearn.preprocessing import StandardScaler, OneHotEncoder, PolynomialFeatures\n",
    "from sklearn.impute import SimpleImputer\n",
    "from sklearn.model_selection import train_test_split\n",
    "from sklearn.feature_selection import RFE, SelectFromModel\n",
    "\n",
    "# Models\n",
    "from sklearn.linear_model import LogisticRegression\n",
    "from sklearn.svm import SVC\n",
    "from sklearn.tree import DecisionTreeClassifier\n",
    "from sklearn.neighbors import KNeighborsClassifier\n",
    "from xgboost import XGBClassifier\n",
    "from lightgbm import LGBMClassifier\n",
    "from sklearn.ensemble import RandomForestClassifier\n",
    "\n",
    "# Pipeline\n",
    "from sklearn.pipeline import Pipeline, FeatureUnion\n",
    "from sklearn.compose import ColumnTransformer, make_column_selector\n",
    "from sklearn.model_selection import GridSearchCV, RandomizedSearchCV\n",
    "\n",
    "# Evaluation\n",
    "from sklearn.metrics import plot_confusion_matrix, f1_score, recall_score, precision_score\n",
    "from sklearn.metrics import classification_report, confusion_matrix, ConfusionMatrixDisplay\n",
    "from sklearn.metrics import roc_curve, roc_auc_score, r2_score\n",
    "\n",
    "# Model Explanation\n",
    "import eli5\n",
    "import shap"
   ]
  },
  {
   "cell_type": "code",
   "execution_count": 3,
   "metadata": {},
   "outputs": [],
   "source": [
    "# Options\n",
    "pd.set_option('display.max_columns', 100)\n",
    "pd.set_option('display.max_rows', 100)"
   ]
  },
  {
   "cell_type": "markdown",
   "metadata": {},
   "source": [
    "## Table of Contents\n",
    "- [1. Load Data](#ld)\n",
    "- [2. Summary](#s)\n",
    "- [3. Feature Engineering](#fe)\n",
    "- [4. Split Data](#sd)\n",
    "- [5. Preprocessing](#pp)\n",
    "- [6. Baseline Model](#bm)\n",
    "- [7. Feature Importance and Selection](#fi)\n",
    "- [8. Other Models](#om)\n",
    "- [9. Hyperparameter Tuning](#ht)\n",
    "- [10. Other Tests](#ot)"
   ]
  },
  {
   "cell_type": "markdown",
   "metadata": {},
   "source": [
    "## 1. Load Data <a name=\"ld\"></a>\n",
    "\n",
    "- Run all scripts 01 to 04 to have the combined and cleaned data\n",
    "- Load `combined_train.csv` and `combined_validate.csv`"
   ]
  },
  {
   "cell_type": "code",
   "execution_count": 481,
   "metadata": {},
   "outputs": [],
   "source": [
    "train = pd.read_csv('../../data/processed/04_combined_train.csv',\n",
    "                    low_memory=False)\n",
    "#validation = pd.read_csv('../../data/processed/04_combined_validate.csv',\n",
    "#                         low_memory=False).rename(columns={'Geo Local Area': 'LocalArea'})"
   ]
  },
  {
   "cell_type": "markdown",
   "metadata": {},
   "source": [
    "## 2. Summary <a name=\"s\"></a>"
   ]
  },
  {
   "cell_type": "code",
   "execution_count": 482,
   "metadata": {},
   "outputs": [
    {
     "data": {
      "text/html": [
       "<div>\n",
       "<style scoped>\n",
       "    .dataframe tbody tr th:only-of-type {\n",
       "        vertical-align: middle;\n",
       "    }\n",
       "\n",
       "    .dataframe tbody tr th {\n",
       "        vertical-align: top;\n",
       "    }\n",
       "\n",
       "    .dataframe thead th {\n",
       "        text-align: right;\n",
       "    }\n",
       "</style>\n",
       "<table border=\"1\" class=\"dataframe\">\n",
       "  <thead>\n",
       "    <tr style=\"text-align: right;\">\n",
       "      <th></th>\n",
       "      <th>business_id</th>\n",
       "      <th>FOLDERYEAR</th>\n",
       "      <th>LicenceRSN</th>\n",
       "      <th>LicenceNumber</th>\n",
       "      <th>LicenceRevisionNumber</th>\n",
       "      <th>BusinessName</th>\n",
       "      <th>BusinessTradeName</th>\n",
       "      <th>Status</th>\n",
       "      <th>IssuedDate</th>\n",
       "      <th>ExpiredDate</th>\n",
       "      <th>BusinessType</th>\n",
       "      <th>BusinessSubType</th>\n",
       "      <th>Unit</th>\n",
       "      <th>UnitType</th>\n",
       "      <th>House</th>\n",
       "      <th>Street</th>\n",
       "      <th>City</th>\n",
       "      <th>Province</th>\n",
       "      <th>Country</th>\n",
       "      <th>PostalCode</th>\n",
       "      <th>LocalArea</th>\n",
       "      <th>NumberofEmployees</th>\n",
       "      <th>FeePaid</th>\n",
       "      <th>ExtractDate</th>\n",
       "      <th>Geom</th>\n",
       "      <th>NextYearStatus</th>\n",
       "      <th>label</th>\n",
       "      <th>BusinessIndustry</th>\n",
       "      <th>Parking meters</th>\n",
       "      <th>Disability parking</th>\n",
       "      <th>Unemployment_rate</th>\n",
       "      <th>Not a visible minority</th>\n",
       "      <th>Total visible minority population</th>\n",
       "    </tr>\n",
       "  </thead>\n",
       "  <tbody>\n",
       "    <tr>\n",
       "      <th>0</th>\n",
       "      <td>1</td>\n",
       "      <td>2018</td>\n",
       "      <td>3100450</td>\n",
       "      <td>18-516072</td>\n",
       "      <td>0.0</td>\n",
       "      <td>!Exotics BySIYTHE Corporation</td>\n",
       "      <td>NaN</td>\n",
       "      <td>Issued</td>\n",
       "      <td>2018-02-14</td>\n",
       "      <td>2018-12-31</td>\n",
       "      <td>Office</td>\n",
       "      <td>Design Company</td>\n",
       "      <td>170</td>\n",
       "      <td>Unit</td>\n",
       "      <td>422</td>\n",
       "      <td>RICHARDS ST</td>\n",
       "      <td>vancouver</td>\n",
       "      <td>BC</td>\n",
       "      <td>CA</td>\n",
       "      <td>V6B 2Z4</td>\n",
       "      <td>Downtown</td>\n",
       "      <td>1.0</td>\n",
       "      <td>189.0</td>\n",
       "      <td>2020-04-01 09:32:19+00:00</td>\n",
       "      <td>{\"type\": \"Point\", \"coordinates\": [-123.1119263...</td>\n",
       "      <td>Pending</td>\n",
       "      <td>0</td>\n",
       "      <td>Professional, scientific and technical services</td>\n",
       "      <td>3771.0</td>\n",
       "      <td>19.0</td>\n",
       "      <td>4.4</td>\n",
       "      <td>0.563466</td>\n",
       "      <td>0.436534</td>\n",
       "    </tr>\n",
       "    <tr>\n",
       "      <th>1</th>\n",
       "      <td>2</td>\n",
       "      <td>2004</td>\n",
       "      <td>804123</td>\n",
       "      <td>04-036444</td>\n",
       "      <td>0.0</td>\n",
       "      <td>.243 Racing Inc</td>\n",
       "      <td>NaN</td>\n",
       "      <td>Issued</td>\n",
       "      <td>2004-04-07</td>\n",
       "      <td>2004-12-31</td>\n",
       "      <td>Wholesale  Dealer</td>\n",
       "      <td>NaN</td>\n",
       "      <td>NaN</td>\n",
       "      <td>NaN</td>\n",
       "      <td>1725</td>\n",
       "      <td>POWELL ST</td>\n",
       "      <td>vancouver</td>\n",
       "      <td>BC</td>\n",
       "      <td>CA</td>\n",
       "      <td>V5L 1H6</td>\n",
       "      <td>Grandview-Woodland</td>\n",
       "      <td>NaN</td>\n",
       "      <td>100.0</td>\n",
       "      <td>2019-07-21 13:48:32+00:00</td>\n",
       "      <td>{\"type\": \"Point\", \"coordinates\": [-123.0693914...</td>\n",
       "      <td>Issued</td>\n",
       "      <td>1</td>\n",
       "      <td>Wholesale trade</td>\n",
       "      <td>312.0</td>\n",
       "      <td>7.0</td>\n",
       "      <td>6.8</td>\n",
       "      <td>0.669828</td>\n",
       "      <td>0.330172</td>\n",
       "    </tr>\n",
       "    <tr>\n",
       "      <th>2</th>\n",
       "      <td>2</td>\n",
       "      <td>2005</td>\n",
       "      <td>884526</td>\n",
       "      <td>05-112560</td>\n",
       "      <td>0.0</td>\n",
       "      <td>.243 Racing Inc</td>\n",
       "      <td>NaN</td>\n",
       "      <td>Issued</td>\n",
       "      <td>2004-12-23</td>\n",
       "      <td>2005-12-31</td>\n",
       "      <td>Wholesale  Dealer</td>\n",
       "      <td>NaN</td>\n",
       "      <td>NaN</td>\n",
       "      <td>NaN</td>\n",
       "      <td>1725</td>\n",
       "      <td>POWELL ST</td>\n",
       "      <td>vancouver</td>\n",
       "      <td>BC</td>\n",
       "      <td>CA</td>\n",
       "      <td>V5L 1H6</td>\n",
       "      <td>Grandview-Woodland</td>\n",
       "      <td>NaN</td>\n",
       "      <td>103.0</td>\n",
       "      <td>2019-07-21 13:48:35+00:00</td>\n",
       "      <td>{\"type\": \"Point\", \"coordinates\": [-123.0693914...</td>\n",
       "      <td>Issued</td>\n",
       "      <td>1</td>\n",
       "      <td>Wholesale trade</td>\n",
       "      <td>312.0</td>\n",
       "      <td>7.0</td>\n",
       "      <td>5.7</td>\n",
       "      <td>0.669828</td>\n",
       "      <td>0.330172</td>\n",
       "    </tr>\n",
       "  </tbody>\n",
       "</table>\n",
       "</div>"
      ],
      "text/plain": [
       "   business_id  FOLDERYEAR  LicenceRSN LicenceNumber  LicenceRevisionNumber  \\\n",
       "0            1        2018     3100450     18-516072                    0.0   \n",
       "1            2        2004      804123     04-036444                    0.0   \n",
       "2            2        2005      884526     05-112560                    0.0   \n",
       "\n",
       "                    BusinessName BusinessTradeName  Status  IssuedDate  \\\n",
       "0  !Exotics BySIYTHE Corporation               NaN  Issued  2018-02-14   \n",
       "1                .243 Racing Inc               NaN  Issued  2004-04-07   \n",
       "2                .243 Racing Inc               NaN  Issued  2004-12-23   \n",
       "\n",
       "  ExpiredDate       BusinessType BusinessSubType Unit UnitType House  \\\n",
       "0  2018-12-31             Office  Design Company  170     Unit   422   \n",
       "1  2004-12-31  Wholesale  Dealer             NaN  NaN      NaN  1725   \n",
       "2  2005-12-31  Wholesale  Dealer             NaN  NaN      NaN  1725   \n",
       "\n",
       "        Street       City Province Country PostalCode           LocalArea  \\\n",
       "0  RICHARDS ST  vancouver       BC      CA    V6B 2Z4            Downtown   \n",
       "1    POWELL ST  vancouver       BC      CA    V5L 1H6  Grandview-Woodland   \n",
       "2    POWELL ST  vancouver       BC      CA    V5L 1H6  Grandview-Woodland   \n",
       "\n",
       "   NumberofEmployees  FeePaid                ExtractDate  \\\n",
       "0                1.0    189.0  2020-04-01 09:32:19+00:00   \n",
       "1                NaN    100.0  2019-07-21 13:48:32+00:00   \n",
       "2                NaN    103.0  2019-07-21 13:48:35+00:00   \n",
       "\n",
       "                                                Geom NextYearStatus  label  \\\n",
       "0  {\"type\": \"Point\", \"coordinates\": [-123.1119263...        Pending      0   \n",
       "1  {\"type\": \"Point\", \"coordinates\": [-123.0693914...         Issued      1   \n",
       "2  {\"type\": \"Point\", \"coordinates\": [-123.0693914...         Issued      1   \n",
       "\n",
       "                                  BusinessIndustry  Parking meters  \\\n",
       "0  Professional, scientific and technical services          3771.0   \n",
       "1                                  Wholesale trade           312.0   \n",
       "2                                  Wholesale trade           312.0   \n",
       "\n",
       "   Disability parking  Unemployment_rate  Not a visible minority  \\\n",
       "0                19.0                4.4                0.563466   \n",
       "1                 7.0                6.8                0.669828   \n",
       "2                 7.0                5.7                0.669828   \n",
       "\n",
       "   Total visible minority population  \n",
       "0                           0.436534  \n",
       "1                           0.330172  \n",
       "2                           0.330172  "
      ]
     },
     "execution_count": 482,
     "metadata": {},
     "output_type": "execute_result"
    }
   ],
   "source": [
    "train.head(3)"
   ]
  },
  {
   "cell_type": "code",
   "execution_count": 483,
   "metadata": {},
   "outputs": [
    {
     "data": {
      "text/plain": [
       "FOLDERYEAR  LocalArea          \n",
       "1997        Arbutus-Ridge          [0.5352564102564102, 0.5352564102564102, 0.535...\n",
       "            Downtown               [0.6525974025974026, 0.6525974025974026, 0.652...\n",
       "            Dunbar-Southlands      [0.7355644591091209, 0.7355644591091209, 0.735...\n",
       "            Fairview               [0.7892921960072595, 0.7892921960072595, 0.789...\n",
       "            Grandview-Woodland     [0.6490077653149267, 0.6490077653149267, 0.649...\n",
       "                                                         ...                        \n",
       "2019        Strathcona             [0.547945205479452, 0.547945205479452, 0.54794...\n",
       "            Sunset                 [0.17142461197339245, 0.17142461197339245, 0.1...\n",
       "            Victoria-Fraserview    [0.15792955184388954, 0.15792955184388954, 0.1...\n",
       "            West End               [0.7135059931506851, 0.7135059931506851, 0.713...\n",
       "            West Point Grey        [0.6393188854489165, 0.6393188854489165, 0.639...\n",
       "Name: Not a visible minority, Length: 506, dtype: object"
      ]
     },
     "execution_count": 483,
     "metadata": {},
     "output_type": "execute_result"
    }
   ],
   "source": [
    "train.groupby(['FOLDERYEAR','LocalArea'])['Not a visible minority'].apply(lambda x: list(x))"
   ]
  },
  {
   "cell_type": "code",
   "execution_count": 484,
   "metadata": {},
   "outputs": [
    {
     "data": {
      "text/html": [
       "['NumberofEmployees', 'FeePaid', 'Parking meters', 'Disability parking', 'Unemployment_rate', 'Not a visible minority', 'Total visible minority population']"
      ],
      "text/plain": [
       "['NumberofEmployees',\n",
       " 'FeePaid',\n",
       " 'Parking meters',\n",
       " 'Disability parking',\n",
       " 'Unemployment_rate',\n",
       " 'Not a visible minority',\n",
       " 'Total visible minority population']"
      ]
     },
     "execution_count": 484,
     "metadata": {},
     "output_type": "execute_result"
    }
   ],
   "source": [
    "cat_vars = ['FOLDERYEAR', 'BusinessIndustry', 'LocalArea']\n",
    "label = ['label']\n",
    "\n",
    "cols_not_used = ['business_id', 'LicenceRSN', \n",
    "                 'LicenceNumber', 'LicenceRevisionNumber',\n",
    "                 'BusinessName', 'BusinessTradeName',\n",
    "                 'Status', 'IssuedDate', 'ExpiredDate',\n",
    "                 'BusinessType', 'BusinessSubType',\n",
    "                 'Unit', 'UnitType', 'House',\n",
    "                 'Street', 'City', 'Province',\n",
    "                 'Country', 'PostalCode', 'ExtractDate',\n",
    "                 'Geom', 'NextYearStatus']\n",
    "\n",
    "num_vars = [i for i in train.columns if i not in cat_vars and i not in cols_not_used and i not in label]\n",
    "num_vars"
   ]
  },
  {
   "cell_type": "code",
   "execution_count": 485,
   "metadata": {},
   "outputs": [],
   "source": [
    "def describe_data(df, num_vars, cat_vars):\n",
    "    \"\"\"\n",
    "    This function prints shape of the given dataframe\n",
    "    and returns two separate reports for both \n",
    "    numeric and categorical variables.\n",
    "    \"\"\"\n",
    "    \n",
    "    print(\"The dataset has\", df.shape[0], \"rows and\", df.shape[1], \"columns.\\n\")\n",
    "    \n",
    "    num_summary = df[num_vars].describe()\n",
    "    num_summary.loc['missing'] = [df[s].isnull().sum() for s in num_vars]\n",
    "    \n",
    "    cat_summary = {'cat_var':[], 'missing':[], 'unique':[]}\n",
    "    for c in cat_vars:\n",
    "        cat_summary['cat_var'].append(c)\n",
    "        cat_summary['missing'].append(sum(df[c].isnull()))\n",
    "        cat_summary['unique'].append(len(df[c].unique()))\n",
    "    \n",
    "    return num_summary, pd.DataFrame(cat_summary)"
   ]
  },
  {
   "cell_type": "code",
   "execution_count": 486,
   "metadata": {},
   "outputs": [
    {
     "name": "stdout",
     "output_type": "stream",
     "text": [
      "The dataset has 798640 rows and 33 columns.\n",
      "\n"
     ]
    },
    {
     "data": {
      "text/html": [
       "<div>\n",
       "<style scoped>\n",
       "    .dataframe tbody tr th:only-of-type {\n",
       "        vertical-align: middle;\n",
       "    }\n",
       "\n",
       "    .dataframe tbody tr th {\n",
       "        vertical-align: top;\n",
       "    }\n",
       "\n",
       "    .dataframe thead th {\n",
       "        text-align: right;\n",
       "    }\n",
       "</style>\n",
       "<table border=\"1\" class=\"dataframe\">\n",
       "  <thead>\n",
       "    <tr style=\"text-align: right;\">\n",
       "      <th></th>\n",
       "      <th>NumberofEmployees</th>\n",
       "      <th>FeePaid</th>\n",
       "      <th>Parking meters</th>\n",
       "      <th>Disability parking</th>\n",
       "      <th>Unemployment_rate</th>\n",
       "      <th>Not a visible minority</th>\n",
       "      <th>Total visible minority population</th>\n",
       "    </tr>\n",
       "  </thead>\n",
       "  <tbody>\n",
       "    <tr>\n",
       "      <th>count</th>\n",
       "      <td>224560.000000</td>\n",
       "      <td>743438.000000</td>\n",
       "      <td>709637.000000</td>\n",
       "      <td>754912.000000</td>\n",
       "      <td>798640.000000</td>\n",
       "      <td>692738.000000</td>\n",
       "      <td>692738.000000</td>\n",
       "    </tr>\n",
       "    <tr>\n",
       "      <th>mean</th>\n",
       "      <td>13.860352</td>\n",
       "      <td>249.449933</td>\n",
       "      <td>1348.976726</td>\n",
       "      <td>9.923722</td>\n",
       "      <td>6.287580</td>\n",
       "      <td>0.547228</td>\n",
       "      <td>0.452772</td>\n",
       "    </tr>\n",
       "    <tr>\n",
       "      <th>std</th>\n",
       "      <td>1144.293346</td>\n",
       "      <td>751.241283</td>\n",
       "      <td>1456.192761</td>\n",
       "      <td>6.646524</td>\n",
       "      <td>1.465802</td>\n",
       "      <td>0.192690</td>\n",
       "      <td>0.192690</td>\n",
       "    </tr>\n",
       "    <tr>\n",
       "      <th>min</th>\n",
       "      <td>0.000000</td>\n",
       "      <td>-1624.000000</td>\n",
       "      <td>7.000000</td>\n",
       "      <td>1.000000</td>\n",
       "      <td>4.000000</td>\n",
       "      <td>0.157930</td>\n",
       "      <td>0.139125</td>\n",
       "    </tr>\n",
       "    <tr>\n",
       "      <th>25%</th>\n",
       "      <td>1.000000</td>\n",
       "      <td>91.000000</td>\n",
       "      <td>91.000000</td>\n",
       "      <td>4.000000</td>\n",
       "      <td>4.700000</td>\n",
       "      <td>0.386141</td>\n",
       "      <td>0.289020</td>\n",
       "    </tr>\n",
       "    <tr>\n",
       "      <th>50%</th>\n",
       "      <td>2.000000</td>\n",
       "      <td>121.000000</td>\n",
       "      <td>898.000000</td>\n",
       "      <td>10.000000</td>\n",
       "      <td>6.600000</td>\n",
       "      <td>0.566919</td>\n",
       "      <td>0.433081</td>\n",
       "    </tr>\n",
       "    <tr>\n",
       "      <th>75%</th>\n",
       "      <td>6.000000</td>\n",
       "      <td>166.000000</td>\n",
       "      <td>1624.000000</td>\n",
       "      <td>18.000000</td>\n",
       "      <td>7.400000</td>\n",
       "      <td>0.710980</td>\n",
       "      <td>0.613859</td>\n",
       "    </tr>\n",
       "    <tr>\n",
       "      <th>max</th>\n",
       "      <td>300813.000000</td>\n",
       "      <td>84706.000000</td>\n",
       "      <td>3771.000000</td>\n",
       "      <td>19.000000</td>\n",
       "      <td>8.800000</td>\n",
       "      <td>0.860875</td>\n",
       "      <td>0.842070</td>\n",
       "    </tr>\n",
       "    <tr>\n",
       "      <th>missing</th>\n",
       "      <td>574080.000000</td>\n",
       "      <td>55202.000000</td>\n",
       "      <td>89003.000000</td>\n",
       "      <td>43728.000000</td>\n",
       "      <td>0.000000</td>\n",
       "      <td>105902.000000</td>\n",
       "      <td>105902.000000</td>\n",
       "    </tr>\n",
       "  </tbody>\n",
       "</table>\n",
       "</div>"
      ],
      "text/plain": [
       "         NumberofEmployees        FeePaid  Parking meters  Disability parking  \\\n",
       "count        224560.000000  743438.000000   709637.000000       754912.000000   \n",
       "mean             13.860352     249.449933     1348.976726            9.923722   \n",
       "std            1144.293346     751.241283     1456.192761            6.646524   \n",
       "min               0.000000   -1624.000000        7.000000            1.000000   \n",
       "25%               1.000000      91.000000       91.000000            4.000000   \n",
       "50%               2.000000     121.000000      898.000000           10.000000   \n",
       "75%               6.000000     166.000000     1624.000000           18.000000   \n",
       "max          300813.000000   84706.000000     3771.000000           19.000000   \n",
       "missing      574080.000000   55202.000000    89003.000000        43728.000000   \n",
       "\n",
       "         Unemployment_rate  Not a visible minority  \\\n",
       "count        798640.000000           692738.000000   \n",
       "mean              6.287580                0.547228   \n",
       "std               1.465802                0.192690   \n",
       "min               4.000000                0.157930   \n",
       "25%               4.700000                0.386141   \n",
       "50%               6.600000                0.566919   \n",
       "75%               7.400000                0.710980   \n",
       "max               8.800000                0.860875   \n",
       "missing           0.000000           105902.000000   \n",
       "\n",
       "         Total visible minority population  \n",
       "count                        692738.000000  \n",
       "mean                              0.452772  \n",
       "std                               0.192690  \n",
       "min                               0.139125  \n",
       "25%                               0.289020  \n",
       "50%                               0.433081  \n",
       "75%                               0.613859  \n",
       "max                               0.842070  \n",
       "missing                      105902.000000  "
      ]
     },
     "metadata": {},
     "output_type": "display_data"
    },
    {
     "data": {
      "text/html": [
       "<div>\n",
       "<style scoped>\n",
       "    .dataframe tbody tr th:only-of-type {\n",
       "        vertical-align: middle;\n",
       "    }\n",
       "\n",
       "    .dataframe tbody tr th {\n",
       "        vertical-align: top;\n",
       "    }\n",
       "\n",
       "    .dataframe thead th {\n",
       "        text-align: right;\n",
       "    }\n",
       "</style>\n",
       "<table border=\"1\" class=\"dataframe\">\n",
       "  <thead>\n",
       "    <tr style=\"text-align: right;\">\n",
       "      <th></th>\n",
       "      <th>cat_var</th>\n",
       "      <th>missing</th>\n",
       "      <th>unique</th>\n",
       "    </tr>\n",
       "  </thead>\n",
       "  <tbody>\n",
       "    <tr>\n",
       "      <th>0</th>\n",
       "      <td>FOLDERYEAR</td>\n",
       "      <td>0</td>\n",
       "      <td>23</td>\n",
       "    </tr>\n",
       "    <tr>\n",
       "      <th>1</th>\n",
       "      <td>BusinessIndustry</td>\n",
       "      <td>349</td>\n",
       "      <td>17</td>\n",
       "    </tr>\n",
       "    <tr>\n",
       "      <th>2</th>\n",
       "      <td>LocalArea</td>\n",
       "      <td>14637</td>\n",
       "      <td>23</td>\n",
       "    </tr>\n",
       "  </tbody>\n",
       "</table>\n",
       "</div>"
      ],
      "text/plain": [
       "            cat_var  missing  unique\n",
       "0        FOLDERYEAR        0      23\n",
       "1  BusinessIndustry      349      17\n",
       "2         LocalArea    14637      23"
      ]
     },
     "metadata": {},
     "output_type": "display_data"
    }
   ],
   "source": [
    "num_df, cat_df = describe_data(train, num_vars, cat_vars)\n",
    "display(num_df, cat_df)"
   ]
  },
  {
   "cell_type": "code",
   "execution_count": 487,
   "metadata": {},
   "outputs": [
    {
     "data": {
      "text/plain": [
       "array([\"Lounge 'A' *Historic*\", 'Auto Wrecker', 'Marine Pub *Historic*',\n",
       "       'Horse Racing', 'Motel', 'Short-Term Rental'], dtype=object)"
      ]
     },
     "execution_count": 487,
     "metadata": {},
     "output_type": "execute_result"
    }
   ],
   "source": [
    "train[train.BusinessIndustry.isnull()].BusinessType.unique()"
   ]
  },
  {
   "cell_type": "code",
   "execution_count": 488,
   "metadata": {},
   "outputs": [
    {
     "data": {
      "text/plain": [
       "1    656426\n",
       "0    142214\n",
       "Name: label, dtype: int64"
      ]
     },
     "execution_count": 488,
     "metadata": {},
     "output_type": "execute_result"
    }
   ],
   "source": [
    "train['label'].value_counts()"
   ]
  },
  {
   "cell_type": "markdown",
   "metadata": {},
   "source": [
    "## 3. Feauture Engineering <a name=\"fe\"></a>\n",
    "\n",
    "- Including just cleaning for now, other steps to add in the future\n",
    "- Will be moved to a separate feature engineering script"
   ]
  },
  {
   "cell_type": "code",
   "execution_count": 489,
   "metadata": {},
   "outputs": [],
   "source": [
    "def feature_engineering(df):\n",
    "    df = df[df.LocalArea.notnull()]\n",
    "    df = df[df.Status == 'Issued']\n",
    "\n",
    "    df = df[num_vars+cat_vars+label]\n",
    "    return df.drop(columns=label), df['label']\n"
   ]
  },
  {
   "cell_type": "markdown",
   "metadata": {},
   "source": [
    "## 4. Split Data <a name=\"sd\"></a>\n",
    "\n",
    "- Split data here because Validation set is used directly as Test"
   ]
  },
  {
   "cell_type": "code",
   "execution_count": 490,
   "metadata": {},
   "outputs": [],
   "source": [
    "X_train_valid, y_train_valid = feature_engineering(train)\n",
    "#X_test, y_test = feature_engineering(validation)\n",
    "\n",
    "X_train, X_valid, y_train, y_valid = train_test_split(X_train_valid, y_train_valid, test_size=0.2, random_state=2020)"
   ]
  },
  {
   "cell_type": "markdown",
   "metadata": {},
   "source": [
    "## 5. Preprocessing <a name=\"pp\"></a>\n",
    "\n",
    "- include polynomial features (interactions, e.g., local area x business type)"
   ]
  },
  {
   "cell_type": "code",
   "execution_count": 491,
   "metadata": {},
   "outputs": [],
   "source": [
    "numeric_transformer = Pipeline(steps=[\n",
    "    ('imputer', SimpleImputer(strategy='median')),\n",
    "    ('scaler', StandardScaler())\n",
    "])\n",
    "\n",
    "categorical_transformer = Pipeline(steps=[\n",
    "    ('imputer', SimpleImputer(strategy='constant',\n",
    "                              fill_value='missing')),\n",
    "    ('onehot', OneHotEncoder(\n",
    "        handle_unknown='ignore'))\n",
    "])\n",
    "\n",
    "preprocessor = ColumnTransformer(\n",
    "    transformers=[\n",
    "        ('num', numeric_transformer, num_vars),\n",
    "        ('cat', categorical_transformer, cat_vars)\n",
    "    ])"
   ]
  },
  {
   "cell_type": "markdown",
   "metadata": {},
   "source": [
    "## 6. Baseline Model <a name=\"bm\"></a>\n",
    "\n",
    "[ROC AUC](https://github.com/dariyasydykova/open_projects/tree/master/ROC_animation) source"
   ]
  },
  {
   "cell_type": "code",
   "execution_count": 492,
   "metadata": {},
   "outputs": [],
   "source": [
    "def evaluate_model(model, X_train=X_train, X_test=X_valid, y_train=y_train, y_test=y_valid, verbose=True):\n",
    "    \"\"\"\n",
    "    This function prints train and test accuracies,\n",
    "    classification report, and confusion matrix.\n",
    "    \"\"\"\n",
    "    model.fit(X_train, y_train)\n",
    "    train_acc = model.score(X_train, y_train)\n",
    "    test_acc = model.score(X_test, y_test)\n",
    "    \n",
    "    if verbose:\n",
    "        print(\"Train Accuracy:\", train_acc)\n",
    "        print(\"Validation Accuracy\", test_acc, \"\\n\")\n",
    "\n",
    "        print(classification_report(y_test, model.predict(X_test)))\n",
    "        print(plot_confusion_matrix(model, X_test, y_test,\n",
    "                                     display_labels=[0, 1],\n",
    "                                     cmap=plt.cm.Blues,\n",
    "                                     values_format='d'))\n",
    "    else:\n",
    "        report = {}\n",
    "        f1 = f1_score(y_test, model.predict(X_test))\n",
    "        recall = recall_score(y_test, model.predict(X_test))\n",
    "        precision = precision_score(y_test, model.predict(X_test))\n",
    "        report['renewed'] = [f1, recall, precision]\n",
    "        \n",
    "        f1 = f1_score(y_test, model.predict(X_test), pos_label=0)\n",
    "        recall = recall_score(y_test, model.predict(X_test), pos_label=0)\n",
    "        precision = precision_score(y_test, model.predict(X_test), pos_label=0)\n",
    "        report['not_renewed'] = [f1, recall, precision]\n",
    "        \n",
    "        report['accuracy'] = [train_acc, test_acc]\n",
    "        \n",
    "        return report"
   ]
  },
  {
   "cell_type": "code",
   "execution_count": 493,
   "metadata": {},
   "outputs": [],
   "source": [
    "def roc_curve_auc(model, X_train=X_train, X_test=X_valid, y_train=y_train, y_test=y_valid):\n",
    "    \"\"\"\n",
    "    This function plots ROC curve and prints AUC score.\n",
    "    \"\"\"\n",
    "    # assume fit model first\n",
    "    #mode.fit(X_train, y_train)\n",
    "    fpr, tpr, thresholds = roc_curve(y_test, model.predict_proba(X_test)[:,1])\n",
    "    auc = roc_auc_score(y_test, model.predict_proba(X_test)[:,1])\n",
    "        \n",
    "    fig = plt.figure(figsize=(6, 4))\n",
    "    plt.plot(fpr, tpr)\n",
    "    plt.plot((0,1),(0,1),'--k')\n",
    "    plt.xlabel('false positive rate')\n",
    "    plt.ylabel('true positive rate')\n",
    "    plt.annotate(f'AUC score = {auc: .4f}', (0.0, 0.9))"
   ]
  },
  {
   "cell_type": "code",
   "execution_count": 494,
   "metadata": {},
   "outputs": [
    {
     "name": "stderr",
     "output_type": "stream",
     "text": [
      "The max_iter was reached which means the coef_ did not converge\n"
     ]
    },
    {
     "name": "stdout",
     "output_type": "stream",
     "text": [
      "Train Accuracy: 0.5037989880799245\n",
      "Validation Accuracy 0.5059445812723393 \n",
      "\n",
      "              precision    recall  f1-score   support\n",
      "\n",
      "           0       0.17      0.68      0.28     20090\n",
      "           1       0.90      0.48      0.63    125673\n",
      "\n",
      "    accuracy                           0.51    145763\n",
      "   macro avg       0.54      0.58      0.45    145763\n",
      "weighted avg       0.80      0.51      0.58    145763\n",
      "\n",
      "<sklearn.metrics._plot.confusion_matrix.ConfusionMatrixDisplay object at 0x2baf6e710>\n"
     ]
    },
    {
     "data": {
      "image/png": "[encoded data removed]",
      "text/plain": [
       "<Figure size 432x288 with 2 Axes>"
      ]
     },
     "metadata": {
      "needs_background": "light"
     },
     "output_type": "display_data"
    }
   ],
   "source": [
    "lr = LogisticRegression(solver='saga', class_weight='balanced')\n",
    "\n",
    "lr_pip = Pipeline(steps=[('preprocessor', preprocessor),\n",
    "                         ('classifier', lr)])\n",
    "\n",
    "evaluate_model(lr_pip)"
   ]
  },
  {
   "cell_type": "code",
   "execution_count": 495,
   "metadata": {},
   "outputs": [
    {
     "data": {
      "image/png": "[encoded data removed]",
      "text/plain": [
       "<Figure size 432x288 with 1 Axes>"
      ]
     },
     "metadata": {
      "needs_background": "light"
     },
     "output_type": "display_data"
    }
   ],
   "source": [
    "roc_curve_auc(lr_pip)"
   ]
  },
  {
   "cell_type": "markdown",
   "metadata": {},
   "source": [
    "## 7. Feature Importance and Selection <a name=\"fi\"></a>\n",
    "\n",
    "- weights\n",
    "- RFE\n",
    "- L1, L2\n",
    "- PCA"
   ]
  },
  {
   "cell_type": "code",
   "execution_count": 496,
   "metadata": {},
   "outputs": [],
   "source": [
    "def explain_model(pip, df, verbose=True):\n",
    "    pp1_features = num_vars + \\\n",
    "        list(pip['preprocessor'].transformers_[\n",
    "             1][1]['onehot'].get_feature_names())\n",
    "    \n",
    "    return eli5.show_weights(pip['classifier'],\n",
    "                             feature_names=pp1_features,\n",
    "                             top=30)\n"
   ]
  },
  {
   "cell_type": "code",
   "execution_count": 497,
   "metadata": {},
   "outputs": [
    {
     "data": {
      "text/html": [
       "\n",
       "    <style>\n",
       "    table.eli5-weights tr:hover {\n",
       "        filter: brightness(85%);\n",
       "    }\n",
       "</style>\n",
       "\n",
       "\n",
       "\n",
       "    \n",
       "\n",
       "    \n",
       "\n",
       "    \n",
       "\n",
       "    \n",
       "\n",
       "    \n",
       "\n",
       "    \n",
       "\n",
       "\n",
       "    \n",
       "\n",
       "    \n",
       "\n",
       "    \n",
       "\n",
       "    \n",
       "        \n",
       "\n",
       "    \n",
       "\n",
       "        \n",
       "            \n",
       "                \n",
       "                \n",
       "    \n",
       "        <p style=\"margin-bottom: 0.5em; margin-top: 0em\">\n",
       "            <b>\n",
       "    \n",
       "        y=1\n",
       "    \n",
       "</b>\n",
       "\n",
       "top features\n",
       "        </p>\n",
       "    \n",
       "    <table class=\"eli5-weights\"\n",
       "           style=\"border-collapse: collapse; border: none; margin-top: 0em; table-layout: auto; margin-bottom: 2em;\">\n",
       "        <thead>\n",
       "        <tr style=\"border: none;\">\n",
       "            \n",
       "                <th style=\"padding: 0 1em 0 0.5em; text-align: right; border: none;\" title=\"Feature weights. Note that weights do not account for feature value scales, so if feature values have different scales, features with highest weights might not be the most important.\">\n",
       "                    Weight<sup>?</sup>\n",
       "                </th>\n",
       "            \n",
       "            <th style=\"padding: 0 0.5em 0 0.5em; text-align: left; border: none;\">Feature</th>\n",
       "            \n",
       "        </tr>\n",
       "        </thead>\n",
       "        <tbody>\n",
       "        \n",
       "            <tr style=\"background-color: hsl(120, 100.00%, 80.00%); border: none;\">\n",
       "    <td style=\"padding: 0 1em 0 0.5em; text-align: right; border: none;\">\n",
       "        +0.666\n",
       "    </td>\n",
       "    <td style=\"padding: 0 0.5em 0 0.5em; text-align: left; border: none;\">\n",
       "        x1_Real estate and rental and leasing\n",
       "    </td>\n",
       "    \n",
       "</tr>\n",
       "        \n",
       "            <tr style=\"background-color: hsl(120, 100.00%, 83.82%); border: none;\">\n",
       "    <td style=\"padding: 0 1em 0 0.5em; text-align: right; border: none;\">\n",
       "        +0.492\n",
       "    </td>\n",
       "    <td style=\"padding: 0 0.5em 0 0.5em; text-align: left; border: none;\">\n",
       "        x1_Health care and social assistance\n",
       "    </td>\n",
       "    \n",
       "</tr>\n",
       "        \n",
       "            <tr style=\"background-color: hsl(120, 100.00%, 88.38%); border: none;\">\n",
       "    <td style=\"padding: 0 1em 0 0.5em; text-align: right; border: none;\">\n",
       "        +0.306\n",
       "    </td>\n",
       "    <td style=\"padding: 0 0.5em 0 0.5em; text-align: left; border: none;\">\n",
       "        x1_Finance and insurance\n",
       "    </td>\n",
       "    \n",
       "</tr>\n",
       "        \n",
       "            <tr style=\"background-color: hsl(120, 100.00%, 91.96%); border: none;\">\n",
       "    <td style=\"padding: 0 1em 0 0.5em; text-align: right; border: none;\">\n",
       "        +0.181\n",
       "    </td>\n",
       "    <td style=\"padding: 0 0.5em 0 0.5em; text-align: left; border: none;\">\n",
       "        x2_Strathcona\n",
       "    </td>\n",
       "    \n",
       "</tr>\n",
       "        \n",
       "            <tr style=\"background-color: hsl(120, 100.00%, 92.16%); border: none;\">\n",
       "    <td style=\"padding: 0 1em 0 0.5em; text-align: right; border: none;\">\n",
       "        +0.175\n",
       "    </td>\n",
       "    <td style=\"padding: 0 0.5em 0 0.5em; text-align: left; border: none;\">\n",
       "        x0_2010\n",
       "    </td>\n",
       "    \n",
       "</tr>\n",
       "        \n",
       "            <tr style=\"background-color: hsl(120, 100.00%, 92.75%); border: none;\">\n",
       "    <td style=\"padding: 0 1em 0 0.5em; text-align: right; border: none;\">\n",
       "        +0.156\n",
       "    </td>\n",
       "    <td style=\"padding: 0 0.5em 0 0.5em; text-align: left; border: none;\">\n",
       "        x0_2009\n",
       "    </td>\n",
       "    \n",
       "</tr>\n",
       "        \n",
       "            <tr style=\"background-color: hsl(120, 100.00%, 92.91%); border: none;\">\n",
       "    <td style=\"padding: 0 1em 0 0.5em; text-align: right; border: none;\">\n",
       "        +0.151\n",
       "    </td>\n",
       "    <td style=\"padding: 0 0.5em 0 0.5em; text-align: left; border: none;\">\n",
       "        FeePaid\n",
       "    </td>\n",
       "    \n",
       "</tr>\n",
       "        \n",
       "            <tr style=\"background-color: hsl(120, 100.00%, 93.03%); border: none;\">\n",
       "    <td style=\"padding: 0 1em 0 0.5em; text-align: right; border: none;\">\n",
       "        +0.148\n",
       "    </td>\n",
       "    <td style=\"padding: 0 0.5em 0 0.5em; text-align: left; border: none;\">\n",
       "        x0_2012\n",
       "    </td>\n",
       "    \n",
       "</tr>\n",
       "        \n",
       "            <tr style=\"background-color: hsl(120, 100.00%, 93.44%); border: none;\">\n",
       "    <td style=\"padding: 0 1em 0 0.5em; text-align: right; border: none;\">\n",
       "        +0.135\n",
       "    </td>\n",
       "    <td style=\"padding: 0 0.5em 0 0.5em; text-align: left; border: none;\">\n",
       "        NumberofEmployees\n",
       "    </td>\n",
       "    \n",
       "</tr>\n",
       "        \n",
       "            <tr style=\"background-color: hsl(120, 100.00%, 94.59%); border: none;\">\n",
       "    <td style=\"padding: 0 1em 0 0.5em; text-align: right; border: none;\">\n",
       "        +0.103\n",
       "    </td>\n",
       "    <td style=\"padding: 0 0.5em 0 0.5em; text-align: left; border: none;\">\n",
       "        x1_Manufacturing\n",
       "    </td>\n",
       "    \n",
       "</tr>\n",
       "        \n",
       "            <tr style=\"background-color: hsl(120, 100.00%, 94.78%); border: none;\">\n",
       "    <td style=\"padding: 0 1em 0 0.5em; text-align: right; border: none;\">\n",
       "        +0.098\n",
       "    </td>\n",
       "    <td style=\"padding: 0 0.5em 0 0.5em; text-align: left; border: none;\">\n",
       "        x0_2011\n",
       "    </td>\n",
       "    \n",
       "</tr>\n",
       "        \n",
       "        \n",
       "            <tr style=\"background-color: hsl(120, 100.00%, 94.78%); border: none;\">\n",
       "                <td colspan=\"2\" style=\"padding: 0 0.5em 0 0.5em; text-align: center; border: none; white-space: nowrap;\">\n",
       "                    <i>&hellip; 18 more positive &hellip;</i>\n",
       "                </td>\n",
       "            </tr>\n",
       "        \n",
       "\n",
       "        \n",
       "            <tr style=\"background-color: hsl(0, 100.00%, 94.87%); border: none;\">\n",
       "                <td colspan=\"2\" style=\"padding: 0 0.5em 0 0.5em; text-align: center; border: none; white-space: nowrap;\">\n",
       "                    <i>&hellip; 22 more negative &hellip;</i>\n",
       "                </td>\n",
       "            </tr>\n",
       "        \n",
       "        \n",
       "            <tr style=\"background-color: hsl(0, 100.00%, 94.87%); border: none;\">\n",
       "    <td style=\"padding: 0 1em 0 0.5em; text-align: right; border: none;\">\n",
       "        -0.095\n",
       "    </td>\n",
       "    <td style=\"padding: 0 0.5em 0 0.5em; text-align: left; border: none;\">\n",
       "        x0_2005\n",
       "    </td>\n",
       "    \n",
       "</tr>\n",
       "        \n",
       "            <tr style=\"background-color: hsl(0, 100.00%, 94.64%); border: none;\">\n",
       "    <td style=\"padding: 0 1em 0 0.5em; text-align: right; border: none;\">\n",
       "        -0.101\n",
       "    </td>\n",
       "    <td style=\"padding: 0 0.5em 0 0.5em; text-align: left; border: none;\">\n",
       "        x2_Killarney\n",
       "    </td>\n",
       "    \n",
       "</tr>\n",
       "        \n",
       "            <tr style=\"background-color: hsl(0, 100.00%, 94.16%); border: none;\">\n",
       "    <td style=\"padding: 0 1em 0 0.5em; text-align: right; border: none;\">\n",
       "        -0.115\n",
       "    </td>\n",
       "    <td style=\"padding: 0 0.5em 0 0.5em; text-align: left; border: none;\">\n",
       "        x0_2007\n",
       "    </td>\n",
       "    \n",
       "</tr>\n",
       "        \n",
       "            <tr style=\"background-color: hsl(0, 100.00%, 93.66%); border: none;\">\n",
       "    <td style=\"padding: 0 1em 0 0.5em; text-align: right; border: none;\">\n",
       "        -0.129\n",
       "    </td>\n",
       "    <td style=\"padding: 0 0.5em 0 0.5em; text-align: left; border: none;\">\n",
       "        x1_Retail trade\n",
       "    </td>\n",
       "    \n",
       "</tr>\n",
       "        \n",
       "            <tr style=\"background-color: hsl(0, 100.00%, 93.43%); border: none;\">\n",
       "    <td style=\"padding: 0 1em 0 0.5em; text-align: right; border: none;\">\n",
       "        -0.136\n",
       "    </td>\n",
       "    <td style=\"padding: 0 0.5em 0 0.5em; text-align: left; border: none;\">\n",
       "        x2_Victoria-Fraserview\n",
       "    </td>\n",
       "    \n",
       "</tr>\n",
       "        \n",
       "            <tr style=\"background-color: hsl(0, 100.00%, 93.23%); border: none;\">\n",
       "    <td style=\"padding: 0 1em 0 0.5em; text-align: right; border: none;\">\n",
       "        -0.142\n",
       "    </td>\n",
       "    <td style=\"padding: 0 0.5em 0 0.5em; text-align: left; border: none;\">\n",
       "        x2_Downtown\n",
       "    </td>\n",
       "    \n",
       "</tr>\n",
       "        \n",
       "            <tr style=\"background-color: hsl(0, 100.00%, 93.11%); border: none;\">\n",
       "    <td style=\"padding: 0 1em 0 0.5em; text-align: right; border: none;\">\n",
       "        -0.145\n",
       "    </td>\n",
       "    <td style=\"padding: 0 0.5em 0 0.5em; text-align: left; border: none;\">\n",
       "        x0_2004\n",
       "    </td>\n",
       "    \n",
       "</tr>\n",
       "        \n",
       "            <tr style=\"background-color: hsl(0, 100.00%, 92.75%); border: none;\">\n",
       "    <td style=\"padding: 0 1em 0 0.5em; text-align: right; border: none;\">\n",
       "        -0.156\n",
       "    </td>\n",
       "    <td style=\"padding: 0 0.5em 0 0.5em; text-align: left; border: none;\">\n",
       "        x2_Renfrew-Collingwood\n",
       "    </td>\n",
       "    \n",
       "</tr>\n",
       "        \n",
       "            <tr style=\"background-color: hsl(0, 100.00%, 92.47%); border: none;\">\n",
       "    <td style=\"padding: 0 1em 0 0.5em; text-align: right; border: none;\">\n",
       "        -0.165\n",
       "    </td>\n",
       "    <td style=\"padding: 0 0.5em 0 0.5em; text-align: left; border: none;\">\n",
       "        x2_West End\n",
       "    </td>\n",
       "    \n",
       "</tr>\n",
       "        \n",
       "            <tr style=\"background-color: hsl(0, 100.00%, 92.03%); border: none;\">\n",
       "    <td style=\"padding: 0 1em 0 0.5em; text-align: right; border: none;\">\n",
       "        -0.179\n",
       "    </td>\n",
       "    <td style=\"padding: 0 0.5em 0 0.5em; text-align: left; border: none;\">\n",
       "        x0_1999\n",
       "    </td>\n",
       "    \n",
       "</tr>\n",
       "        \n",
       "            <tr style=\"background-color: hsl(0, 100.00%, 91.77%); border: none;\">\n",
       "    <td style=\"padding: 0 1em 0 0.5em; text-align: right; border: none;\">\n",
       "        -0.187\n",
       "    </td>\n",
       "    <td style=\"padding: 0 0.5em 0 0.5em; text-align: left; border: none;\">\n",
       "        x1_Accommodation and food services\n",
       "    </td>\n",
       "    \n",
       "</tr>\n",
       "        \n",
       "            <tr style=\"background-color: hsl(0, 100.00%, 90.73%); border: none;\">\n",
       "    <td style=\"padding: 0 1em 0 0.5em; text-align: right; border: none;\">\n",
       "        -0.222\n",
       "    </td>\n",
       "    <td style=\"padding: 0 0.5em 0 0.5em; text-align: left; border: none;\">\n",
       "        x1_Transportation and warehousing\n",
       "    </td>\n",
       "    \n",
       "</tr>\n",
       "        \n",
       "            <tr style=\"background-color: hsl(0, 100.00%, 90.69%); border: none;\">\n",
       "    <td style=\"padding: 0 1em 0 0.5em; text-align: right; border: none;\">\n",
       "        -0.223\n",
       "    </td>\n",
       "    <td style=\"padding: 0 0.5em 0 0.5em; text-align: left; border: none;\">\n",
       "        x1_Administrative and support, waste management and remediation services\n",
       "    </td>\n",
       "    \n",
       "</tr>\n",
       "        \n",
       "            <tr style=\"background-color: hsl(0, 100.00%, 90.65%); border: none;\">\n",
       "    <td style=\"padding: 0 1em 0 0.5em; text-align: right; border: none;\">\n",
       "        -0.225\n",
       "    </td>\n",
       "    <td style=\"padding: 0 0.5em 0 0.5em; text-align: left; border: none;\">\n",
       "        x1_Wholesale trade\n",
       "    </td>\n",
       "    \n",
       "</tr>\n",
       "        \n",
       "            <tr style=\"background-color: hsl(0, 100.00%, 90.47%); border: none;\">\n",
       "    <td style=\"padding: 0 1em 0 0.5em; text-align: right; border: none;\">\n",
       "        -0.231\n",
       "    </td>\n",
       "    <td style=\"padding: 0 0.5em 0 0.5em; text-align: left; border: none;\">\n",
       "        x1_Educational services\n",
       "    </td>\n",
       "    \n",
       "</tr>\n",
       "        \n",
       "            <tr style=\"background-color: hsl(0, 100.00%, 90.18%); border: none;\">\n",
       "    <td style=\"padding: 0 1em 0 0.5em; text-align: right; border: none;\">\n",
       "        -0.241\n",
       "    </td>\n",
       "    <td style=\"padding: 0 0.5em 0 0.5em; text-align: left; border: none;\">\n",
       "        x1_Construction\n",
       "    </td>\n",
       "    \n",
       "</tr>\n",
       "        \n",
       "            <tr style=\"background-color: hsl(0, 100.00%, 89.18%); border: none;\">\n",
       "    <td style=\"padding: 0 1em 0 0.5em; text-align: right; border: none;\">\n",
       "        -0.277\n",
       "    </td>\n",
       "    <td style=\"padding: 0 0.5em 0 0.5em; text-align: left; border: none;\">\n",
       "        x0_1997\n",
       "    </td>\n",
       "    \n",
       "</tr>\n",
       "        \n",
       "            <tr style=\"background-color: hsl(0, 100.00%, 89.11%); border: none;\">\n",
       "    <td style=\"padding: 0 1em 0 0.5em; text-align: right; border: none;\">\n",
       "        -0.279\n",
       "    </td>\n",
       "    <td style=\"padding: 0 0.5em 0 0.5em; text-align: left; border: none;\">\n",
       "        x1_Arts, entertainment and recreation\n",
       "    </td>\n",
       "    \n",
       "</tr>\n",
       "        \n",
       "            <tr style=\"background-color: hsl(0, 100.00%, 83.87%); border: none;\">\n",
       "    <td style=\"padding: 0 1em 0 0.5em; text-align: right; border: none;\">\n",
       "        -0.490\n",
       "    </td>\n",
       "    <td style=\"padding: 0 0.5em 0 0.5em; text-align: left; border: none;\">\n",
       "        x1_Information and cultural industries\n",
       "    </td>\n",
       "    \n",
       "</tr>\n",
       "        \n",
       "\n",
       "        </tbody>\n",
       "    </table>\n",
       "\n",
       "            \n",
       "        \n",
       "\n",
       "        \n",
       "\n",
       "\n",
       "\n",
       "    \n",
       "\n",
       "    \n",
       "\n",
       "    \n",
       "\n",
       "    \n",
       "\n",
       "\n",
       "    \n",
       "\n",
       "    \n",
       "\n",
       "    \n",
       "\n",
       "    \n",
       "\n",
       "    \n",
       "\n",
       "    \n",
       "\n",
       "\n",
       "    \n",
       "\n",
       "    \n",
       "\n",
       "    \n",
       "\n",
       "    \n",
       "\n",
       "    \n",
       "\n",
       "    \n",
       "\n",
       "\n",
       "\n"
      ],
      "text/plain": [
       "<IPython.core.display.HTML object>"
      ]
     },
     "execution_count": 497,
     "metadata": {},
     "output_type": "execute_result"
    }
   ],
   "source": [
    "explain_model(lr_pip, X_train)"
   ]
  },
  {
   "cell_type": "markdown",
   "metadata": {},
   "source": [
    "## 8. Other Models <a name=\"om\"></a>"
   ]
  },
  {
   "cell_type": "code",
   "execution_count": 498,
   "metadata": {},
   "outputs": [
    {
     "name": "stdout",
     "output_type": "stream",
     "text": [
      "Train Accuracy: 0.5767241231455278\n",
      "Validation Accuracy 0.5757085131343345 \n",
      "\n",
      "              precision    recall  f1-score   support\n",
      "\n",
      "           0       0.19      0.64      0.30     20090\n",
      "           1       0.91      0.56      0.70    125673\n",
      "\n",
      "    accuracy                           0.58    145763\n",
      "   macro avg       0.55      0.60      0.50    145763\n",
      "weighted avg       0.81      0.58      0.64    145763\n",
      "\n",
      "<sklearn.metrics._plot.confusion_matrix.ConfusionMatrixDisplay object at 0x2e00aa6d0>\n"
     ]
    },
    {
     "data": {
      "image/png": "[encoded data removed]",
      "text/plain": [
       "<Figure size 432x288 with 2 Axes>"
      ]
     },
     "metadata": {
      "needs_background": "light"
     },
     "output_type": "display_data"
    }
   ],
   "source": [
    "lgbm = LGBMClassifier(class_weight='balanced')\n",
    "\n",
    "lgbm_pip = Pipeline(steps=[('preprocessor', preprocessor),\n",
    "                           ('classifier', lgbm)])\n",
    "\n",
    "evaluate_model(lgbm_pip)"
   ]
  },
  {
   "cell_type": "code",
   "execution_count": 499,
   "metadata": {},
   "outputs": [
    {
     "data": {
      "image/png": "[encoded data removed]",
      "text/plain": [
       "<Figure size 432x288 with 1 Axes>"
      ]
     },
     "metadata": {
      "needs_background": "light"
     },
     "output_type": "display_data"
    }
   ],
   "source": [
    "roc_curve_auc(lgbm_pip)"
   ]
  },
  {
   "cell_type": "code",
   "execution_count": 500,
   "metadata": {},
   "outputs": [
    {
     "data": {
      "text/html": [
       "\n",
       "    <style>\n",
       "    table.eli5-weights tr:hover {\n",
       "        filter: brightness(85%);\n",
       "    }\n",
       "</style>\n",
       "\n",
       "\n",
       "\n",
       "    \n",
       "\n",
       "    \n",
       "\n",
       "    \n",
       "\n",
       "    \n",
       "\n",
       "    \n",
       "\n",
       "    \n",
       "\n",
       "\n",
       "    \n",
       "\n",
       "    \n",
       "\n",
       "    \n",
       "\n",
       "    \n",
       "\n",
       "    \n",
       "\n",
       "    \n",
       "\n",
       "\n",
       "    \n",
       "\n",
       "    \n",
       "\n",
       "    \n",
       "\n",
       "    \n",
       "\n",
       "    \n",
       "        <table class=\"eli5-weights eli5-feature-importances\" style=\"border-collapse: collapse; border: none; margin-top: 0em; table-layout: auto;\">\n",
       "    <thead>\n",
       "    <tr style=\"border: none;\">\n",
       "        <th style=\"padding: 0 1em 0 0.5em; text-align: right; border: none;\">Weight</th>\n",
       "        <th style=\"padding: 0 0.5em 0 0.5em; text-align: left; border: none;\">Feature</th>\n",
       "    </tr>\n",
       "    </thead>\n",
       "    <tbody>\n",
       "    \n",
       "        <tr style=\"background-color: hsl(120, 100.00%, 80.00%); border: none;\">\n",
       "            <td style=\"padding: 0 1em 0 0.5em; text-align: right; border: none;\">\n",
       "                0.2707\n",
       "                \n",
       "            </td>\n",
       "            <td style=\"padding: 0 0.5em 0 0.5em; text-align: left; border: none;\">\n",
       "                x1_Real estate and rental and leasing\n",
       "            </td>\n",
       "        </tr>\n",
       "    \n",
       "        <tr style=\"background-color: hsl(120, 100.00%, 80.85%); border: none;\">\n",
       "            <td style=\"padding: 0 1em 0 0.5em; text-align: right; border: none;\">\n",
       "                0.2544\n",
       "                \n",
       "            </td>\n",
       "            <td style=\"padding: 0 0.5em 0 0.5em; text-align: left; border: none;\">\n",
       "                FeePaid\n",
       "            </td>\n",
       "        </tr>\n",
       "    \n",
       "        <tr style=\"background-color: hsl(120, 100.00%, 88.42%); border: none;\">\n",
       "            <td style=\"padding: 0 1em 0 0.5em; text-align: right; border: none;\">\n",
       "                0.1241\n",
       "                \n",
       "            </td>\n",
       "            <td style=\"padding: 0 0.5em 0 0.5em; text-align: left; border: none;\">\n",
       "                NumberofEmployees\n",
       "            </td>\n",
       "        </tr>\n",
       "    \n",
       "        <tr style=\"background-color: hsl(120, 100.00%, 93.17%); border: none;\">\n",
       "            <td style=\"padding: 0 1em 0 0.5em; text-align: right; border: none;\">\n",
       "                0.0583\n",
       "                \n",
       "            </td>\n",
       "            <td style=\"padding: 0 0.5em 0 0.5em; text-align: left; border: none;\">\n",
       "                Unemployment_rate\n",
       "            </td>\n",
       "        </tr>\n",
       "    \n",
       "        <tr style=\"background-color: hsl(120, 100.00%, 93.26%); border: none;\">\n",
       "            <td style=\"padding: 0 1em 0 0.5em; text-align: right; border: none;\">\n",
       "                0.0572\n",
       "                \n",
       "            </td>\n",
       "            <td style=\"padding: 0 0.5em 0 0.5em; text-align: left; border: none;\">\n",
       "                x1_Health care and social assistance\n",
       "            </td>\n",
       "        </tr>\n",
       "    \n",
       "        <tr style=\"background-color: hsl(120, 100.00%, 94.87%); border: none;\">\n",
       "            <td style=\"padding: 0 1em 0 0.5em; text-align: right; border: none;\">\n",
       "                0.0387\n",
       "                \n",
       "            </td>\n",
       "            <td style=\"padding: 0 0.5em 0 0.5em; text-align: left; border: none;\">\n",
       "                Parking meters\n",
       "            </td>\n",
       "        </tr>\n",
       "    \n",
       "        <tr style=\"background-color: hsl(120, 100.00%, 95.80%); border: none;\">\n",
       "            <td style=\"padding: 0 1em 0 0.5em; text-align: right; border: none;\">\n",
       "                0.0291\n",
       "                \n",
       "            </td>\n",
       "            <td style=\"padding: 0 0.5em 0 0.5em; text-align: left; border: none;\">\n",
       "                Not a visible minority\n",
       "            </td>\n",
       "        </tr>\n",
       "    \n",
       "        <tr style=\"background-color: hsl(120, 100.00%, 96.97%); border: none;\">\n",
       "            <td style=\"padding: 0 1em 0 0.5em; text-align: right; border: none;\">\n",
       "                0.0183\n",
       "                \n",
       "            </td>\n",
       "            <td style=\"padding: 0 0.5em 0 0.5em; text-align: left; border: none;\">\n",
       "                x1_Finance and insurance\n",
       "            </td>\n",
       "        </tr>\n",
       "    \n",
       "        <tr style=\"background-color: hsl(120, 100.00%, 97.49%); border: none;\">\n",
       "            <td style=\"padding: 0 1em 0 0.5em; text-align: right; border: none;\">\n",
       "                0.0140\n",
       "                \n",
       "            </td>\n",
       "            <td style=\"padding: 0 0.5em 0 0.5em; text-align: left; border: none;\">\n",
       "                x1_Information and cultural industries\n",
       "            </td>\n",
       "        </tr>\n",
       "    \n",
       "        <tr style=\"background-color: hsl(120, 100.00%, 97.59%); border: none;\">\n",
       "            <td style=\"padding: 0 1em 0 0.5em; text-align: right; border: none;\">\n",
       "                0.0131\n",
       "                \n",
       "            </td>\n",
       "            <td style=\"padding: 0 0.5em 0 0.5em; text-align: left; border: none;\">\n",
       "                x1_Professional, scientific and technical services\n",
       "            </td>\n",
       "        </tr>\n",
       "    \n",
       "        <tr style=\"background-color: hsl(120, 100.00%, 98.46%); border: none;\">\n",
       "            <td style=\"padding: 0 1em 0 0.5em; text-align: right; border: none;\">\n",
       "                0.0070\n",
       "                \n",
       "            </td>\n",
       "            <td style=\"padding: 0 0.5em 0 0.5em; text-align: left; border: none;\">\n",
       "                x1_Accommodation and food services\n",
       "            </td>\n",
       "        </tr>\n",
       "    \n",
       "        <tr style=\"background-color: hsl(120, 100.00%, 98.50%); border: none;\">\n",
       "            <td style=\"padding: 0 1em 0 0.5em; text-align: right; border: none;\">\n",
       "                0.0067\n",
       "                \n",
       "            </td>\n",
       "            <td style=\"padding: 0 0.5em 0 0.5em; text-align: left; border: none;\">\n",
       "                x1_Construction\n",
       "            </td>\n",
       "        </tr>\n",
       "    \n",
       "        <tr style=\"background-color: hsl(120, 100.00%, 98.61%); border: none;\">\n",
       "            <td style=\"padding: 0 1em 0 0.5em; text-align: right; border: none;\">\n",
       "                0.0060\n",
       "                \n",
       "            </td>\n",
       "            <td style=\"padding: 0 0.5em 0 0.5em; text-align: left; border: none;\">\n",
       "                x0_2009\n",
       "            </td>\n",
       "        </tr>\n",
       "    \n",
       "        <tr style=\"background-color: hsl(120, 100.00%, 98.65%); border: none;\">\n",
       "            <td style=\"padding: 0 1em 0 0.5em; text-align: right; border: none;\">\n",
       "                0.0058\n",
       "                \n",
       "            </td>\n",
       "            <td style=\"padding: 0 0.5em 0 0.5em; text-align: left; border: none;\">\n",
       "                x2_Strathcona\n",
       "            </td>\n",
       "        </tr>\n",
       "    \n",
       "        <tr style=\"background-color: hsl(120, 100.00%, 98.65%); border: none;\">\n",
       "            <td style=\"padding: 0 1em 0 0.5em; text-align: right; border: none;\">\n",
       "                0.0058\n",
       "                \n",
       "            </td>\n",
       "            <td style=\"padding: 0 0.5em 0 0.5em; text-align: left; border: none;\">\n",
       "                x0_2004\n",
       "            </td>\n",
       "        </tr>\n",
       "    \n",
       "        <tr style=\"background-color: hsl(120, 100.00%, 98.65%); border: none;\">\n",
       "            <td style=\"padding: 0 1em 0 0.5em; text-align: right; border: none;\">\n",
       "                0.0058\n",
       "                \n",
       "            </td>\n",
       "            <td style=\"padding: 0 0.5em 0 0.5em; text-align: left; border: none;\">\n",
       "                x0_2003\n",
       "            </td>\n",
       "        </tr>\n",
       "    \n",
       "        <tr style=\"background-color: hsl(120, 100.00%, 98.76%); border: none;\">\n",
       "            <td style=\"padding: 0 1em 0 0.5em; text-align: right; border: none;\">\n",
       "                0.0051\n",
       "                \n",
       "            </td>\n",
       "            <td style=\"padding: 0 0.5em 0 0.5em; text-align: left; border: none;\">\n",
       "                x0_1997\n",
       "            </td>\n",
       "        </tr>\n",
       "    \n",
       "        <tr style=\"background-color: hsl(120, 100.00%, 98.83%); border: none;\">\n",
       "            <td style=\"padding: 0 1em 0 0.5em; text-align: right; border: none;\">\n",
       "                0.0047\n",
       "                \n",
       "            </td>\n",
       "            <td style=\"padding: 0 0.5em 0 0.5em; text-align: left; border: none;\">\n",
       "                Disability parking\n",
       "            </td>\n",
       "        </tr>\n",
       "    \n",
       "        <tr style=\"background-color: hsl(120, 100.00%, 98.84%); border: none;\">\n",
       "            <td style=\"padding: 0 1em 0 0.5em; text-align: right; border: none;\">\n",
       "                0.0046\n",
       "                \n",
       "            </td>\n",
       "            <td style=\"padding: 0 0.5em 0 0.5em; text-align: left; border: none;\">\n",
       "                x1_Manufacturing\n",
       "            </td>\n",
       "        </tr>\n",
       "    \n",
       "        <tr style=\"background-color: hsl(120, 100.00%, 98.90%); border: none;\">\n",
       "            <td style=\"padding: 0 1em 0 0.5em; text-align: right; border: none;\">\n",
       "                0.0043\n",
       "                \n",
       "            </td>\n",
       "            <td style=\"padding: 0 0.5em 0 0.5em; text-align: left; border: none;\">\n",
       "                x0_2008\n",
       "            </td>\n",
       "        </tr>\n",
       "    \n",
       "        <tr style=\"background-color: hsl(120, 100.00%, 98.94%); border: none;\">\n",
       "            <td style=\"padding: 0 1em 0 0.5em; text-align: right; border: none;\">\n",
       "                0.0041\n",
       "                \n",
       "            </td>\n",
       "            <td style=\"padding: 0 0.5em 0 0.5em; text-align: left; border: none;\">\n",
       "                x1_Other services (except public administration)\n",
       "            </td>\n",
       "        </tr>\n",
       "    \n",
       "        <tr style=\"background-color: hsl(120, 100.00%, 99.00%); border: none;\">\n",
       "            <td style=\"padding: 0 1em 0 0.5em; text-align: right; border: none;\">\n",
       "                0.0038\n",
       "                \n",
       "            </td>\n",
       "            <td style=\"padding: 0 0.5em 0 0.5em; text-align: left; border: none;\">\n",
       "                x1_Wholesale trade\n",
       "            </td>\n",
       "        </tr>\n",
       "    \n",
       "        <tr style=\"background-color: hsl(120, 100.00%, 99.01%); border: none;\">\n",
       "            <td style=\"padding: 0 1em 0 0.5em; text-align: right; border: none;\">\n",
       "                0.0037\n",
       "                \n",
       "            </td>\n",
       "            <td style=\"padding: 0 0.5em 0 0.5em; text-align: left; border: none;\">\n",
       "                x0_2010\n",
       "            </td>\n",
       "        </tr>\n",
       "    \n",
       "        <tr style=\"background-color: hsl(120, 100.00%, 99.03%); border: none;\">\n",
       "            <td style=\"padding: 0 1em 0 0.5em; text-align: right; border: none;\">\n",
       "                0.0036\n",
       "                \n",
       "            </td>\n",
       "            <td style=\"padding: 0 0.5em 0 0.5em; text-align: left; border: none;\">\n",
       "                x0_2019\n",
       "            </td>\n",
       "        </tr>\n",
       "    \n",
       "        <tr style=\"background-color: hsl(120, 100.00%, 99.09%); border: none;\">\n",
       "            <td style=\"padding: 0 1em 0 0.5em; text-align: right; border: none;\">\n",
       "                0.0033\n",
       "                \n",
       "            </td>\n",
       "            <td style=\"padding: 0 0.5em 0 0.5em; text-align: left; border: none;\">\n",
       "                x0_2002\n",
       "            </td>\n",
       "        </tr>\n",
       "    \n",
       "        <tr style=\"background-color: hsl(120, 100.00%, 99.14%); border: none;\">\n",
       "            <td style=\"padding: 0 1em 0 0.5em; text-align: right; border: none;\">\n",
       "                0.0030\n",
       "                \n",
       "            </td>\n",
       "            <td style=\"padding: 0 0.5em 0 0.5em; text-align: left; border: none;\">\n",
       "                x1_Retail trade\n",
       "            </td>\n",
       "        </tr>\n",
       "    \n",
       "        <tr style=\"background-color: hsl(120, 100.00%, 99.18%); border: none;\">\n",
       "            <td style=\"padding: 0 1em 0 0.5em; text-align: right; border: none;\">\n",
       "                0.0028\n",
       "                \n",
       "            </td>\n",
       "            <td style=\"padding: 0 0.5em 0 0.5em; text-align: left; border: none;\">\n",
       "                x2_Fairview\n",
       "            </td>\n",
       "        </tr>\n",
       "    \n",
       "        <tr style=\"background-color: hsl(120, 100.00%, 99.24%); border: none;\">\n",
       "            <td style=\"padding: 0 1em 0 0.5em; text-align: right; border: none;\">\n",
       "                0.0025\n",
       "                \n",
       "            </td>\n",
       "            <td style=\"padding: 0 0.5em 0 0.5em; text-align: left; border: none;\">\n",
       "                x2_West End\n",
       "            </td>\n",
       "        </tr>\n",
       "    \n",
       "        <tr style=\"background-color: hsl(120, 100.00%, 99.27%); border: none;\">\n",
       "            <td style=\"padding: 0 1em 0 0.5em; text-align: right; border: none;\">\n",
       "                0.0024\n",
       "                \n",
       "            </td>\n",
       "            <td style=\"padding: 0 0.5em 0 0.5em; text-align: left; border: none;\">\n",
       "                x1_Arts, entertainment and recreation\n",
       "            </td>\n",
       "        </tr>\n",
       "    \n",
       "        <tr style=\"background-color: hsl(120, 100.00%, 99.29%); border: none;\">\n",
       "            <td style=\"padding: 0 1em 0 0.5em; text-align: right; border: none;\">\n",
       "                0.0023\n",
       "                \n",
       "            </td>\n",
       "            <td style=\"padding: 0 0.5em 0 0.5em; text-align: left; border: none;\">\n",
       "                x2_Kitsilano\n",
       "            </td>\n",
       "        </tr>\n",
       "    \n",
       "    \n",
       "        \n",
       "            <tr style=\"background-color: hsl(120, 100.00%, 99.29%); border: none;\">\n",
       "                <td colspan=\"2\" style=\"padding: 0 0.5em 0 0.5em; text-align: center; border: none; white-space: nowrap;\">\n",
       "                    <i>&hellip; 39 more &hellip;</i>\n",
       "                </td>\n",
       "            </tr>\n",
       "        \n",
       "    \n",
       "    </tbody>\n",
       "</table>\n",
       "    \n",
       "\n",
       "    \n",
       "\n",
       "\n",
       "    \n",
       "\n",
       "    \n",
       "\n",
       "    \n",
       "\n",
       "    \n",
       "\n",
       "    \n",
       "\n",
       "    \n",
       "\n",
       "\n",
       "\n"
      ],
      "text/plain": [
       "<IPython.core.display.HTML object>"
      ]
     },
     "execution_count": 500,
     "metadata": {},
     "output_type": "execute_result"
    }
   ],
   "source": [
    "explain_model(lgbm_pip, X_train)"
   ]
  },
  {
   "cell_type": "markdown",
   "metadata": {},
   "source": [
    "## 9. Hyperparameter Tuning <a name=\"ht\"></a>\n",
    "\n",
    "- regularization strength\n",
    "- tree max depth\n",
    "- sampling strategy for SMOTE\n",
    "- missing value imputing strategy\n",
    "- degree of polynomial terms"
   ]
  },
  {
   "cell_type": "code",
   "execution_count": 47,
   "metadata": {},
   "outputs": [],
   "source": [
    "lrhp = Pipeline(steps=[('preprocessor', preprocessor),\n",
    "                       ('classifier', LGBMClassifier(class_weight='balanced'))])\n",
    "\n",
    "param_grid = {\n",
    "    'classifier__reg_lambda': [0.1, 1],\n",
    "}\n",
    "\n",
    "#gs = GridSearchCV(lrhp, param_grid, cv=5, scoring='f1')\n",
    "#gs.fit(X_train, y_train);"
   ]
  },
  {
   "cell_type": "markdown",
   "metadata": {},
   "source": [
    "## 10. Other Tests <a name=\"ot\"></a>\n",
    "\n",
    "- SMOTE"
   ]
  },
  {
   "cell_type": "code",
   "execution_count": 51,
   "metadata": {},
   "outputs": [
    {
     "name": "stdout",
     "output_type": "stream",
     "text": [
      "Train Accuracy: 0.7795397762536005\n",
      "Validation Accuracy 0.7763190350018698\n",
      "              precision    recall  f1-score   support\n",
      "\n",
      "           0       0.24      0.26      0.25     17926\n",
      "           1       0.87      0.86      0.87    107753\n",
      "\n",
      "    accuracy                           0.78    125679\n",
      "   macro avg       0.56      0.56      0.56    125679\n",
      "weighted avg       0.78      0.78      0.78    125679\n",
      "\n"
     ]
    },
    {
     "data": {
      "text/plain": [
       "<sklearn.metrics._plot.confusion_matrix.ConfusionMatrixDisplay at 0x147c14a50>"
      ]
     },
     "execution_count": 51,
     "metadata": {},
     "output_type": "execute_result"
    },
    {
     "data": {
      "image/png": "[encoded data removed]",
      "text/plain": [
       "<Figure size 432x288 with 2 Axes>"
      ]
     },
     "metadata": {
      "needs_background": "light"
     },
     "output_type": "display_data"
    }
   ],
   "source": [
    "from imblearn.pipeline import Pipeline\n",
    "from imblearn.over_sampling import SMOTE\n",
    "smote_pip = Pipeline(steps=[('preprocessor', preprocessor),\n",
    "                            ('smote', SMOTE(sampling_strategy=0.85)),\n",
    "                            ('classifier', lgbm)])\n",
    "\n",
    "param_grid = {\n",
    "    'smote__sampling_strategy': [0.1, 0.5, 0.8, 1.0],\n",
    "}\n",
    "\n",
    "#gs = GridSearchCV(smote_pip, param_grid, cv=5, scoring='f1')\n",
    "#gs.fit(X_train_valid, y_train_valid)\n",
    "evaluate_model(smote_pip)"
   ]
  },
  {
   "cell_type": "markdown",
   "metadata": {},
   "source": [
    "# Compare results from adding different census information"
   ]
  },
  {
   "cell_type": "code",
   "execution_count": 84,
   "metadata": {},
   "outputs": [
    {
     "name": "stderr",
     "output_type": "stream",
     "text": [
      "The max_iter was reached which means the coef_ did not converge\n"
     ]
    }
   ],
   "source": [
    "# 1. marital_status\n",
    "\n",
    "marital_status_lr = evaluate_model(lr_pip, verbose=False)\n",
    "marital_status_lgbm = evaluate_model(lgbm_pip, verbose=False)\n",
    "\n",
    "marital_status_explain_lr = explain_model(lr_pip, X_train)\n",
    "marital_status_explain_lgbm = explain_model(lgbm_pip, X_train)"
   ]
  },
  {
   "cell_type": "code",
   "execution_count": 109,
   "metadata": {},
   "outputs": [
    {
     "name": "stderr",
     "output_type": "stream",
     "text": [
      "The max_iter was reached which means the coef_ did not converge\n"
     ]
    }
   ],
   "source": [
    "# 2. household_size\n",
    "\n",
    "household_size_lr = evaluate_model(lr_pip, verbose=False)\n",
    "household_size_lgbm = evaluate_model(lgbm_pip, verbose=False)\n",
    "\n",
    "household_size_explain_lr = explain_model(lr_pip, X_train)\n",
    "household_size_explain_lgbm = explain_model(lgbm_pip, X_train)"
   ]
  },
  {
   "cell_type": "code",
   "execution_count": 135,
   "metadata": {},
   "outputs": [
    {
     "name": "stderr",
     "output_type": "stream",
     "text": [
      "The max_iter was reached which means the coef_ did not converge\n"
     ]
    }
   ],
   "source": [
    "# 3. population_age\n",
    "\n",
    "population_age_lr = evaluate_model(lr_pip, verbose=False)\n",
    "population_age_lgbm = evaluate_model(lgbm_pip, verbose=False)\n",
    "\n",
    "population_age_explain_lr = explain_model(lr_pip, X_train)\n",
    "population_age_explain_lgbm = explain_model(lgbm_pip, X_train)"
   ]
  },
  {
   "cell_type": "code",
   "execution_count": 158,
   "metadata": {},
   "outputs": [
    {
     "name": "stderr",
     "output_type": "stream",
     "text": [
      "The max_iter was reached which means the coef_ did not converge\n"
     ]
    }
   ],
   "source": [
    "# 4. industry\n",
    "\n",
    "industry_lr = evaluate_model(lr_pip, verbose=False)\n",
    "industry_lgbm = evaluate_model(lgbm_pip, verbose=False)\n",
    "\n",
    "industry_explain_lr = explain_model(lr_pip, X_train)\n",
    "industry_explain_lgbm = explain_model(lgbm_pip, X_train)"
   ]
  },
  {
   "cell_type": "code",
   "execution_count": 182,
   "metadata": {},
   "outputs": [
    {
     "name": "stderr",
     "output_type": "stream",
     "text": [
      "The max_iter was reached which means the coef_ did not converge\n"
     ]
    }
   ],
   "source": [
    "# 5. transport_mode\n",
    "\n",
    "transport_mode_lr = evaluate_model(lr_pip, verbose=False)\n",
    "transport_mode_lgbm = evaluate_model(lgbm_pip, verbose=False)\n",
    "\n",
    "transport_mode_explain_lr = explain_model(lr_pip, X_train)\n",
    "transport_mode_explain_lgbm = explain_model(lgbm_pip, X_train)"
   ]
  },
  {
   "cell_type": "code",
   "execution_count": 213,
   "metadata": {},
   "outputs": [
    {
     "name": "stderr",
     "output_type": "stream",
     "text": [
      "The max_iter was reached which means the coef_ did not converge\n"
     ]
    }
   ],
   "source": [
    "# 6. language\n",
    "\n",
    "language_lr = evaluate_model(lr_pip, verbose=False)\n",
    "language_lgbm = evaluate_model(lgbm_pip, verbose=False)\n",
    "\n",
    "language_explain_lr = explain_model(lr_pip, X_train)\n",
    "language_explain_lgbm = explain_model(lgbm_pip, X_train)"
   ]
  },
  {
   "cell_type": "code",
   "execution_count": 236,
   "metadata": {},
   "outputs": [
    {
     "name": "stderr",
     "output_type": "stream",
     "text": [
      "The max_iter was reached which means the coef_ did not converge\n"
     ]
    }
   ],
   "source": [
    "# 7. gender\n",
    "\n",
    "gender_lr = evaluate_model(lr_pip, verbose=False)\n",
    "gender_lgbm = evaluate_model(lgbm_pip, verbose=False)\n",
    "\n",
    "gender_explain_lr = explain_model(lr_pip, X_train)\n",
    "gender_explain_lgbm = explain_model(lgbm_pip, X_train)"
   ]
  },
  {
   "cell_type": "code",
   "execution_count": 260,
   "metadata": {},
   "outputs": [
    {
     "name": "stderr",
     "output_type": "stream",
     "text": [
      "The max_iter was reached which means the coef_ did not converge\n"
     ]
    }
   ],
   "source": [
    "# 8. immigration_birthplace\n",
    "\n",
    "immigration_birthplace_lr = evaluate_model(lr_pip, verbose=False)\n",
    "immigration_birthplace_lgbm = evaluate_model(lgbm_pip, verbose=False)\n",
    "\n",
    "immigration_birthplace_explain_lr = explain_model(lr_pip, X_train)\n",
    "immigration_birthplace_explain_lgbm = explain_model(lgbm_pip, X_train)"
   ]
  },
  {
   "cell_type": "code",
   "execution_count": 289,
   "metadata": {},
   "outputs": [
    {
     "name": "stderr",
     "output_type": "stream",
     "text": [
      "The max_iter was reached which means the coef_ did not converge\n"
     ]
    }
   ],
   "source": [
    "# 9. occupation\n",
    "\n",
    "occupation_lr = evaluate_model(lr_pip, verbose=False)\n",
    "occupation_lgbm = evaluate_model(lgbm_pip, verbose=False)\n",
    "\n",
    "occupation_explain_lr = explain_model(lr_pip, X_train)\n",
    "occupation_explain_lgbm = explain_model(lgbm_pip, X_train)"
   ]
  },
  {
   "cell_type": "code",
   "execution_count": 311,
   "metadata": {},
   "outputs": [
    {
     "name": "stderr",
     "output_type": "stream",
     "text": [
      "The max_iter was reached which means the coef_ did not converge\n"
     ]
    }
   ],
   "source": [
    "# 10. labour_force\n",
    "\n",
    "labour_force_lr = evaluate_model(lr_pip, verbose=False)\n",
    "labour_force_lgbm = evaluate_model(lgbm_pip, verbose=False)\n",
    "\n",
    "labour_force_explain_lr = explain_model(lr_pip, X_train)\n",
    "labour_force_explain_lgbm = explain_model(lgbm_pip, X_train)"
   ]
  },
  {
   "cell_type": "code",
   "execution_count": 335,
   "metadata": {},
   "outputs": [
    {
     "name": "stderr",
     "output_type": "stream",
     "text": [
      "The max_iter was reached which means the coef_ did not converge\n"
     ]
    }
   ],
   "source": [
    "# 11. time_worked\n",
    "\n",
    "time_worked_lr = evaluate_model(lr_pip, verbose=False)\n",
    "time_worked_lgbm = evaluate_model(lgbm_pip, verbose=False)\n",
    "\n",
    "time_worked_explain_lr = explain_model(lr_pip, X_train)\n",
    "time_worked_explain_lgbm = explain_model(lgbm_pip, X_train)"
   ]
  },
  {
   "cell_type": "code",
   "execution_count": 357,
   "metadata": {},
   "outputs": [
    {
     "name": "stderr",
     "output_type": "stream",
     "text": [
      "The max_iter was reached which means the coef_ did not converge\n"
     ]
    }
   ],
   "source": [
    "# 12. education\n",
    "\n",
    "education_lr = evaluate_model(lr_pip, verbose=False)\n",
    "education_lgbm = evaluate_model(lgbm_pip, verbose=False)\n",
    "\n",
    "education_explain_lr = explain_model(lr_pip, X_train)\n",
    "education_explain_lgbm = explain_model(lgbm_pip, X_train)"
   ]
  },
  {
   "cell_type": "code",
   "execution_count": 381,
   "metadata": {},
   "outputs": [
    {
     "name": "stderr",
     "output_type": "stream",
     "text": [
      "The max_iter was reached which means the coef_ did not converge\n"
     ]
    }
   ],
   "source": [
    "# 13. generation\n",
    "\n",
    "generation_lr = evaluate_model(lr_pip, verbose=False)\n",
    "generation_lgbm = evaluate_model(lgbm_pip, verbose=False)\n",
    "\n",
    "generation_explain_lr = explain_model(lr_pip, X_train)\n",
    "generation_explain_lgbm = explain_model(lgbm_pip, X_train)"
   ]
  },
  {
   "cell_type": "code",
   "execution_count": 403,
   "metadata": {},
   "outputs": [
    {
     "name": "stderr",
     "output_type": "stream",
     "text": [
      "The max_iter was reached which means the coef_ did not converge\n"
     ]
    }
   ],
   "source": [
    "# 14. workplace\n",
    "\n",
    "workplace_lr = evaluate_model(lr_pip, verbose=False)\n",
    "workplace_lgbm = evaluate_model(lgbm_pip, verbose=False)\n",
    "\n",
    "workplace_explain_lr = explain_model(lr_pip, X_train)\n",
    "workplace_explain_lgbm = explain_model(lgbm_pip, X_train)"
   ]
  },
  {
   "cell_type": "code",
   "execution_count": 425,
   "metadata": {},
   "outputs": [
    {
     "name": "stderr",
     "output_type": "stream",
     "text": [
      "The max_iter was reached which means the coef_ did not converge\n"
     ]
    }
   ],
   "source": [
    "# 15. lone_parent\n",
    "\n",
    "lone_parent_lr = evaluate_model(lr_pip, verbose=False)\n",
    "lone_parent_lgbm = evaluate_model(lgbm_pip, verbose=False)\n",
    "\n",
    "lone_parent_explain_lr = explain_model(lr_pip, X_train)\n",
    "lone_parent_explain_lgbm = explain_model(lgbm_pip, X_train)"
   ]
  },
  {
   "cell_type": "code",
   "execution_count": 448,
   "metadata": {},
   "outputs": [
    {
     "name": "stderr",
     "output_type": "stream",
     "text": [
      "The max_iter was reached which means the coef_ did not converge\n"
     ]
    }
   ],
   "source": [
    "# 16. dwelling_type\n",
    "\n",
    "dwelling_type_lr = evaluate_model(lr_pip, verbose=False)\n",
    "dwelling_type_lgbm = evaluate_model(lgbm_pip, verbose=False)\n",
    "\n",
    "dwelling_type_explain_lr = explain_model(lr_pip, X_train)\n",
    "dwelling_type_explain_lgbm = explain_model(lgbm_pip, X_train)"
   ]
  },
  {
   "cell_type": "code",
   "execution_count": 479,
   "metadata": {},
   "outputs": [
    {
     "name": "stderr",
     "output_type": "stream",
     "text": [
      "The max_iter was reached which means the coef_ did not converge\n"
     ]
    }
   ],
   "source": [
    "# 17. shelter_tenure\n",
    "\n",
    "shelter_lr = evaluate_model(lr_pip, verbose=False)\n",
    "shelter_lgbm = evaluate_model(lgbm_pip, verbose=False)\n",
    "\n",
    "shelter_explain_lr = explain_model(lr_pip, X_train)\n",
    "shelter_explain_lgbm = explain_model(lgbm_pip, X_train)"
   ]
  },
  {
   "cell_type": "code",
   "execution_count": 501,
   "metadata": {},
   "outputs": [
    {
     "name": "stderr",
     "output_type": "stream",
     "text": [
      "The max_iter was reached which means the coef_ did not converge\n"
     ]
    }
   ],
   "source": [
    "# 18. visible_minority\n",
    "\n",
    "visible_minority_lr = evaluate_model(lr_pip, verbose=False)\n",
    "visible_minority_lgbm = evaluate_model(lgbm_pip, verbose=False)\n",
    "\n",
    "visible_minority_explain_lr = explain_model(lr_pip, X_train)\n",
    "visible_minority_explain_lgbm = explain_model(lgbm_pip, X_train)"
   ]
  },
  {
   "cell_type": "code",
   "execution_count": 568,
   "metadata": {},
   "outputs": [],
   "source": [
    "census_results = {'marital_status_lr': marital_status_lr,\n",
    "                  'marital_status_lgbm': marital_status_lgbm,\n",
    "                  'household_size_lr': household_size_lr,\n",
    "                  'household_size_lgbm': household_size_lgbm,\n",
    "                  'population_age_lr': population_age_lr,\n",
    "                  'population_age_lgbm': population_age_lgbm,\n",
    "                  'industry_lr': industry_lr,\n",
    "                  'industry_lgbm': industry_lgbm,\n",
    "                  'transport_mode_lr': transport_mode_lr,\n",
    "                  'transport_mode_lgbm': transport_mode_lgbm,\n",
    "                  'language_lr': language_lr,\n",
    "                  'language_lgbm': language_lgbm,\n",
    "                  'gender_lr': gender_lr,\n",
    "                  'gender_lgbm': gender_lgbm,\n",
    "                  'immigration_birthplace_lr': immigration_birthplace_lr,\n",
    "                  'immigration_birthplace_lgbm': immigration_birthplace_lgbm,\n",
    "                  'occupation_lr': occupation_lr,\n",
    "                  'occupation_lgbm': occupation_lgbm,\n",
    "                  'labour_force_lr': labour_force_lr,\n",
    "                  'labour_force_lgbm': labour_force_lgbm,\n",
    "                  'time_worked_lr': time_worked_lr,\n",
    "                  'time_worked_lgbm': time_worked_lgbm,\n",
    "                  'education_lr': education_lr,\n",
    "                  'education_lgbm': education_lgbm,\n",
    "                  'generation_lr': generation_lr,\n",
    "                  'generation_lgbm': generation_lr,\n",
    "                  'workplace_lr': workplace_lr,\n",
    "                  'workplace_lgbm': workplace_lgbm,\n",
    "                  'lone_parent_lr': lone_parent_lr,\n",
    "                  'lone_parent_lgbm': lone_parent_lgbm,\n",
    "                  'dwelling_type_lr': dwelling_type_lr,\n",
    "                  'dwelling_type_lgbm': dwelling_type_lgbm,\n",
    "                  'shelter_lr': shelter_lr,\n",
    "                  'shelter_lgbm': shelter_lgbm,\n",
    "                  'visible_minority_lr': visible_minority_lr,\n",
    "                  'visible_minority_lgbm': visible_minority_lgbm}\n",
    "\n",
    "f1_dict = {'name': [],\n",
    "           'renewed': [],\n",
    "           'not_renewed': []}\n",
    "\n",
    "recall_dict = {'name': [],\n",
    "               'renewed': [],\n",
    "               'not_renewed': []}\n",
    "\n",
    "precision_dict = {'name': [],\n",
    "                  'renewed': [],\n",
    "                  'not_renewed': []}\n",
    "\n",
    "accuracy_dict = {'name': [],\n",
    "                 'train_acc': [],\n",
    "                 'valid_acc': []}\n",
    "\n",
    "for key, value in census_results.items():\n",
    "    f1_dict['name'].append(key)\n",
    "    f1_dict['renewed'].append(value['renewed'][0])\n",
    "    f1_dict['not_renewed'].append(value['not_renewed'][0])\n",
    "\n",
    "    recall_dict['name'].append(key)\n",
    "    recall_dict['renewed'].append(value['renewed'][1])\n",
    "    recall_dict['not_renewed'].append(value['not_renewed'][1])\n",
    "\n",
    "    precision_dict['name'].append(key)\n",
    "    precision_dict['renewed'].append(value['renewed'][2])\n",
    "    precision_dict['not_renewed'].append(value['not_renewed'][2])\n",
    "\n",
    "    accuracy_dict['name'].append(key)\n",
    "    accuracy_dict['train_acc'].append(value['accuracy'][0])\n",
    "    accuracy_dict['valid_acc'].append(value['accuracy'][1])\n",
    "    \n",
    "f1_df = pd.DataFrame(f1_dict).sort_values('renewed')\n",
    "recall_df = pd.DataFrame(recall_dict).sort_values('renewed')\n",
    "precision_df = pd.DataFrame(precision_dict).sort_values('renewed')\n",
    "accuracy_df = pd.DataFrame(accuracy_dict).sort_values('valid_acc')"
   ]
  },
  {
   "cell_type": "code",
   "execution_count": 579,
   "metadata": {},
   "outputs": [
    {
     "data": {
      "application/vnd.vegalite.v3+json": {
       "$schema": "https://vega.github.io/schema/vega-lite/v3.4.0.json",
       "config": {
        "mark": {
         "tooltip": null
        },
        "view": {
         "height": 300,
         "width": 400
        }
       },
       "data": {
        "name": "data-50e6cae56879a719904f7d37469e6019"
       },
       "datasets": {
        "data-50e6cae56879a719904f7d37469e6019": [
         {
          "name": "generation_lgbm",
          "value": 0.5974192766705034,
          "variable": "renewed"
         },
         {
          "name": "generation_lr",
          "value": 0.5974192766705034,
          "variable": "renewed"
         },
         {
          "name": "language_lr",
          "value": 0.5979293242405456,
          "variable": "renewed"
         },
         {
          "name": "industry_lr",
          "value": 0.5993841612069957,
          "variable": "renewed"
         },
         {
          "name": "occupation_lr",
          "value": 0.5998851443252229,
          "variable": "renewed"
         },
         {
          "name": "household_size_lr",
          "value": 0.602319130665777,
          "variable": "renewed"
         },
         {
          "name": "workplace_lr",
          "value": 0.6037860895551164,
          "variable": "renewed"
         },
         {
          "name": "population_age_lr",
          "value": 0.6079650912666708,
          "variable": "renewed"
         },
         {
          "name": "shelter_lr",
          "value": 0.608856309910861,
          "variable": "renewed"
         },
         {
          "name": "gender_lr",
          "value": 0.6097369454259913,
          "variable": "renewed"
         },
         {
          "name": "marital_status_lr",
          "value": 0.6097659749407881,
          "variable": "renewed"
         },
         {
          "name": "transport_mode_lr",
          "value": 0.6124374973224067,
          "variable": "renewed"
         },
         {
          "name": "education_lr",
          "value": 0.6156588722082444,
          "variable": "renewed"
         },
         {
          "name": "dwelling_type_lr",
          "value": 0.6172272134384942,
          "variable": "renewed"
         },
         {
          "name": "labour_force_lr",
          "value": 0.6177351101376646,
          "variable": "renewed"
         },
         {
          "name": "time_worked_lr",
          "value": 0.6180265874199972,
          "variable": "renewed"
         },
         {
          "name": "lone_parent_lr",
          "value": 0.6239050099957594,
          "variable": "renewed"
         },
         {
          "name": "immigration_birthplace_lr",
          "value": 0.6243220290413842,
          "variable": "renewed"
         },
         {
          "name": "visible_minority_lr",
          "value": 0.6250488116002395,
          "variable": "renewed"
         },
         {
          "name": "lone_parent_lgbm",
          "value": 0.6831351725730117,
          "variable": "renewed"
         },
         {
          "name": "marital_status_lgbm",
          "value": 0.685821196246618,
          "variable": "renewed"
         },
         {
          "name": "household_size_lgbm",
          "value": 0.686330471609087,
          "variable": "renewed"
         },
         {
          "name": "gender_lgbm",
          "value": 0.6867141961136334,
          "variable": "renewed"
         },
         {
          "name": "labour_force_lgbm",
          "value": 0.6877232794841261,
          "variable": "renewed"
         },
         {
          "name": "population_age_lgbm",
          "value": 0.6877812968828138,
          "variable": "renewed"
         },
         {
          "name": "shelter_lgbm",
          "value": 0.6889047268972407,
          "variable": "renewed"
         },
         {
          "name": "dwelling_type_lgbm",
          "value": 0.6895590209645771,
          "variable": "renewed"
         },
         {
          "name": "education_lgbm",
          "value": 0.6904939302100197,
          "variable": "renewed"
         },
         {
          "name": "occupation_lgbm",
          "value": 0.6907662918956468,
          "variable": "renewed"
         },
         {
          "name": "workplace_lgbm",
          "value": 0.6911505366110368,
          "variable": "renewed"
         },
         {
          "name": "language_lgbm",
          "value": 0.6919462203728399,
          "variable": "renewed"
         },
         {
          "name": "industry_lgbm",
          "value": 0.6925090030643972,
          "variable": "renewed"
         },
         {
          "name": "immigration_birthplace_lgbm",
          "value": 0.6935161579273754,
          "variable": "renewed"
         },
         {
          "name": "transport_mode_lgbm",
          "value": 0.6938985433536582,
          "variable": "renewed"
         },
         {
          "name": "time_worked_lgbm",
          "value": 0.6953514253916617,
          "variable": "renewed"
         },
         {
          "name": "visible_minority_lgbm",
          "value": 0.696491141973794,
          "variable": "renewed"
         },
         {
          "name": "generation_lgbm",
          "value": 0.27587935317961904,
          "variable": "not_renewed"
         },
         {
          "name": "generation_lr",
          "value": 0.27587935317961904,
          "variable": "not_renewed"
         },
         {
          "name": "language_lr",
          "value": 0.279848094518966,
          "variable": "not_renewed"
         },
         {
          "name": "industry_lr",
          "value": 0.27655971771594623,
          "variable": "not_renewed"
         },
         {
          "name": "occupation_lr",
          "value": 0.27596617696927267,
          "variable": "not_renewed"
         },
         {
          "name": "household_size_lr",
          "value": 0.28062803821869586,
          "variable": "not_renewed"
         },
         {
          "name": "workplace_lr",
          "value": 0.27627495432835164,
          "variable": "not_renewed"
         },
         {
          "name": "population_age_lr",
          "value": 0.28041874421857726,
          "variable": "not_renewed"
         },
         {
          "name": "shelter_lr",
          "value": 0.27658205378539097,
          "variable": "not_renewed"
         },
         {
          "name": "gender_lr",
          "value": 0.2799384253180604,
          "variable": "not_renewed"
         },
         {
          "name": "marital_status_lr",
          "value": 0.2804190898599262,
          "variable": "not_renewed"
         },
         {
          "name": "transport_mode_lr",
          "value": 0.28009503995998314,
          "variable": "not_renewed"
         },
         {
          "name": "education_lr",
          "value": 0.27662821491090267,
          "variable": "not_renewed"
         },
         {
          "name": "dwelling_type_lr",
          "value": 0.2805590560201627,
          "variable": "not_renewed"
         },
         {
          "name": "labour_force_lr",
          "value": 0.27692654095130875,
          "variable": "not_renewed"
         },
         {
          "name": "time_worked_lr",
          "value": 0.2802060980227901,
          "variable": "not_renewed"
         },
         {
          "name": "lone_parent_lr",
          "value": 0.28050900493706976,
          "variable": "not_renewed"
         },
         {
          "name": "immigration_birthplace_lr",
          "value": 0.27600333356762025,
          "variable": "not_renewed"
         },
         {
          "name": "visible_minority_lr",
          "value": 0.2759473562501885,
          "variable": "not_renewed"
         },
         {
          "name": "lone_parent_lgbm",
          "value": 0.29701905347264906,
          "variable": "not_renewed"
         },
         {
          "name": "marital_status_lgbm",
          "value": 0.29711768796847227,
          "variable": "not_renewed"
         },
         {
          "name": "household_size_lgbm",
          "value": 0.29723597359735976,
          "variable": "not_renewed"
         },
         {
          "name": "gender_lgbm",
          "value": 0.2981087805695574,
          "variable": "not_renewed"
         },
         {
          "name": "labour_force_lgbm",
          "value": 0.2946177075138935,
          "variable": "not_renewed"
         },
         {
          "name": "population_age_lgbm",
          "value": 0.2980939458551399,
          "variable": "not_renewed"
         },
         {
          "name": "shelter_lgbm",
          "value": 0.29515950616028175,
          "variable": "not_renewed"
         },
         {
          "name": "dwelling_type_lgbm",
          "value": 0.29786405751213313,
          "variable": "not_renewed"
         },
         {
          "name": "education_lgbm",
          "value": 0.2947086232207825,
          "variable": "not_renewed"
         },
         {
          "name": "occupation_lgbm",
          "value": 0.2953033842697203,
          "variable": "not_renewed"
         },
         {
          "name": "workplace_lgbm",
          "value": 0.2947290369593843,
          "variable": "not_renewed"
         },
         {
          "name": "language_lgbm",
          "value": 0.2977701812298579,
          "variable": "not_renewed"
         },
         {
          "name": "industry_lgbm",
          "value": 0.2951521521778142,
          "variable": "not_renewed"
         },
         {
          "name": "immigration_birthplace_lgbm",
          "value": 0.29511907996015574,
          "variable": "not_renewed"
         },
         {
          "name": "transport_mode_lgbm",
          "value": 0.29856609703398157,
          "variable": "not_renewed"
         },
         {
          "name": "time_worked_lgbm",
          "value": 0.2989453776546145,
          "variable": "not_renewed"
         },
         {
          "name": "visible_minority_lgbm",
          "value": 0.29525046720452164,
          "variable": "not_renewed"
         }
        ]
       },
       "encoding": {
        "color": {
         "field": "variable",
         "type": "nominal"
        },
        "x": {
         "field": "name",
         "sort": [
          "generation_lgbm",
          "generation_lr",
          "language_lr",
          "industry_lr",
          "occupation_lr",
          "household_size_lr",
          "workplace_lr",
          "population_age_lr",
          "shelter_lr",
          "gender_lr",
          "marital_status_lr",
          "transport_mode_lr",
          "education_lr",
          "dwelling_type_lr",
          "labour_force_lr",
          "time_worked_lr",
          "lone_parent_lr",
          "immigration_birthplace_lr",
          "visible_minority_lr",
          "lone_parent_lgbm",
          "marital_status_lgbm",
          "household_size_lgbm",
          "gender_lgbm",
          "labour_force_lgbm",
          "population_age_lgbm",
          "shelter_lgbm",
          "dwelling_type_lgbm",
          "education_lgbm",
          "occupation_lgbm",
          "workplace_lgbm",
          "language_lgbm",
          "industry_lgbm",
          "immigration_birthplace_lgbm",
          "transport_mode_lgbm",
          "time_worked_lgbm",
          "visible_minority_lgbm"
         ],
         "type": "nominal"
        },
        "y": {
         "field": "value",
         "type": "quantitative"
        }
       },
       "mark": "point"
      },
      "image/png": "[encoded data removed]",
      "text/plain": [
       "<VegaLite 3 object>\n",
       "\n",
       "If you see this message, it means the renderer has not been properly enabled\n",
       "for the frontend that you are using. For more information, see\n",
       "https://altair-viz.github.io/user_guide/troubleshooting.html\n"
      ]
     },
     "execution_count": 579,
     "metadata": {},
     "output_type": "execute_result"
    }
   ],
   "source": [
    "import altair as alt\n",
    "\n",
    "alt.Chart(f1_df.melt(id_vars='name')).mark_point().encode(\n",
    "    x=alt.X('name:N', sort=list(f1_df.name)),\n",
    "    y=alt.Y('value:Q'),\n",
    "    color='variable'\n",
    "    )"
   ]
  },
  {
   "cell_type": "code",
   "execution_count": 580,
   "metadata": {},
   "outputs": [
    {
     "data": {
      "application/vnd.vegalite.v3+json": {
       "$schema": "https://vega.github.io/schema/vega-lite/v3.4.0.json",
       "config": {
        "mark": {
         "tooltip": null
        },
        "view": {
         "height": 300,
         "width": 400
        }
       },
       "data": {
        "name": "data-a19be29dcadc497e4a296c5b0a2846f9"
       },
       "datasets": {
        "data-a19be29dcadc497e4a296c5b0a2846f9": [
         {
          "name": "generation_lgbm",
          "value": 0.4464565431942269,
          "variable": "renewed"
         },
         {
          "name": "generation_lr",
          "value": 0.4464565431942269,
          "variable": "renewed"
         },
         {
          "name": "language_lr",
          "value": 0.4472339438905634,
          "variable": "renewed"
         },
         {
          "name": "industry_lr",
          "value": 0.44855717428899977,
          "variable": "renewed"
         },
         {
          "name": "occupation_lr",
          "value": 0.4492634209501734,
          "variable": "renewed"
         },
         {
          "name": "household_size_lr",
          "value": 0.4521122188731741,
          "variable": "renewed"
         },
         {
          "name": "workplace_lr",
          "value": 0.45369104424906964,
          "variable": "renewed"
         },
         {
          "name": "population_age_lr",
          "value": 0.45871551124507304,
          "variable": "renewed"
         },
         {
          "name": "shelter_lr",
          "value": 0.45951305198156517,
          "variable": "renewed"
         },
         {
          "name": "marital_status_lr",
          "value": 0.46082077440296776,
          "variable": "renewed"
         },
         {
          "name": "gender_lr",
          "value": 0.46089496869928126,
          "variable": "renewed"
         },
         {
          "name": "transport_mode_lr",
          "value": 0.4640296777185254,
          "variable": "renewed"
         },
         {
          "name": "education_lr",
          "value": 0.4674900174750776,
          "variable": "renewed"
         },
         {
          "name": "dwelling_type_lr",
          "value": 0.4695849756549965,
          "variable": "renewed"
         },
         {
          "name": "labour_force_lr",
          "value": 0.4698803907898192,
          "variable": "renewed"
         },
         {
          "name": "time_worked_lr",
          "value": 0.4706144215163459,
          "variable": "renewed"
         },
         {
          "name": "immigration_birthplace_lr",
          "value": 0.47674520382261903,
          "variable": "renewed"
         },
         {
          "name": "lone_parent_lr",
          "value": 0.47757013679573385,
          "variable": "renewed"
         },
         {
          "name": "visible_minority_lr",
          "value": 0.47762844843363333,
          "variable": "renewed"
         },
         {
          "name": "lone_parent_lgbm",
          "value": 0.548852306978901,
          "variable": "renewed"
         },
         {
          "name": "marital_status_lgbm",
          "value": 0.5524414560630652,
          "variable": "renewed"
         },
         {
          "name": "household_size_lgbm",
          "value": 0.5530999304428472,
          "variable": "renewed"
         },
         {
          "name": "gender_lgbm",
          "value": 0.5534059819151402,
          "variable": "renewed"
         },
         {
          "name": "labour_force_lgbm",
          "value": 0.5542859212444429,
          "variable": "renewed"
         },
         {
          "name": "population_age_lgbm",
          "value": 0.554852770693253,
          "variable": "renewed"
         },
         {
          "name": "shelter_lgbm",
          "value": 0.5557527412330342,
          "variable": "renewed"
         },
         {
          "name": "dwelling_type_lgbm",
          "value": 0.5573197310456759,
          "variable": "renewed"
         },
         {
          "name": "education_lgbm",
          "value": 0.5580163523265395,
          "variable": "renewed"
         },
         {
          "name": "occupation_lgbm",
          "value": 0.55824271343589,
          "variable": "renewed"
         },
         {
          "name": "workplace_lgbm",
          "value": 0.5589036878751935,
          "variable": "renewed"
         },
         {
          "name": "language_lgbm",
          "value": 0.5605935543705077,
          "variable": "renewed"
         },
         {
          "name": "immigration_birthplace_lgbm",
          "value": 0.5606216132343462,
          "variable": "renewed"
         },
         {
          "name": "industry_lgbm",
          "value": 0.5606511956393796,
          "variable": "renewed"
         },
         {
          "name": "transport_mode_lgbm",
          "value": 0.5630697890099698,
          "variable": "renewed"
         },
         {
          "name": "visible_minority_lgbm",
          "value": 0.564655892673844,
          "variable": "renewed"
         },
         {
          "name": "time_worked_lgbm",
          "value": 0.5649710178530025,
          "variable": "renewed"
         },
         {
          "name": "generation_lgbm",
          "value": 0.7041383913672266,
          "variable": "not_renewed"
         },
         {
          "name": "generation_lr",
          "value": 0.7041383913672266,
          "variable": "not_renewed"
         },
         {
          "name": "language_lr",
          "value": 0.7058197501820422,
          "variable": "not_renewed"
         },
         {
          "name": "industry_lr",
          "value": 0.7040827678273446,
          "variable": "not_renewed"
         },
         {
          "name": "occupation_lr",
          "value": 0.7016353320725331,
          "variable": "not_renewed"
         },
         {
          "name": "household_size_lr",
          "value": 0.7032991654063743,
          "variable": "not_renewed"
         },
         {
          "name": "workplace_lr",
          "value": 0.6981866725998442,
          "variable": "not_renewed"
         },
         {
          "name": "population_age_lr",
          "value": 0.6961855150394891,
          "variable": "not_renewed"
         },
         {
          "name": "shelter_lr",
          "value": 0.6933474246301035,
          "variable": "not_renewed"
         },
         {
          "name": "marital_status_lr",
          "value": 0.69411303422394,
          "variable": "not_renewed"
         },
         {
          "name": "gender_lr",
          "value": 0.692656696353554,
          "variable": "not_renewed"
         },
         {
          "name": "transport_mode_lr",
          "value": 0.6900240855878563,
          "variable": "not_renewed"
         },
         {
          "name": "education_lr",
          "value": 0.6856157525864947,
          "variable": "not_renewed"
         },
         {
          "name": "dwelling_type_lr",
          "value": 0.685879123956758,
          "variable": "not_renewed"
         },
         {
          "name": "labour_force_lr",
          "value": 0.6841139170096785,
          "variable": "not_renewed"
         },
         {
          "name": "time_worked_lr",
          "value": 0.6838626561362237,
          "variable": "not_renewed"
         },
         {
          "name": "immigration_birthplace_lr",
          "value": 0.6841214534594325,
          "variable": "not_renewed"
         },
         {
          "name": "lone_parent_lr",
          "value": 0.6778692656696353,
          "variable": "not_renewed"
         },
         {
          "name": "visible_minority_lr",
          "value": 0.6830761572921852,
          "variable": "not_renewed"
         },
         {
          "name": "lone_parent_lgbm",
          "value": 0.6496387161821543,
          "variable": "not_renewed"
         },
         {
          "name": "marital_status_lgbm",
          "value": 0.6461098974962192,
          "variable": "not_renewed"
         },
         {
          "name": "household_size_lgbm",
          "value": 0.6457178065311152,
          "variable": "not_renewed"
         },
         {
          "name": "gender_lgbm",
          "value": 0.6476222483616199,
          "variable": "not_renewed"
         },
         {
          "name": "labour_force_lgbm",
          "value": 0.6457892980309267,
          "variable": "not_renewed"
         },
         {
          "name": "population_age_lgbm",
          "value": 0.6460538845012043,
          "variable": "not_renewed"
         },
         {
          "name": "shelter_lgbm",
          "value": 0.6456224274112805,
          "variable": "not_renewed"
         },
         {
          "name": "dwelling_type_lgbm",
          "value": 0.6428611437853582,
          "variable": "not_renewed"
         },
         {
          "name": "education_lgbm",
          "value": 0.6420625208588274,
          "variable": "not_renewed"
         },
         {
          "name": "occupation_lgbm",
          "value": 0.6433418622761152,
          "variable": "not_renewed"
         },
         {
          "name": "workplace_lgbm",
          "value": 0.6411725442207142,
          "variable": "not_renewed"
         },
         {
          "name": "language_lgbm",
          "value": 0.6391642861143786,
          "variable": "not_renewed"
         },
         {
          "name": "immigration_birthplace_lgbm",
          "value": 0.6488800398208063,
          "variable": "not_renewed"
         },
         {
          "name": "industry_lgbm",
          "value": 0.6403938146623651,
          "variable": "not_renewed"
         },
         {
          "name": "transport_mode_lgbm",
          "value": 0.6385481431692153,
          "variable": "not_renewed"
         },
         {
          "name": "visible_minority_lgbm",
          "value": 0.6448481831757094,
          "variable": "not_renewed"
         },
         {
          "name": "time_worked_lgbm",
          "value": 0.6374838962639332,
          "variable": "not_renewed"
         }
        ]
       },
       "encoding": {
        "color": {
         "field": "variable",
         "type": "nominal"
        },
        "x": {
         "field": "name",
         "sort": [
          "generation_lgbm",
          "generation_lr",
          "language_lr",
          "industry_lr",
          "occupation_lr",
          "household_size_lr",
          "workplace_lr",
          "population_age_lr",
          "shelter_lr",
          "marital_status_lr",
          "gender_lr",
          "transport_mode_lr",
          "education_lr",
          "dwelling_type_lr",
          "labour_force_lr",
          "time_worked_lr",
          "immigration_birthplace_lr",
          "lone_parent_lr",
          "visible_minority_lr",
          "lone_parent_lgbm",
          "marital_status_lgbm",
          "household_size_lgbm",
          "gender_lgbm",
          "labour_force_lgbm",
          "population_age_lgbm",
          "shelter_lgbm",
          "dwelling_type_lgbm",
          "education_lgbm",
          "occupation_lgbm",
          "workplace_lgbm",
          "language_lgbm",
          "immigration_birthplace_lgbm",
          "industry_lgbm",
          "transport_mode_lgbm",
          "visible_minority_lgbm",
          "time_worked_lgbm"
         ],
         "type": "nominal"
        },
        "y": {
         "field": "value",
         "type": "quantitative"
        }
       },
       "mark": "point"
      },
      "image/png": "[encoded data removed]",
      "text/plain": [
       "<VegaLite 3 object>\n",
       "\n",
       "If you see this message, it means the renderer has not been properly enabled\n",
       "for the frontend that you are using. For more information, see\n",
       "https://altair-viz.github.io/user_guide/troubleshooting.html\n"
      ]
     },
     "execution_count": 580,
     "metadata": {},
     "output_type": "execute_result"
    }
   ],
   "source": [
    "alt.Chart(recall_df.melt(id_vars='name')).mark_point().encode(\n",
    "    x=alt.X('name:N', sort=list(recall_df.name)),\n",
    "    y=alt.Y('value:Q'),\n",
    "    color='variable'\n",
    "    )"
   ]
  },
  {
   "cell_type": "code",
   "execution_count": 581,
   "metadata": {},
   "outputs": [
    {
     "data": {
      "application/vnd.vegalite.v3+json": {
       "$schema": "https://vega.github.io/schema/vega-lite/v3.4.0.json",
       "config": {
        "mark": {
         "tooltip": null
        },
        "view": {
         "height": 300,
         "width": 400
        }
       },
       "data": {
        "name": "data-2e6b3c591da628ae2d49402857e6a785"
       },
       "datasets": {
        "data-2e6b3c591da628ae2d49402857e6a785": [
         {
          "name": "lone_parent_lr",
          "value": 0.8995370774740152,
          "variable": "renewed"
         },
         {
          "name": "time_worked_lr",
          "value": 0.8999077817975456,
          "variable": "renewed"
         },
         {
          "name": "dwelling_type_lr",
          "value": 0.9002862680251063,
          "variable": "renewed"
         },
         {
          "name": "transport_mode_lr",
          "value": 0.9004103080909877,
          "variable": "renewed"
         },
         {
          "name": "gender_lr",
          "value": 0.9005672036677962,
          "variable": "renewed"
         },
         {
          "name": "marital_status_lr",
          "value": 0.900977352263867,
          "variable": "renewed"
         },
         {
          "name": "population_age_lr",
          "value": 0.9011751844766329,
          "variable": "renewed"
         },
         {
          "name": "education_lr",
          "value": 0.9013319833109299,
          "variable": "renewed"
         },
         {
          "name": "labour_force_lr",
          "value": 0.9013617257789974,
          "variable": "renewed"
         },
         {
          "name": "language_lr",
          "value": 0.9017858812529219,
          "variable": "renewed"
         },
         {
          "name": "household_size_lr",
          "value": 0.9019908966435999,
          "variable": "renewed"
         },
         {
          "name": "shelter_lr",
          "value": 0.9020137568206459,
          "variable": "renewed"
         },
         {
          "name": "workplace_lr",
          "value": 0.9022923306862586,
          "variable": "renewed"
         },
         {
          "name": "occupation_lr",
          "value": 0.9024407988068822,
          "variable": "renewed"
         },
         {
          "name": "generation_lgbm",
          "value": 0.9026305673018837,
          "variable": "renewed"
         },
         {
          "name": "generation_lr",
          "value": 0.9026305673018837,
          "variable": "renewed"
         },
         {
          "name": "industry_lr",
          "value": 0.9030258840685381,
          "variable": "renewed"
         },
         {
          "name": "language_lgbm",
          "value": 0.9036897500299007,
          "variable": "renewed"
         },
         {
          "name": "transport_mode_lgbm",
          "value": 0.9039246047107168,
          "variable": "renewed"
         },
         {
          "name": "time_worked_lgbm",
          "value": 0.9039620121679774,
          "variable": "renewed"
         },
         {
          "name": "dwelling_type_lgbm",
          "value": 0.9040755841068769,
          "variable": "renewed"
         },
         {
          "name": "visible_minority_lr",
          "value": 0.9040998915531991,
          "variable": "renewed"
         },
         {
          "name": "marital_status_lgbm",
          "value": 0.9041056386127343,
          "variable": "renewed"
         },
         {
          "name": "household_size_lgbm",
          "value": 0.9041129117838789,
          "variable": "renewed"
         },
         {
          "name": "immigration_birthplace_lr",
          "value": 0.9042257772411711,
          "variable": "renewed"
         },
         {
          "name": "lone_parent_lgbm",
          "value": 0.9044089554519752,
          "variable": "renewed"
         },
         {
          "name": "population_age_lgbm",
          "value": 0.9044689021256009,
          "variable": "renewed"
         },
         {
          "name": "gender_lgbm",
          "value": 0.9046269064006549,
          "variable": "renewed"
         },
         {
          "name": "workplace_lgbm",
          "value": 0.9053800346152718,
          "variable": "renewed"
         },
         {
          "name": "education_lgbm",
          "value": 0.905456629055007,
          "variable": "renewed"
         },
         {
          "name": "industry_lgbm",
          "value": 0.9054617240622944,
          "variable": "renewed"
         },
         {
          "name": "labour_force_lgbm",
          "value": 0.9057779092994007,
          "variable": "renewed"
         },
         {
          "name": "occupation_lgbm",
          "value": 0.9057973143713455,
          "variable": "renewed"
         },
         {
          "name": "shelter_lgbm",
          "value": 0.9059630996309963,
          "variable": "renewed"
         },
         {
          "name": "visible_minority_lgbm",
          "value": 0.9086392563094613,
          "variable": "renewed"
         },
         {
          "name": "immigration_birthplace_lgbm",
          "value": 0.9089912139235443,
          "variable": "renewed"
         },
         {
          "name": "lone_parent_lr",
          "value": 0.17684450484415415,
          "variable": "not_renewed"
         },
         {
          "name": "time_worked_lr",
          "value": 0.17620147207389233,
          "variable": "not_renewed"
         },
         {
          "name": "dwelling_type_lr",
          "value": 0.1763469043881504,
          "variable": "not_renewed"
         },
         {
          "name": "transport_mode_lr",
          "value": 0.17570959920125517,
          "variable": "not_renewed"
         },
         {
          "name": "gender_lr",
          "value": 0.17541669621959005,
          "variable": "not_renewed"
         },
         {
          "name": "marital_status_lr",
          "value": 0.17570077556749705,
          "variable": "not_renewed"
         },
         {
          "name": "population_age_lr",
          "value": 0.17556820589606317,
          "variable": "not_renewed"
         },
         {
          "name": "education_lr",
          "value": 0.1732688577131772,
          "variable": "not_renewed"
         },
         {
          "name": "labour_force_lr",
          "value": 0.1735994466949906,
          "variable": "not_renewed"
         },
         {
          "name": "language_lr",
          "value": 0.17452183427281415,
          "variable": "not_renewed"
         },
         {
          "name": "household_size_lr",
          "value": 0.17528478892115257,
          "variable": "not_renewed"
         },
         {
          "name": "shelter_lr",
          "value": 0.17274591867845562,
          "variable": "not_renewed"
         },
         {
          "name": "workplace_lr",
          "value": 0.1722094171880145,
          "variable": "not_renewed"
         },
         {
          "name": "occupation_lr",
          "value": 0.17176159806097577,
          "variable": "not_renewed"
         },
         {
          "name": "generation_lgbm",
          "value": 0.17154511206873188,
          "variable": "not_renewed"
         },
         {
          "name": "generation_lr",
          "value": 0.17154511206873188,
          "variable": "not_renewed"
         },
         {
          "name": "industry_lr",
          "value": 0.17207487663299847,
          "variable": "not_renewed"
         },
         {
          "name": "language_lgbm",
          "value": 0.19409763565232183,
          "variable": "not_renewed"
         },
         {
          "name": "transport_mode_lgbm",
          "value": 0.1948318293683347,
          "variable": "not_renewed"
         },
         {
          "name": "time_worked_lgbm",
          "value": 0.1952545978589075,
          "variable": "not_renewed"
         },
         {
          "name": "dwelling_type_lgbm",
          "value": 0.19383877451063183,
          "variable": "not_renewed"
         },
         {
          "name": "visible_minority_lr",
          "value": 0.17289690189111892,
          "variable": "not_renewed"
         },
         {
          "name": "marital_status_lgbm",
          "value": 0.19291555867743715,
          "variable": "not_renewed"
         },
         {
          "name": "household_size_lgbm",
          "value": 0.193050322364565,
          "variable": "not_renewed"
         },
         {
          "name": "immigration_birthplace_lr",
          "value": 0.17287397959825415,
          "variable": "not_renewed"
         },
         {
          "name": "lone_parent_lgbm",
          "value": 0.19252029281410288,
          "variable": "not_renewed"
         },
         {
          "name": "population_age_lgbm",
          "value": 0.19374454075119263,
          "variable": "not_renewed"
         },
         {
          "name": "gender_lgbm",
          "value": 0.19361645120235782,
          "variable": "not_renewed"
         },
         {
          "name": "workplace_lgbm",
          "value": 0.19134173264943644,
          "variable": "not_renewed"
         },
         {
          "name": "education_lgbm",
          "value": 0.1912454230660901,
          "variable": "not_renewed"
         },
         {
          "name": "industry_lgbm",
          "value": 0.1917682723699114,
          "variable": "not_renewed"
         },
         {
          "name": "labour_force_lgbm",
          "value": 0.19084094943783286,
          "variable": "not_renewed"
         },
         {
          "name": "occupation_lgbm",
          "value": 0.1916328390357054,
          "variable": "not_renewed"
         },
         {
          "name": "shelter_lgbm",
          "value": 0.19131051078769098,
          "variable": "not_renewed"
         },
         {
          "name": "visible_minority_lgbm",
          "value": 0.19145508822747023,
          "variable": "not_renewed"
         },
         {
          "name": "immigration_birthplace_lgbm",
          "value": 0.19099246930582822,
          "variable": "not_renewed"
         }
        ]
       },
       "encoding": {
        "color": {
         "field": "variable",
         "type": "nominal"
        },
        "x": {
         "field": "name",
         "sort": [
          "lone_parent_lr",
          "time_worked_lr",
          "dwelling_type_lr",
          "transport_mode_lr",
          "gender_lr",
          "marital_status_lr",
          "population_age_lr",
          "education_lr",
          "labour_force_lr",
          "language_lr",
          "household_size_lr",
          "shelter_lr",
          "workplace_lr",
          "occupation_lr",
          "generation_lgbm",
          "generation_lr",
          "industry_lr",
          "language_lgbm",
          "transport_mode_lgbm",
          "time_worked_lgbm",
          "dwelling_type_lgbm",
          "visible_minority_lr",
          "marital_status_lgbm",
          "household_size_lgbm",
          "immigration_birthplace_lr",
          "lone_parent_lgbm",
          "population_age_lgbm",
          "gender_lgbm",
          "workplace_lgbm",
          "education_lgbm",
          "industry_lgbm",
          "labour_force_lgbm",
          "occupation_lgbm",
          "shelter_lgbm",
          "visible_minority_lgbm",
          "immigration_birthplace_lgbm"
         ],
         "type": "nominal"
        },
        "y": {
         "field": "value",
         "type": "quantitative"
        }
       },
       "mark": "point"
      },
      "image/png": "[encoded data removed]",
      "text/plain": [
       "<VegaLite 3 object>\n",
       "\n",
       "If you see this message, it means the renderer has not been properly enabled\n",
       "for the frontend that you are using. For more information, see\n",
       "https://altair-viz.github.io/user_guide/troubleshooting.html\n"
      ]
     },
     "execution_count": 581,
     "metadata": {},
     "output_type": "execute_result"
    }
   ],
   "source": [
    "alt.Chart(precision_df.melt(id_vars='name')).mark_point().encode(\n",
    "    x=alt.X('name:N', sort=list(precision_df.name)),\n",
    "    y=alt.Y('value:Q'),\n",
    "    color='variable'\n",
    "    )"
   ]
  },
  {
   "cell_type": "code",
   "execution_count": 582,
   "metadata": {},
   "outputs": [
    {
     "data": {
      "application/vnd.vegalite.v3+json": {
       "$schema": "https://vega.github.io/schema/vega-lite/v3.4.0.json",
       "config": {
        "mark": {
         "tooltip": null
        },
        "view": {
         "height": 300,
         "width": 400
        }
       },
       "data": {
        "name": "data-2b39ddb29f3820f93b6913bff57903f5"
       },
       "datasets": {
        "data-2b39ddb29f3820f93b6913bff57903f5": [
         {
          "name": "generation_lgbm",
          "value": 0.48266826558065107,
          "variable": "train_acc"
         },
         {
          "name": "generation_lr",
          "value": 0.48266826558065107,
          "variable": "train_acc"
         },
         {
          "name": "language_lr",
          "value": 0.4830688009611884,
          "variable": "train_acc"
         },
         {
          "name": "industry_lr",
          "value": 0.4835773883453187,
          "variable": "train_acc"
         },
         {
          "name": "occupation_lr",
          "value": 0.48457022048660453,
          "variable": "train_acc"
         },
         {
          "name": "household_size_lr",
          "value": 0.48652605572585444,
          "variable": "train_acc"
         },
         {
          "name": "workplace_lr",
          "value": 0.4878037384996944,
          "variable": "train_acc"
         },
         {
          "name": "shelter_lr",
          "value": 0.49242138132151797,
          "variable": "train_acc"
         },
         {
          "name": "population_age_lr",
          "value": 0.4909381334404857,
          "variable": "train_acc"
         },
         {
          "name": "gender_lr",
          "value": 0.4932496006651933,
          "variable": "train_acc"
         },
         {
          "name": "marital_status_lr",
          "value": 0.49318395658738323,
          "variable": "train_acc"
         },
         {
          "name": "transport_mode_lr",
          "value": 0.4958196657721832,
          "variable": "train_acc"
         },
         {
          "name": "education_lr",
          "value": 0.49848155084273926,
          "variable": "train_acc"
         },
         {
          "name": "labour_force_lr",
          "value": 0.5000778691875518,
          "variable": "train_acc"
         },
         {
          "name": "dwelling_type_lr",
          "value": 0.4994599282689259,
          "variable": "train_acc"
         },
         {
          "name": "time_worked_lr",
          "value": 0.5004963090125341,
          "variable": "train_acc"
         },
         {
          "name": "immigration_birthplace_lr",
          "value": 0.5030443358202555,
          "variable": "train_acc"
         },
         {
          "name": "visible_minority_lr",
          "value": 0.5038092787925564,
          "variable": "train_acc"
         },
         {
          "name": "lone_parent_lr",
          "value": 0.5056861695884912,
          "variable": "train_acc"
         },
         {
          "name": "lone_parent_lgbm",
          "value": 0.5647300337569697,
          "variable": "train_acc"
         },
         {
          "name": "marital_status_lgbm",
          "value": 0.5676820280439457,
          "variable": "train_acc"
         },
         {
          "name": "household_size_lgbm",
          "value": 0.568722387216512,
          "variable": "train_acc"
         },
         {
          "name": "gender_lgbm",
          "value": 0.5690525968200417,
          "variable": "train_acc"
         },
         {
          "name": "labour_force_lgbm",
          "value": 0.5693113638398853,
          "variable": "train_acc"
         },
         {
          "name": "population_age_lgbm",
          "value": 0.5699457541211551,
          "variable": "train_acc"
         },
         {
          "name": "shelter_lgbm",
          "value": 0.5703041959811712,
          "variable": "train_acc"
         },
         {
          "name": "dwelling_type_lgbm",
          "value": 0.5716107266401571,
          "variable": "train_acc"
         },
         {
          "name": "education_lgbm",
          "value": 0.5714702870647599,
          "variable": "train_acc"
         },
         {
          "name": "occupation_lgbm",
          "value": 0.5719959040807348,
          "variable": "train_acc"
         },
         {
          "name": "workplace_lgbm",
          "value": 0.5716727469523947,
          "variable": "train_acc"
         },
         {
          "name": "language_lgbm",
          "value": 0.5742762740421435,
          "variable": "train_acc"
         },
         {
          "name": "industry_lgbm",
          "value": 0.5733917092676013,
          "variable": "train_acc"
         },
         {
          "name": "immigration_birthplace_lgbm",
          "value": 0.5747363004888089,
          "variable": "train_acc"
         },
         {
          "name": "transport_mode_lgbm",
          "value": 0.5759233436308336,
          "variable": "train_acc"
         },
         {
          "name": "time_worked_lgbm",
          "value": 0.5774590172086944,
          "variable": "train_acc"
         },
         {
          "name": "visible_minority_lgbm",
          "value": 0.5767241231455278,
          "variable": "train_acc"
         },
         {
          "name": "generation_lgbm",
          "value": 0.48253011579103106,
          "variable": "valid_acc"
         },
         {
          "name": "generation_lr",
          "value": 0.48253011579103106,
          "variable": "valid_acc"
         },
         {
          "name": "language_lr",
          "value": 0.4839669631916485,
          "variable": "valid_acc"
         },
         {
          "name": "industry_lr",
          "value": 0.4843288870200357,
          "variable": "valid_acc"
         },
         {
          "name": "occupation_lr",
          "value": 0.4845936412269021,
          "variable": "valid_acc"
         },
         {
          "name": "household_size_lr",
          "value": 0.4877942042362227,
          "variable": "valid_acc"
         },
         {
          "name": "workplace_lr",
          "value": 0.4879186425896076,
          "variable": "valid_acc"
         },
         {
          "name": "shelter_lr",
          "value": 0.49224815256071824,
          "variable": "valid_acc"
         },
         {
          "name": "population_age_lr",
          "value": 0.4924489568580022,
          "variable": "valid_acc"
         },
         {
          "name": "gender_lr",
          "value": 0.49381753369722625,
          "variable": "valid_acc"
         },
         {
          "name": "marital_status_lr",
          "value": 0.49396075685481944,
          "variable": "valid_acc"
         },
         {
          "name": "transport_mode_lr",
          "value": 0.4961329747449832,
          "variable": "valid_acc"
         },
         {
          "name": "education_lr",
          "value": 0.4980260237811573,
          "variable": "valid_acc"
         },
         {
          "name": "labour_force_lr",
          "value": 0.49987151634078536,
          "variable": "valid_acc"
         },
         {
          "name": "dwelling_type_lr",
          "value": 0.500310316841452,
          "variable": "valid_acc"
         },
         {
          "name": "time_worked_lr",
          "value": 0.5009070799980904,
          "variable": "valid_acc"
         },
         {
          "name": "immigration_birthplace_lr",
          "value": 0.5053271406323965,
          "variable": "valid_acc"
         },
         {
          "name": "visible_minority_lr",
          "value": 0.5059445812723393,
          "variable": "valid_acc"
         },
         {
          "name": "lone_parent_lr",
          "value": 0.5060233294610035,
          "variable": "valid_acc"
         },
         {
          "name": "lone_parent_lgbm",
          "value": 0.5631693693406961,
          "variable": "valid_acc"
         },
         {
          "name": "marital_status_lgbm",
          "value": 0.565747386177374,
          "variable": "valid_acc"
         },
         {
          "name": "household_size_lgbm",
          "value": 0.5662566240710387,
          "variable": "valid_acc"
         },
         {
          "name": "gender_lgbm",
          "value": 0.566789732490969,
          "variable": "valid_acc"
         },
         {
          "name": "labour_force_lgbm",
          "value": 0.5670957242195591,
          "variable": "valid_acc"
         },
         {
          "name": "population_age_lgbm",
          "value": 0.5678082082782985,
          "variable": "valid_acc"
         },
         {
          "name": "shelter_lgbm",
          "value": 0.5683338394810817,
          "variable": "valid_acc"
         },
         {
          "name": "dwelling_type_lgbm",
          "value": 0.5694711882747975,
          "variable": "valid_acc"
         },
         {
          "name": "education_lgbm",
          "value": 0.5697822007304101,
          "variable": "valid_acc"
         },
         {
          "name": "occupation_lgbm",
          "value": 0.5701559713753981,
          "variable": "valid_acc"
         },
         {
          "name": "workplace_lgbm",
          "value": 0.5704207255822645,
          "variable": "valid_acc"
         },
         {
          "name": "language_lgbm",
          "value": 0.5717548019542004,
          "variable": "valid_acc"
         },
         {
          "name": "industry_lgbm",
          "value": 0.5718145786125323,
          "variable": "valid_acc"
         },
         {
          "name": "immigration_birthplace_lgbm",
          "value": 0.572785960771938,
          "variable": "valid_acc"
         },
         {
          "name": "transport_mode_lgbm",
          "value": 0.5737917535288595,
          "variable": "valid_acc"
         },
         {
          "name": "time_worked_lgbm",
          "value": 0.5752717261573227,
          "variable": "valid_acc"
         },
         {
          "name": "visible_minority_lgbm",
          "value": 0.5757085131343345,
          "variable": "valid_acc"
         }
        ]
       },
       "encoding": {
        "color": {
         "field": "variable",
         "type": "nominal"
        },
        "x": {
         "field": "name",
         "sort": [
          "generation_lgbm",
          "generation_lr",
          "language_lr",
          "industry_lr",
          "occupation_lr",
          "household_size_lr",
          "workplace_lr",
          "shelter_lr",
          "population_age_lr",
          "gender_lr",
          "marital_status_lr",
          "transport_mode_lr",
          "education_lr",
          "labour_force_lr",
          "dwelling_type_lr",
          "time_worked_lr",
          "immigration_birthplace_lr",
          "visible_minority_lr",
          "lone_parent_lr",
          "lone_parent_lgbm",
          "marital_status_lgbm",
          "household_size_lgbm",
          "gender_lgbm",
          "labour_force_lgbm",
          "population_age_lgbm",
          "shelter_lgbm",
          "dwelling_type_lgbm",
          "education_lgbm",
          "occupation_lgbm",
          "workplace_lgbm",
          "language_lgbm",
          "industry_lgbm",
          "immigration_birthplace_lgbm",
          "transport_mode_lgbm",
          "time_worked_lgbm",
          "visible_minority_lgbm"
         ],
         "type": "nominal"
        },
        "y": {
         "field": "value",
         "type": "quantitative"
        }
       },
       "mark": "point"
      },
      "image/png": "[encoded data removed]",
      "text/plain": [
       "<VegaLite 3 object>\n",
       "\n",
       "If you see this message, it means the renderer has not been properly enabled\n",
       "for the frontend that you are using. For more information, see\n",
       "https://altair-viz.github.io/user_guide/troubleshooting.html\n"
      ]
     },
     "execution_count": 582,
     "metadata": {},
     "output_type": "execute_result"
    }
   ],
   "source": [
    "alt.Chart(accuracy_df.melt(id_vars='name')).mark_point().encode(\n",
    "    x=alt.X('name:N', sort=list(accuracy_df.name)),\n",
    "    y=alt.Y('value:Q'),\n",
    "    color='variable'\n",
    "    )"
   ]
  },
  {
   "cell_type": "code",
   "execution_count": null,
   "metadata": {},
   "outputs": [],
   "source": []
  }
 ],
 "metadata": {
  "kernelspec": {
   "display_name": "Python 3",
   "language": "python",
   "name": "python3"
  },
  "language_info": {
   "codemirror_mode": {
    "name": "ipython",
    "version": 3
   },
   "file_extension": ".py",
   "mimetype": "text/x-python",
   "name": "python",
   "nbconvert_exporter": "python",
   "pygments_lexer": "ipython3",
   "version": "3.7.6"
  }
 },
 "nbformat": 4,
 "nbformat_minor": 4
}
