{
 "cells": [
  {
   "cell_type": "markdown",
   "metadata": {
    "colab_type": "text",
    "id": "iXzs3ziMsCHN"
   },
   "source": [
    "# Model Pipeline\n",
    "\n",
    "Author: Jasmine Qin  \n",
    "Date: 2020-05-27"
   ]
  },
  {
   "cell_type": "code",
   "execution_count": 1,
   "metadata": {
    "colab": {},
    "colab_type": "code",
    "id": "ZMI6M8q7sCHO"
   },
   "outputs": [
    {
     "name": "stderr",
     "output_type": "stream",
     "text": [
      "/anaconda3/lib/python3.7/site-packages/lightgbm/__init__.py:48: UserWarning: Starting from version 2.2.1, the library file in distribution wheels for macOS is built by the Apple Clang (Xcode_8.3.3) compiler.\n",
      "This means that in case of installing LightGBM from PyPI via the ``pip install lightgbm`` command, you don't need to install the gcc compiler anymore.\n",
      "Instead of that, you need to install the OpenMP library, which is required for running LightGBM on the system with the Apple Clang compiler.\n",
      "You can install the OpenMP library by the following command: ``brew install libomp``.\n",
      "  \"You can install the OpenMP library by the following command: ``brew install libomp``.\", UserWarning)\n"
     ]
    }
   ],
   "source": [
    "# Basics\n",
    "import pandas as pd\n",
    "import numpy as np\n",
    "import seaborn as sns\n",
    "import time\n",
    "import re\n",
    "from collections import defaultdict, Counter\n",
    "import matplotlib.pyplot as plt\n",
    "\n",
    "# Preprocessing\n",
    "from sklearn.preprocessing import StandardScaler, OneHotEncoder, PolynomialFeatures\n",
    "from sklearn.impute import SimpleImputer\n",
    "from sklearn.model_selection import train_test_split\n",
    "from sklearn.feature_selection import RFE, SelectFromModel\n",
    "\n",
    "# Models\n",
    "from sklearn.linear_model import LogisticRegression\n",
    "from sklearn.svm import SVC\n",
    "from sklearn.tree import DecisionTreeClassifier\n",
    "from sklearn.neighbors import KNeighborsClassifier\n",
    "from xgboost import XGBClassifier\n",
    "from lightgbm import LGBMClassifier\n",
    "from sklearn.ensemble import RandomForestClassifier\n",
    "from sklearn.naive_bayes import GaussianNB\n",
    "from sklearn.ensemble import VotingClassifier\n",
    "\n",
    "# Pipeline\n",
    "from sklearn.pipeline import Pipeline, FeatureUnion\n",
    "from sklearn.compose import ColumnTransformer, make_column_selector\n",
    "from sklearn.model_selection import GridSearchCV, RandomizedSearchCV\n",
    "\n",
    "# Evaluation\n",
    "from sklearn.metrics import plot_confusion_matrix, f1_score, recall_score, precision_score\n",
    "from sklearn.metrics import classification_report, confusion_matrix, ConfusionMatrixDisplay\n",
    "from sklearn.metrics import roc_curve, roc_auc_score, r2_score\n",
    "\n",
    "# Model Explanation\n",
    "#import eli5\n",
    "#import shap"
   ]
  },
  {
   "cell_type": "code",
   "execution_count": 2,
   "metadata": {
    "colab": {},
    "colab_type": "code",
    "id": "JqUI3bnhsCHU"
   },
   "outputs": [],
   "source": [
    "# Options\n",
    "pd.set_option('display.max_columns', 100)\n",
    "pd.set_option('display.max_rows', 100)"
   ]
  },
  {
   "cell_type": "markdown",
   "metadata": {
    "colab_type": "text",
    "id": "dfE2jMf1sCHY"
   },
   "source": [
    "## Table of Contents\n",
    "- [1. Load Data](#ld)\n",
    "- [2. Summary](#s)\n",
    "- [3. Feature Engineering](#fe)\n",
    "- [4. Split Data](#sd)\n",
    "- [5. Preprocessing](#pp)\n",
    "- [6. Baseline Model](#bm)\n",
    "- [7. Feature Importance and Selection](#fi)\n",
    "- [8. Other Models](#om)\n",
    "- [9. Hyperparameter Tuning](#ht)\n",
    "- [10. Other Tests](#ot)"
   ]
  },
  {
   "cell_type": "markdown",
   "metadata": {
    "colab_type": "text",
    "id": "4Pfrb7B_sCHY"
   },
   "source": [
    "## 1. Load Data <a name=\"ld\"></a>\n",
    "\n",
    "- Run all scripts 01 to 04 to have the combined and cleaned data\n",
    "- Load `combined_train.csv` and `combined_validate.csv`"
   ]
  },
  {
   "cell_type": "code",
   "execution_count": 5,
   "metadata": {
    "colab": {},
    "colab_type": "code",
    "id": "bFFi3WTlsCHZ"
   },
   "outputs": [],
   "source": [
    "train = pd.read_csv('../../data/processed/04_combined_train.csv',\n",
    "                    low_memory=False)\n",
    "#validation = pd.read_csv('../../data/processed/04_combined_validate.csv',\n",
    "#                         low_memory=False)"
   ]
  },
  {
   "cell_type": "code",
   "execution_count": 58,
   "metadata": {},
   "outputs": [
    {
     "data": {
      "text/plain": [
       "(693348, 28)"
      ]
     },
     "execution_count": 58,
     "metadata": {},
     "output_type": "execute_result"
    }
   ],
   "source": [
    "#the survisal.csv is the output of 03_clean_licence.py using combined_licence as input \n",
    "licence = pd.read_csv('../../data/processed/survisal.csv',\n",
    "                    low_memory=False)\n",
    "licence.shape"
   ]
  },
  {
   "cell_type": "code",
   "execution_count": 64,
   "metadata": {},
   "outputs": [],
   "source": [
    "# get the bussiness in 1997 and 2020\n",
    "business_97 = list(licence[licence['FOLDERYEAR']==1997]['BusinessName'])\n",
    "business_20 = list(licence[licence['FOLDERYEAR']==2020]['BusinessName'])"
   ]
  },
  {
   "cell_type": "code",
   "execution_count": 66,
   "metadata": {},
   "outputs": [],
   "source": [
    "#only keeping those that started and failed between 1997 and 2020\n",
    "licence = licence[~licence['BusinessName'].isin(business_97)]\n",
    "licence = licence[~licence['BusinessName'].isin(business_20)]"
   ]
  },
  {
   "cell_type": "code",
   "execution_count": 67,
   "metadata": {},
   "outputs": [
    {
     "data": {
      "text/plain": [
       "(468880, 28)"
      ]
     },
     "execution_count": 67,
     "metadata": {},
     "output_type": "execute_result"
    }
   ],
   "source": [
    "licence.shape"
   ]
  },
  {
   "cell_type": "code",
   "execution_count": 78,
   "metadata": {},
   "outputs": [],
   "source": [
    "licence = licence[licence.BusinessName.notnull()]"
   ]
  },
  {
   "cell_type": "code",
   "execution_count": 79,
   "metadata": {},
   "outputs": [],
   "source": [
    "licence = licence.sort_values(by=['BusinessName', 'BusinessTradeName', 'FOLDERYEAR', 'ExtractDate'])\n",
    "licence = licence[licence.groupby(['BusinessName'])['FOLDERYEAR'].apply(\n",
    "        lambda x: ~(x.duplicated(keep='last')))]"
   ]
  },
  {
   "cell_type": "code",
   "execution_count": 80,
   "metadata": {},
   "outputs": [
    {
     "data": {
      "text/plain": [
       "(445815, 28)"
      ]
     },
     "execution_count": 80,
     "metadata": {},
     "output_type": "execute_result"
    }
   ],
   "source": [
    "licence.shape"
   ]
  },
  {
   "cell_type": "code",
   "execution_count": 81,
   "metadata": {},
   "outputs": [],
   "source": [
    "#get the number of years each business exists\n",
    "survived_length = licence.groupby(['BusinessName', 'BusinessTradeName','BusinessType']).count()\n",
    "#a business can apply for mutiple licence within one year"
   ]
  },
  {
   "cell_type": "code",
   "execution_count": 83,
   "metadata": {},
   "outputs": [],
   "source": [
    "plot_df = survived_length.groupby('FOLDERYEAR').count()"
   ]
  },
  {
   "cell_type": "code",
   "execution_count": 84,
   "metadata": {
    "colab": {},
    "colab_type": "code",
    "id": "Bbq1yIvqsCHd",
    "outputId": "ff5170a6-9a94-491e-8f2c-e0bf0ae96cd6"
   },
   "outputs": [
    {
     "data": {
      "text/plain": [
       "RendererRegistry.enable('notebook')"
      ]
     },
     "execution_count": 84,
     "metadata": {},
     "output_type": "execute_result"
    }
   ],
   "source": [
    "import altair as alt\n",
    "alt.data_transformers.disable_max_rows()\n",
    "alt.renderers.enable('notebook')"
   ]
  },
  {
   "cell_type": "code",
   "execution_count": 95,
   "metadata": {},
   "outputs": [
    {
     "data": {
      "application/javascript": [
       "const spec = {\"config\": {\"view\": {\"width\": 400, \"height\": 300}, \"mark\": {\"tooltip\": null}}, \"data\": {\"name\": \"data-0cdaad025d9468f8bfd5253d57e99059\"}, \"mark\": \"line\", \"encoding\": {\"x\": {\"type\": \"quantitative\", \"field\": \"FOLDERYEAR\", \"title\": \"Survived years\"}, \"y\": {\"type\": \"quantitative\", \"field\": \"business_id\", \"title\": \"Number of businesses\"}}, \"$schema\": \"https://vega.github.io/schema/vega-lite/v3.4.0.json\", \"datasets\": {\"data-0cdaad025d9468f8bfd5253d57e99059\": [{\"FOLDERYEAR\": 1, \"business_id\": 18729, \"LicenceRSN\": 18729, \"LicenceNumber\": 18729, \"LicenceRevisionNumber\": 18729, \"Status\": 18729, \"IssuedDate\": 18729, \"ExpiredDate\": 18729, \"BusinessSubType\": 18729, \"Unit\": 18729, \"UnitType\": 18729, \"House\": 18729, \"Street\": 18729, \"City\": 18729, \"Province\": 18729, \"Country\": 18729, \"PostalCode\": 18729, \"LocalArea\": 18729, \"NumberofEmployees\": 18729, \"FeePaid\": 18729, \"ExtractDate\": 18729, \"Geom\": 18729, \"NextYearStatus\": 18729, \"label\": 18729, \"BusinessIndustry\": 18729}, {\"FOLDERYEAR\": 2, \"business_id\": 13126, \"LicenceRSN\": 13126, \"LicenceNumber\": 13126, \"LicenceRevisionNumber\": 13126, \"Status\": 13126, \"IssuedDate\": 13126, \"ExpiredDate\": 13126, \"BusinessSubType\": 13126, \"Unit\": 13126, \"UnitType\": 13126, \"House\": 13126, \"Street\": 13126, \"City\": 13126, \"Province\": 13126, \"Country\": 13126, \"PostalCode\": 13126, \"LocalArea\": 13126, \"NumberofEmployees\": 13126, \"FeePaid\": 13126, \"ExtractDate\": 13126, \"Geom\": 13126, \"NextYearStatus\": 13126, \"label\": 13126, \"BusinessIndustry\": 13126}, {\"FOLDERYEAR\": 3, \"business_id\": 9062, \"LicenceRSN\": 9062, \"LicenceNumber\": 9062, \"LicenceRevisionNumber\": 9062, \"Status\": 9062, \"IssuedDate\": 9062, \"ExpiredDate\": 9062, \"BusinessSubType\": 9062, \"Unit\": 9062, \"UnitType\": 9062, \"House\": 9062, \"Street\": 9062, \"City\": 9062, \"Province\": 9062, \"Country\": 9062, \"PostalCode\": 9062, \"LocalArea\": 9062, \"NumberofEmployees\": 9062, \"FeePaid\": 9062, \"ExtractDate\": 9062, \"Geom\": 9062, \"NextYearStatus\": 9062, \"label\": 9062, \"BusinessIndustry\": 9062}, {\"FOLDERYEAR\": 4, \"business_id\": 5789, \"LicenceRSN\": 5789, \"LicenceNumber\": 5789, \"LicenceRevisionNumber\": 5789, \"Status\": 5789, \"IssuedDate\": 5789, \"ExpiredDate\": 5789, \"BusinessSubType\": 5789, \"Unit\": 5789, \"UnitType\": 5789, \"House\": 5789, \"Street\": 5789, \"City\": 5789, \"Province\": 5789, \"Country\": 5789, \"PostalCode\": 5789, \"LocalArea\": 5789, \"NumberofEmployees\": 5789, \"FeePaid\": 5789, \"ExtractDate\": 5789, \"Geom\": 5789, \"NextYearStatus\": 5789, \"label\": 5789, \"BusinessIndustry\": 5789}, {\"FOLDERYEAR\": 5, \"business_id\": 4159, \"LicenceRSN\": 4159, \"LicenceNumber\": 4159, \"LicenceRevisionNumber\": 4159, \"Status\": 4159, \"IssuedDate\": 4159, \"ExpiredDate\": 4159, \"BusinessSubType\": 4159, \"Unit\": 4159, \"UnitType\": 4159, \"House\": 4159, \"Street\": 4159, \"City\": 4159, \"Province\": 4159, \"Country\": 4159, \"PostalCode\": 4159, \"LocalArea\": 4159, \"NumberofEmployees\": 4159, \"FeePaid\": 4159, \"ExtractDate\": 4159, \"Geom\": 4159, \"NextYearStatus\": 4159, \"label\": 4159, \"BusinessIndustry\": 4159}, {\"FOLDERYEAR\": 6, \"business_id\": 3078, \"LicenceRSN\": 3078, \"LicenceNumber\": 3078, \"LicenceRevisionNumber\": 3078, \"Status\": 3078, \"IssuedDate\": 3078, \"ExpiredDate\": 3078, \"BusinessSubType\": 3078, \"Unit\": 3078, \"UnitType\": 3078, \"House\": 3078, \"Street\": 3078, \"City\": 3078, \"Province\": 3078, \"Country\": 3078, \"PostalCode\": 3078, \"LocalArea\": 3078, \"NumberofEmployees\": 3078, \"FeePaid\": 3078, \"ExtractDate\": 3078, \"Geom\": 3078, \"NextYearStatus\": 3078, \"label\": 3078, \"BusinessIndustry\": 3078}, {\"FOLDERYEAR\": 7, \"business_id\": 2291, \"LicenceRSN\": 2291, \"LicenceNumber\": 2291, \"LicenceRevisionNumber\": 2291, \"Status\": 2291, \"IssuedDate\": 2291, \"ExpiredDate\": 2291, \"BusinessSubType\": 2291, \"Unit\": 2291, \"UnitType\": 2291, \"House\": 2291, \"Street\": 2291, \"City\": 2291, \"Province\": 2291, \"Country\": 2291, \"PostalCode\": 2291, \"LocalArea\": 2291, \"NumberofEmployees\": 2291, \"FeePaid\": 2291, \"ExtractDate\": 2291, \"Geom\": 2291, \"NextYearStatus\": 2291, \"label\": 2291, \"BusinessIndustry\": 2291}, {\"FOLDERYEAR\": 8, \"business_id\": 1787, \"LicenceRSN\": 1787, \"LicenceNumber\": 1787, \"LicenceRevisionNumber\": 1787, \"Status\": 1787, \"IssuedDate\": 1787, \"ExpiredDate\": 1787, \"BusinessSubType\": 1787, \"Unit\": 1787, \"UnitType\": 1787, \"House\": 1787, \"Street\": 1787, \"City\": 1787, \"Province\": 1787, \"Country\": 1787, \"PostalCode\": 1787, \"LocalArea\": 1787, \"NumberofEmployees\": 1787, \"FeePaid\": 1787, \"ExtractDate\": 1787, \"Geom\": 1787, \"NextYearStatus\": 1787, \"label\": 1787, \"BusinessIndustry\": 1787}, {\"FOLDERYEAR\": 9, \"business_id\": 1423, \"LicenceRSN\": 1423, \"LicenceNumber\": 1423, \"LicenceRevisionNumber\": 1423, \"Status\": 1423, \"IssuedDate\": 1423, \"ExpiredDate\": 1423, \"BusinessSubType\": 1423, \"Unit\": 1423, \"UnitType\": 1423, \"House\": 1423, \"Street\": 1423, \"City\": 1423, \"Province\": 1423, \"Country\": 1423, \"PostalCode\": 1423, \"LocalArea\": 1423, \"NumberofEmployees\": 1423, \"FeePaid\": 1423, \"ExtractDate\": 1423, \"Geom\": 1423, \"NextYearStatus\": 1423, \"label\": 1423, \"BusinessIndustry\": 1423}, {\"FOLDERYEAR\": 10, \"business_id\": 1190, \"LicenceRSN\": 1190, \"LicenceNumber\": 1190, \"LicenceRevisionNumber\": 1190, \"Status\": 1190, \"IssuedDate\": 1190, \"ExpiredDate\": 1190, \"BusinessSubType\": 1190, \"Unit\": 1190, \"UnitType\": 1190, \"House\": 1190, \"Street\": 1190, \"City\": 1190, \"Province\": 1190, \"Country\": 1190, \"PostalCode\": 1190, \"LocalArea\": 1190, \"NumberofEmployees\": 1190, \"FeePaid\": 1190, \"ExtractDate\": 1190, \"Geom\": 1190, \"NextYearStatus\": 1190, \"label\": 1190, \"BusinessIndustry\": 1190}, {\"FOLDERYEAR\": 11, \"business_id\": 940, \"LicenceRSN\": 940, \"LicenceNumber\": 940, \"LicenceRevisionNumber\": 940, \"Status\": 940, \"IssuedDate\": 940, \"ExpiredDate\": 940, \"BusinessSubType\": 940, \"Unit\": 940, \"UnitType\": 940, \"House\": 940, \"Street\": 940, \"City\": 940, \"Province\": 940, \"Country\": 940, \"PostalCode\": 940, \"LocalArea\": 940, \"NumberofEmployees\": 940, \"FeePaid\": 940, \"ExtractDate\": 940, \"Geom\": 940, \"NextYearStatus\": 940, \"label\": 940, \"BusinessIndustry\": 940}, {\"FOLDERYEAR\": 12, \"business_id\": 895, \"LicenceRSN\": 895, \"LicenceNumber\": 895, \"LicenceRevisionNumber\": 895, \"Status\": 895, \"IssuedDate\": 895, \"ExpiredDate\": 895, \"BusinessSubType\": 895, \"Unit\": 895, \"UnitType\": 895, \"House\": 895, \"Street\": 895, \"City\": 895, \"Province\": 895, \"Country\": 895, \"PostalCode\": 895, \"LocalArea\": 895, \"NumberofEmployees\": 895, \"FeePaid\": 895, \"ExtractDate\": 895, \"Geom\": 895, \"NextYearStatus\": 895, \"label\": 895, \"BusinessIndustry\": 895}, {\"FOLDERYEAR\": 13, \"business_id\": 559, \"LicenceRSN\": 559, \"LicenceNumber\": 559, \"LicenceRevisionNumber\": 559, \"Status\": 559, \"IssuedDate\": 559, \"ExpiredDate\": 559, \"BusinessSubType\": 559, \"Unit\": 559, \"UnitType\": 559, \"House\": 559, \"Street\": 559, \"City\": 559, \"Province\": 559, \"Country\": 559, \"PostalCode\": 559, \"LocalArea\": 559, \"NumberofEmployees\": 559, \"FeePaid\": 559, \"ExtractDate\": 559, \"Geom\": 559, \"NextYearStatus\": 559, \"label\": 559, \"BusinessIndustry\": 559}, {\"FOLDERYEAR\": 14, \"business_id\": 451, \"LicenceRSN\": 451, \"LicenceNumber\": 451, \"LicenceRevisionNumber\": 451, \"Status\": 451, \"IssuedDate\": 451, \"ExpiredDate\": 451, \"BusinessSubType\": 451, \"Unit\": 451, \"UnitType\": 451, \"House\": 451, \"Street\": 451, \"City\": 451, \"Province\": 451, \"Country\": 451, \"PostalCode\": 451, \"LocalArea\": 451, \"NumberofEmployees\": 451, \"FeePaid\": 451, \"ExtractDate\": 451, \"Geom\": 451, \"NextYearStatus\": 451, \"label\": 451, \"BusinessIndustry\": 451}, {\"FOLDERYEAR\": 15, \"business_id\": 444, \"LicenceRSN\": 444, \"LicenceNumber\": 444, \"LicenceRevisionNumber\": 444, \"Status\": 444, \"IssuedDate\": 444, \"ExpiredDate\": 444, \"BusinessSubType\": 444, \"Unit\": 444, \"UnitType\": 444, \"House\": 444, \"Street\": 444, \"City\": 444, \"Province\": 444, \"Country\": 444, \"PostalCode\": 444, \"LocalArea\": 444, \"NumberofEmployees\": 444, \"FeePaid\": 444, \"ExtractDate\": 444, \"Geom\": 444, \"NextYearStatus\": 444, \"label\": 444, \"BusinessIndustry\": 444}, {\"FOLDERYEAR\": 16, \"business_id\": 362, \"LicenceRSN\": 362, \"LicenceNumber\": 362, \"LicenceRevisionNumber\": 362, \"Status\": 362, \"IssuedDate\": 362, \"ExpiredDate\": 362, \"BusinessSubType\": 362, \"Unit\": 362, \"UnitType\": 362, \"House\": 362, \"Street\": 362, \"City\": 362, \"Province\": 362, \"Country\": 362, \"PostalCode\": 362, \"LocalArea\": 362, \"NumberofEmployees\": 362, \"FeePaid\": 362, \"ExtractDate\": 362, \"Geom\": 362, \"NextYearStatus\": 362, \"label\": 362, \"BusinessIndustry\": 362}, {\"FOLDERYEAR\": 17, \"business_id\": 278, \"LicenceRSN\": 278, \"LicenceNumber\": 278, \"LicenceRevisionNumber\": 278, \"Status\": 278, \"IssuedDate\": 278, \"ExpiredDate\": 278, \"BusinessSubType\": 278, \"Unit\": 278, \"UnitType\": 278, \"House\": 278, \"Street\": 278, \"City\": 278, \"Province\": 278, \"Country\": 278, \"PostalCode\": 278, \"LocalArea\": 278, \"NumberofEmployees\": 278, \"FeePaid\": 278, \"ExtractDate\": 278, \"Geom\": 278, \"NextYearStatus\": 278, \"label\": 278, \"BusinessIndustry\": 278}, {\"FOLDERYEAR\": 18, \"business_id\": 255, \"LicenceRSN\": 255, \"LicenceNumber\": 255, \"LicenceRevisionNumber\": 255, \"Status\": 255, \"IssuedDate\": 255, \"ExpiredDate\": 255, \"BusinessSubType\": 255, \"Unit\": 255, \"UnitType\": 255, \"House\": 255, \"Street\": 255, \"City\": 255, \"Province\": 255, \"Country\": 255, \"PostalCode\": 255, \"LocalArea\": 255, \"NumberofEmployees\": 255, \"FeePaid\": 255, \"ExtractDate\": 255, \"Geom\": 255, \"NextYearStatus\": 255, \"label\": 255, \"BusinessIndustry\": 255}, {\"FOLDERYEAR\": 19, \"business_id\": 174, \"LicenceRSN\": 174, \"LicenceNumber\": 174, \"LicenceRevisionNumber\": 174, \"Status\": 174, \"IssuedDate\": 174, \"ExpiredDate\": 174, \"BusinessSubType\": 174, \"Unit\": 174, \"UnitType\": 174, \"House\": 174, \"Street\": 174, \"City\": 174, \"Province\": 174, \"Country\": 174, \"PostalCode\": 174, \"LocalArea\": 174, \"NumberofEmployees\": 174, \"FeePaid\": 174, \"ExtractDate\": 174, \"Geom\": 174, \"NextYearStatus\": 174, \"label\": 174, \"BusinessIndustry\": 174}, {\"FOLDERYEAR\": 20, \"business_id\": 162, \"LicenceRSN\": 162, \"LicenceNumber\": 162, \"LicenceRevisionNumber\": 162, \"Status\": 162, \"IssuedDate\": 162, \"ExpiredDate\": 162, \"BusinessSubType\": 162, \"Unit\": 162, \"UnitType\": 162, \"House\": 162, \"Street\": 162, \"City\": 162, \"Province\": 162, \"Country\": 162, \"PostalCode\": 162, \"LocalArea\": 162, \"NumberofEmployees\": 162, \"FeePaid\": 162, \"ExtractDate\": 162, \"Geom\": 162, \"NextYearStatus\": 162, \"label\": 162, \"BusinessIndustry\": 162}, {\"FOLDERYEAR\": 21, \"business_id\": 146, \"LicenceRSN\": 146, \"LicenceNumber\": 146, \"LicenceRevisionNumber\": 146, \"Status\": 146, \"IssuedDate\": 146, \"ExpiredDate\": 146, \"BusinessSubType\": 146, \"Unit\": 146, \"UnitType\": 146, \"House\": 146, \"Street\": 146, \"City\": 146, \"Province\": 146, \"Country\": 146, \"PostalCode\": 146, \"LocalArea\": 146, \"NumberofEmployees\": 146, \"FeePaid\": 146, \"ExtractDate\": 146, \"Geom\": 146, \"NextYearStatus\": 146, \"label\": 146, \"BusinessIndustry\": 146}, {\"FOLDERYEAR\": 22, \"business_id\": 160, \"LicenceRSN\": 160, \"LicenceNumber\": 160, \"LicenceRevisionNumber\": 160, \"Status\": 160, \"IssuedDate\": 160, \"ExpiredDate\": 160, \"BusinessSubType\": 160, \"Unit\": 160, \"UnitType\": 160, \"House\": 160, \"Street\": 160, \"City\": 160, \"Province\": 160, \"Country\": 160, \"PostalCode\": 160, \"LocalArea\": 160, \"NumberofEmployees\": 160, \"FeePaid\": 160, \"ExtractDate\": 160, \"Geom\": 160, \"NextYearStatus\": 160, \"label\": 160, \"BusinessIndustry\": 160}]}};\n",
       "const opt = {};\n",
       "const type = \"vega-lite\";\n",
       "const id = \"1bf7a730-02a8-42d7-a978-02e3d77962bc\";\n",
       "\n",
       "const output_area = this;\n",
       "\n",
       "require([\"nbextensions/jupyter-vega/index\"], function(vega) {\n",
       "  const target = document.createElement(\"div\");\n",
       "  target.id = id;\n",
       "  target.className = \"vega-embed\";\n",
       "\n",
       "  const style = document.createElement(\"style\");\n",
       "  style.textContent = [\n",
       "    \".vega-embed .error p {\",\n",
       "    \"  color: firebrick;\",\n",
       "    \"  font-size: 14px;\",\n",
       "    \"}\",\n",
       "  ].join(\"\\\\n\");\n",
       "\n",
       "  // element is a jQuery wrapped DOM element inside the output area\n",
       "  // see http://ipython.readthedocs.io/en/stable/api/generated/\\\n",
       "  // IPython.display.html#IPython.display.Javascript.__init__\n",
       "  element[0].appendChild(target);\n",
       "  element[0].appendChild(style);\n",
       "\n",
       "  vega.render(\"#\" + id, spec, type, opt, output_area);\n",
       "}, function (err) {\n",
       "  if (err.requireType !== \"scripterror\") {\n",
       "    throw(err);\n",
       "  }\n",
       "});\n"
      ],
      "text/plain": [
       "<vega.vegalite.VegaLite at 0x12192b128>"
      ]
     },
     "metadata": {
      "jupyter-vega": "#1bf7a730-02a8-42d7-a978-02e3d77962bc"
     },
     "output_type": "display_data"
    },
    {
     "data": {
      "text/plain": []
     },
     "execution_count": 95,
     "metadata": {},
     "output_type": "execute_result"
    },
    {
     "data": {
      "image/png": "[encoded data removed]"
     },
     "metadata": {
      "jupyter-vega": "#1bf7a730-02a8-42d7-a978-02e3d77962bc"
     },
     "output_type": "display_data"
    }
   ],
   "source": [
    "alt.Chart(plot_df.reset_index()).mark_line().encode(\n",
    "    x=alt.X('FOLDERYEAR:Q',title = 'Survived years'),\n",
    "    y=alt.Y('business_id:Q', title = 'Number of businesses')\n",
    ")"
   ]
  },
  {
   "cell_type": "code",
   "execution_count": 101,
   "metadata": {},
   "outputs": [],
   "source": [
    "dis_park = pd.read_csv('../../data/raw/disability-parking.csv', sep=';')"
   ]
  },
  {
   "cell_type": "code",
   "execution_count": 108,
   "metadata": {},
   "outputs": [
    {
     "data": {
      "text/plain": [
       "'{\"type\": \"Point\", \"coordinates\": [-123.069265, 49.27573]}'"
      ]
     },
     "execution_count": 108,
     "metadata": {},
     "output_type": "execute_result"
    }
   ],
   "source": [
    "dis_park['Geom'][1]"
   ]
  },
  {
   "cell_type": "code",
   "execution_count": 0,
   "metadata": {
    "colab": {},
    "colab_type": "code",
    "id": "2u4m73cUsCHh",
    "outputId": "bfafdea9-aba8-4b34-fc58-f4a7c6c815ac"
   },
   "outputs": [
    {
     "data": {
      "text/html": [
       "<div>\n",
       "<style scoped>\n",
       "    .dataframe tbody tr th:only-of-type {\n",
       "        vertical-align: middle;\n",
       "    }\n",
       "\n",
       "    .dataframe tbody tr th {\n",
       "        vertical-align: top;\n",
       "    }\n",
       "\n",
       "    .dataframe thead th {\n",
       "        text-align: right;\n",
       "    }\n",
       "</style>\n",
       "<table border=\"1\" class=\"dataframe\">\n",
       "  <thead>\n",
       "    <tr style=\"text-align: right;\">\n",
       "      <th></th>\n",
       "      <th>variable</th>\n",
       "      <th>variable2</th>\n",
       "      <th>correlation</th>\n",
       "      <th>correlation_label</th>\n",
       "    </tr>\n",
       "  </thead>\n",
       "  <tbody>\n",
       "    <tr>\n",
       "      <th>0</th>\n",
       "      <td>FOLDERYEAR</td>\n",
       "      <td>FOLDERYEAR</td>\n",
       "      <td>1.000000</td>\n",
       "      <td>1.00</td>\n",
       "    </tr>\n",
       "    <tr>\n",
       "      <th>1</th>\n",
       "      <td>FOLDERYEAR</td>\n",
       "      <td>NumberofEmployees</td>\n",
       "      <td>-0.000042</td>\n",
       "      <td>-0.00</td>\n",
       "    </tr>\n",
       "    <tr>\n",
       "      <th>2</th>\n",
       "      <td>FOLDERYEAR</td>\n",
       "      <td>FeePaid</td>\n",
       "      <td>0.117842</td>\n",
       "      <td>0.12</td>\n",
       "    </tr>\n",
       "    <tr>\n",
       "      <th>3</th>\n",
       "      <td>FOLDERYEAR</td>\n",
       "      <td>Parking meters</td>\n",
       "      <td>0.005132</td>\n",
       "      <td>0.01</td>\n",
       "    </tr>\n",
       "    <tr>\n",
       "      <th>4</th>\n",
       "      <td>FOLDERYEAR</td>\n",
       "      <td>Disability parking</td>\n",
       "      <td>0.005770</td>\n",
       "      <td>0.01</td>\n",
       "    </tr>\n",
       "  </tbody>\n",
       "</table>\n",
       "</div>"
      ],
      "text/plain": [
       "     variable           variable2  correlation correlation_label\n",
       "0  FOLDERYEAR          FOLDERYEAR     1.000000              1.00\n",
       "1  FOLDERYEAR   NumberofEmployees    -0.000042             -0.00\n",
       "2  FOLDERYEAR             FeePaid     0.117842              0.12\n",
       "3  FOLDERYEAR      Parking meters     0.005132              0.01\n",
       "4  FOLDERYEAR  Disability parking     0.005770              0.01"
      ]
     },
     "execution_count": 31,
     "metadata": {
      "tags": []
     },
     "output_type": "execute_result"
    }
   ],
   "source": [
    "cor_data = (train.drop(columns=['LocalArea','label','BusinessIndustry']).corr().stack()\n",
    "              .reset_index()     # The stacking results in an index on the correlation values, we need the index as normal columns for Altair\n",
    "              .rename(columns={0: 'correlation', 'level_0': 'variable', 'level_1': 'variable2'}))\n",
    "cor_data['correlation_label'] = cor_data['correlation'].map('{:.2f}'.format)  # Round to 2 decimal\n",
    "cor_data.head()"
   ]
  },
  {
   "cell_type": "code",
   "execution_count": 0,
   "metadata": {
    "colab": {},
    "colab_type": "code",
    "id": "1pA4U9nWsCHk"
   },
   "outputs": [],
   "source": [
    "base = alt.Chart(cor_data).encode(\n",
    "    x='variable2:O',\n",
    "    y='variable:O'    \n",
    ")\n",
    "\n",
    "# Text layer with correlation labels\n",
    "# Colors are for easier readability\n",
    "text = base.mark_text().encode(\n",
    "    text='correlation_label',\n",
    "    color=alt.condition(\n",
    "        alt.datum.correlation > 0.5, \n",
    "        alt.value('white'),\n",
    "        alt.value('black')\n",
    "    )\n",
    ")\n",
    "\n",
    "# The correlation heatmap itself\n",
    "cor_plot = base.mark_rect().encode(\n",
    "    color='correlation:Q'\n",
    ")\n",
    "\n",
    "final_plot = cor_plot + text \n",
    "save(final_plot,'cor_plot.html')"
   ]
  },
  {
   "cell_type": "markdown",
   "metadata": {
    "colab_type": "text",
    "id": "zUeOMhzhsCHo"
   },
   "source": [
    "## 2. Summary <a name=\"s\"></a>"
   ]
  },
  {
   "cell_type": "code",
   "execution_count": 0,
   "metadata": {
    "colab": {},
    "colab_type": "code",
    "id": "Z_31dKpIsCHp"
   },
   "outputs": [],
   "source": [
    "# get categorical and numerical variables\n",
    "cat_vars = ['FOLDERYEAR', 'BusinessIndustry', 'LocalArea']\n",
    "#cat_vars = ['BusinessIndustry']\n",
    "label = ['label']\n",
    "\n",
    "num_vars = [i for i in train.columns if i not in cat_vars and i not in label]"
   ]
  },
  {
   "cell_type": "code",
   "execution_count": 0,
   "metadata": {
    "colab": {},
    "colab_type": "code",
    "id": "1fv4qgFnsCHt"
   },
   "outputs": [],
   "source": [
    "def describe_data(df, num_vars, cat_vars):\n",
    "    \"\"\"\n",
    "    This function prints shape of the given dataframe\n",
    "    and returns two separate reports for both \n",
    "    numeric and categorical variables.\n",
    "    \"\"\"\n",
    "    \n",
    "    print(\"The dataset has\", df.shape[0], \"rows and\", df.shape[1], \"columns.\\n\")\n",
    "    \n",
    "    num_summary = df[num_vars].describe()\n",
    "    num_summary.loc['missing'] = [df[s].isnull().sum() for s in num_vars]\n",
    "    \n",
    "    cat_summary = {'cat_var':[], 'missing':[], 'unique':[]}\n",
    "    for c in cat_vars:\n",
    "        cat_summary['cat_var'].append(c)\n",
    "        cat_summary['missing'].append(sum(df[c].isnull()))\n",
    "        cat_summary['unique'].append(len(df[c].unique()))\n",
    "    \n",
    "    return num_summary, pd.DataFrame(cat_summary)"
   ]
  },
  {
   "cell_type": "code",
   "execution_count": 0,
   "metadata": {
    "colab": {},
    "colab_type": "code",
    "id": "H3uKPJtLsCHx",
    "outputId": "b75add80-a034-4120-f588-96d508801e72"
   },
   "outputs": [
    {
     "name": "stdout",
     "output_type": "stream",
     "text": [
      "The dataset has 448011 rows and 104 columns.\n",
      "\n"
     ]
    },
    {
     "data": {
      "text/html": [
       "<div>\n",
       "<style scoped>\n",
       "    .dataframe tbody tr th:only-of-type {\n",
       "        vertical-align: middle;\n",
       "    }\n",
       "\n",
       "    .dataframe tbody tr th {\n",
       "        vertical-align: top;\n",
       "    }\n",
       "\n",
       "    .dataframe thead th {\n",
       "        text-align: right;\n",
       "    }\n",
       "</style>\n",
       "<table border=\"1\" class=\"dataframe\">\n",
       "  <thead>\n",
       "    <tr style=\"text-align: right;\">\n",
       "      <th></th>\n",
       "      <th>NumberofEmployees</th>\n",
       "      <th>FeePaid</th>\n",
       "      <th>Parking meters</th>\n",
       "      <th>Disability parking</th>\n",
       "      <th>Unemployment_rate</th>\n",
       "      <th>Without children at home</th>\n",
       "      <th>1 child</th>\n",
       "      <th>2 children</th>\n",
       "      <th>3 or more children</th>\n",
       "      <th>English</th>\n",
       "      <th>...</th>\n",
       "      <th>other transportation</th>\n",
       "      <th>Worked at home</th>\n",
       "      <th>Worked at usual place</th>\n",
       "      <th>Worked outside Canada</th>\n",
       "      <th>No fixed workplace</th>\n",
       "      <th>education below postsecondary</th>\n",
       "      <th>education above postsecondary</th>\n",
       "      <th>Non-immigrants</th>\n",
       "      <th>Non-permanent residents</th>\n",
       "      <th>Immigrants</th>\n",
       "    </tr>\n",
       "  </thead>\n",
       "  <tbody>\n",
       "    <tr>\n",
       "      <th>count</th>\n",
       "      <td>1.795020e+05</td>\n",
       "      <td>443599.000000</td>\n",
       "      <td>409894.000000</td>\n",
       "      <td>434145.000000</td>\n",
       "      <td>448011.000000</td>\n",
       "      <td>448011.000000</td>\n",
       "      <td>448011.000000</td>\n",
       "      <td>448011.000000</td>\n",
       "      <td>448011.000000</td>\n",
       "      <td>448011.000000</td>\n",
       "      <td>...</td>\n",
       "      <td>448011.000000</td>\n",
       "      <td>448011.000000</td>\n",
       "      <td>448011.000000</td>\n",
       "      <td>448011.000000</td>\n",
       "      <td>448011.000000</td>\n",
       "      <td>448011.000000</td>\n",
       "      <td>448011.000000</td>\n",
       "      <td>448011.000000</td>\n",
       "      <td>448011.000000</td>\n",
       "      <td>448011.000000</td>\n",
       "    </tr>\n",
       "    <tr>\n",
       "      <th>mean</th>\n",
       "      <td>6.739126e+04</td>\n",
       "      <td>202.333659</td>\n",
       "      <td>1648.666626</td>\n",
       "      <td>11.186046</td>\n",
       "      <td>6.266494</td>\n",
       "      <td>0.592673</td>\n",
       "      <td>0.198782</td>\n",
       "      <td>0.158850</td>\n",
       "      <td>0.049495</td>\n",
       "      <td>0.560665</td>\n",
       "      <td>...</td>\n",
       "      <td>0.015732</td>\n",
       "      <td>0.092852</td>\n",
       "      <td>0.792807</td>\n",
       "      <td>0.010820</td>\n",
       "      <td>0.103521</td>\n",
       "      <td>0.359783</td>\n",
       "      <td>0.640217</td>\n",
       "      <td>0.547568</td>\n",
       "      <td>0.048296</td>\n",
       "      <td>0.404159</td>\n",
       "    </tr>\n",
       "    <tr>\n",
       "      <th>std</th>\n",
       "      <td>2.018491e+07</td>\n",
       "      <td>436.703545</td>\n",
       "      <td>1538.957270</td>\n",
       "      <td>6.840940</td>\n",
       "      <td>1.413287</td>\n",
       "      <td>0.156282</td>\n",
       "      <td>0.038368</td>\n",
       "      <td>0.083252</td>\n",
       "      <td>0.041358</td>\n",
       "      <td>0.140725</td>\n",
       "      <td>...</td>\n",
       "      <td>0.004988</td>\n",
       "      <td>0.028627</td>\n",
       "      <td>0.026758</td>\n",
       "      <td>0.007562</td>\n",
       "      <td>0.021872</td>\n",
       "      <td>0.139427</td>\n",
       "      <td>0.139427</td>\n",
       "      <td>0.098328</td>\n",
       "      <td>0.030938</td>\n",
       "      <td>0.101331</td>\n",
       "    </tr>\n",
       "    <tr>\n",
       "      <th>min</th>\n",
       "      <td>0.000000e+00</td>\n",
       "      <td>-940.000000</td>\n",
       "      <td>7.000000</td>\n",
       "      <td>1.000000</td>\n",
       "      <td>4.000000</td>\n",
       "      <td>0.303209</td>\n",
       "      <td>0.118407</td>\n",
       "      <td>0.043171</td>\n",
       "      <td>0.006378</td>\n",
       "      <td>0.256763</td>\n",
       "      <td>...</td>\n",
       "      <td>0.003484</td>\n",
       "      <td>0.033845</td>\n",
       "      <td>0.676393</td>\n",
       "      <td>0.000000</td>\n",
       "      <td>0.041667</td>\n",
       "      <td>0.138569</td>\n",
       "      <td>0.005047</td>\n",
       "      <td>0.310705</td>\n",
       "      <td>0.008676</td>\n",
       "      <td>0.256277</td>\n",
       "    </tr>\n",
       "    <tr>\n",
       "      <th>25%</th>\n",
       "      <td>1.000000e+00</td>\n",
       "      <td>100.000000</td>\n",
       "      <td>280.000000</td>\n",
       "      <td>5.000000</td>\n",
       "      <td>4.700000</td>\n",
       "      <td>0.408842</td>\n",
       "      <td>0.173055</td>\n",
       "      <td>0.087394</td>\n",
       "      <td>0.015099</td>\n",
       "      <td>0.459787</td>\n",
       "      <td>...</td>\n",
       "      <td>0.011740</td>\n",
       "      <td>0.077628</td>\n",
       "      <td>0.784780</td>\n",
       "      <td>0.005785</td>\n",
       "      <td>0.086070</td>\n",
       "      <td>0.237883</td>\n",
       "      <td>0.544681</td>\n",
       "      <td>0.504460</td>\n",
       "      <td>0.023744</td>\n",
       "      <td>0.321346</td>\n",
       "    </tr>\n",
       "    <tr>\n",
       "      <th>50%</th>\n",
       "      <td>2.000000e+00</td>\n",
       "      <td>126.000000</td>\n",
       "      <td>940.000000</td>\n",
       "      <td>10.000000</td>\n",
       "      <td>6.600000</td>\n",
       "      <td>0.657711</td>\n",
       "      <td>0.189055</td>\n",
       "      <td>0.122388</td>\n",
       "      <td>0.026539</td>\n",
       "      <td>0.570918</td>\n",
       "      <td>...</td>\n",
       "      <td>0.015165</td>\n",
       "      <td>0.101322</td>\n",
       "      <td>0.792766</td>\n",
       "      <td>0.008735</td>\n",
       "      <td>0.100564</td>\n",
       "      <td>0.340364</td>\n",
       "      <td>0.659636</td>\n",
       "      <td>0.542273</td>\n",
       "      <td>0.037511</td>\n",
       "      <td>0.390754</td>\n",
       "    </tr>\n",
       "    <tr>\n",
       "      <th>75%</th>\n",
       "      <td>6.000000e+00</td>\n",
       "      <td>166.000000</td>\n",
       "      <td>3771.000000</td>\n",
       "      <td>19.000000</td>\n",
       "      <td>7.200000</td>\n",
       "      <td>0.730159</td>\n",
       "      <td>0.232658</td>\n",
       "      <td>0.255413</td>\n",
       "      <td>0.078853</td>\n",
       "      <td>0.648828</td>\n",
       "      <td>...</td>\n",
       "      <td>0.018963</td>\n",
       "      <td>0.105563</td>\n",
       "      <td>0.809569</td>\n",
       "      <td>0.014189</td>\n",
       "      <td>0.119759</td>\n",
       "      <td>0.455319</td>\n",
       "      <td>0.762117</td>\n",
       "      <td>0.629853</td>\n",
       "      <td>0.064937</td>\n",
       "      <td>0.462656</td>\n",
       "    </tr>\n",
       "    <tr>\n",
       "      <th>max</th>\n",
       "      <td>6.047106e+09</td>\n",
       "      <td>33155.000000</td>\n",
       "      <td>3771.000000</td>\n",
       "      <td>19.000000</td>\n",
       "      <td>8.800000</td>\n",
       "      <td>0.824004</td>\n",
       "      <td>0.305720</td>\n",
       "      <td>0.308194</td>\n",
       "      <td>0.203310</td>\n",
       "      <td>0.792318</td>\n",
       "      <td>...</td>\n",
       "      <td>0.041005</td>\n",
       "      <td>0.205570</td>\n",
       "      <td>0.868699</td>\n",
       "      <td>0.049089</td>\n",
       "      <td>0.166318</td>\n",
       "      <td>0.994953</td>\n",
       "      <td>0.861431</td>\n",
       "      <td>0.719883</td>\n",
       "      <td>0.113870</td>\n",
       "      <td>0.662663</td>\n",
       "    </tr>\n",
       "    <tr>\n",
       "      <th>missing</th>\n",
       "      <td>2.685090e+05</td>\n",
       "      <td>4412.000000</td>\n",
       "      <td>38117.000000</td>\n",
       "      <td>13866.000000</td>\n",
       "      <td>0.000000</td>\n",
       "      <td>0.000000</td>\n",
       "      <td>0.000000</td>\n",
       "      <td>0.000000</td>\n",
       "      <td>0.000000</td>\n",
       "      <td>0.000000</td>\n",
       "      <td>...</td>\n",
       "      <td>0.000000</td>\n",
       "      <td>0.000000</td>\n",
       "      <td>0.000000</td>\n",
       "      <td>0.000000</td>\n",
       "      <td>0.000000</td>\n",
       "      <td>0.000000</td>\n",
       "      <td>0.000000</td>\n",
       "      <td>0.000000</td>\n",
       "      <td>0.000000</td>\n",
       "      <td>0.000000</td>\n",
       "    </tr>\n",
       "  </tbody>\n",
       "</table>\n",
       "<p>9 rows × 100 columns</p>\n",
       "</div>"
      ],
      "text/plain": [
       "         NumberofEmployees        FeePaid  Parking meters  Disability parking  \\\n",
       "count         1.795020e+05  443599.000000   409894.000000       434145.000000   \n",
       "mean          6.739126e+04     202.333659     1648.666626           11.186046   \n",
       "std           2.018491e+07     436.703545     1538.957270            6.840940   \n",
       "min           0.000000e+00    -940.000000        7.000000            1.000000   \n",
       "25%           1.000000e+00     100.000000      280.000000            5.000000   \n",
       "50%           2.000000e+00     126.000000      940.000000           10.000000   \n",
       "75%           6.000000e+00     166.000000     3771.000000           19.000000   \n",
       "max           6.047106e+09   33155.000000     3771.000000           19.000000   \n",
       "missing       2.685090e+05    4412.000000    38117.000000        13866.000000   \n",
       "\n",
       "         Unemployment_rate  Without children at home        1 child  \\\n",
       "count        448011.000000             448011.000000  448011.000000   \n",
       "mean              6.266494                  0.592673       0.198782   \n",
       "std               1.413287                  0.156282       0.038368   \n",
       "min               4.000000                  0.303209       0.118407   \n",
       "25%               4.700000                  0.408842       0.173055   \n",
       "50%               6.600000                  0.657711       0.189055   \n",
       "75%               7.200000                  0.730159       0.232658   \n",
       "max               8.800000                  0.824004       0.305720   \n",
       "missing           0.000000                  0.000000       0.000000   \n",
       "\n",
       "            2 children  3 or more children        English  ...  \\\n",
       "count    448011.000000       448011.000000  448011.000000  ...   \n",
       "mean          0.158850            0.049495       0.560665  ...   \n",
       "std           0.083252            0.041358       0.140725  ...   \n",
       "min           0.043171            0.006378       0.256763  ...   \n",
       "25%           0.087394            0.015099       0.459787  ...   \n",
       "50%           0.122388            0.026539       0.570918  ...   \n",
       "75%           0.255413            0.078853       0.648828  ...   \n",
       "max           0.308194            0.203310       0.792318  ...   \n",
       "missing       0.000000            0.000000       0.000000  ...   \n",
       "\n",
       "         other transportation  Worked at home  Worked at usual place  \\\n",
       "count           448011.000000   448011.000000          448011.000000   \n",
       "mean                 0.015732        0.092852               0.792807   \n",
       "std                  0.004988        0.028627               0.026758   \n",
       "min                  0.003484        0.033845               0.676393   \n",
       "25%                  0.011740        0.077628               0.784780   \n",
       "50%                  0.015165        0.101322               0.792766   \n",
       "75%                  0.018963        0.105563               0.809569   \n",
       "max                  0.041005        0.205570               0.868699   \n",
       "missing              0.000000        0.000000               0.000000   \n",
       "\n",
       "         Worked outside Canada  No fixed workplace  \\\n",
       "count            448011.000000       448011.000000   \n",
       "mean                  0.010820            0.103521   \n",
       "std                   0.007562            0.021872   \n",
       "min                   0.000000            0.041667   \n",
       "25%                   0.005785            0.086070   \n",
       "50%                   0.008735            0.100564   \n",
       "75%                   0.014189            0.119759   \n",
       "max                   0.049089            0.166318   \n",
       "missing               0.000000            0.000000   \n",
       "\n",
       "         education below postsecondary  education above postsecondary  \\\n",
       "count                    448011.000000                  448011.000000   \n",
       "mean                          0.359783                       0.640217   \n",
       "std                           0.139427                       0.139427   \n",
       "min                           0.138569                       0.005047   \n",
       "25%                           0.237883                       0.544681   \n",
       "50%                           0.340364                       0.659636   \n",
       "75%                           0.455319                       0.762117   \n",
       "max                           0.994953                       0.861431   \n",
       "missing                       0.000000                       0.000000   \n",
       "\n",
       "         Non-immigrants  Non-permanent residents     Immigrants  \n",
       "count     448011.000000            448011.000000  448011.000000  \n",
       "mean           0.547568                 0.048296       0.404159  \n",
       "std            0.098328                 0.030938       0.101331  \n",
       "min            0.310705                 0.008676       0.256277  \n",
       "25%            0.504460                 0.023744       0.321346  \n",
       "50%            0.542273                 0.037511       0.390754  \n",
       "75%            0.629853                 0.064937       0.462656  \n",
       "max            0.719883                 0.113870       0.662663  \n",
       "missing        0.000000                 0.000000       0.000000  \n",
       "\n",
       "[9 rows x 100 columns]"
      ]
     },
     "metadata": {
      "tags": []
     },
     "output_type": "display_data"
    },
    {
     "data": {
      "text/html": [
       "<div>\n",
       "<style scoped>\n",
       "    .dataframe tbody tr th:only-of-type {\n",
       "        vertical-align: middle;\n",
       "    }\n",
       "\n",
       "    .dataframe tbody tr th {\n",
       "        vertical-align: top;\n",
       "    }\n",
       "\n",
       "    .dataframe thead th {\n",
       "        text-align: right;\n",
       "    }\n",
       "</style>\n",
       "<table border=\"1\" class=\"dataframe\">\n",
       "  <thead>\n",
       "    <tr style=\"text-align: right;\">\n",
       "      <th></th>\n",
       "      <th>cat_var</th>\n",
       "      <th>missing</th>\n",
       "      <th>unique</th>\n",
       "    </tr>\n",
       "  </thead>\n",
       "  <tbody>\n",
       "    <tr>\n",
       "      <th>0</th>\n",
       "      <td>FOLDERYEAR</td>\n",
       "      <td>0</td>\n",
       "      <td>23</td>\n",
       "    </tr>\n",
       "    <tr>\n",
       "      <th>1</th>\n",
       "      <td>BusinessIndustry</td>\n",
       "      <td>0</td>\n",
       "      <td>15</td>\n",
       "    </tr>\n",
       "    <tr>\n",
       "      <th>2</th>\n",
       "      <td>LocalArea</td>\n",
       "      <td>0</td>\n",
       "      <td>22</td>\n",
       "    </tr>\n",
       "  </tbody>\n",
       "</table>\n",
       "</div>"
      ],
      "text/plain": [
       "            cat_var  missing  unique\n",
       "0        FOLDERYEAR        0      23\n",
       "1  BusinessIndustry        0      15\n",
       "2         LocalArea        0      22"
      ]
     },
     "metadata": {
      "tags": []
     },
     "output_type": "display_data"
    }
   ],
   "source": [
    "num_df, cat_df = describe_data(train, num_vars, cat_vars)\n",
    "display(num_df, cat_df)"
   ]
  },
  {
   "cell_type": "code",
   "execution_count": 0,
   "metadata": {
    "colab": {},
    "colab_type": "code",
    "id": "rP7IcAQksCH2",
    "outputId": "6455296c-df49-470b-ecc0-185028b709da"
   },
   "outputs": [
    {
     "data": {
      "text/plain": [
       "1    375350\n",
       "0     72661\n",
       "Name: label, dtype: int64"
      ]
     },
     "execution_count": 62,
     "metadata": {
      "tags": []
     },
     "output_type": "execute_result"
    }
   ],
   "source": [
    "train['label'].value_counts()"
   ]
  },
  {
   "cell_type": "markdown",
   "metadata": {
    "colab_type": "text",
    "id": "1ZQNeZgysCH5"
   },
   "source": [
    "## 3. Feauture Engineering <a name=\"fe\"></a>\n",
    "\n",
    "- Including just cleaning for now, other steps to add in the future\n",
    "- Will be moved to a separate feature engineering script"
   ]
  },
  {
   "cell_type": "code",
   "execution_count": 0,
   "metadata": {
    "colab": {},
    "colab_type": "code",
    "id": "JPjPoGw9sCH6"
   },
   "outputs": [],
   "source": [
    "def feature_engineering(df):\n",
    "    df = df[df.LocalArea.notnull()]\n",
    "    #df = df[df.Status == 'Issued']\n",
    "\n",
    "    df = df[num_vars+cat_vars+label]\n",
    "    return df.drop(columns=label), df['label']\n"
   ]
  },
  {
   "cell_type": "markdown",
   "metadata": {
    "colab_type": "text",
    "id": "FMqcnw_xsCIB"
   },
   "source": [
    "## 4. Split Data <a name=\"sd\"></a>\n",
    "\n",
    "\n",
    "- Split data here because Validation set is used directly as Test"
   ]
  },
  {
   "cell_type": "code",
   "execution_count": 0,
   "metadata": {
    "colab": {},
    "colab_type": "code",
    "id": "yyd1czBysCIC"
   },
   "outputs": [],
   "source": [
    "X_train_valid, y_train_valid = feature_engineering(train)\n",
    "#X_test, y_test = feature_engineering(validation)\n",
    "\n",
    "X_train, X_valid, y_train, y_valid = train_test_split(X_train_valid, y_train_valid, test_size=0.2, random_state=2020)"
   ]
  },
  {
   "cell_type": "markdown",
   "metadata": {
    "colab_type": "text",
    "id": "WlW_4UwqsCIH"
   },
   "source": [
    "## 5. Preprocessing <a name=\"pp\"></a>\n",
    "\n",
    "- include polynomial features (interactions, e.g., local area x business type)"
   ]
  },
  {
   "cell_type": "code",
   "execution_count": 0,
   "metadata": {
    "colab": {},
    "colab_type": "code",
    "id": "kSa_x6IKsCIH"
   },
   "outputs": [],
   "source": [
    "numeric_transformer = Pipeline(steps=[\n",
    "    ('imputer', SimpleImputer(strategy='median')),\n",
    "    ('scaler', StandardScaler())\n",
    "])\n",
    "\n",
    "categorical_transformer = Pipeline(steps=[\n",
    "    ('imputer', SimpleImputer(strategy='constant',\n",
    "                              fill_value='missing')),\n",
    "    ('onehot', OneHotEncoder(\n",
    "        handle_unknown='ignore'))\n",
    "])\n",
    "\n",
    "preprocessor = ColumnTransformer(\n",
    "    transformers=[\n",
    "        ('num', numeric_transformer, num_vars),\n",
    "        ('cat', categorical_transformer, cat_vars)\n",
    "    ])"
   ]
  },
  {
   "cell_type": "markdown",
   "metadata": {
    "colab_type": "text",
    "id": "IMIvkpcpsCIL"
   },
   "source": [
    "## 6. Baseline Model <a name=\"bm\"></a>\n",
    "\n",
    "[ROC AUC](https://github.com/dariyasydykova/open_projects/tree/master/ROC_animation) source"
   ]
  },
  {
   "cell_type": "code",
   "execution_count": 0,
   "metadata": {
    "colab": {},
    "colab_type": "code",
    "id": "PTl7YZdvsCIM"
   },
   "outputs": [],
   "source": [
    "def evaluate_model(model, X_train=X_train, X_test=X_valid, y_train=y_train, y_test=y_valid, verbose=True):\n",
    "    \"\"\"\n",
    "    This function prints train and test accuracies,\n",
    "    classification report, and confusion matrix.\n",
    "    \"\"\"\n",
    "    model.fit(X_train, y_train)\n",
    "    train_acc = model.score(X_train, y_train)\n",
    "    test_acc = model.score(X_test, y_test)\n",
    "    \n",
    "    if verbose:\n",
    "        print(\"Train Accuracy:\", train_acc)\n",
    "        print(\"Validation Accuracy\", test_acc, \"\\n\")\n",
    "\n",
    "        print(classification_report(y_test, model.predict(X_test)))\n",
    "        print(plot_confusion_matrix(model, X_test, y_test,\n",
    "                                     display_labels=[0, 1],\n",
    "                                     cmap=plt.cm.Blues,\n",
    "                                     values_format='d'))\n",
    "    else:\n",
    "        report = {}\n",
    "        f1 = f1_score(y_test, model.predict(X_test))\n",
    "        recall = recall_score(y_test, model.predict(X_test))\n",
    "        precision = precision_score(y_test, model.predict(X_test))\n",
    "        report['renewed'] = [f1, recall, precision]\n",
    "        \n",
    "        f1 = f1_score(y_test, model.predict(X_test), pos_label=0)\n",
    "        recall = recall_score(y_test, model.predict(X_test), pos_label=0)\n",
    "        precision = precision_score(y_test, model.predict(X_test), pos_label=0)\n",
    "        report['not_renewed'] = [f1, recall, precision]\n",
    "        \n",
    "        report['accuracy'] = [train_acc, test_acc]\n",
    "        \n",
    "        return report"
   ]
  },
  {
   "cell_type": "code",
   "execution_count": 0,
   "metadata": {
    "colab": {},
    "colab_type": "code",
    "id": "NL08ipH_sCIP"
   },
   "outputs": [],
   "source": [
    "def roc_curve_auc(model, X_train=X_train, X_test=X_valid, y_train=y_train, y_test=y_valid):\n",
    "    \"\"\"\n",
    "    This function plots ROC curve and prints AUC score.\n",
    "    \"\"\"\n",
    "    # assume fit model first\n",
    "    #mode.fit(X_train, y_train)\n",
    "    fpr, tpr, thresholds = roc_curve(y_test, model.predict_proba(X_test)[:,1])\n",
    "    auc = roc_auc_score(y_test, model.predict_proba(X_test)[:,1])\n",
    "        \n",
    "    fig = plt.figure(figsize=(6, 4))\n",
    "    plt.plot(fpr, tpr)\n",
    "    plt.plot((0,1),(0,1),'--k')\n",
    "    plt.xlabel('false positive rate')\n",
    "    plt.ylabel('true positive rate')\n",
    "    plt.annotate(f'AUC score = {auc: .4f}', (0.0, 0.9))"
   ]
  },
  {
   "cell_type": "code",
   "execution_count": 0,
   "metadata": {
    "colab": {},
    "colab_type": "code",
    "id": "2HOZH8kOsCIS",
    "outputId": "072ef035-f55b-4d56-ed79-602625eff42b"
   },
   "outputs": [
    {
     "name": "stderr",
     "output_type": "stream",
     "text": [
      "The max_iter was reached which means the coef_ did not converge\n"
     ]
    },
    {
     "name": "stdout",
     "output_type": "stream",
     "text": [
      "Train Accuracy: 0.5681653311310015\n",
      "Validation Accuracy 0.5681506199569211 \n",
      "\n",
      "              precision    recall  f1-score   support\n",
      "\n",
      "           0       0.19      0.53      0.28     14416\n",
      "           1       0.87      0.58      0.69     75187\n",
      "\n",
      "    accuracy                           0.57     89603\n",
      "   macro avg       0.53      0.55      0.49     89603\n",
      "weighted avg       0.76      0.57      0.63     89603\n",
      "\n",
      "<sklearn.metrics._plot.confusion_matrix.ConfusionMatrixDisplay object at 0x10eeb7748>\n"
     ]
    },
    {
     "data": {
      "image/png": "[encoded data removed]",
      "text/plain": [
       "<Figure size 432x288 with 2 Axes>"
      ]
     },
     "metadata": {
      "needs_background": "light",
      "tags": []
     },
     "output_type": "display_data"
    }
   ],
   "source": [
    "lr = LogisticRegression(solver='saga', class_weight='balanced')\n",
    "\n",
    "lr_pip = Pipeline(steps=[('preprocessor', preprocessor),\n",
    "                         ('classifier', lr)])\n",
    "\n",
    "evaluate_model(lr_pip)"
   ]
  },
  {
   "cell_type": "code",
   "execution_count": 0,
   "metadata": {
    "colab": {},
    "colab_type": "code",
    "id": "dX9Z_zXzsCIV",
    "outputId": "78ee8208-93ee-41e3-8d97-53d39c0890db"
   },
   "outputs": [
    {
     "data": {
      "image/png": "[encoded data removed]",
      "text/plain": [
       "<Figure size 432x288 with 1 Axes>"
      ]
     },
     "metadata": {
      "needs_background": "light",
      "tags": []
     },
     "output_type": "display_data"
    }
   ],
   "source": [
    "roc_curve_auc(lr_pip)"
   ]
  },
  {
   "cell_type": "markdown",
   "metadata": {
    "colab_type": "text",
    "id": "qIxO62pXsCIZ"
   },
   "source": [
    "## 7. Feature Importance and Selection <a name=\"fi\"></a>\n",
    "\n",
    "- weights\n",
    "- RFE\n",
    "- L1, L2\n",
    "- PCA"
   ]
  },
  {
   "cell_type": "code",
   "execution_count": 0,
   "metadata": {
    "colab": {},
    "colab_type": "code",
    "id": "90N125cbsCIZ"
   },
   "outputs": [],
   "source": [
    "def explain_model(pip, df, verbose=True):\n",
    "    pp1_features = num_vars + \\\n",
    "        list(pip['preprocessor'].transformers_[\n",
    "             1][1]['onehot'].get_feature_names())\n",
    "    \n",
    "    return eli5.show_weights(pip['classifier'],\n",
    "                             feature_names=pp1_features,\n",
    "                             top=30)\n"
   ]
  },
  {
   "cell_type": "code",
   "execution_count": 0,
   "metadata": {
    "colab": {},
    "colab_type": "code",
    "id": "M1ZgZNSOsCIc",
    "outputId": "6c2fb1b2-10e5-4677-9096-a3ee4aba41b8"
   },
   "outputs": [
    {
     "data": {
      "text/html": [
       "\n",
       "    <style>\n",
       "    table.eli5-weights tr:hover {\n",
       "        filter: brightness(85%);\n",
       "    }\n",
       "</style>\n",
       "\n",
       "\n",
       "\n",
       "    \n",
       "\n",
       "    \n",
       "\n",
       "    \n",
       "\n",
       "    \n",
       "\n",
       "    \n",
       "\n",
       "    \n",
       "\n",
       "\n",
       "    \n",
       "\n",
       "    \n",
       "\n",
       "    \n",
       "\n",
       "    \n",
       "        \n",
       "\n",
       "    \n",
       "\n",
       "        \n",
       "            \n",
       "                \n",
       "                \n",
       "    \n",
       "        <p style=\"margin-bottom: 0.5em; margin-top: 0em\">\n",
       "            <b>\n",
       "    \n",
       "        y=1\n",
       "    \n",
       "</b>\n",
       "\n",
       "top features\n",
       "        </p>\n",
       "    \n",
       "    <table class=\"eli5-weights\"\n",
       "           style=\"border-collapse: collapse; border: none; margin-top: 0em; table-layout: auto; margin-bottom: 2em;\">\n",
       "        <thead>\n",
       "        <tr style=\"border: none;\">\n",
       "            \n",
       "                <th style=\"padding: 0 1em 0 0.5em; text-align: right; border: none;\" title=\"Feature weights. Note that weights do not account for feature value scales, so if feature values have different scales, features with highest weights might not be the most important.\">\n",
       "                    Weight<sup>?</sup>\n",
       "                </th>\n",
       "            \n",
       "            <th style=\"padding: 0 0.5em 0 0.5em; text-align: left; border: none;\">Feature</th>\n",
       "            \n",
       "        </tr>\n",
       "        </thead>\n",
       "        <tbody>\n",
       "        \n",
       "            <tr style=\"background-color: hsl(120, 100.00%, 80.00%); border: none;\">\n",
       "    <td style=\"padding: 0 1em 0 0.5em; text-align: right; border: none;\">\n",
       "        +0.586\n",
       "    </td>\n",
       "    <td style=\"padding: 0 0.5em 0 0.5em; text-align: left; border: none;\">\n",
       "        x1_Health care and social assistance\n",
       "    </td>\n",
       "    \n",
       "</tr>\n",
       "        \n",
       "            <tr style=\"background-color: hsl(120, 100.00%, 85.16%); border: none;\">\n",
       "    <td style=\"padding: 0 1em 0 0.5em; text-align: right; border: none;\">\n",
       "        +0.382\n",
       "    </td>\n",
       "    <td style=\"padding: 0 0.5em 0 0.5em; text-align: left; border: none;\">\n",
       "        x1_Finance and insurance\n",
       "    </td>\n",
       "    \n",
       "</tr>\n",
       "        \n",
       "            <tr style=\"background-color: hsl(120, 100.00%, 92.68%); border: none;\">\n",
       "    <td style=\"padding: 0 1em 0 0.5em; text-align: right; border: none;\">\n",
       "        +0.139\n",
       "    </td>\n",
       "    <td style=\"padding: 0 0.5em 0 0.5em; text-align: left; border: none;\">\n",
       "        x0_2001\n",
       "    </td>\n",
       "    \n",
       "</tr>\n",
       "        \n",
       "            <tr style=\"background-color: hsl(120, 100.00%, 93.06%); border: none;\">\n",
       "    <td style=\"padding: 0 1em 0 0.5em; text-align: right; border: none;\">\n",
       "        +0.129\n",
       "    </td>\n",
       "    <td style=\"padding: 0 0.5em 0 0.5em; text-align: left; border: none;\">\n",
       "        x1_Manufacturing\n",
       "    </td>\n",
       "    \n",
       "</tr>\n",
       "        \n",
       "            <tr style=\"background-color: hsl(120, 100.00%, 95.43%); border: none;\">\n",
       "    <td style=\"padding: 0 1em 0 0.5em; text-align: right; border: none;\">\n",
       "        +0.071\n",
       "    </td>\n",
       "    <td style=\"padding: 0 0.5em 0 0.5em; text-align: left; border: none;\">\n",
       "        age above 60\n",
       "    </td>\n",
       "    \n",
       "</tr>\n",
       "        \n",
       "            <tr style=\"background-color: hsl(120, 100.00%, 95.54%); border: none;\">\n",
       "    <td style=\"padding: 0 1em 0 0.5em; text-align: right; border: none;\">\n",
       "        +0.069\n",
       "    </td>\n",
       "    <td style=\"padding: 0 0.5em 0 0.5em; text-align: left; border: none;\">\n",
       "        x0_2000\n",
       "    </td>\n",
       "    \n",
       "</tr>\n",
       "        \n",
       "            <tr style=\"background-color: hsl(120, 100.00%, 95.55%); border: none;\">\n",
       "    <td style=\"padding: 0 1em 0 0.5em; text-align: right; border: none;\">\n",
       "        +0.069\n",
       "    </td>\n",
       "    <td style=\"padding: 0 0.5em 0 0.5em; text-align: left; border: none;\">\n",
       "        Health\n",
       "    </td>\n",
       "    \n",
       "</tr>\n",
       "        \n",
       "            <tr style=\"background-color: hsl(120, 100.00%, 95.67%); border: none;\">\n",
       "    <td style=\"padding: 0 1em 0 0.5em; text-align: right; border: none;\">\n",
       "        +0.066\n",
       "    </td>\n",
       "    <td style=\"padding: 0 0.5em 0 0.5em; text-align: left; border: none;\">\n",
       "        x0_2009\n",
       "    </td>\n",
       "    \n",
       "</tr>\n",
       "        \n",
       "            <tr style=\"background-color: hsl(120, 100.00%, 95.71%); border: none;\">\n",
       "    <td style=\"padding: 0 1em 0 0.5em; text-align: right; border: none;\">\n",
       "        +0.065\n",
       "    </td>\n",
       "    <td style=\"padding: 0 0.5em 0 0.5em; text-align: left; border: none;\">\n",
       "        x0_2002\n",
       "    </td>\n",
       "    \n",
       "</tr>\n",
       "        \n",
       "            <tr style=\"background-color: hsl(120, 100.00%, 95.76%); border: none;\">\n",
       "    <td style=\"padding: 0 1em 0 0.5em; text-align: right; border: none;\">\n",
       "        +0.064\n",
       "    </td>\n",
       "    <td style=\"padding: 0 0.5em 0 0.5em; text-align: left; border: none;\">\n",
       "        x1_Other services (except public administration)\n",
       "    </td>\n",
       "    \n",
       "</tr>\n",
       "        \n",
       "            <tr style=\"background-color: hsl(120, 100.00%, 96.16%); border: none;\">\n",
       "    <td style=\"padding: 0 1em 0 0.5em; text-align: right; border: none;\">\n",
       "        +0.055\n",
       "    </td>\n",
       "    <td style=\"padding: 0 0.5em 0 0.5em; text-align: left; border: none;\">\n",
       "        x2_Hastings-Sunrise\n",
       "    </td>\n",
       "    \n",
       "</tr>\n",
       "        \n",
       "            <tr style=\"background-color: hsl(120, 100.00%, 96.26%); border: none;\">\n",
       "    <td style=\"padding: 0 1em 0 0.5em; text-align: right; border: none;\">\n",
       "        +0.053\n",
       "    </td>\n",
       "    <td style=\"padding: 0 0.5em 0 0.5em; text-align: left; border: none;\">\n",
       "        Total visible minority population\n",
       "    </td>\n",
       "    \n",
       "</tr>\n",
       "        \n",
       "            <tr style=\"background-color: hsl(120, 100.00%, 96.37%); border: none;\">\n",
       "    <td style=\"padding: 0 1em 0 0.5em; text-align: right; border: none;\">\n",
       "        +0.051\n",
       "    </td>\n",
       "    <td style=\"padding: 0 0.5em 0 0.5em; text-align: left; border: none;\">\n",
       "        FeePaid\n",
       "    </td>\n",
       "    \n",
       "</tr>\n",
       "        \n",
       "        \n",
       "            <tr style=\"background-color: hsl(120, 100.00%, 96.37%); border: none;\">\n",
       "                <td colspan=\"2\" style=\"padding: 0 0.5em 0 0.5em; text-align: center; border: none; white-space: nowrap;\">\n",
       "                    <i>&hellip; 73 more positive &hellip;</i>\n",
       "                </td>\n",
       "            </tr>\n",
       "        \n",
       "\n",
       "        \n",
       "            <tr style=\"background-color: hsl(0, 100.00%, 96.66%); border: none;\">\n",
       "                <td colspan=\"2\" style=\"padding: 0 0.5em 0 0.5em; text-align: center; border: none; white-space: nowrap;\">\n",
       "                    <i>&hellip; 58 more negative &hellip;</i>\n",
       "                </td>\n",
       "            </tr>\n",
       "        \n",
       "        \n",
       "            <tr style=\"background-color: hsl(0, 100.00%, 96.66%); border: none;\">\n",
       "    <td style=\"padding: 0 1em 0 0.5em; text-align: right; border: none;\">\n",
       "        -0.045\n",
       "    </td>\n",
       "    <td style=\"padding: 0 0.5em 0 0.5em; text-align: left; border: none;\">\n",
       "        x0_2016\n",
       "    </td>\n",
       "    \n",
       "</tr>\n",
       "        \n",
       "            <tr style=\"background-color: hsl(0, 100.00%, 96.35%); border: none;\">\n",
       "    <td style=\"padding: 0 1em 0 0.5em; text-align: right; border: none;\">\n",
       "        -0.052\n",
       "    </td>\n",
       "    <td style=\"padding: 0 0.5em 0 0.5em; text-align: left; border: none;\">\n",
       "        Non-permanent residents\n",
       "    </td>\n",
       "    \n",
       "</tr>\n",
       "        \n",
       "            <tr style=\"background-color: hsl(0, 100.00%, 96.26%); border: none;\">\n",
       "    <td style=\"padding: 0 1em 0 0.5em; text-align: right; border: none;\">\n",
       "        -0.053\n",
       "    </td>\n",
       "    <td style=\"padding: 0 0.5em 0 0.5em; text-align: left; border: none;\">\n",
       "        Not a visible minority\n",
       "    </td>\n",
       "    \n",
       "</tr>\n",
       "        \n",
       "            <tr style=\"background-color: hsl(0, 100.00%, 95.81%); border: none;\">\n",
       "    <td style=\"padding: 0 1em 0 0.5em; text-align: right; border: none;\">\n",
       "        -0.063\n",
       "    </td>\n",
       "    <td style=\"padding: 0 0.5em 0 0.5em; text-align: left; border: none;\">\n",
       "        x0_2007\n",
       "    </td>\n",
       "    \n",
       "</tr>\n",
       "        \n",
       "            <tr style=\"background-color: hsl(0, 100.00%, 95.33%); border: none;\">\n",
       "    <td style=\"padding: 0 1em 0 0.5em; text-align: right; border: none;\">\n",
       "        -0.073\n",
       "    </td>\n",
       "    <td style=\"padding: 0 0.5em 0 0.5em; text-align: left; border: none;\">\n",
       "        x0_2008\n",
       "    </td>\n",
       "    \n",
       "</tr>\n",
       "        \n",
       "            <tr style=\"background-color: hsl(0, 100.00%, 95.30%); border: none;\">\n",
       "    <td style=\"padding: 0 1em 0 0.5em; text-align: right; border: none;\">\n",
       "        -0.074\n",
       "    </td>\n",
       "    <td style=\"padding: 0 0.5em 0 0.5em; text-align: left; border: none;\">\n",
       "        Health care and social assistance\n",
       "    </td>\n",
       "    \n",
       "</tr>\n",
       "        \n",
       "            <tr style=\"background-color: hsl(0, 100.00%, 95.24%); border: none;\">\n",
       "    <td style=\"padding: 0 1em 0 0.5em; text-align: right; border: none;\">\n",
       "        -0.075\n",
       "    </td>\n",
       "    <td style=\"padding: 0 0.5em 0 0.5em; text-align: left; border: none;\">\n",
       "        x2_Kitsilano\n",
       "    </td>\n",
       "    \n",
       "</tr>\n",
       "        \n",
       "            <tr style=\"background-color: hsl(0, 100.00%, 95.08%); border: none;\">\n",
       "    <td style=\"padding: 0 1em 0 0.5em; text-align: right; border: none;\">\n",
       "        -0.079\n",
       "    </td>\n",
       "    <td style=\"padding: 0 0.5em 0 0.5em; text-align: left; border: none;\">\n",
       "        x0_1999\n",
       "    </td>\n",
       "    \n",
       "</tr>\n",
       "        \n",
       "            <tr style=\"background-color: hsl(0, 100.00%, 94.79%); border: none;\">\n",
       "    <td style=\"padding: 0 1em 0 0.5em; text-align: right; border: none;\">\n",
       "        -0.086\n",
       "    </td>\n",
       "    <td style=\"padding: 0 0.5em 0 0.5em; text-align: left; border: none;\">\n",
       "        x0_2004\n",
       "    </td>\n",
       "    \n",
       "</tr>\n",
       "        \n",
       "            <tr style=\"background-color: hsl(0, 100.00%, 94.78%); border: none;\">\n",
       "    <td style=\"padding: 0 1em 0 0.5em; text-align: right; border: none;\">\n",
       "        -0.086\n",
       "    </td>\n",
       "    <td style=\"padding: 0 0.5em 0 0.5em; text-align: left; border: none;\">\n",
       "        x1_Transportation and warehousing\n",
       "    </td>\n",
       "    \n",
       "</tr>\n",
       "        \n",
       "            <tr style=\"background-color: hsl(0, 100.00%, 94.05%); border: none;\">\n",
       "    <td style=\"padding: 0 1em 0 0.5em; text-align: right; border: none;\">\n",
       "        -0.104\n",
       "    </td>\n",
       "    <td style=\"padding: 0 0.5em 0 0.5em; text-align: left; border: none;\">\n",
       "        x1_Administrative and support, waste management and remediation services\n",
       "    </td>\n",
       "    \n",
       "</tr>\n",
       "        \n",
       "            <tr style=\"background-color: hsl(0, 100.00%, 93.03%); border: none;\">\n",
       "    <td style=\"padding: 0 1em 0 0.5em; text-align: right; border: none;\">\n",
       "        -0.130\n",
       "    </td>\n",
       "    <td style=\"padding: 0 0.5em 0 0.5em; text-align: left; border: none;\">\n",
       "        x1_Wholesale trade\n",
       "    </td>\n",
       "    \n",
       "</tr>\n",
       "        \n",
       "            <tr style=\"background-color: hsl(0, 100.00%, 92.46%); border: none;\">\n",
       "    <td style=\"padding: 0 1em 0 0.5em; text-align: right; border: none;\">\n",
       "        -0.145\n",
       "    </td>\n",
       "    <td style=\"padding: 0 0.5em 0 0.5em; text-align: left; border: none;\">\n",
       "        x1_Educational services\n",
       "    </td>\n",
       "    \n",
       "</tr>\n",
       "        \n",
       "            <tr style=\"background-color: hsl(0, 100.00%, 92.00%); border: none;\">\n",
       "    <td style=\"padding: 0 1em 0 0.5em; text-align: right; border: none;\">\n",
       "        -0.158\n",
       "    </td>\n",
       "    <td style=\"padding: 0 0.5em 0 0.5em; text-align: left; border: none;\">\n",
       "        x1_Construction\n",
       "    </td>\n",
       "    \n",
       "</tr>\n",
       "        \n",
       "            <tr style=\"background-color: hsl(0, 100.00%, 91.79%); border: none;\">\n",
       "    <td style=\"padding: 0 1em 0 0.5em; text-align: right; border: none;\">\n",
       "        -0.164\n",
       "    </td>\n",
       "    <td style=\"padding: 0 0.5em 0 0.5em; text-align: left; border: none;\">\n",
       "        x1_Arts, entertainment and recreation\n",
       "    </td>\n",
       "    \n",
       "</tr>\n",
       "        \n",
       "            <tr style=\"background-color: hsl(0, 100.00%, 90.22%); border: none;\">\n",
       "    <td style=\"padding: 0 1em 0 0.5em; text-align: right; border: none;\">\n",
       "        -0.211\n",
       "    </td>\n",
       "    <td style=\"padding: 0 0.5em 0 0.5em; text-align: left; border: none;\">\n",
       "        x0_1997\n",
       "    </td>\n",
       "    \n",
       "</tr>\n",
       "        \n",
       "            <tr style=\"background-color: hsl(0, 100.00%, 86.11%); border: none;\">\n",
       "    <td style=\"padding: 0 1em 0 0.5em; text-align: right; border: none;\">\n",
       "        -0.348\n",
       "    </td>\n",
       "    <td style=\"padding: 0 0.5em 0 0.5em; text-align: left; border: none;\">\n",
       "        x1_Information and cultural industries\n",
       "    </td>\n",
       "    \n",
       "</tr>\n",
       "        \n",
       "\n",
       "        </tbody>\n",
       "    </table>\n",
       "\n",
       "            \n",
       "        \n",
       "\n",
       "        \n",
       "\n",
       "\n",
       "\n",
       "    \n",
       "\n",
       "    \n",
       "\n",
       "    \n",
       "\n",
       "    \n",
       "\n",
       "\n",
       "    \n",
       "\n",
       "    \n",
       "\n",
       "    \n",
       "\n",
       "    \n",
       "\n",
       "    \n",
       "\n",
       "    \n",
       "\n",
       "\n",
       "    \n",
       "\n",
       "    \n",
       "\n",
       "    \n",
       "\n",
       "    \n",
       "\n",
       "    \n",
       "\n",
       "    \n",
       "\n",
       "\n",
       "\n"
      ],
      "text/plain": [
       "<IPython.core.display.HTML object>"
      ]
     },
     "execution_count": 72,
     "metadata": {
      "tags": []
     },
     "output_type": "execute_result"
    }
   ],
   "source": [
    "explain_model(lr_pip, X_train)"
   ]
  },
  {
   "cell_type": "code",
   "execution_count": 0,
   "metadata": {
    "colab": {},
    "colab_type": "code",
    "id": "5Sw44KCTsCIj",
    "outputId": "af9187b4-2539-44c3-9ed2-bb2cdb36f43f"
   },
   "outputs": [
    {
     "data": {
      "text/plain": [
       "103"
      ]
     },
     "execution_count": 9,
     "metadata": {
      "tags": []
     },
     "output_type": "execute_result"
    }
   ],
   "source": [
    "len(X_train.columns)"
   ]
  },
  {
   "cell_type": "code",
   "execution_count": 0,
   "metadata": {
    "colab": {},
    "colab_type": "code",
    "id": "6zdsxOrYsCIn"
   },
   "outputs": [],
   "source": [
    "rfe_train = X_train.drop(columns=['BusinessIndustry', 'LocalArea'])\n",
    "rfe_train['label']=y_train\n",
    "rfe_train.dropna(inplace=True)\n",
    "rfe_label = rfe_train['label']\n",
    "rfe_train.drop(columns=['label'],inplace=True)"
   ]
  },
  {
   "cell_type": "code",
   "execution_count": 0,
   "metadata": {
    "colab": {},
    "colab_type": "code",
    "id": "YBm1QeuLsCIq"
   },
   "outputs": [],
   "source": [
    "rfe_train = preprocessor.fit_transform(X_train)\n"
   ]
  },
  {
   "cell_type": "code",
   "execution_count": 0,
   "metadata": {
    "colab": {},
    "colab_type": "code",
    "id": "P5pDX3EesCIv"
   },
   "outputs": [],
   "source": [
    "lr = LogisticRegression(solver='saga', class_weight='balanced', penalty ='l1',max_iter=2000)\n",
    "rfe = RFE(estimator = lr, n_features_to_select = 50, step = 10)\n",
    "rfe.fit(rfe_train, y_train)\n",
    "rfe_train_sel = rfe_train.iloc[:, rfe.support_]"
   ]
  },
  {
   "cell_type": "code",
   "execution_count": 0,
   "metadata": {
    "colab": {},
    "colab_type": "code",
    "id": "hWKn66d8sCIy"
   },
   "outputs": [],
   "source": [
    "print(rfe.ranking_)\n",
    "print('The relevant features are'+str(list(rfe_train_sel.columns)))"
   ]
  },
  {
   "cell_type": "markdown",
   "metadata": {
    "colab_type": "text",
    "id": "hkXhEYAEsCI5"
   },
   "source": [
    "## 8. Other Models <a name=\"om\"></a>"
   ]
  },
  {
   "cell_type": "code",
   "execution_count": 0,
   "metadata": {
    "colab": {},
    "colab_type": "code",
    "id": "skAT7F_BsCI6",
    "outputId": "a0d7381e-8484-4e60-c175-e807858deaaa"
   },
   "outputs": [
    {
     "name": "stdout",
     "output_type": "stream",
     "text": [
      "Train Accuracy: 0.594227807415013\n",
      "Validation Accuracy 0.5879490642054396 \n",
      "\n",
      "              precision    recall  f1-score   support\n",
      "\n",
      "           0       0.21      0.58      0.31     14416\n",
      "           1       0.88      0.59      0.71     75187\n",
      "\n",
      "    accuracy                           0.59     89603\n",
      "   macro avg       0.55      0.58      0.51     89603\n",
      "weighted avg       0.77      0.59      0.64     89603\n",
      "\n",
      "<sklearn.metrics._plot.confusion_matrix.ConfusionMatrixDisplay object at 0x1498a5c88>\n"
     ]
    },
    {
     "data": {
      "image/png": "[encoded data removed]",
      "text/plain": [
       "<Figure size 432x288 with 2 Axes>"
      ]
     },
     "metadata": {
      "needs_background": "light",
      "tags": []
     },
     "output_type": "display_data"
    }
   ],
   "source": [
    "lgbm = LGBMClassifier(class_weight='balanced')\n",
    "\n",
    "lgbm_pip = Pipeline(steps=[('preprocessor', preprocessor),\n",
    "                           ('classifier', lgbm)])\n",
    "\n",
    "evaluate_model(lgbm_pip)"
   ]
  },
  {
   "cell_type": "code",
   "execution_count": 0,
   "metadata": {
    "colab": {},
    "colab_type": "code",
    "id": "Xw0N73tesCI9"
   },
   "outputs": [],
   "source": [
    "roc_curve_auc(lgbm_pip)"
   ]
  },
  {
   "cell_type": "code",
   "execution_count": 0,
   "metadata": {
    "colab": {},
    "colab_type": "code",
    "id": "2WoNKcOKsCJA"
   },
   "outputs": [],
   "source": [
    "explain_model(lgbm_pip, X_train)"
   ]
  },
  {
   "cell_type": "code",
   "execution_count": 17,
   "metadata": {
    "colab": {
     "base_uri": "https://localhost:8080/",
     "height": 500
    },
    "colab_type": "code",
    "id": "BmyZEyUVsCJD",
    "outputId": "3c798d9a-688b-4978-efae-de8a5148dbea"
   },
   "outputs": [
    {
     "name": "stdout",
     "output_type": "stream",
     "text": [
      "Train Accuracy: 0.8011488750598372\n",
      "Validation Accuracy 0.7982388973966309 \n",
      "\n",
      "              precision    recall  f1-score   support\n",
      "\n",
      "           0       0.50      0.00      0.00       527\n",
      "           1       0.80      1.00      0.89      2085\n",
      "\n",
      "    accuracy                           0.80      2612\n",
      "   macro avg       0.65      0.50      0.45      2612\n",
      "weighted avg       0.74      0.80      0.71      2612\n",
      "\n",
      "<sklearn.metrics._plot.confusion_matrix.ConfusionMatrixDisplay object at 0x7fa3ee87f748>\n"
     ]
    },
    {
     "data": {
      "image/png": "[encoded data removed]",
      "text/plain": [
       "<Figure size 432x288 with 2 Axes>"
      ]
     },
     "metadata": {
      "needs_background": "light",
      "tags": []
     },
     "output_type": "display_data"
    }
   ],
   "source": [
    "xgboost = XGBClassifier(objective=\"binary:logistic\", random_state=42)\n",
    "\n",
    "xg_pip = Pipeline(steps=[('preprocessor', preprocessor),\n",
    "                           ('classifier', xgboost)])\n",
    "\n",
    "evaluate_model(xg_pip)"
   ]
  },
  {
   "cell_type": "code",
   "execution_count": 0,
   "metadata": {
    "colab": {},
    "colab_type": "code",
    "id": "auGHjgCjsCJG"
   },
   "outputs": [],
   "source": [
    "roc_curve_auc(lgbm_pip)"
   ]
  },
  {
   "cell_type": "code",
   "execution_count": 18,
   "metadata": {
    "colab": {
     "base_uri": "https://localhost:8080/",
     "height": 429
    },
    "colab_type": "code",
    "id": "rApVxhszsCJL",
    "outputId": "23193277-3d66-4493-be67-93b30b9ede97"
   },
   "outputs": [
    {
     "name": "stderr",
     "output_type": "stream",
     "text": [
      "/usr/local/lib/python3.6/dist-packages/sklearn/utils/deprecation.py:87: FutureWarning: Function safe_indexing is deprecated; safe_indexing is deprecated in version 0.22 and will be removed in version 0.24.\n",
      "  warnings.warn(msg, category=FutureWarning)\n",
      "/usr/local/lib/python3.6/dist-packages/sklearn/linear_model/_sag.py:330: ConvergenceWarning: The max_iter was reached which means the coef_ did not converge\n",
      "  \"the coef_ did not converge\", ConvergenceWarning)\n"
     ]
    },
    {
     "ename": "KeyboardInterrupt",
     "evalue": "ignored",
     "output_type": "error",
     "traceback": [
      "\u001b[0;31m---------------------------------------------------------------------------\u001b[0m",
      "\u001b[0;31mKeyboardInterrupt\u001b[0m                         Traceback (most recent call last)",
      "\u001b[0;32m<ipython-input-18-ffed58a4762f>\u001b[0m in \u001b[0;36m<module>\u001b[0;34m()\u001b[0m\n\u001b[1;32m     12\u001b[0m                              \u001b[0;34m(\u001b[0m\u001b[0;34m'smote'\u001b[0m\u001b[0;34m,\u001b[0m \u001b[0mSMOTE\u001b[0m\u001b[0;34m(\u001b[0m\u001b[0msampling_strategy\u001b[0m\u001b[0;34m=\u001b[0m\u001b[0;36m0.85\u001b[0m\u001b[0;34m)\u001b[0m\u001b[0;34m)\u001b[0m\u001b[0;34m,\u001b[0m\u001b[0;34m\u001b[0m\u001b[0;34m\u001b[0m\u001b[0m\n\u001b[1;32m     13\u001b[0m                            ('classifier', ensemble)])\n\u001b[0;32m---> 14\u001b[0;31m \u001b[0mevaluate_model\u001b[0m\u001b[0;34m(\u001b[0m\u001b[0mvoting_pip\u001b[0m\u001b[0;34m)\u001b[0m\u001b[0;34m\u001b[0m\u001b[0;34m\u001b[0m\u001b[0m\n\u001b[0m",
      "\u001b[0;32m<ipython-input-10-8093a9ec3a84>\u001b[0m in \u001b[0;36mevaluate_model\u001b[0;34m(model, X_train, X_test, y_train, y_test, verbose)\u001b[0m\n\u001b[1;32m      4\u001b[0m     \u001b[0mclassification\u001b[0m \u001b[0mreport\u001b[0m\u001b[0;34m,\u001b[0m \u001b[0;32mand\u001b[0m \u001b[0mconfusion\u001b[0m \u001b[0mmatrix\u001b[0m\u001b[0;34m.\u001b[0m\u001b[0;34m\u001b[0m\u001b[0;34m\u001b[0m\u001b[0m\n\u001b[1;32m      5\u001b[0m     \"\"\"\n\u001b[0;32m----> 6\u001b[0;31m     \u001b[0mmodel\u001b[0m\u001b[0;34m.\u001b[0m\u001b[0mfit\u001b[0m\u001b[0;34m(\u001b[0m\u001b[0mX_train\u001b[0m\u001b[0;34m,\u001b[0m \u001b[0my_train\u001b[0m\u001b[0;34m)\u001b[0m\u001b[0;34m\u001b[0m\u001b[0;34m\u001b[0m\u001b[0m\n\u001b[0m\u001b[1;32m      7\u001b[0m     \u001b[0mtrain_acc\u001b[0m \u001b[0;34m=\u001b[0m \u001b[0mmodel\u001b[0m\u001b[0;34m.\u001b[0m\u001b[0mscore\u001b[0m\u001b[0;34m(\u001b[0m\u001b[0mX_train\u001b[0m\u001b[0;34m,\u001b[0m \u001b[0my_train\u001b[0m\u001b[0;34m)\u001b[0m\u001b[0;34m\u001b[0m\u001b[0;34m\u001b[0m\u001b[0m\n\u001b[1;32m      8\u001b[0m     \u001b[0mtest_acc\u001b[0m \u001b[0;34m=\u001b[0m \u001b[0mmodel\u001b[0m\u001b[0;34m.\u001b[0m\u001b[0mscore\u001b[0m\u001b[0;34m(\u001b[0m\u001b[0mX_test\u001b[0m\u001b[0;34m,\u001b[0m \u001b[0my_test\u001b[0m\u001b[0;34m)\u001b[0m\u001b[0;34m\u001b[0m\u001b[0;34m\u001b[0m\u001b[0m\n",
      "\u001b[0;32m/usr/local/lib/python3.6/dist-packages/imblearn/pipeline.py\u001b[0m in \u001b[0;36mfit\u001b[0;34m(self, X, y, **fit_params)\u001b[0m\n\u001b[1;32m    237\u001b[0m         \u001b[0mXt\u001b[0m\u001b[0;34m,\u001b[0m \u001b[0myt\u001b[0m\u001b[0;34m,\u001b[0m \u001b[0mfit_params\u001b[0m \u001b[0;34m=\u001b[0m \u001b[0mself\u001b[0m\u001b[0;34m.\u001b[0m\u001b[0m_fit\u001b[0m\u001b[0;34m(\u001b[0m\u001b[0mX\u001b[0m\u001b[0;34m,\u001b[0m \u001b[0my\u001b[0m\u001b[0;34m,\u001b[0m \u001b[0;34m**\u001b[0m\u001b[0mfit_params\u001b[0m\u001b[0;34m)\u001b[0m\u001b[0;34m\u001b[0m\u001b[0;34m\u001b[0m\u001b[0m\n\u001b[1;32m    238\u001b[0m         \u001b[0;32mif\u001b[0m \u001b[0mself\u001b[0m\u001b[0;34m.\u001b[0m\u001b[0m_final_estimator\u001b[0m \u001b[0;32mis\u001b[0m \u001b[0;32mnot\u001b[0m \u001b[0;32mNone\u001b[0m\u001b[0;34m:\u001b[0m\u001b[0;34m\u001b[0m\u001b[0;34m\u001b[0m\u001b[0m\n\u001b[0;32m--> 239\u001b[0;31m             \u001b[0mself\u001b[0m\u001b[0;34m.\u001b[0m\u001b[0m_final_estimator\u001b[0m\u001b[0;34m.\u001b[0m\u001b[0mfit\u001b[0m\u001b[0;34m(\u001b[0m\u001b[0mXt\u001b[0m\u001b[0;34m,\u001b[0m \u001b[0myt\u001b[0m\u001b[0;34m,\u001b[0m \u001b[0;34m**\u001b[0m\u001b[0mfit_params\u001b[0m\u001b[0;34m)\u001b[0m\u001b[0;34m\u001b[0m\u001b[0;34m\u001b[0m\u001b[0m\n\u001b[0m\u001b[1;32m    240\u001b[0m         \u001b[0;32mreturn\u001b[0m \u001b[0mself\u001b[0m\u001b[0;34m\u001b[0m\u001b[0;34m\u001b[0m\u001b[0m\n\u001b[1;32m    241\u001b[0m \u001b[0;34m\u001b[0m\u001b[0m\n",
      "\u001b[0;32m/usr/local/lib/python3.6/dist-packages/sklearn/ensemble/_voting.py\u001b[0m in \u001b[0;36mfit\u001b[0;34m(self, X, y, sample_weight)\u001b[0m\n\u001b[1;32m    220\u001b[0m         \u001b[0mtransformed_y\u001b[0m \u001b[0;34m=\u001b[0m \u001b[0mself\u001b[0m\u001b[0;34m.\u001b[0m\u001b[0mle_\u001b[0m\u001b[0;34m.\u001b[0m\u001b[0mtransform\u001b[0m\u001b[0;34m(\u001b[0m\u001b[0my\u001b[0m\u001b[0;34m)\u001b[0m\u001b[0;34m\u001b[0m\u001b[0;34m\u001b[0m\u001b[0m\n\u001b[1;32m    221\u001b[0m \u001b[0;34m\u001b[0m\u001b[0m\n\u001b[0;32m--> 222\u001b[0;31m         \u001b[0;32mreturn\u001b[0m \u001b[0msuper\u001b[0m\u001b[0;34m(\u001b[0m\u001b[0;34m)\u001b[0m\u001b[0;34m.\u001b[0m\u001b[0mfit\u001b[0m\u001b[0;34m(\u001b[0m\u001b[0mX\u001b[0m\u001b[0;34m,\u001b[0m \u001b[0mtransformed_y\u001b[0m\u001b[0;34m,\u001b[0m \u001b[0msample_weight\u001b[0m\u001b[0;34m)\u001b[0m\u001b[0;34m\u001b[0m\u001b[0;34m\u001b[0m\u001b[0m\n\u001b[0m\u001b[1;32m    223\u001b[0m \u001b[0;34m\u001b[0m\u001b[0m\n\u001b[1;32m    224\u001b[0m     \u001b[0;32mdef\u001b[0m \u001b[0mpredict\u001b[0m\u001b[0;34m(\u001b[0m\u001b[0mself\u001b[0m\u001b[0;34m,\u001b[0m \u001b[0mX\u001b[0m\u001b[0;34m)\u001b[0m\u001b[0;34m:\u001b[0m\u001b[0;34m\u001b[0m\u001b[0;34m\u001b[0m\u001b[0m\n",
      "\u001b[0;32m/usr/local/lib/python3.6/dist-packages/sklearn/ensemble/_voting.py\u001b[0m in \u001b[0;36mfit\u001b[0;34m(self, X, y, sample_weight)\u001b[0m\n\u001b[1;32m     66\u001b[0m                 delayed(_parallel_fit_estimator)(clone(clf), X, y,\n\u001b[1;32m     67\u001b[0m                                                  sample_weight=sample_weight)\n\u001b[0;32m---> 68\u001b[0;31m                 \u001b[0;32mfor\u001b[0m \u001b[0mclf\u001b[0m \u001b[0;32min\u001b[0m \u001b[0mclfs\u001b[0m \u001b[0;32mif\u001b[0m \u001b[0mclf\u001b[0m \u001b[0;32mnot\u001b[0m \u001b[0;32min\u001b[0m \u001b[0;34m(\u001b[0m\u001b[0;32mNone\u001b[0m\u001b[0;34m,\u001b[0m \u001b[0;34m'drop'\u001b[0m\u001b[0;34m)\u001b[0m\u001b[0;34m\u001b[0m\u001b[0;34m\u001b[0m\u001b[0m\n\u001b[0m\u001b[1;32m     69\u001b[0m             )\n\u001b[1;32m     70\u001b[0m \u001b[0;34m\u001b[0m\u001b[0m\n",
      "\u001b[0;32m/usr/local/lib/python3.6/dist-packages/joblib/parallel.py\u001b[0m in \u001b[0;36m__call__\u001b[0;34m(self, iterable)\u001b[0m\n\u001b[1;32m   1030\u001b[0m                 \u001b[0mself\u001b[0m\u001b[0;34m.\u001b[0m\u001b[0m_iterating\u001b[0m \u001b[0;34m=\u001b[0m \u001b[0mself\u001b[0m\u001b[0;34m.\u001b[0m\u001b[0m_original_iterator\u001b[0m \u001b[0;32mis\u001b[0m \u001b[0;32mnot\u001b[0m \u001b[0;32mNone\u001b[0m\u001b[0;34m\u001b[0m\u001b[0;34m\u001b[0m\u001b[0m\n\u001b[1;32m   1031\u001b[0m \u001b[0;34m\u001b[0m\u001b[0m\n\u001b[0;32m-> 1032\u001b[0;31m             \u001b[0;32mwhile\u001b[0m \u001b[0mself\u001b[0m\u001b[0;34m.\u001b[0m\u001b[0mdispatch_one_batch\u001b[0m\u001b[0;34m(\u001b[0m\u001b[0miterator\u001b[0m\u001b[0;34m)\u001b[0m\u001b[0;34m:\u001b[0m\u001b[0;34m\u001b[0m\u001b[0;34m\u001b[0m\u001b[0m\n\u001b[0m\u001b[1;32m   1033\u001b[0m                 \u001b[0;32mpass\u001b[0m\u001b[0;34m\u001b[0m\u001b[0;34m\u001b[0m\u001b[0m\n\u001b[1;32m   1034\u001b[0m \u001b[0;34m\u001b[0m\u001b[0m\n",
      "\u001b[0;32m/usr/local/lib/python3.6/dist-packages/joblib/parallel.py\u001b[0m in \u001b[0;36mdispatch_one_batch\u001b[0;34m(self, iterator)\u001b[0m\n\u001b[1;32m    845\u001b[0m                 \u001b[0;32mreturn\u001b[0m \u001b[0;32mFalse\u001b[0m\u001b[0;34m\u001b[0m\u001b[0;34m\u001b[0m\u001b[0m\n\u001b[1;32m    846\u001b[0m             \u001b[0;32melse\u001b[0m\u001b[0;34m:\u001b[0m\u001b[0;34m\u001b[0m\u001b[0;34m\u001b[0m\u001b[0m\n\u001b[0;32m--> 847\u001b[0;31m                 \u001b[0mself\u001b[0m\u001b[0;34m.\u001b[0m\u001b[0m_dispatch\u001b[0m\u001b[0;34m(\u001b[0m\u001b[0mtasks\u001b[0m\u001b[0;34m)\u001b[0m\u001b[0;34m\u001b[0m\u001b[0;34m\u001b[0m\u001b[0m\n\u001b[0m\u001b[1;32m    848\u001b[0m                 \u001b[0;32mreturn\u001b[0m \u001b[0;32mTrue\u001b[0m\u001b[0;34m\u001b[0m\u001b[0;34m\u001b[0m\u001b[0m\n\u001b[1;32m    849\u001b[0m \u001b[0;34m\u001b[0m\u001b[0m\n",
      "\u001b[0;32m/usr/local/lib/python3.6/dist-packages/joblib/parallel.py\u001b[0m in \u001b[0;36m_dispatch\u001b[0;34m(self, batch)\u001b[0m\n\u001b[1;32m    763\u001b[0m         \u001b[0;32mwith\u001b[0m \u001b[0mself\u001b[0m\u001b[0;34m.\u001b[0m\u001b[0m_lock\u001b[0m\u001b[0;34m:\u001b[0m\u001b[0;34m\u001b[0m\u001b[0;34m\u001b[0m\u001b[0m\n\u001b[1;32m    764\u001b[0m             \u001b[0mjob_idx\u001b[0m \u001b[0;34m=\u001b[0m \u001b[0mlen\u001b[0m\u001b[0;34m(\u001b[0m\u001b[0mself\u001b[0m\u001b[0;34m.\u001b[0m\u001b[0m_jobs\u001b[0m\u001b[0;34m)\u001b[0m\u001b[0;34m\u001b[0m\u001b[0;34m\u001b[0m\u001b[0m\n\u001b[0;32m--> 765\u001b[0;31m             \u001b[0mjob\u001b[0m \u001b[0;34m=\u001b[0m \u001b[0mself\u001b[0m\u001b[0;34m.\u001b[0m\u001b[0m_backend\u001b[0m\u001b[0;34m.\u001b[0m\u001b[0mapply_async\u001b[0m\u001b[0;34m(\u001b[0m\u001b[0mbatch\u001b[0m\u001b[0;34m,\u001b[0m \u001b[0mcallback\u001b[0m\u001b[0;34m=\u001b[0m\u001b[0mcb\u001b[0m\u001b[0;34m)\u001b[0m\u001b[0;34m\u001b[0m\u001b[0;34m\u001b[0m\u001b[0m\n\u001b[0m\u001b[1;32m    766\u001b[0m             \u001b[0;31m# A job can complete so quickly than its callback is\u001b[0m\u001b[0;34m\u001b[0m\u001b[0;34m\u001b[0m\u001b[0;34m\u001b[0m\u001b[0m\n\u001b[1;32m    767\u001b[0m             \u001b[0;31m# called before we get here, causing self._jobs to\u001b[0m\u001b[0;34m\u001b[0m\u001b[0;34m\u001b[0m\u001b[0;34m\u001b[0m\u001b[0m\n",
      "\u001b[0;32m/usr/local/lib/python3.6/dist-packages/joblib/_parallel_backends.py\u001b[0m in \u001b[0;36mapply_async\u001b[0;34m(self, func, callback)\u001b[0m\n\u001b[1;32m    204\u001b[0m     \u001b[0;32mdef\u001b[0m \u001b[0mapply_async\u001b[0m\u001b[0;34m(\u001b[0m\u001b[0mself\u001b[0m\u001b[0;34m,\u001b[0m \u001b[0mfunc\u001b[0m\u001b[0;34m,\u001b[0m \u001b[0mcallback\u001b[0m\u001b[0;34m=\u001b[0m\u001b[0;32mNone\u001b[0m\u001b[0;34m)\u001b[0m\u001b[0;34m:\u001b[0m\u001b[0;34m\u001b[0m\u001b[0;34m\u001b[0m\u001b[0m\n\u001b[1;32m    205\u001b[0m         \u001b[0;34m\"\"\"Schedule a func to be run\"\"\"\u001b[0m\u001b[0;34m\u001b[0m\u001b[0;34m\u001b[0m\u001b[0m\n\u001b[0;32m--> 206\u001b[0;31m         \u001b[0mresult\u001b[0m \u001b[0;34m=\u001b[0m \u001b[0mImmediateResult\u001b[0m\u001b[0;34m(\u001b[0m\u001b[0mfunc\u001b[0m\u001b[0;34m)\u001b[0m\u001b[0;34m\u001b[0m\u001b[0;34m\u001b[0m\u001b[0m\n\u001b[0m\u001b[1;32m    207\u001b[0m         \u001b[0;32mif\u001b[0m \u001b[0mcallback\u001b[0m\u001b[0;34m:\u001b[0m\u001b[0;34m\u001b[0m\u001b[0;34m\u001b[0m\u001b[0m\n\u001b[1;32m    208\u001b[0m             \u001b[0mcallback\u001b[0m\u001b[0;34m(\u001b[0m\u001b[0mresult\u001b[0m\u001b[0;34m)\u001b[0m\u001b[0;34m\u001b[0m\u001b[0;34m\u001b[0m\u001b[0m\n",
      "\u001b[0;32m/usr/local/lib/python3.6/dist-packages/joblib/_parallel_backends.py\u001b[0m in \u001b[0;36m__init__\u001b[0;34m(self, batch)\u001b[0m\n\u001b[1;32m    568\u001b[0m         \u001b[0;31m# Don't delay the application, to avoid keeping the input\u001b[0m\u001b[0;34m\u001b[0m\u001b[0;34m\u001b[0m\u001b[0;34m\u001b[0m\u001b[0m\n\u001b[1;32m    569\u001b[0m         \u001b[0;31m# arguments in memory\u001b[0m\u001b[0;34m\u001b[0m\u001b[0;34m\u001b[0m\u001b[0;34m\u001b[0m\u001b[0m\n\u001b[0;32m--> 570\u001b[0;31m         \u001b[0mself\u001b[0m\u001b[0;34m.\u001b[0m\u001b[0mresults\u001b[0m \u001b[0;34m=\u001b[0m \u001b[0mbatch\u001b[0m\u001b[0;34m(\u001b[0m\u001b[0;34m)\u001b[0m\u001b[0;34m\u001b[0m\u001b[0;34m\u001b[0m\u001b[0m\n\u001b[0m\u001b[1;32m    571\u001b[0m \u001b[0;34m\u001b[0m\u001b[0m\n\u001b[1;32m    572\u001b[0m     \u001b[0;32mdef\u001b[0m \u001b[0mget\u001b[0m\u001b[0;34m(\u001b[0m\u001b[0mself\u001b[0m\u001b[0;34m)\u001b[0m\u001b[0;34m:\u001b[0m\u001b[0;34m\u001b[0m\u001b[0;34m\u001b[0m\u001b[0m\n",
      "\u001b[0;32m/usr/local/lib/python3.6/dist-packages/joblib/parallel.py\u001b[0m in \u001b[0;36m__call__\u001b[0;34m(self)\u001b[0m\n\u001b[1;32m    251\u001b[0m         \u001b[0;32mwith\u001b[0m \u001b[0mparallel_backend\u001b[0m\u001b[0;34m(\u001b[0m\u001b[0mself\u001b[0m\u001b[0;34m.\u001b[0m\u001b[0m_backend\u001b[0m\u001b[0;34m,\u001b[0m \u001b[0mn_jobs\u001b[0m\u001b[0;34m=\u001b[0m\u001b[0mself\u001b[0m\u001b[0;34m.\u001b[0m\u001b[0m_n_jobs\u001b[0m\u001b[0;34m)\u001b[0m\u001b[0;34m:\u001b[0m\u001b[0;34m\u001b[0m\u001b[0;34m\u001b[0m\u001b[0m\n\u001b[1;32m    252\u001b[0m             return [func(*args, **kwargs)\n\u001b[0;32m--> 253\u001b[0;31m                     for func, args, kwargs in self.items]\n\u001b[0m\u001b[1;32m    254\u001b[0m \u001b[0;34m\u001b[0m\u001b[0m\n\u001b[1;32m    255\u001b[0m     \u001b[0;32mdef\u001b[0m \u001b[0m__reduce__\u001b[0m\u001b[0;34m(\u001b[0m\u001b[0mself\u001b[0m\u001b[0;34m)\u001b[0m\u001b[0;34m:\u001b[0m\u001b[0;34m\u001b[0m\u001b[0;34m\u001b[0m\u001b[0m\n",
      "\u001b[0;32m/usr/local/lib/python3.6/dist-packages/joblib/parallel.py\u001b[0m in \u001b[0;36m<listcomp>\u001b[0;34m(.0)\u001b[0m\n\u001b[1;32m    251\u001b[0m         \u001b[0;32mwith\u001b[0m \u001b[0mparallel_backend\u001b[0m\u001b[0;34m(\u001b[0m\u001b[0mself\u001b[0m\u001b[0;34m.\u001b[0m\u001b[0m_backend\u001b[0m\u001b[0;34m,\u001b[0m \u001b[0mn_jobs\u001b[0m\u001b[0;34m=\u001b[0m\u001b[0mself\u001b[0m\u001b[0;34m.\u001b[0m\u001b[0m_n_jobs\u001b[0m\u001b[0;34m)\u001b[0m\u001b[0;34m:\u001b[0m\u001b[0;34m\u001b[0m\u001b[0;34m\u001b[0m\u001b[0m\n\u001b[1;32m    252\u001b[0m             return [func(*args, **kwargs)\n\u001b[0;32m--> 253\u001b[0;31m                     for func, args, kwargs in self.items]\n\u001b[0m\u001b[1;32m    254\u001b[0m \u001b[0;34m\u001b[0m\u001b[0m\n\u001b[1;32m    255\u001b[0m     \u001b[0;32mdef\u001b[0m \u001b[0m__reduce__\u001b[0m\u001b[0;34m(\u001b[0m\u001b[0mself\u001b[0m\u001b[0;34m)\u001b[0m\u001b[0;34m:\u001b[0m\u001b[0;34m\u001b[0m\u001b[0;34m\u001b[0m\u001b[0m\n",
      "\u001b[0;32m/usr/local/lib/python3.6/dist-packages/sklearn/ensemble/_base.py\u001b[0m in \u001b[0;36m_parallel_fit_estimator\u001b[0;34m(estimator, X, y, sample_weight)\u001b[0m\n\u001b[1;32m     34\u001b[0m             \u001b[0;32mraise\u001b[0m\u001b[0;34m\u001b[0m\u001b[0;34m\u001b[0m\u001b[0m\n\u001b[1;32m     35\u001b[0m     \u001b[0;32melse\u001b[0m\u001b[0;34m:\u001b[0m\u001b[0;34m\u001b[0m\u001b[0;34m\u001b[0m\u001b[0m\n\u001b[0;32m---> 36\u001b[0;31m         \u001b[0mestimator\u001b[0m\u001b[0;34m.\u001b[0m\u001b[0mfit\u001b[0m\u001b[0;34m(\u001b[0m\u001b[0mX\u001b[0m\u001b[0;34m,\u001b[0m \u001b[0my\u001b[0m\u001b[0;34m)\u001b[0m\u001b[0;34m\u001b[0m\u001b[0;34m\u001b[0m\u001b[0m\n\u001b[0m\u001b[1;32m     37\u001b[0m     \u001b[0;32mreturn\u001b[0m \u001b[0mestimator\u001b[0m\u001b[0;34m\u001b[0m\u001b[0;34m\u001b[0m\u001b[0m\n\u001b[1;32m     38\u001b[0m \u001b[0;34m\u001b[0m\u001b[0m\n",
      "\u001b[0;32m/usr/local/lib/python3.6/dist-packages/sklearn/svm/_base.py\u001b[0m in \u001b[0;36mfit\u001b[0;34m(self, X, y, sample_weight)\u001b[0m\n\u001b[1;32m    197\u001b[0m \u001b[0;34m\u001b[0m\u001b[0m\n\u001b[1;32m    198\u001b[0m         \u001b[0mseed\u001b[0m \u001b[0;34m=\u001b[0m \u001b[0mrnd\u001b[0m\u001b[0;34m.\u001b[0m\u001b[0mrandint\u001b[0m\u001b[0;34m(\u001b[0m\u001b[0mnp\u001b[0m\u001b[0;34m.\u001b[0m\u001b[0miinfo\u001b[0m\u001b[0;34m(\u001b[0m\u001b[0;34m'i'\u001b[0m\u001b[0;34m)\u001b[0m\u001b[0;34m.\u001b[0m\u001b[0mmax\u001b[0m\u001b[0;34m)\u001b[0m\u001b[0;34m\u001b[0m\u001b[0;34m\u001b[0m\u001b[0m\n\u001b[0;32m--> 199\u001b[0;31m         \u001b[0mfit\u001b[0m\u001b[0;34m(\u001b[0m\u001b[0mX\u001b[0m\u001b[0;34m,\u001b[0m \u001b[0my\u001b[0m\u001b[0;34m,\u001b[0m \u001b[0msample_weight\u001b[0m\u001b[0;34m,\u001b[0m \u001b[0msolver_type\u001b[0m\u001b[0;34m,\u001b[0m \u001b[0mkernel\u001b[0m\u001b[0;34m,\u001b[0m \u001b[0mrandom_seed\u001b[0m\u001b[0;34m=\u001b[0m\u001b[0mseed\u001b[0m\u001b[0;34m)\u001b[0m\u001b[0;34m\u001b[0m\u001b[0;34m\u001b[0m\u001b[0m\n\u001b[0m\u001b[1;32m    200\u001b[0m         \u001b[0;31m# see comment on the other call to np.iinfo in this file\u001b[0m\u001b[0;34m\u001b[0m\u001b[0;34m\u001b[0m\u001b[0;34m\u001b[0m\u001b[0m\n\u001b[1;32m    201\u001b[0m \u001b[0;34m\u001b[0m\u001b[0m\n",
      "\u001b[0;32m/usr/local/lib/python3.6/dist-packages/sklearn/svm/_base.py\u001b[0m in \u001b[0;36m_dense_fit\u001b[0;34m(self, X, y, sample_weight, solver_type, kernel, random_seed)\u001b[0m\n\u001b[1;32m    256\u001b[0m                 \u001b[0mcache_size\u001b[0m\u001b[0;34m=\u001b[0m\u001b[0mself\u001b[0m\u001b[0;34m.\u001b[0m\u001b[0mcache_size\u001b[0m\u001b[0;34m,\u001b[0m \u001b[0mcoef0\u001b[0m\u001b[0;34m=\u001b[0m\u001b[0mself\u001b[0m\u001b[0;34m.\u001b[0m\u001b[0mcoef0\u001b[0m\u001b[0;34m,\u001b[0m\u001b[0;34m\u001b[0m\u001b[0;34m\u001b[0m\u001b[0m\n\u001b[1;32m    257\u001b[0m                 \u001b[0mgamma\u001b[0m\u001b[0;34m=\u001b[0m\u001b[0mself\u001b[0m\u001b[0;34m.\u001b[0m\u001b[0m_gamma\u001b[0m\u001b[0;34m,\u001b[0m \u001b[0mepsilon\u001b[0m\u001b[0;34m=\u001b[0m\u001b[0mself\u001b[0m\u001b[0;34m.\u001b[0m\u001b[0mepsilon\u001b[0m\u001b[0;34m,\u001b[0m\u001b[0;34m\u001b[0m\u001b[0;34m\u001b[0m\u001b[0m\n\u001b[0;32m--> 258\u001b[0;31m                 max_iter=self.max_iter, random_seed=random_seed)\n\u001b[0m\u001b[1;32m    259\u001b[0m \u001b[0;34m\u001b[0m\u001b[0m\n\u001b[1;32m    260\u001b[0m         \u001b[0mself\u001b[0m\u001b[0;34m.\u001b[0m\u001b[0m_warn_from_fit_status\u001b[0m\u001b[0;34m(\u001b[0m\u001b[0;34m)\u001b[0m\u001b[0;34m\u001b[0m\u001b[0;34m\u001b[0m\u001b[0m\n",
      "\u001b[0;31mKeyboardInterrupt\u001b[0m: "
     ]
    }
   ],
   "source": [
    "#use ensemble\n",
    "classifiers_e = {\n",
    "    \"KNN\"                   : KNeighborsClassifier(),\n",
    "    \"Naive Bayes\"           : GaussianNB(),\n",
    "    \"Logistic Regression\"   : LogisticRegression(solver='saga', class_weight='balanced'),\n",
    "    \"SVM\"                   : SVC(probability=True)\n",
    "}\n",
    "\n",
    "\n",
    "ensemble = VotingClassifier(classifiers_e.items(), voting=\"soft\")\n",
    "voting_pip = Pipeline(steps=[('preprocessor', preprocessor),\n",
    "                             ('smote', SMOTE(sampling_strategy=0.85)),\n",
    "                           ('classifier', ensemble)])\n",
    "evaluate_model(voting_pip)"
   ]
  },
  {
   "cell_type": "markdown",
   "metadata": {
    "colab_type": "text",
    "id": "Ld9AQW-lsCJN"
   },
   "source": [
    "## 9. Hyperparameter Tuning <a name=\"ht\"></a>\n",
    "\n",
    "- regularization strength\n",
    "- tree max depth\n",
    "- sampling strategy for SMOTE\n",
    "- missing value imputing strategy\n",
    "- degree of polynomial terms"
   ]
  },
  {
   "cell_type": "code",
   "execution_count": 0,
   "metadata": {
    "colab": {},
    "colab_type": "code",
    "id": "lsOXcAf9sCJO"
   },
   "outputs": [],
   "source": [
    "lrhp = Pipeline(steps=[('preprocessor', preprocessor),\n",
    "                       ('classifier', LGBMClassifier(class_weight='balanced'))])\n",
    "\n",
    "param_grid = {\n",
    "    'classifier__reg_lambda': [0.1, 1],\n",
    "}\n",
    "\n",
    "#gs = GridSearchCV(lrhp, param_grid, cv=5, scoring='f1')\n",
    "#gs.fit(X_train, y_train);"
   ]
  },
  {
   "cell_type": "markdown",
   "metadata": {
    "colab_type": "text",
    "id": "7ImIlkCfsCJT"
   },
   "source": [
    "## 10. Other Tests <a name=\"ot\"></a>\n",
    "\n",
    "- SMOTE"
   ]
  },
  {
   "cell_type": "code",
   "execution_count": 29,
   "metadata": {
    "colab": {
     "base_uri": "https://localhost:8080/",
     "height": 554
    },
    "colab_type": "code",
    "id": "2PkpxhzUsCJT",
    "outputId": "c1a39ac7-4f8b-492a-adeb-23be76bfeab7"
   },
   "outputs": [
    {
     "name": "stderr",
     "output_type": "stream",
     "text": [
      "/usr/local/lib/python3.6/dist-packages/sklearn/utils/deprecation.py:87: FutureWarning: Function safe_indexing is deprecated; safe_indexing is deprecated in version 0.22 and will be removed in version 0.24.\n",
      "  warnings.warn(msg, category=FutureWarning)\n"
     ]
    },
    {
     "name": "stdout",
     "output_type": "stream",
     "text": [
      "Train Accuracy: 0.8195308760172332\n",
      "Validation Accuracy 0.7522970903522205 \n",
      "\n",
      "              precision    recall  f1-score   support\n",
      "\n",
      "           0       0.31      0.19      0.23       527\n",
      "           1       0.81      0.90      0.85      2085\n",
      "\n",
      "    accuracy                           0.75      2612\n",
      "   macro avg       0.56      0.54      0.54      2612\n",
      "weighted avg       0.71      0.75      0.73      2612\n",
      "\n",
      "<sklearn.metrics._plot.confusion_matrix.ConfusionMatrixDisplay object at 0x7fa3ed9e34a8>\n"
     ]
    },
    {
     "data": {
      "image/png": "[encoded data removed]",
      "text/plain": [
       "<Figure size 432x288 with 2 Axes>"
      ]
     },
     "metadata": {
      "needs_background": "light",
      "tags": []
     },
     "output_type": "display_data"
    }
   ],
   "source": [
    "from imblearn.pipeline import Pipeline\n",
    "from imblearn.over_sampling import SMOTE\n",
    "smote_pip = Pipeline(steps=[('preprocessor', preprocessor),\n",
    "                            ('smote', SMOTE(sampling_strategy=0.85)),\n",
    "                            ('classifier', LGBMClassifier(class_weight='balanced'))])\n",
    "\n",
    "#param_grid = {\n",
    "#    'smote__sampling_strategy': [0.1, 0.5, 0.8, 1.0],\n",
    "#}\n",
    "\n",
    "#gs = GridSearchCV(smote_pip, param_grid, cv=5, scoring='f1')\n",
    "#gs.fit(X_train_valid, y_train_valid)\n",
    "evaluate_model(smote_pip)"
   ]
  },
  {
   "cell_type": "code",
   "execution_count": 32,
   "metadata": {
    "colab": {
     "base_uri": "https://localhost:8080/",
     "height": 279
    },
    "colab_type": "code",
    "id": "x0NBIEia9K75",
    "outputId": "570375f9-c5f0-436a-ee29-718b4063ceb4"
   },
   "outputs": [
    {
     "data": {
      "image/png": "[encoded data removed]",
      "text/plain": [
       "<Figure size 432x288 with 1 Axes>"
      ]
     },
     "metadata": {
      "needs_background": "light",
      "tags": []
     },
     "output_type": "display_data"
    }
   ],
   "source": [
    "roc_curve_auc(smote_pip)"
   ]
  },
  {
   "cell_type": "code",
   "execution_count": 20,
   "metadata": {
    "colab": {
     "base_uri": "https://localhost:8080/",
     "height": 554
    },
    "colab_type": "code",
    "id": "uSUwP_bm2nLU",
    "outputId": "d6277f9d-9aff-41e1-a850-90106af03804"
   },
   "outputs": [
    {
     "name": "stderr",
     "output_type": "stream",
     "text": [
      "/usr/local/lib/python3.6/dist-packages/sklearn/utils/deprecation.py:87: FutureWarning: Function safe_indexing is deprecated; safe_indexing is deprecated in version 0.22 and will be removed in version 0.24.\n",
      "  warnings.warn(msg, category=FutureWarning)\n"
     ]
    },
    {
     "name": "stdout",
     "output_type": "stream",
     "text": [
      "Train Accuracy: 0.7988511249401627\n",
      "Validation Accuracy 0.7534456355283308 \n",
      "\n",
      "              precision    recall  f1-score   support\n",
      "\n",
      "           0       0.32      0.19      0.24       527\n",
      "           1       0.81      0.89      0.85      2085\n",
      "\n",
      "    accuracy                           0.75      2612\n",
      "   macro avg       0.57      0.54      0.55      2612\n",
      "weighted avg       0.71      0.75      0.73      2612\n",
      "\n",
      "<sklearn.metrics._plot.confusion_matrix.ConfusionMatrixDisplay object at 0x7fa3ee5e35c0>\n"
     ]
    },
    {
     "data": {
      "image/png": "[encoded data removed]",
      "text/plain": [
       "<Figure size 432x288 with 2 Axes>"
      ]
     },
     "metadata": {
      "needs_background": "light",
      "tags": []
     },
     "output_type": "display_data"
    }
   ],
   "source": [
    "smote_pip = Pipeline(steps=[('preprocessor', preprocessor),\n",
    "                            ('smote', SMOTE(sampling_strategy=0.85)),\n",
    "                            ('classifier',  LGBMClassifier(boosting_type='dart',class_weight='balanced'))])\n",
    "\n",
    "#param_grid = {\n",
    "#    'smote__sampling_strategy': [0.1, 0.5, 0.8, 1.0],\n",
    "#}\n",
    "\n",
    "#gs = GridSearchCV(smote_pip, param_grid, cv=5, scoring='f1')\n",
    "#gs.fit(X_train_valid, y_train_valid)\n",
    "evaluate_model(smote_pip)"
   ]
  },
  {
   "cell_type": "code",
   "execution_count": 26,
   "metadata": {
    "colab": {
     "base_uri": "https://localhost:8080/",
     "height": 554
    },
    "colab_type": "code",
    "id": "GOoLImDR8hCN",
    "outputId": "33ee5058-939b-4868-b9f2-4e5ba5f9e91d"
   },
   "outputs": [
    {
     "name": "stderr",
     "output_type": "stream",
     "text": [
      "/usr/local/lib/python3.6/dist-packages/sklearn/utils/deprecation.py:87: FutureWarning: Function safe_indexing is deprecated; safe_indexing is deprecated in version 0.22 and will be removed in version 0.24.\n",
      "  warnings.warn(msg, category=FutureWarning)\n"
     ]
    },
    {
     "name": "stdout",
     "output_type": "stream",
     "text": [
      "Train Accuracy: 0.820009573958832\n",
      "Validation Accuracy 0.7545941807044411 \n",
      "\n",
      "              precision    recall  f1-score   support\n",
      "\n",
      "           0       0.34      0.22      0.27       527\n",
      "           1       0.82      0.89      0.85      2085\n",
      "\n",
      "    accuracy                           0.75      2612\n",
      "   macro avg       0.58      0.55      0.56      2612\n",
      "weighted avg       0.72      0.75      0.73      2612\n",
      "\n",
      "<sklearn.metrics._plot.confusion_matrix.ConfusionMatrixDisplay object at 0x7fa3edf63470>\n"
     ]
    },
    {
     "data": {
      "image/png": "[encoded data removed]",
      "text/plain": [
       "<Figure size 432x288 with 2 Axes>"
      ]
     },
     "metadata": {
      "needs_background": "light",
      "tags": []
     },
     "output_type": "display_data"
    }
   ],
   "source": [
    "smote_pip = Pipeline(steps=[('preprocessor', preprocessor),\n",
    "                            ('smote', SMOTE(sampling_strategy=0.75)),\n",
    "                            ('classifier',  LGBMClassifier(class_weight='balanced'))])\n",
    "evaluate_model(smote_pip)"
   ]
  },
  {
   "cell_type": "code",
   "execution_count": 0,
   "metadata": {
    "colab": {},
    "colab_type": "code",
    "id": "VzC_6D_s3PRr"
   },
   "outputs": [],
   "source": []
  },
  {
   "cell_type": "markdown",
   "metadata": {
    "colab_type": "text",
    "id": "21dxX_hB2Fd5"
   },
   "source": [
    "#hyperparameter tuning\n"
   ]
  },
  {
   "cell_type": "code",
   "execution_count": 21,
   "metadata": {
    "colab": {
     "base_uri": "https://localhost:8080/",
     "height": 1000
    },
    "colab_type": "code",
    "id": "jmoAo6BH18uM",
    "outputId": "5d6a7e0a-d75c-481d-d662-2080a158b707"
   },
   "outputs": [
    {
     "name": "stderr",
     "output_type": "stream",
     "text": [
      "/usr/local/lib/python3.6/dist-packages/sklearn/utils/deprecation.py:87: FutureWarning: Function safe_indexing is deprecated; safe_indexing is deprecated in version 0.22 and will be removed in version 0.24.\n",
      "  warnings.warn(msg, category=FutureWarning)\n",
      "/usr/local/lib/python3.6/dist-packages/sklearn/utils/deprecation.py:87: FutureWarning: Function safe_indexing is deprecated; safe_indexing is deprecated in version 0.22 and will be removed in version 0.24.\n",
      "  warnings.warn(msg, category=FutureWarning)\n",
      "/usr/local/lib/python3.6/dist-packages/sklearn/utils/deprecation.py:87: FutureWarning: Function safe_indexing is deprecated; safe_indexing is deprecated in version 0.22 and will be removed in version 0.24.\n",
      "  warnings.warn(msg, category=FutureWarning)\n",
      "/usr/local/lib/python3.6/dist-packages/sklearn/utils/deprecation.py:87: FutureWarning: Function safe_indexing is deprecated; safe_indexing is deprecated in version 0.22 and will be removed in version 0.24.\n",
      "  warnings.warn(msg, category=FutureWarning)\n",
      "/usr/local/lib/python3.6/dist-packages/sklearn/utils/deprecation.py:87: FutureWarning: Function safe_indexing is deprecated; safe_indexing is deprecated in version 0.22 and will be removed in version 0.24.\n",
      "  warnings.warn(msg, category=FutureWarning)\n",
      "/usr/local/lib/python3.6/dist-packages/sklearn/utils/deprecation.py:87: FutureWarning: Function safe_indexing is deprecated; safe_indexing is deprecated in version 0.22 and will be removed in version 0.24.\n",
      "  warnings.warn(msg, category=FutureWarning)\n",
      "/usr/local/lib/python3.6/dist-packages/sklearn/utils/deprecation.py:87: FutureWarning: Function safe_indexing is deprecated; safe_indexing is deprecated in version 0.22 and will be removed in version 0.24.\n",
      "  warnings.warn(msg, category=FutureWarning)\n",
      "/usr/local/lib/python3.6/dist-packages/sklearn/utils/deprecation.py:87: FutureWarning: Function safe_indexing is deprecated; safe_indexing is deprecated in version 0.22 and will be removed in version 0.24.\n",
      "  warnings.warn(msg, category=FutureWarning)\n",
      "/usr/local/lib/python3.6/dist-packages/sklearn/utils/deprecation.py:87: FutureWarning: Function safe_indexing is deprecated; safe_indexing is deprecated in version 0.22 and will be removed in version 0.24.\n",
      "  warnings.warn(msg, category=FutureWarning)\n",
      "/usr/local/lib/python3.6/dist-packages/sklearn/utils/deprecation.py:87: FutureWarning: Function safe_indexing is deprecated; safe_indexing is deprecated in version 0.22 and will be removed in version 0.24.\n",
      "  warnings.warn(msg, category=FutureWarning)\n",
      "/usr/local/lib/python3.6/dist-packages/sklearn/utils/deprecation.py:87: FutureWarning: Function safe_indexing is deprecated; safe_indexing is deprecated in version 0.22 and will be removed in version 0.24.\n",
      "  warnings.warn(msg, category=FutureWarning)\n",
      "/usr/local/lib/python3.6/dist-packages/sklearn/utils/deprecation.py:87: FutureWarning: Function safe_indexing is deprecated; safe_indexing is deprecated in version 0.22 and will be removed in version 0.24.\n",
      "  warnings.warn(msg, category=FutureWarning)\n",
      "/usr/local/lib/python3.6/dist-packages/sklearn/utils/deprecation.py:87: FutureWarning: Function safe_indexing is deprecated; safe_indexing is deprecated in version 0.22 and will be removed in version 0.24.\n",
      "  warnings.warn(msg, category=FutureWarning)\n",
      "/usr/local/lib/python3.6/dist-packages/sklearn/utils/deprecation.py:87: FutureWarning: Function safe_indexing is deprecated; safe_indexing is deprecated in version 0.22 and will be removed in version 0.24.\n",
      "  warnings.warn(msg, category=FutureWarning)\n",
      "/usr/local/lib/python3.6/dist-packages/sklearn/utils/deprecation.py:87: FutureWarning: Function safe_indexing is deprecated; safe_indexing is deprecated in version 0.22 and will be removed in version 0.24.\n",
      "  warnings.warn(msg, category=FutureWarning)\n",
      "/usr/local/lib/python3.6/dist-packages/sklearn/utils/deprecation.py:87: FutureWarning: Function safe_indexing is deprecated; safe_indexing is deprecated in version 0.22 and will be removed in version 0.24.\n",
      "  warnings.warn(msg, category=FutureWarning)\n"
     ]
    },
    {
     "data": {
      "text/plain": [
       "GridSearchCV(cv=5, error_score=nan,\n",
       "             estimator=Pipeline(memory=None,\n",
       "                                steps=[('preprocessor',\n",
       "                                        ColumnTransformer(n_jobs=None,\n",
       "                                                          remainder='drop',\n",
       "                                                          sparse_threshold=0.3,\n",
       "                                                          transformer_weights=None,\n",
       "                                                          transformers=[('num',\n",
       "                                                                         Pipeline(memory=None,\n",
       "                                                                                  steps=[('imputer',\n",
       "                                                                                          SimpleImputer(add_indicator=False,\n",
       "                                                                                                        copy=True,\n",
       "                                                                                                        fill_value=None,\n",
       "                                                                                                        missing_values=nan,\n",
       "                                                                                                        strategy='median',\n",
       "                                                                                                        verbose=0)),...\n",
       "                                                       n_estimators=100,\n",
       "                                                       n_jobs=-1, num_leaves=31,\n",
       "                                                       objective=None,\n",
       "                                                       random_state=None,\n",
       "                                                       reg_alpha=0.0,\n",
       "                                                       reg_lambda=0.0,\n",
       "                                                       silent=True,\n",
       "                                                       subsample=1.0,\n",
       "                                                       subsample_for_bin=200000,\n",
       "                                                       subsample_freq=0))],\n",
       "                                verbose=False),\n",
       "             iid='deprecated', n_jobs=None,\n",
       "             param_grid={'classifier__reg_alpha': [0.1, 0.3, 0.5]},\n",
       "             pre_dispatch='2*n_jobs', refit=True, return_train_score=False,\n",
       "             scoring='f1', verbose=0)"
      ]
     },
     "execution_count": 21,
     "metadata": {
      "tags": []
     },
     "output_type": "execute_result"
    }
   ],
   "source": [
    "#use l1 to drop out some variables\n",
    "lrhp = Pipeline(steps=[('preprocessor', preprocessor),\n",
    "                       ('smote', SMOTE(sampling_strategy=0.85)),\n",
    "                       ('classifier', LGBMClassifier(class_weight='balanced'))])\n",
    "\n",
    "param_grid = {\n",
    "    'classifier__reg_alpha': [0.1, 0.3, 0.5],\n",
    "}\n",
    "\n",
    "gs = GridSearchCV(lrhp, param_grid, cv=5, scoring='f1')\n",
    "gs.fit(X_train, y_train)\n"
   ]
  },
  {
   "cell_type": "code",
   "execution_count": 22,
   "metadata": {
    "colab": {
     "base_uri": "https://localhost:8080/",
     "height": 496
    },
    "colab_type": "code",
    "id": "4oCBz-CS33m0",
    "outputId": "b112fa64-146e-4dbd-9487-83745dcd6e89"
   },
   "outputs": [
    {
     "data": {
      "text/plain": [
       "Pipeline(memory=None,\n",
       "         steps=[('preprocessor',\n",
       "                 ColumnTransformer(n_jobs=None, remainder='drop',\n",
       "                                   sparse_threshold=0.3,\n",
       "                                   transformer_weights=None,\n",
       "                                   transformers=[('num',\n",
       "                                                  Pipeline(memory=None,\n",
       "                                                           steps=[('imputer',\n",
       "                                                                   SimpleImputer(add_indicator=False,\n",
       "                                                                                 copy=True,\n",
       "                                                                                 fill_value=None,\n",
       "                                                                                 missing_values=nan,\n",
       "                                                                                 strategy='median',\n",
       "                                                                                 verbose=0)),\n",
       "                                                                  ('scaler',\n",
       "                                                                   StandardScaler(copy=True,\n",
       "                                                                                  with_mean...\n",
       "                 LGBMClassifier(boosting_type='gbdt', class_weight='balanced',\n",
       "                                colsample_bytree=1.0, importance_type='split',\n",
       "                                learning_rate=0.1, max_depth=-1,\n",
       "                                min_child_samples=20, min_child_weight=0.001,\n",
       "                                min_split_gain=0.0, n_estimators=100, n_jobs=-1,\n",
       "                                num_leaves=31, objective=None,\n",
       "                                random_state=None, reg_alpha=0.5,\n",
       "                                reg_lambda=0.0, silent=True, subsample=1.0,\n",
       "                                subsample_for_bin=200000, subsample_freq=0))],\n",
       "         verbose=False)"
      ]
     },
     "execution_count": 22,
     "metadata": {
      "tags": []
     },
     "output_type": "execute_result"
    }
   ],
   "source": [
    "gs.best_estimator_"
   ]
  },
  {
   "cell_type": "code",
   "execution_count": 24,
   "metadata": {
    "colab": {
     "base_uri": "https://localhost:8080/",
     "height": 554
    },
    "colab_type": "code",
    "id": "VehChH-tsCJW",
    "outputId": "de26c4b9-fb8d-4f8b-9b7e-e558d388e91d"
   },
   "outputs": [
    {
     "name": "stderr",
     "output_type": "stream",
     "text": [
      "/usr/local/lib/python3.6/dist-packages/sklearn/utils/deprecation.py:87: FutureWarning: Function safe_indexing is deprecated; safe_indexing is deprecated in version 0.22 and will be removed in version 0.24.\n",
      "  warnings.warn(msg, category=FutureWarning)\n"
     ]
    },
    {
     "name": "stdout",
     "output_type": "stream",
     "text": [
      "Train Accuracy: 0.8197223551938727\n",
      "Validation Accuracy 0.7572741194486983 \n",
      "\n",
      "              precision    recall  f1-score   support\n",
      "\n",
      "           0       0.32      0.19      0.24       527\n",
      "           1       0.81      0.90      0.86      2085\n",
      "\n",
      "    accuracy                           0.76      2612\n",
      "   macro avg       0.57      0.54      0.55      2612\n",
      "weighted avg       0.72      0.76      0.73      2612\n",
      "\n",
      "<sklearn.metrics._plot.confusion_matrix.ConfusionMatrixDisplay object at 0x7fa3ee5973c8>\n"
     ]
    },
    {
     "data": {
      "image/png": "[encoded data removed]",
      "text/plain": [
       "<Figure size 432x288 with 2 Axes>"
      ]
     },
     "metadata": {
      "needs_background": "light",
      "tags": []
     },
     "output_type": "display_data"
    }
   ],
   "source": [
    "from imblearn.pipeline import Pipeline\n",
    "from imblearn.over_sampling import SMOTE\n",
    "smote_lg_pip = Pipeline(steps=[('preprocessor', preprocessor),\n",
    "                            ('smote', SMOTE(sampling_strategy=0.85)),\n",
    "                            ('classifier', LGBMClassifier(boosting_type='gbdt', class_weight='balanced',\n",
    "                                colsample_bytree=1.0, importance_type='split',\n",
    "                                learning_rate=0.1, max_depth=-1,\n",
    "                                min_child_samples=20, min_child_weight=0.001,\n",
    "                                min_split_gain=0.0, n_estimators=100, n_jobs=-1,\n",
    "                                num_leaves=31, objective=None,\n",
    "                                random_state=None, reg_alpha=0.5,\n",
    "                                reg_lambda=0.0, silent=True, subsample=1.0,\n",
    "                                subsample_for_bin=200000, subsample_freq=0))])\n",
    "\n",
    "evaluate_model(smote_lg_pip)"
   ]
  },
  {
   "cell_type": "code",
   "execution_count": 34,
   "metadata": {
    "colab": {
     "base_uri": "https://localhost:8080/",
     "height": 279
    },
    "colab_type": "code",
    "id": "XkoDhKfu90WT",
    "outputId": "a74e7b4b-8f90-4d3c-aec0-3122b77a48c2"
   },
   "outputs": [
    {
     "data": {
      "image/png": "[encoded data removed]",
      "text/plain": [
       "<Figure size 432x288 with 1 Axes>"
      ]
     },
     "metadata": {
      "needs_background": "light",
      "tags": []
     },
     "output_type": "display_data"
    }
   ],
   "source": [
    "roc_curve_auc(smote_lg_pip)"
   ]
  },
  {
   "cell_type": "code",
   "execution_count": 12,
   "metadata": {
    "colab": {
     "base_uri": "https://localhost:8080/",
     "height": 622
    },
    "colab_type": "code",
    "id": "ogQrxb6CsCJZ",
    "outputId": "1523f093-5300-42dd-ad38-de608ca77380"
   },
   "outputs": [
    {
     "name": "stderr",
     "output_type": "stream",
     "text": [
      "/usr/local/lib/python3.6/dist-packages/sklearn/externals/six.py:31: FutureWarning: The module is deprecated in version 0.21 and will be removed in version 0.23 since we've dropped support for Python 2.7. Please rely on the official version of six (https://pypi.org/project/six/).\n",
      "  \"(https://pypi.org/project/six/).\", FutureWarning)\n",
      "/usr/local/lib/python3.6/dist-packages/sklearn/utils/deprecation.py:144: FutureWarning: The sklearn.neighbors.base module is  deprecated in version 0.22 and will be removed in version 0.24. The corresponding classes / functions should instead be imported from sklearn.neighbors. Anything that cannot be imported from sklearn.neighbors is now part of the private API.\n",
      "  warnings.warn(message, FutureWarning)\n",
      "/usr/local/lib/python3.6/dist-packages/sklearn/utils/deprecation.py:87: FutureWarning: Function safe_indexing is deprecated; safe_indexing is deprecated in version 0.22 and will be removed in version 0.24.\n",
      "  warnings.warn(msg, category=FutureWarning)\n"
     ]
    },
    {
     "name": "stdout",
     "output_type": "stream",
     "text": [
      "Train Accuracy: 0.7898516036381044\n",
      "Validation Accuracy 0.776416539050536 \n",
      "\n",
      "              precision    recall  f1-score   support\n",
      "\n",
      "           0       0.34      0.12      0.18       527\n",
      "           1       0.81      0.94      0.87      2085\n",
      "\n",
      "    accuracy                           0.78      2612\n",
      "   macro avg       0.58      0.53      0.52      2612\n",
      "weighted avg       0.72      0.78      0.73      2612\n",
      "\n",
      "<sklearn.metrics._plot.confusion_matrix.ConfusionMatrixDisplay object at 0x7fa3ee8dfe80>\n"
     ]
    },
    {
     "data": {
      "image/png": "[encoded data removed]",
      "text/plain": [
       "<Figure size 432x288 with 2 Axes>"
      ]
     },
     "metadata": {
      "needs_background": "light",
      "tags": []
     },
     "output_type": "display_data"
    }
   ],
   "source": [
    "from imblearn.pipeline import Pipeline\n",
    "from imblearn.over_sampling import SMOTE\n",
    "xgboost = XGBClassifier(objective=\"binary:logistic\", random_state=42)\n",
    "\n",
    "xg_pip = Pipeline(steps=[('preprocessor', preprocessor),\n",
    "                         ('smote', SMOTE(sampling_strategy=0.85)),\n",
    "                           ('classifier', xgboost)])\n",
    "\n",
    "evaluate_model(xg_pip)"
   ]
  },
  {
   "cell_type": "code",
   "execution_count": 19,
   "metadata": {
    "colab": {
     "base_uri": "https://localhost:8080/",
     "height": 554
    },
    "colab_type": "code",
    "id": "eo8AJMRKtIgn",
    "outputId": "f01b9d44-b87a-47c0-9cf6-6e5a2b8d9101"
   },
   "outputs": [
    {
     "name": "stderr",
     "output_type": "stream",
     "text": [
      "/usr/local/lib/python3.6/dist-packages/sklearn/utils/deprecation.py:87: FutureWarning: Function safe_indexing is deprecated; safe_indexing is deprecated in version 0.22 and will be removed in version 0.24.\n",
      "  warnings.warn(msg, category=FutureWarning)\n"
     ]
    },
    {
     "name": "stdout",
     "output_type": "stream",
     "text": [
      "Train Accuracy: 0.7164193393968405\n",
      "Validation Accuracy 0.5696784073506891 \n",
      "\n",
      "              precision    recall  f1-score   support\n",
      "\n",
      "           0       0.23      0.47      0.31       527\n",
      "           1       0.82      0.60      0.69      2085\n",
      "\n",
      "    accuracy                           0.57      2612\n",
      "   macro avg       0.52      0.53      0.50      2612\n",
      "weighted avg       0.70      0.57      0.61      2612\n",
      "\n",
      "<sklearn.metrics._plot.confusion_matrix.ConfusionMatrixDisplay object at 0x7fa3ee6d3cf8>\n"
     ]
    },
    {
     "data": {
      "image/png": "[encoded data removed]",
      "text/plain": [
       "<Figure size 432x288 with 2 Axes>"
      ]
     },
     "metadata": {
      "needs_background": "light",
      "tags": []
     },
     "output_type": "display_data"
    }
   ],
   "source": [
    "knn =KNeighborsClassifier()\n",
    "\n",
    "knn_pip = Pipeline(steps=[('preprocessor', preprocessor),\n",
    "                         ('smote', SMOTE(sampling_strategy=0.85)),\n",
    "                           ('classifier', knn)])\n",
    "\n",
    "evaluate_model(knn_pip)"
   ]
  },
  {
   "cell_type": "code",
   "execution_count": 35,
   "metadata": {
    "colab": {
     "base_uri": "https://localhost:8080/",
     "height": 279
    },
    "colab_type": "code",
    "id": "V9Tb7Xlg0fMk",
    "outputId": "3a21f720-159d-477a-cdc0-42464731ca4c"
   },
   "outputs": [
    {
     "data": {
      "image/png": "[encoded data removed]",
      "text/plain": [
       "<Figure size 432x288 with 1 Axes>"
      ]
     },
     "metadata": {
      "needs_background": "light",
      "tags": []
     },
     "output_type": "display_data"
    }
   ],
   "source": [
    "roc_curve_auc(knn_pip)"
   ]
  },
  {
   "cell_type": "code",
   "execution_count": 0,
   "metadata": {
    "colab": {
     "base_uri": "https://localhost:8080/",
     "height": 71
    },
    "colab_type": "code",
    "id": "iSeTy_FR-MIg",
    "outputId": "6f780304-29c6-4475-8f78-b6cdd69d42f7"
   },
   "outputs": [
    {
     "name": "stderr",
     "output_type": "stream",
     "text": [
      "/usr/local/lib/python3.6/dist-packages/sklearn/utils/deprecation.py:87: FutureWarning: Function safe_indexing is deprecated; safe_indexing is deprecated in version 0.22 and will be removed in version 0.24.\n",
      "  warnings.warn(msg, category=FutureWarning)\n"
     ]
    }
   ],
   "source": [
    "svm = SVC(probability=True)\n",
    "svm_pip = Pipeline(steps=[('preprocessor', preprocessor),\n",
    "                         ('smote', SMOTE(sampling_strategy=0.85)),\n",
    "                           ('classifier', svm)])\n",
    "\n",
    "evaluate_model(svm_pip)"
   ]
  },
  {
   "cell_type": "code",
   "execution_count": 0,
   "metadata": {
    "colab": {},
    "colab_type": "code",
    "id": "_fwikK3k-jSi"
   },
   "outputs": [],
   "source": [
    "roc_curve_auc(svm_pip)"
   ]
  }
 ],
 "metadata": {
  "colab": {
   "collapsed_sections": [],
   "name": "modelling.ipynb",
   "provenance": [],
   "toc_visible": true
  },
  "kernelspec": {
   "display_name": "Python 3",
   "language": "python",
   "name": "python3"
  },
  "language_info": {
   "codemirror_mode": {
    "name": "ipython",
    "version": 3
   },
   "file_extension": ".py",
   "mimetype": "text/x-python",
   "name": "python",
   "nbconvert_exporter": "python",
   "pygments_lexer": "ipython3",
   "version": "3.7.3"
  }
 },
 "nbformat": 4,
 "nbformat_minor": 1
}
