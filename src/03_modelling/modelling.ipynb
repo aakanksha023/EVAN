{
 "cells": [
  {
   "cell_type": "markdown",
   "metadata": {},
   "source": [
    "# Model Pipeline\n",
    "\n",
    "Author: Jasmine Qin  \n",
    "Date: 2020-05-27"
   ]
  },
  {
   "cell_type": "code",
   "execution_count": 76,
   "metadata": {},
   "outputs": [],
   "source": [
    "# Basics\n",
    "import pandas as pd\n",
    "import numpy as np\n",
    "import seaborn as sns\n",
    "import time\n",
    "import re\n",
    "from collections import defaultdict, Counter\n",
    "import matplotlib.pyplot as plt\n",
    "\n",
    "# Preprocessing\n",
    "from sklearn.preprocessing import StandardScaler, OneHotEncoder, PolynomialFeatures\n",
    "from sklearn.impute import SimpleImputer\n",
    "from sklearn.model_selection import train_test_split\n",
    "from sklearn.feature_selection import RFE, SelectFromModel\n",
    "\n",
    "# Models\n",
    "from sklearn.linear_model import LogisticRegression\n",
    "from sklearn.svm import SVC\n",
    "from sklearn.tree import DecisionTreeClassifier\n",
    "from sklearn.neighbors import KNeighborsClassifier\n",
    "from xgboost import XGBClassifier\n",
    "from lightgbm import LGBMClassifier\n",
    "from sklearn.ensemble import RandomForestClassifier\n",
    "\n",
    "# Pipeline\n",
    "from sklearn.pipeline import Pipeline, FeatureUnion\n",
    "from sklearn.compose import ColumnTransformer, make_column_selector\n",
    "from sklearn.model_selection import GridSearchCV, RandomizedSearchCV\n",
    "\n",
    "# Evaluation\n",
    "from sklearn.metrics import plot_confusion_matrix, f1_score, recall_score, precision_score\n",
    "from sklearn.metrics import classification_report, confusion_matrix, ConfusionMatrixDisplay\n",
    "from sklearn.metrics import roc_curve, roc_auc_score, r2_score\n",
    "\n",
    "# Model Explanation\n",
    "import eli5\n",
    "import shap"
   ]
  },
  {
   "cell_type": "code",
   "execution_count": 3,
   "metadata": {},
   "outputs": [],
   "source": [
    "# Options\n",
    "pd.set_option('display.max_columns', 100)\n",
    "pd.set_option('display.max_rows', 100)"
   ]
  },
  {
   "cell_type": "markdown",
   "metadata": {},
   "source": [
    "## Table of Contents\n",
    "- [1. Load Data](#ld)\n",
    "- [2. Summary](#s)\n",
    "- [3. Feature Engineering](#fe)\n",
    "- [4. Split Data](#sd)\n",
    "- [5. Preprocessing](#pp)\n",
    "- [6. Baseline Model](#bm)\n",
    "- [7. Feature Importance and Selection](#fi)\n",
    "- [8. Other Models](#om)\n",
    "- [9. Hyperparameter Tuning](#ht)\n",
    "- [10. Other Tests](#ot)"
   ]
  },
  {
   "cell_type": "markdown",
   "metadata": {},
   "source": [
    "## 1. Load Data <a name=\"ld\"></a>\n",
    "\n",
    "- Run all scripts 01 to 04 to have the combined and cleaned data\n",
    "- Load `combined_train.csv` and `combined_validate.csv`"
   ]
  },
  {
   "cell_type": "code",
   "execution_count": 453,
   "metadata": {},
   "outputs": [],
   "source": [
    "train = pd.read_csv('../../data/processed/04_combined_train.csv',\n",
    "                    low_memory=False)\n",
    "#validation = pd.read_csv('../../data/processed/04_combined_validate.csv',\n",
    "#                         low_memory=False).rename(columns={'Geo Local Area': 'LocalArea'})"
   ]
  },
  {
   "cell_type": "markdown",
   "metadata": {},
   "source": [
    "## 2. Summary <a name=\"s\"></a>"
   ]
  },
  {
   "cell_type": "code",
   "execution_count": 454,
   "metadata": {},
   "outputs": [
    {
     "data": {
      "text/html": [
       "<div>\n",
       "<style scoped>\n",
       "    .dataframe tbody tr th:only-of-type {\n",
       "        vertical-align: middle;\n",
       "    }\n",
       "\n",
       "    .dataframe tbody tr th {\n",
       "        vertical-align: top;\n",
       "    }\n",
       "\n",
       "    .dataframe thead th {\n",
       "        text-align: right;\n",
       "    }\n",
       "</style>\n",
       "<table border=\"1\" class=\"dataframe\">\n",
       "  <thead>\n",
       "    <tr style=\"text-align: right;\">\n",
       "      <th></th>\n",
       "      <th>business_id</th>\n",
       "      <th>FOLDERYEAR</th>\n",
       "      <th>LicenceRSN</th>\n",
       "      <th>LicenceNumber</th>\n",
       "      <th>LicenceRevisionNumber</th>\n",
       "      <th>BusinessName</th>\n",
       "      <th>BusinessTradeName</th>\n",
       "      <th>Status</th>\n",
       "      <th>IssuedDate</th>\n",
       "      <th>ExpiredDate</th>\n",
       "      <th>BusinessType</th>\n",
       "      <th>BusinessSubType</th>\n",
       "      <th>Unit</th>\n",
       "      <th>UnitType</th>\n",
       "      <th>House</th>\n",
       "      <th>Street</th>\n",
       "      <th>City</th>\n",
       "      <th>Province</th>\n",
       "      <th>Country</th>\n",
       "      <th>PostalCode</th>\n",
       "      <th>LocalArea</th>\n",
       "      <th>NumberofEmployees</th>\n",
       "      <th>FeePaid</th>\n",
       "      <th>ExtractDate</th>\n",
       "      <th>Geom</th>\n",
       "      <th>NextYearStatus</th>\n",
       "      <th>label</th>\n",
       "      <th>BusinessIndustry</th>\n",
       "      <th>Parking meters</th>\n",
       "      <th>Disability parking</th>\n",
       "      <th>Unemployment_rate</th>\n",
       "      <th>dwelling_House</th>\n",
       "      <th>dwelling_Apartment</th>\n",
       "      <th>dwelling_Other</th>\n",
       "    </tr>\n",
       "  </thead>\n",
       "  <tbody>\n",
       "    <tr>\n",
       "      <th>0</th>\n",
       "      <td>1</td>\n",
       "      <td>2018</td>\n",
       "      <td>3100450</td>\n",
       "      <td>18-516072</td>\n",
       "      <td>0.0</td>\n",
       "      <td>!Exotics BySIYTHE Corporation</td>\n",
       "      <td>NaN</td>\n",
       "      <td>Issued</td>\n",
       "      <td>2018-02-14</td>\n",
       "      <td>2018-12-31</td>\n",
       "      <td>Office</td>\n",
       "      <td>Design Company</td>\n",
       "      <td>170</td>\n",
       "      <td>Unit</td>\n",
       "      <td>422</td>\n",
       "      <td>RICHARDS ST</td>\n",
       "      <td>vancouver</td>\n",
       "      <td>BC</td>\n",
       "      <td>CA</td>\n",
       "      <td>V6B 2Z4</td>\n",
       "      <td>Downtown</td>\n",
       "      <td>1.0</td>\n",
       "      <td>189.0</td>\n",
       "      <td>2020-04-01 09:32:19+00:00</td>\n",
       "      <td>{\"type\": \"Point\", \"coordinates\": [-123.1119263...</td>\n",
       "      <td>Pending</td>\n",
       "      <td>0</td>\n",
       "      <td>Professional, scientific and technical services</td>\n",
       "      <td>3771.0</td>\n",
       "      <td>19.0</td>\n",
       "      <td>4.4</td>\n",
       "      <td>0.025967</td>\n",
       "      <td>0.973891</td>\n",
       "      <td>0.000143</td>\n",
       "    </tr>\n",
       "    <tr>\n",
       "      <th>1</th>\n",
       "      <td>2</td>\n",
       "      <td>2004</td>\n",
       "      <td>804123</td>\n",
       "      <td>04-036444</td>\n",
       "      <td>0.0</td>\n",
       "      <td>.243 Racing Inc</td>\n",
       "      <td>NaN</td>\n",
       "      <td>Issued</td>\n",
       "      <td>2004-04-07</td>\n",
       "      <td>2004-12-31</td>\n",
       "      <td>Wholesale  Dealer</td>\n",
       "      <td>NaN</td>\n",
       "      <td>NaN</td>\n",
       "      <td>NaN</td>\n",
       "      <td>1725</td>\n",
       "      <td>POWELL ST</td>\n",
       "      <td>vancouver</td>\n",
       "      <td>BC</td>\n",
       "      <td>CA</td>\n",
       "      <td>V5L 1H6</td>\n",
       "      <td>Grandview-Woodland</td>\n",
       "      <td>NaN</td>\n",
       "      <td>100.0</td>\n",
       "      <td>2019-07-21 13:48:32+00:00</td>\n",
       "      <td>{\"type\": \"Point\", \"coordinates\": [-123.0693914...</td>\n",
       "      <td>Issued</td>\n",
       "      <td>1</td>\n",
       "      <td>Wholesale trade</td>\n",
       "      <td>312.0</td>\n",
       "      <td>7.0</td>\n",
       "      <td>6.8</td>\n",
       "      <td>0.142807</td>\n",
       "      <td>0.186802</td>\n",
       "      <td>0.670391</td>\n",
       "    </tr>\n",
       "    <tr>\n",
       "      <th>2</th>\n",
       "      <td>2</td>\n",
       "      <td>2005</td>\n",
       "      <td>884526</td>\n",
       "      <td>05-112560</td>\n",
       "      <td>0.0</td>\n",
       "      <td>.243 Racing Inc</td>\n",
       "      <td>NaN</td>\n",
       "      <td>Issued</td>\n",
       "      <td>2004-12-23</td>\n",
       "      <td>2005-12-31</td>\n",
       "      <td>Wholesale  Dealer</td>\n",
       "      <td>NaN</td>\n",
       "      <td>NaN</td>\n",
       "      <td>NaN</td>\n",
       "      <td>1725</td>\n",
       "      <td>POWELL ST</td>\n",
       "      <td>vancouver</td>\n",
       "      <td>BC</td>\n",
       "      <td>CA</td>\n",
       "      <td>V5L 1H6</td>\n",
       "      <td>Grandview-Woodland</td>\n",
       "      <td>NaN</td>\n",
       "      <td>103.0</td>\n",
       "      <td>2019-07-21 13:48:35+00:00</td>\n",
       "      <td>{\"type\": \"Point\", \"coordinates\": [-123.0693914...</td>\n",
       "      <td>Issued</td>\n",
       "      <td>1</td>\n",
       "      <td>Wholesale trade</td>\n",
       "      <td>312.0</td>\n",
       "      <td>7.0</td>\n",
       "      <td>5.7</td>\n",
       "      <td>0.142807</td>\n",
       "      <td>0.186802</td>\n",
       "      <td>0.670391</td>\n",
       "    </tr>\n",
       "  </tbody>\n",
       "</table>\n",
       "</div>"
      ],
      "text/plain": [
       "   business_id  FOLDERYEAR  LicenceRSN LicenceNumber  LicenceRevisionNumber  \\\n",
       "0            1        2018     3100450     18-516072                    0.0   \n",
       "1            2        2004      804123     04-036444                    0.0   \n",
       "2            2        2005      884526     05-112560                    0.0   \n",
       "\n",
       "                    BusinessName BusinessTradeName  Status  IssuedDate  \\\n",
       "0  !Exotics BySIYTHE Corporation               NaN  Issued  2018-02-14   \n",
       "1                .243 Racing Inc               NaN  Issued  2004-04-07   \n",
       "2                .243 Racing Inc               NaN  Issued  2004-12-23   \n",
       "\n",
       "  ExpiredDate       BusinessType BusinessSubType Unit UnitType House  \\\n",
       "0  2018-12-31             Office  Design Company  170     Unit   422   \n",
       "1  2004-12-31  Wholesale  Dealer             NaN  NaN      NaN  1725   \n",
       "2  2005-12-31  Wholesale  Dealer             NaN  NaN      NaN  1725   \n",
       "\n",
       "        Street       City Province Country PostalCode           LocalArea  \\\n",
       "0  RICHARDS ST  vancouver       BC      CA    V6B 2Z4            Downtown   \n",
       "1    POWELL ST  vancouver       BC      CA    V5L 1H6  Grandview-Woodland   \n",
       "2    POWELL ST  vancouver       BC      CA    V5L 1H6  Grandview-Woodland   \n",
       "\n",
       "   NumberofEmployees  FeePaid                ExtractDate  \\\n",
       "0                1.0    189.0  2020-04-01 09:32:19+00:00   \n",
       "1                NaN    100.0  2019-07-21 13:48:32+00:00   \n",
       "2                NaN    103.0  2019-07-21 13:48:35+00:00   \n",
       "\n",
       "                                                Geom NextYearStatus  label  \\\n",
       "0  {\"type\": \"Point\", \"coordinates\": [-123.1119263...        Pending      0   \n",
       "1  {\"type\": \"Point\", \"coordinates\": [-123.0693914...         Issued      1   \n",
       "2  {\"type\": \"Point\", \"coordinates\": [-123.0693914...         Issued      1   \n",
       "\n",
       "                                  BusinessIndustry  Parking meters  \\\n",
       "0  Professional, scientific and technical services          3771.0   \n",
       "1                                  Wholesale trade           312.0   \n",
       "2                                  Wholesale trade           312.0   \n",
       "\n",
       "   Disability parking  Unemployment_rate  dwelling_House  dwelling_Apartment  \\\n",
       "0                19.0                4.4        0.025967            0.973891   \n",
       "1                 7.0                6.8        0.142807            0.186802   \n",
       "2                 7.0                5.7        0.142807            0.186802   \n",
       "\n",
       "   dwelling_Other  \n",
       "0        0.000143  \n",
       "1        0.670391  \n",
       "2        0.670391  "
      ]
     },
     "execution_count": 454,
     "metadata": {},
     "output_type": "execute_result"
    }
   ],
   "source": [
    "train.head(3)"
   ]
  },
  {
   "cell_type": "code",
   "execution_count": 455,
   "metadata": {},
   "outputs": [
    {
     "data": {
      "text/plain": [
       "FOLDERYEAR  LocalArea          \n",
       "1997        Arbutus-Ridge          [0.003568242640499554, 0.003568242640499554, 0...\n",
       "            Downtown               [0.003095104108047271, 0.003095104108047271, 0...\n",
       "            Dunbar-Southlands      [0.00141643059490085, 0.00141643059490085, 0.0...\n",
       "            Fairview               [0.010373443983402491, 0.010373443983402491, 0...\n",
       "            Grandview-Woodland     [0.004179728317659353, 0.004179728317659353, 0...\n",
       "                                                         ...                        \n",
       "2019        Strathcona             [0.002561912894961577, 0.002561912894961577, 0...\n",
       "            Sunset                 [0.01025202904741565, 0.01025202904741565, 0.0...\n",
       "            Victoria-Fraserview    [0.00246305418719206, 0.00246305418719206, 0.0...\n",
       "            West End               [0.0008097165991902775, 0.0008097165991902775,...\n",
       "            West Point Grey        [0.0009285051067781104, 0.0009285051067781104,...\n",
       "Name: dwelling_Other, Length: 506, dtype: object"
      ]
     },
     "execution_count": 455,
     "metadata": {},
     "output_type": "execute_result"
    }
   ],
   "source": [
    "train.groupby(['FOLDERYEAR','LocalArea'])['dwelling_Other'].apply(lambda x: list(x))"
   ]
  },
  {
   "cell_type": "code",
   "execution_count": 431,
   "metadata": {},
   "outputs": [
    {
     "data": {
      "text/html": [
       "['NumberofEmployees', 'FeePaid', 'Parking meters', 'Disability parking', 'Unemployment_rate', 'dwelling_House', 'dwelling_Apartment']"
      ],
      "text/plain": [
       "['NumberofEmployees',\n",
       " 'FeePaid',\n",
       " 'Parking meters',\n",
       " 'Disability parking',\n",
       " 'Unemployment_rate',\n",
       " 'dwelling_House',\n",
       " 'dwelling_Apartment']"
      ]
     },
     "execution_count": 431,
     "metadata": {},
     "output_type": "execute_result"
    }
   ],
   "source": [
    "cat_vars = ['FOLDERYEAR', 'BusinessIndustry', 'LocalArea']\n",
    "label = ['label']\n",
    "\n",
    "cols_not_used = ['business_id', 'LicenceRSN', \n",
    "                 'LicenceNumber', 'LicenceRevisionNumber',\n",
    "                 'BusinessName', 'BusinessTradeName',\n",
    "                 'Status', 'IssuedDate', 'ExpiredDate',\n",
    "                 'BusinessType', 'BusinessSubType',\n",
    "                 'Unit', 'UnitType', 'House',\n",
    "                 'Street', 'City', 'Province',\n",
    "                 'Country', 'PostalCode', 'ExtractDate',\n",
    "                 'Geom', 'NextYearStatus']\n",
    "\n",
    "num_vars = [i for i in train.columns if i not in cat_vars and i not in cols_not_used and i not in label]\n",
    "num_vars"
   ]
  },
  {
   "cell_type": "code",
   "execution_count": 432,
   "metadata": {},
   "outputs": [],
   "source": [
    "def describe_data(df, num_vars, cat_vars):\n",
    "    \"\"\"\n",
    "    This function prints shape of the given dataframe\n",
    "    and returns two separate reports for both \n",
    "    numeric and categorical variables.\n",
    "    \"\"\"\n",
    "    \n",
    "    print(\"The dataset has\", df.shape[0], \"rows and\", df.shape[1], \"columns.\\n\")\n",
    "    \n",
    "    num_summary = df[num_vars].describe()\n",
    "    num_summary.loc['missing'] = [df[s].isnull().sum() for s in num_vars]\n",
    "    \n",
    "    cat_summary = {'cat_var':[], 'missing':[], 'unique':[]}\n",
    "    for c in cat_vars:\n",
    "        cat_summary['cat_var'].append(c)\n",
    "        cat_summary['missing'].append(sum(df[c].isnull()))\n",
    "        cat_summary['unique'].append(len(df[c].unique()))\n",
    "    \n",
    "    return num_summary, pd.DataFrame(cat_summary)"
   ]
  },
  {
   "cell_type": "code",
   "execution_count": 433,
   "metadata": {},
   "outputs": [
    {
     "name": "stdout",
     "output_type": "stream",
     "text": [
      "The dataset has 691672 rows and 33 columns.\n",
      "\n"
     ]
    },
    {
     "data": {
      "text/html": [
       "<div>\n",
       "<style scoped>\n",
       "    .dataframe tbody tr th:only-of-type {\n",
       "        vertical-align: middle;\n",
       "    }\n",
       "\n",
       "    .dataframe tbody tr th {\n",
       "        vertical-align: top;\n",
       "    }\n",
       "\n",
       "    .dataframe thead th {\n",
       "        text-align: right;\n",
       "    }\n",
       "</style>\n",
       "<table border=\"1\" class=\"dataframe\">\n",
       "  <thead>\n",
       "    <tr style=\"text-align: right;\">\n",
       "      <th></th>\n",
       "      <th>NumberofEmployees</th>\n",
       "      <th>FeePaid</th>\n",
       "      <th>Parking meters</th>\n",
       "      <th>Disability parking</th>\n",
       "      <th>Unemployment_rate</th>\n",
       "      <th>dwelling_House</th>\n",
       "      <th>dwelling_Apartment</th>\n",
       "    </tr>\n",
       "  </thead>\n",
       "  <tbody>\n",
       "    <tr>\n",
       "      <th>count</th>\n",
       "      <td>197304.000000</td>\n",
       "      <td>642598.000000</td>\n",
       "      <td>612143.000000</td>\n",
       "      <td>652164.000000</td>\n",
       "      <td>691672.000000</td>\n",
       "      <td>677035.000000</td>\n",
       "      <td>677035.000000</td>\n",
       "    </tr>\n",
       "    <tr>\n",
       "      <th>mean</th>\n",
       "      <td>14.822369</td>\n",
       "      <td>250.552664</td>\n",
       "      <td>1340.253037</td>\n",
       "      <td>9.870755</td>\n",
       "      <td>6.340607</td>\n",
       "      <td>0.205779</td>\n",
       "      <td>0.720289</td>\n",
       "    </tr>\n",
       "    <tr>\n",
       "      <th>std</th>\n",
       "      <td>1220.733151</td>\n",
       "      <td>754.832684</td>\n",
       "      <td>1452.666429</td>\n",
       "      <td>6.635351</td>\n",
       "      <td>1.433006</td>\n",
       "      <td>0.198054</td>\n",
       "      <td>0.258557</td>\n",
       "    </tr>\n",
       "    <tr>\n",
       "      <th>min</th>\n",
       "      <td>0.000000</td>\n",
       "      <td>-1624.000000</td>\n",
       "      <td>7.000000</td>\n",
       "      <td>1.000000</td>\n",
       "      <td>4.000000</td>\n",
       "      <td>0.005628</td>\n",
       "      <td>0.085667</td>\n",
       "    </tr>\n",
       "    <tr>\n",
       "      <th>25%</th>\n",
       "      <td>1.000000</td>\n",
       "      <td>91.000000</td>\n",
       "      <td>91.000000</td>\n",
       "      <td>4.000000</td>\n",
       "      <td>4.700000</td>\n",
       "      <td>0.025967</td>\n",
       "      <td>0.503241</td>\n",
       "    </tr>\n",
       "    <tr>\n",
       "      <th>50%</th>\n",
       "      <td>2.000000</td>\n",
       "      <td>121.000000</td>\n",
       "      <td>898.000000</td>\n",
       "      <td>10.000000</td>\n",
       "      <td>6.600000</td>\n",
       "      <td>0.141569</td>\n",
       "      <td>0.813694</td>\n",
       "    </tr>\n",
       "    <tr>\n",
       "      <th>75%</th>\n",
       "      <td>6.000000</td>\n",
       "      <td>166.000000</td>\n",
       "      <td>1624.000000</td>\n",
       "      <td>18.000000</td>\n",
       "      <td>7.400000</td>\n",
       "      <td>0.349380</td>\n",
       "      <td>0.942696</td>\n",
       "    </tr>\n",
       "    <tr>\n",
       "      <th>max</th>\n",
       "      <td>300813.000000</td>\n",
       "      <td>84706.000000</td>\n",
       "      <td>3771.000000</td>\n",
       "      <td>19.000000</td>\n",
       "      <td>8.800000</td>\n",
       "      <td>0.861190</td>\n",
       "      <td>0.993861</td>\n",
       "    </tr>\n",
       "    <tr>\n",
       "      <th>missing</th>\n",
       "      <td>494368.000000</td>\n",
       "      <td>49074.000000</td>\n",
       "      <td>79529.000000</td>\n",
       "      <td>39508.000000</td>\n",
       "      <td>0.000000</td>\n",
       "      <td>14637.000000</td>\n",
       "      <td>14637.000000</td>\n",
       "    </tr>\n",
       "  </tbody>\n",
       "</table>\n",
       "</div>"
      ],
      "text/plain": [
       "         NumberofEmployees        FeePaid  Parking meters  Disability parking  \\\n",
       "count        197304.000000  642598.000000   612143.000000       652164.000000   \n",
       "mean             14.822369     250.552664     1340.253037            9.870755   \n",
       "std            1220.733151     754.832684     1452.666429            6.635351   \n",
       "min               0.000000   -1624.000000        7.000000            1.000000   \n",
       "25%               1.000000      91.000000       91.000000            4.000000   \n",
       "50%               2.000000     121.000000      898.000000           10.000000   \n",
       "75%               6.000000     166.000000     1624.000000           18.000000   \n",
       "max          300813.000000   84706.000000     3771.000000           19.000000   \n",
       "missing      494368.000000   49074.000000    79529.000000        39508.000000   \n",
       "\n",
       "         Unemployment_rate  dwelling_House  dwelling_Apartment  \n",
       "count        691672.000000   677035.000000       677035.000000  \n",
       "mean              6.340607        0.205779            0.720289  \n",
       "std               1.433006        0.198054            0.258557  \n",
       "min               4.000000        0.005628            0.085667  \n",
       "25%               4.700000        0.025967            0.503241  \n",
       "50%               6.600000        0.141569            0.813694  \n",
       "75%               7.400000        0.349380            0.942696  \n",
       "max               8.800000        0.861190            0.993861  \n",
       "missing           0.000000    14637.000000        14637.000000  "
      ]
     },
     "metadata": {},
     "output_type": "display_data"
    },
    {
     "data": {
      "text/html": [
       "<div>\n",
       "<style scoped>\n",
       "    .dataframe tbody tr th:only-of-type {\n",
       "        vertical-align: middle;\n",
       "    }\n",
       "\n",
       "    .dataframe tbody tr th {\n",
       "        vertical-align: top;\n",
       "    }\n",
       "\n",
       "    .dataframe thead th {\n",
       "        text-align: right;\n",
       "    }\n",
       "</style>\n",
       "<table border=\"1\" class=\"dataframe\">\n",
       "  <thead>\n",
       "    <tr style=\"text-align: right;\">\n",
       "      <th></th>\n",
       "      <th>cat_var</th>\n",
       "      <th>missing</th>\n",
       "      <th>unique</th>\n",
       "    </tr>\n",
       "  </thead>\n",
       "  <tbody>\n",
       "    <tr>\n",
       "      <th>0</th>\n",
       "      <td>FOLDERYEAR</td>\n",
       "      <td>0</td>\n",
       "      <td>23</td>\n",
       "    </tr>\n",
       "    <tr>\n",
       "      <th>1</th>\n",
       "      <td>BusinessIndustry</td>\n",
       "      <td>347</td>\n",
       "      <td>17</td>\n",
       "    </tr>\n",
       "    <tr>\n",
       "      <th>2</th>\n",
       "      <td>LocalArea</td>\n",
       "      <td>14637</td>\n",
       "      <td>23</td>\n",
       "    </tr>\n",
       "  </tbody>\n",
       "</table>\n",
       "</div>"
      ],
      "text/plain": [
       "            cat_var  missing  unique\n",
       "0        FOLDERYEAR        0      23\n",
       "1  BusinessIndustry      347      17\n",
       "2         LocalArea    14637      23"
      ]
     },
     "metadata": {},
     "output_type": "display_data"
    }
   ],
   "source": [
    "num_df, cat_df = describe_data(train, num_vars, cat_vars)\n",
    "display(num_df, cat_df)"
   ]
  },
  {
   "cell_type": "code",
   "execution_count": 434,
   "metadata": {},
   "outputs": [
    {
     "data": {
      "text/plain": [
       "array([\"Lounge 'A' *Historic*\", 'Auto Wrecker', 'Marine Pub *Historic*',\n",
       "       'Horse Racing', 'Motel', 'Short-Term Rental'], dtype=object)"
      ]
     },
     "execution_count": 434,
     "metadata": {},
     "output_type": "execute_result"
    }
   ],
   "source": [
    "train[train.BusinessIndustry.isnull()].BusinessType.unique()"
   ]
  },
  {
   "cell_type": "code",
   "execution_count": 435,
   "metadata": {},
   "outputs": [
    {
     "data": {
      "text/plain": [
       "1    566362\n",
       "0    125310\n",
       "Name: label, dtype: int64"
      ]
     },
     "execution_count": 435,
     "metadata": {},
     "output_type": "execute_result"
    }
   ],
   "source": [
    "train['label'].value_counts()"
   ]
  },
  {
   "cell_type": "markdown",
   "metadata": {},
   "source": [
    "## 3. Feauture Engineering <a name=\"fe\"></a>\n",
    "\n",
    "- Including just cleaning for now, other steps to add in the future\n",
    "- Will be moved to a separate feature engineering script"
   ]
  },
  {
   "cell_type": "code",
   "execution_count": 436,
   "metadata": {},
   "outputs": [],
   "source": [
    "def feature_engineering(df):\n",
    "    df = df[df.LocalArea.notnull()]\n",
    "    df = df[df.Status == 'Issued']\n",
    "\n",
    "    df = df[num_vars+cat_vars+label]\n",
    "    return df.drop(columns=label), df['label']\n"
   ]
  },
  {
   "cell_type": "markdown",
   "metadata": {},
   "source": [
    "## 4. Split Data <a name=\"sd\"></a>\n",
    "\n",
    "- Split data here because Validation set is used directly as Test"
   ]
  },
  {
   "cell_type": "code",
   "execution_count": 437,
   "metadata": {},
   "outputs": [],
   "source": [
    "X_train_valid, y_train_valid = feature_engineering(train)\n",
    "#X_test, y_test = feature_engineering(validation)\n",
    "\n",
    "X_train, X_valid, y_train, y_valid = train_test_split(X_train_valid, y_train_valid, test_size=0.2, random_state=2020)"
   ]
  },
  {
   "cell_type": "markdown",
   "metadata": {},
   "source": [
    "## 5. Preprocessing <a name=\"pp\"></a>\n",
    "\n",
    "- include polynomial features (interactions, e.g., local area x business type)"
   ]
  },
  {
   "cell_type": "code",
   "execution_count": 438,
   "metadata": {},
   "outputs": [],
   "source": [
    "numeric_transformer = Pipeline(steps=[\n",
    "    ('imputer', SimpleImputer(strategy='median')),\n",
    "    ('scaler', StandardScaler())\n",
    "])\n",
    "\n",
    "categorical_transformer = Pipeline(steps=[\n",
    "    ('imputer', SimpleImputer(strategy='constant',\n",
    "                              fill_value='missing')),\n",
    "    ('onehot', OneHotEncoder(\n",
    "        handle_unknown='ignore'))\n",
    "])\n",
    "\n",
    "preprocessor = ColumnTransformer(\n",
    "    transformers=[\n",
    "        ('num', numeric_transformer, num_vars),\n",
    "        ('cat', categorical_transformer, cat_vars)\n",
    "    ])"
   ]
  },
  {
   "cell_type": "markdown",
   "metadata": {},
   "source": [
    "## 6. Baseline Model <a name=\"bm\"></a>\n",
    "\n",
    "[ROC AUC](https://github.com/dariyasydykova/open_projects/tree/master/ROC_animation) source"
   ]
  },
  {
   "cell_type": "code",
   "execution_count": 439,
   "metadata": {},
   "outputs": [],
   "source": [
    "def evaluate_model(model, X_train=X_train, X_test=X_valid, y_train=y_train, y_test=y_valid, verbose=True):\n",
    "    \"\"\"\n",
    "    This function prints train and test accuracies,\n",
    "    classification report, and confusion matrix.\n",
    "    \"\"\"\n",
    "    model.fit(X_train, y_train)\n",
    "    train_acc = model.score(X_train, y_train)\n",
    "    test_acc = model.score(X_test, y_test)\n",
    "    \n",
    "    if verbose:\n",
    "        print(\"Train Accuracy:\", train_acc)\n",
    "        print(\"Validation Accuracy\", test_acc, \"\\n\")\n",
    "\n",
    "        print(classification_report(y_test, model.predict(X_test)))\n",
    "        print(plot_confusion_matrix(model, X_test, y_test,\n",
    "                                     display_labels=[0, 1],\n",
    "                                     cmap=plt.cm.Blues,\n",
    "                                     values_format='d'))\n",
    "    else:\n",
    "        report = {}\n",
    "        f1 = f1_score(y_test, model.predict(X_test))\n",
    "        recall = recall_score(y_test, model.predict(X_test))\n",
    "        precision = precision_score(y_test, model.predict(X_test))\n",
    "        report['renewed'] = [f1, recall, precision]\n",
    "        \n",
    "        f1 = f1_score(y_test, model.predict(X_test), pos_label=0)\n",
    "        recall = recall_score(y_test, model.predict(X_test), pos_label=0)\n",
    "        precision = precision_score(y_test, model.predict(X_test), pos_label=0)\n",
    "        report['not_renewed'] = [f1, recall, precision]\n",
    "        \n",
    "        report['accuracy'] = [train_acc, test_acc]\n",
    "        \n",
    "        return report"
   ]
  },
  {
   "cell_type": "code",
   "execution_count": 440,
   "metadata": {},
   "outputs": [],
   "source": [
    "def roc_curve_auc(model, X_train=X_train, X_test=X_valid, y_train=y_train, y_test=y_valid):\n",
    "    \"\"\"\n",
    "    This function plots ROC curve and prints AUC score.\n",
    "    \"\"\"\n",
    "    # assume fit model first\n",
    "    #mode.fit(X_train, y_train)\n",
    "    fpr, tpr, thresholds = roc_curve(y_test, model.predict_proba(X_test)[:,1])\n",
    "    auc = roc_auc_score(y_test, model.predict_proba(X_test)[:,1])\n",
    "        \n",
    "    fig = plt.figure(figsize=(6, 4))\n",
    "    plt.plot(fpr, tpr)\n",
    "    plt.plot((0,1),(0,1),'--k')\n",
    "    plt.xlabel('false positive rate')\n",
    "    plt.ylabel('true positive rate')\n",
    "    plt.annotate(f'AUC score = {auc: .4f}', (0.0, 0.9))"
   ]
  },
  {
   "cell_type": "code",
   "execution_count": 441,
   "metadata": {},
   "outputs": [
    {
     "name": "stderr",
     "output_type": "stream",
     "text": [
      "The max_iter was reached which means the coef_ did not converge\n"
     ]
    },
    {
     "name": "stdout",
     "output_type": "stream",
     "text": [
      "Train Accuracy: 0.49946987434132134\n",
      "Validation Accuracy 0.5002944031572749 \n",
      "\n",
      "              precision    recall  f1-score   support\n",
      "\n",
      "           0       0.18      0.69      0.28     17853\n",
      "           1       0.90      0.47      0.62    107825\n",
      "\n",
      "    accuracy                           0.50    125678\n",
      "   macro avg       0.54      0.58      0.45    125678\n",
      "weighted avg       0.80      0.50      0.57    125678\n",
      "\n",
      "<sklearn.metrics._plot.confusion_matrix.ConfusionMatrixDisplay object at 0x2cec1df10>\n"
     ]
    },
    {
     "data": {
      "image/png": "[encoded data removed]",
      "text/plain": [
       "<Figure size 432x288 with 2 Axes>"
      ]
     },
     "metadata": {
      "needs_background": "light"
     },
     "output_type": "display_data"
    }
   ],
   "source": [
    "lr = LogisticRegression(solver='saga', class_weight='balanced')\n",
    "\n",
    "lr_pip = Pipeline(steps=[('preprocessor', preprocessor),\n",
    "                         ('classifier', lr)])\n",
    "\n",
    "evaluate_model(lr_pip)"
   ]
  },
  {
   "cell_type": "code",
   "execution_count": 442,
   "metadata": {},
   "outputs": [
    {
     "data": {
      "image/png": "[encoded data removed]",
      "text/plain": [
       "<Figure size 432x288 with 1 Axes>"
      ]
     },
     "metadata": {
      "needs_background": "light"
     },
     "output_type": "display_data"
    }
   ],
   "source": [
    "roc_curve_auc(lr_pip)"
   ]
  },
  {
   "cell_type": "markdown",
   "metadata": {},
   "source": [
    "## 7. Feature Importance and Selection <a name=\"fi\"></a>\n",
    "\n",
    "- weights\n",
    "- RFE\n",
    "- L1, L2\n",
    "- PCA"
   ]
  },
  {
   "cell_type": "code",
   "execution_count": 443,
   "metadata": {},
   "outputs": [],
   "source": [
    "def explain_model(pip, df, verbose=True):\n",
    "    pp1_features = num_vars + \\\n",
    "        list(pip['preprocessor'].transformers_[\n",
    "             1][1]['onehot'].get_feature_names())\n",
    "    \n",
    "    return eli5.show_weights(pip['classifier'],\n",
    "                             feature_names=pp1_features,\n",
    "                             top=30)\n"
   ]
  },
  {
   "cell_type": "code",
   "execution_count": 444,
   "metadata": {},
   "outputs": [
    {
     "data": {
      "text/html": [
       "\n",
       "    <style>\n",
       "    table.eli5-weights tr:hover {\n",
       "        filter: brightness(85%);\n",
       "    }\n",
       "</style>\n",
       "\n",
       "\n",
       "\n",
       "    \n",
       "\n",
       "    \n",
       "\n",
       "    \n",
       "\n",
       "    \n",
       "\n",
       "    \n",
       "\n",
       "    \n",
       "\n",
       "\n",
       "    \n",
       "\n",
       "    \n",
       "\n",
       "    \n",
       "\n",
       "    \n",
       "        \n",
       "\n",
       "    \n",
       "\n",
       "        \n",
       "            \n",
       "                \n",
       "                \n",
       "    \n",
       "        <p style=\"margin-bottom: 0.5em; margin-top: 0em\">\n",
       "            <b>\n",
       "    \n",
       "        y=1\n",
       "    \n",
       "</b>\n",
       "\n",
       "top features\n",
       "        </p>\n",
       "    \n",
       "    <table class=\"eli5-weights\"\n",
       "           style=\"border-collapse: collapse; border: none; margin-top: 0em; table-layout: auto; margin-bottom: 2em;\">\n",
       "        <thead>\n",
       "        <tr style=\"border: none;\">\n",
       "            \n",
       "                <th style=\"padding: 0 1em 0 0.5em; text-align: right; border: none;\" title=\"Feature weights. Note that weights do not account for feature value scales, so if feature values have different scales, features with highest weights might not be the most important.\">\n",
       "                    Weight<sup>?</sup>\n",
       "                </th>\n",
       "            \n",
       "            <th style=\"padding: 0 0.5em 0 0.5em; text-align: left; border: none;\">Feature</th>\n",
       "            \n",
       "        </tr>\n",
       "        </thead>\n",
       "        <tbody>\n",
       "        \n",
       "            <tr style=\"background-color: hsl(120, 100.00%, 80.00%); border: none;\">\n",
       "    <td style=\"padding: 0 1em 0 0.5em; text-align: right; border: none;\">\n",
       "        +0.678\n",
       "    </td>\n",
       "    <td style=\"padding: 0 0.5em 0 0.5em; text-align: left; border: none;\">\n",
       "        x1_Real estate and rental and leasing\n",
       "    </td>\n",
       "    \n",
       "</tr>\n",
       "        \n",
       "            <tr style=\"background-color: hsl(120, 100.00%, 83.77%); border: none;\">\n",
       "    <td style=\"padding: 0 1em 0 0.5em; text-align: right; border: none;\">\n",
       "        +0.503\n",
       "    </td>\n",
       "    <td style=\"padding: 0 0.5em 0 0.5em; text-align: left; border: none;\">\n",
       "        x1_Health care and social assistance\n",
       "    </td>\n",
       "    \n",
       "</tr>\n",
       "        \n",
       "            <tr style=\"background-color: hsl(120, 100.00%, 89.39%); border: none;\">\n",
       "    <td style=\"padding: 0 1em 0 0.5em; text-align: right; border: none;\">\n",
       "        +0.274\n",
       "    </td>\n",
       "    <td style=\"padding: 0 0.5em 0 0.5em; text-align: left; border: none;\">\n",
       "        x1_Finance and insurance\n",
       "    </td>\n",
       "    \n",
       "</tr>\n",
       "        \n",
       "            <tr style=\"background-color: hsl(120, 100.00%, 92.42%); border: none;\">\n",
       "    <td style=\"padding: 0 1em 0 0.5em; text-align: right; border: none;\">\n",
       "        +0.170\n",
       "    </td>\n",
       "    <td style=\"padding: 0 0.5em 0 0.5em; text-align: left; border: none;\">\n",
       "        FeePaid\n",
       "    </td>\n",
       "    \n",
       "</tr>\n",
       "        \n",
       "            <tr style=\"background-color: hsl(120, 100.00%, 92.46%); border: none;\">\n",
       "    <td style=\"padding: 0 1em 0 0.5em; text-align: right; border: none;\">\n",
       "        +0.168\n",
       "    </td>\n",
       "    <td style=\"padding: 0 0.5em 0 0.5em; text-align: left; border: none;\">\n",
       "        x0_2009\n",
       "    </td>\n",
       "    \n",
       "</tr>\n",
       "        \n",
       "            <tr style=\"background-color: hsl(120, 100.00%, 92.57%); border: none;\">\n",
       "    <td style=\"padding: 0 1em 0 0.5em; text-align: right; border: none;\">\n",
       "        +0.165\n",
       "    </td>\n",
       "    <td style=\"padding: 0 0.5em 0 0.5em; text-align: left; border: none;\">\n",
       "        x0_2010\n",
       "    </td>\n",
       "    \n",
       "</tr>\n",
       "        \n",
       "            <tr style=\"background-color: hsl(120, 100.00%, 92.78%); border: none;\">\n",
       "    <td style=\"padding: 0 1em 0 0.5em; text-align: right; border: none;\">\n",
       "        +0.158\n",
       "    </td>\n",
       "    <td style=\"padding: 0 0.5em 0 0.5em; text-align: left; border: none;\">\n",
       "        x2_Dunbar-Southlands\n",
       "    </td>\n",
       "    \n",
       "</tr>\n",
       "        \n",
       "            <tr style=\"background-color: hsl(120, 100.00%, 93.66%); border: none;\">\n",
       "    <td style=\"padding: 0 1em 0 0.5em; text-align: right; border: none;\">\n",
       "        +0.131\n",
       "    </td>\n",
       "    <td style=\"padding: 0 0.5em 0 0.5em; text-align: left; border: none;\">\n",
       "        x0_2012\n",
       "    </td>\n",
       "    \n",
       "</tr>\n",
       "        \n",
       "            <tr style=\"background-color: hsl(120, 100.00%, 93.87%); border: none;\">\n",
       "    <td style=\"padding: 0 1em 0 0.5em; text-align: right; border: none;\">\n",
       "        +0.125\n",
       "    </td>\n",
       "    <td style=\"padding: 0 0.5em 0 0.5em; text-align: left; border: none;\">\n",
       "        x2_West Point Grey\n",
       "    </td>\n",
       "    \n",
       "</tr>\n",
       "        \n",
       "            <tr style=\"background-color: hsl(120, 100.00%, 94.10%); border: none;\">\n",
       "    <td style=\"padding: 0 1em 0 0.5em; text-align: right; border: none;\">\n",
       "        +0.118\n",
       "    </td>\n",
       "    <td style=\"padding: 0 0.5em 0 0.5em; text-align: left; border: none;\">\n",
       "        x0_2011\n",
       "    </td>\n",
       "    \n",
       "</tr>\n",
       "        \n",
       "            <tr style=\"background-color: hsl(120, 100.00%, 94.61%); border: none;\">\n",
       "    <td style=\"padding: 0 1em 0 0.5em; text-align: right; border: none;\">\n",
       "        +0.104\n",
       "    </td>\n",
       "    <td style=\"padding: 0 0.5em 0 0.5em; text-align: left; border: none;\">\n",
       "        NumberofEmployees\n",
       "    </td>\n",
       "    \n",
       "</tr>\n",
       "        \n",
       "        \n",
       "            <tr style=\"background-color: hsl(120, 100.00%, 94.61%); border: none;\">\n",
       "                <td colspan=\"2\" style=\"padding: 0 0.5em 0 0.5em; text-align: center; border: none; white-space: nowrap;\">\n",
       "                    <i>&hellip; 17 more positive &hellip;</i>\n",
       "                </td>\n",
       "            </tr>\n",
       "        \n",
       "\n",
       "        \n",
       "            <tr style=\"background-color: hsl(0, 100.00%, 94.36%); border: none;\">\n",
       "                <td colspan=\"2\" style=\"padding: 0 0.5em 0 0.5em; text-align: center; border: none; white-space: nowrap;\">\n",
       "                    <i>&hellip; 23 more negative &hellip;</i>\n",
       "                </td>\n",
       "            </tr>\n",
       "        \n",
       "        \n",
       "            <tr style=\"background-color: hsl(0, 100.00%, 94.36%); border: none;\">\n",
       "    <td style=\"padding: 0 1em 0 0.5em; text-align: right; border: none;\">\n",
       "        -0.111\n",
       "    </td>\n",
       "    <td style=\"padding: 0 0.5em 0 0.5em; text-align: left; border: none;\">\n",
       "        x1_Retail trade\n",
       "    </td>\n",
       "    \n",
       "</tr>\n",
       "        \n",
       "            <tr style=\"background-color: hsl(0, 100.00%, 94.20%); border: none;\">\n",
       "    <td style=\"padding: 0 1em 0 0.5em; text-align: right; border: none;\">\n",
       "        -0.116\n",
       "    </td>\n",
       "    <td style=\"padding: 0 0.5em 0 0.5em; text-align: left; border: none;\">\n",
       "        x2_Mount Pleasant\n",
       "    </td>\n",
       "    \n",
       "</tr>\n",
       "        \n",
       "            <tr style=\"background-color: hsl(0, 100.00%, 94.09%); border: none;\">\n",
       "    <td style=\"padding: 0 1em 0 0.5em; text-align: right; border: none;\">\n",
       "        -0.119\n",
       "    </td>\n",
       "    <td style=\"padding: 0 0.5em 0 0.5em; text-align: left; border: none;\">\n",
       "        x2_Downtown\n",
       "    </td>\n",
       "    \n",
       "</tr>\n",
       "        \n",
       "            <tr style=\"background-color: hsl(0, 100.00%, 93.85%); border: none;\">\n",
       "    <td style=\"padding: 0 1em 0 0.5em; text-align: right; border: none;\">\n",
       "        -0.126\n",
       "    </td>\n",
       "    <td style=\"padding: 0 0.5em 0 0.5em; text-align: left; border: none;\">\n",
       "        x2_Kensington-Cedar Cottage\n",
       "    </td>\n",
       "    \n",
       "</tr>\n",
       "        \n",
       "            <tr style=\"background-color: hsl(0, 100.00%, 93.55%); border: none;\">\n",
       "    <td style=\"padding: 0 1em 0 0.5em; text-align: right; border: none;\">\n",
       "        -0.135\n",
       "    </td>\n",
       "    <td style=\"padding: 0 0.5em 0 0.5em; text-align: left; border: none;\">\n",
       "        x2_Sunset\n",
       "    </td>\n",
       "    \n",
       "</tr>\n",
       "        \n",
       "            <tr style=\"background-color: hsl(0, 100.00%, 93.47%); border: none;\">\n",
       "    <td style=\"padding: 0 1em 0 0.5em; text-align: right; border: none;\">\n",
       "        -0.137\n",
       "    </td>\n",
       "    <td style=\"padding: 0 0.5em 0 0.5em; text-align: left; border: none;\">\n",
       "        x2_Victoria-Fraserview\n",
       "    </td>\n",
       "    \n",
       "</tr>\n",
       "        \n",
       "            <tr style=\"background-color: hsl(0, 100.00%, 92.74%); border: none;\">\n",
       "    <td style=\"padding: 0 1em 0 0.5em; text-align: right; border: none;\">\n",
       "        -0.160\n",
       "    </td>\n",
       "    <td style=\"padding: 0 0.5em 0 0.5em; text-align: left; border: none;\">\n",
       "        x0_1999\n",
       "    </td>\n",
       "    \n",
       "</tr>\n",
       "        \n",
       "            <tr style=\"background-color: hsl(0, 100.00%, 91.89%); border: none;\">\n",
       "    <td style=\"padding: 0 1em 0 0.5em; text-align: right; border: none;\">\n",
       "        -0.187\n",
       "    </td>\n",
       "    <td style=\"padding: 0 0.5em 0 0.5em; text-align: left; border: none;\">\n",
       "        x1_Accommodation and food services\n",
       "    </td>\n",
       "    \n",
       "</tr>\n",
       "        \n",
       "            <tr style=\"background-color: hsl(0, 100.00%, 91.84%); border: none;\">\n",
       "    <td style=\"padding: 0 1em 0 0.5em; text-align: right; border: none;\">\n",
       "        -0.188\n",
       "    </td>\n",
       "    <td style=\"padding: 0 0.5em 0 0.5em; text-align: left; border: none;\">\n",
       "        x1_Educational services\n",
       "    </td>\n",
       "    \n",
       "</tr>\n",
       "        \n",
       "            <tr style=\"background-color: hsl(0, 100.00%, 91.46%); border: none;\">\n",
       "    <td style=\"padding: 0 1em 0 0.5em; text-align: right; border: none;\">\n",
       "        -0.201\n",
       "    </td>\n",
       "    <td style=\"padding: 0 0.5em 0 0.5em; text-align: left; border: none;\">\n",
       "        x0_2004\n",
       "    </td>\n",
       "    \n",
       "</tr>\n",
       "        \n",
       "            <tr style=\"background-color: hsl(0, 100.00%, 91.36%); border: none;\">\n",
       "    <td style=\"padding: 0 1em 0 0.5em; text-align: right; border: none;\">\n",
       "        -0.204\n",
       "    </td>\n",
       "    <td style=\"padding: 0 0.5em 0 0.5em; text-align: left; border: none;\">\n",
       "        x1_Transportation and warehousing\n",
       "    </td>\n",
       "    \n",
       "</tr>\n",
       "        \n",
       "            <tr style=\"background-color: hsl(0, 100.00%, 91.32%); border: none;\">\n",
       "    <td style=\"padding: 0 1em 0 0.5em; text-align: right; border: none;\">\n",
       "        -0.206\n",
       "    </td>\n",
       "    <td style=\"padding: 0 0.5em 0 0.5em; text-align: left; border: none;\">\n",
       "        x2_Renfrew-Collingwood\n",
       "    </td>\n",
       "    \n",
       "</tr>\n",
       "        \n",
       "            <tr style=\"background-color: hsl(0, 100.00%, 91.13%); border: none;\">\n",
       "    <td style=\"padding: 0 1em 0 0.5em; text-align: right; border: none;\">\n",
       "        -0.212\n",
       "    </td>\n",
       "    <td style=\"padding: 0 0.5em 0 0.5em; text-align: left; border: none;\">\n",
       "        x1_Wholesale trade\n",
       "    </td>\n",
       "    \n",
       "</tr>\n",
       "        \n",
       "            <tr style=\"background-color: hsl(0, 100.00%, 91.08%); border: none;\">\n",
       "    <td style=\"padding: 0 1em 0 0.5em; text-align: right; border: none;\">\n",
       "        -0.214\n",
       "    </td>\n",
       "    <td style=\"padding: 0 0.5em 0 0.5em; text-align: left; border: none;\">\n",
       "        x1_Administrative and support, waste management and remediation services\n",
       "    </td>\n",
       "    \n",
       "</tr>\n",
       "        \n",
       "            <tr style=\"background-color: hsl(0, 100.00%, 90.75%); border: none;\">\n",
       "    <td style=\"padding: 0 1em 0 0.5em; text-align: right; border: none;\">\n",
       "        -0.225\n",
       "    </td>\n",
       "    <td style=\"padding: 0 0.5em 0 0.5em; text-align: left; border: none;\">\n",
       "        x1_Construction\n",
       "    </td>\n",
       "    \n",
       "</tr>\n",
       "        \n",
       "            <tr style=\"background-color: hsl(0, 100.00%, 90.65%); border: none;\">\n",
       "    <td style=\"padding: 0 1em 0 0.5em; text-align: right; border: none;\">\n",
       "        -0.229\n",
       "    </td>\n",
       "    <td style=\"padding: 0 0.5em 0 0.5em; text-align: left; border: none;\">\n",
       "        x2_West End\n",
       "    </td>\n",
       "    \n",
       "</tr>\n",
       "        \n",
       "            <tr style=\"background-color: hsl(0, 100.00%, 90.43%); border: none;\">\n",
       "    <td style=\"padding: 0 1em 0 0.5em; text-align: right; border: none;\">\n",
       "        -0.236\n",
       "    </td>\n",
       "    <td style=\"padding: 0 0.5em 0 0.5em; text-align: left; border: none;\">\n",
       "        x0_1997\n",
       "    </td>\n",
       "    \n",
       "</tr>\n",
       "        \n",
       "            <tr style=\"background-color: hsl(0, 100.00%, 90.11%); border: none;\">\n",
       "    <td style=\"padding: 0 1em 0 0.5em; text-align: right; border: none;\">\n",
       "        -0.248\n",
       "    </td>\n",
       "    <td style=\"padding: 0 0.5em 0 0.5em; text-align: left; border: none;\">\n",
       "        x1_Arts, entertainment and recreation\n",
       "    </td>\n",
       "    \n",
       "</tr>\n",
       "        \n",
       "            <tr style=\"background-color: hsl(0, 100.00%, 84.49%); border: none;\">\n",
       "    <td style=\"padding: 0 1em 0 0.5em; text-align: right; border: none;\">\n",
       "        -0.472\n",
       "    </td>\n",
       "    <td style=\"padding: 0 0.5em 0 0.5em; text-align: left; border: none;\">\n",
       "        x1_Information and cultural industries\n",
       "    </td>\n",
       "    \n",
       "</tr>\n",
       "        \n",
       "\n",
       "        </tbody>\n",
       "    </table>\n",
       "\n",
       "            \n",
       "        \n",
       "\n",
       "        \n",
       "\n",
       "\n",
       "\n",
       "    \n",
       "\n",
       "    \n",
       "\n",
       "    \n",
       "\n",
       "    \n",
       "\n",
       "\n",
       "    \n",
       "\n",
       "    \n",
       "\n",
       "    \n",
       "\n",
       "    \n",
       "\n",
       "    \n",
       "\n",
       "    \n",
       "\n",
       "\n",
       "    \n",
       "\n",
       "    \n",
       "\n",
       "    \n",
       "\n",
       "    \n",
       "\n",
       "    \n",
       "\n",
       "    \n",
       "\n",
       "\n",
       "\n"
      ],
      "text/plain": [
       "<IPython.core.display.HTML object>"
      ]
     },
     "execution_count": 444,
     "metadata": {},
     "output_type": "execute_result"
    }
   ],
   "source": [
    "explain_model(lr_pip, X_train)"
   ]
  },
  {
   "cell_type": "markdown",
   "metadata": {},
   "source": [
    "## 8. Other Models <a name=\"om\"></a>"
   ]
  },
  {
   "cell_type": "code",
   "execution_count": 445,
   "metadata": {},
   "outputs": [
    {
     "name": "stdout",
     "output_type": "stream",
     "text": [
      "Train Accuracy: 0.5716107266401571\n",
      "Validation Accuracy 0.5694711882747975 \n",
      "\n",
      "              precision    recall  f1-score   support\n",
      "\n",
      "           0       0.19      0.64      0.30     17853\n",
      "           1       0.90      0.56      0.69    107825\n",
      "\n",
      "    accuracy                           0.57    125678\n",
      "   macro avg       0.55      0.60      0.49    125678\n",
      "weighted avg       0.80      0.57      0.63    125678\n",
      "\n",
      "<sklearn.metrics._plot.confusion_matrix.ConfusionMatrixDisplay object at 0x2afc86a50>\n"
     ]
    },
    {
     "data": {
      "image/png": "[encoded data removed]",
      "text/plain": [
       "<Figure size 432x288 with 2 Axes>"
      ]
     },
     "metadata": {
      "needs_background": "light"
     },
     "output_type": "display_data"
    }
   ],
   "source": [
    "lgbm = LGBMClassifier(class_weight='balanced')\n",
    "\n",
    "lgbm_pip = Pipeline(steps=[('preprocessor', preprocessor),\n",
    "                           ('classifier', lgbm)])\n",
    "\n",
    "evaluate_model(lgbm_pip)"
   ]
  },
  {
   "cell_type": "code",
   "execution_count": 446,
   "metadata": {},
   "outputs": [
    {
     "data": {
      "image/png": "[encoded data removed]",
      "text/plain": [
       "<Figure size 432x288 with 1 Axes>"
      ]
     },
     "metadata": {
      "needs_background": "light"
     },
     "output_type": "display_data"
    }
   ],
   "source": [
    "roc_curve_auc(lgbm_pip)"
   ]
  },
  {
   "cell_type": "code",
   "execution_count": 447,
   "metadata": {},
   "outputs": [
    {
     "data": {
      "text/html": [
       "\n",
       "    <style>\n",
       "    table.eli5-weights tr:hover {\n",
       "        filter: brightness(85%);\n",
       "    }\n",
       "</style>\n",
       "\n",
       "\n",
       "\n",
       "    \n",
       "\n",
       "    \n",
       "\n",
       "    \n",
       "\n",
       "    \n",
       "\n",
       "    \n",
       "\n",
       "    \n",
       "\n",
       "\n",
       "    \n",
       "\n",
       "    \n",
       "\n",
       "    \n",
       "\n",
       "    \n",
       "\n",
       "    \n",
       "\n",
       "    \n",
       "\n",
       "\n",
       "    \n",
       "\n",
       "    \n",
       "\n",
       "    \n",
       "\n",
       "    \n",
       "\n",
       "    \n",
       "        <table class=\"eli5-weights eli5-feature-importances\" style=\"border-collapse: collapse; border: none; margin-top: 0em; table-layout: auto;\">\n",
       "    <thead>\n",
       "    <tr style=\"border: none;\">\n",
       "        <th style=\"padding: 0 1em 0 0.5em; text-align: right; border: none;\">Weight</th>\n",
       "        <th style=\"padding: 0 0.5em 0 0.5em; text-align: left; border: none;\">Feature</th>\n",
       "    </tr>\n",
       "    </thead>\n",
       "    <tbody>\n",
       "    \n",
       "        <tr style=\"background-color: hsl(120, 100.00%, 80.00%); border: none;\">\n",
       "            <td style=\"padding: 0 1em 0 0.5em; text-align: right; border: none;\">\n",
       "                0.2771\n",
       "                \n",
       "            </td>\n",
       "            <td style=\"padding: 0 0.5em 0 0.5em; text-align: left; border: none;\">\n",
       "                x1_Real estate and rental and leasing\n",
       "            </td>\n",
       "        </tr>\n",
       "    \n",
       "        <tr style=\"background-color: hsl(120, 100.00%, 81.19%); border: none;\">\n",
       "            <td style=\"padding: 0 1em 0 0.5em; text-align: right; border: none;\">\n",
       "                0.2538\n",
       "                \n",
       "            </td>\n",
       "            <td style=\"padding: 0 0.5em 0 0.5em; text-align: left; border: none;\">\n",
       "                FeePaid\n",
       "            </td>\n",
       "        </tr>\n",
       "    \n",
       "        <tr style=\"background-color: hsl(120, 100.00%, 88.86%); border: none;\">\n",
       "            <td style=\"padding: 0 1em 0 0.5em; text-align: right; border: none;\">\n",
       "                0.1201\n",
       "                \n",
       "            </td>\n",
       "            <td style=\"padding: 0 0.5em 0 0.5em; text-align: left; border: none;\">\n",
       "                NumberofEmployees\n",
       "            </td>\n",
       "        </tr>\n",
       "    \n",
       "        <tr style=\"background-color: hsl(120, 100.00%, 93.30%); border: none;\">\n",
       "            <td style=\"padding: 0 1em 0 0.5em; text-align: right; border: none;\">\n",
       "                0.0581\n",
       "                \n",
       "            </td>\n",
       "            <td style=\"padding: 0 0.5em 0 0.5em; text-align: left; border: none;\">\n",
       "                x1_Health care and social assistance\n",
       "            </td>\n",
       "        </tr>\n",
       "    \n",
       "        <tr style=\"background-color: hsl(120, 100.00%, 93.90%); border: none;\">\n",
       "            <td style=\"padding: 0 1em 0 0.5em; text-align: right; border: none;\">\n",
       "                0.0508\n",
       "                \n",
       "            </td>\n",
       "            <td style=\"padding: 0 0.5em 0 0.5em; text-align: left; border: none;\">\n",
       "                Unemployment_rate\n",
       "            </td>\n",
       "        </tr>\n",
       "    \n",
       "        <tr style=\"background-color: hsl(120, 100.00%, 95.32%); border: none;\">\n",
       "            <td style=\"padding: 0 1em 0 0.5em; text-align: right; border: none;\">\n",
       "                0.0348\n",
       "                \n",
       "            </td>\n",
       "            <td style=\"padding: 0 0.5em 0 0.5em; text-align: left; border: none;\">\n",
       "                Parking meters\n",
       "            </td>\n",
       "        </tr>\n",
       "    \n",
       "        <tr style=\"background-color: hsl(120, 100.00%, 95.73%); border: none;\">\n",
       "            <td style=\"padding: 0 1em 0 0.5em; text-align: right; border: none;\">\n",
       "                0.0306\n",
       "                \n",
       "            </td>\n",
       "            <td style=\"padding: 0 0.5em 0 0.5em; text-align: left; border: none;\">\n",
       "                dwelling_House\n",
       "            </td>\n",
       "        </tr>\n",
       "    \n",
       "        <tr style=\"background-color: hsl(120, 100.00%, 96.26%); border: none;\">\n",
       "            <td style=\"padding: 0 1em 0 0.5em; text-align: right; border: none;\">\n",
       "                0.0253\n",
       "                \n",
       "            </td>\n",
       "            <td style=\"padding: 0 0.5em 0 0.5em; text-align: left; border: none;\">\n",
       "                dwelling_Apartment\n",
       "            </td>\n",
       "        </tr>\n",
       "    \n",
       "        <tr style=\"background-color: hsl(120, 100.00%, 97.36%); border: none;\">\n",
       "            <td style=\"padding: 0 1em 0 0.5em; text-align: right; border: none;\">\n",
       "                0.0154\n",
       "                \n",
       "            </td>\n",
       "            <td style=\"padding: 0 0.5em 0 0.5em; text-align: left; border: none;\">\n",
       "                x1_Finance and insurance\n",
       "            </td>\n",
       "        </tr>\n",
       "    \n",
       "        <tr style=\"background-color: hsl(120, 100.00%, 97.51%); border: none;\">\n",
       "            <td style=\"padding: 0 1em 0 0.5em; text-align: right; border: none;\">\n",
       "                0.0141\n",
       "                \n",
       "            </td>\n",
       "            <td style=\"padding: 0 0.5em 0 0.5em; text-align: left; border: none;\">\n",
       "                x1_Information and cultural industries\n",
       "            </td>\n",
       "        </tr>\n",
       "    \n",
       "        <tr style=\"background-color: hsl(120, 100.00%, 97.65%); border: none;\">\n",
       "            <td style=\"padding: 0 1em 0 0.5em; text-align: right; border: none;\">\n",
       "                0.0130\n",
       "                \n",
       "            </td>\n",
       "            <td style=\"padding: 0 0.5em 0 0.5em; text-align: left; border: none;\">\n",
       "                x1_Professional, scientific and technical services\n",
       "            </td>\n",
       "        </tr>\n",
       "    \n",
       "        <tr style=\"background-color: hsl(120, 100.00%, 98.22%); border: none;\">\n",
       "            <td style=\"padding: 0 1em 0 0.5em; text-align: right; border: none;\">\n",
       "                0.0087\n",
       "                \n",
       "            </td>\n",
       "            <td style=\"padding: 0 0.5em 0 0.5em; text-align: left; border: none;\">\n",
       "                x1_Construction\n",
       "            </td>\n",
       "        </tr>\n",
       "    \n",
       "        <tr style=\"background-color: hsl(120, 100.00%, 98.60%); border: none;\">\n",
       "            <td style=\"padding: 0 1em 0 0.5em; text-align: right; border: none;\">\n",
       "                0.0062\n",
       "                \n",
       "            </td>\n",
       "            <td style=\"padding: 0 0.5em 0 0.5em; text-align: left; border: none;\">\n",
       "                x1_Accommodation and food services\n",
       "            </td>\n",
       "        </tr>\n",
       "    \n",
       "        <tr style=\"background-color: hsl(120, 100.00%, 98.88%); border: none;\">\n",
       "            <td style=\"padding: 0 1em 0 0.5em; text-align: right; border: none;\">\n",
       "                0.0045\n",
       "                \n",
       "            </td>\n",
       "            <td style=\"padding: 0 0.5em 0 0.5em; text-align: left; border: none;\">\n",
       "                x0_1997\n",
       "            </td>\n",
       "        </tr>\n",
       "    \n",
       "        <tr style=\"background-color: hsl(120, 100.00%, 98.91%); border: none;\">\n",
       "            <td style=\"padding: 0 1em 0 0.5em; text-align: right; border: none;\">\n",
       "                0.0043\n",
       "                \n",
       "            </td>\n",
       "            <td style=\"padding: 0 0.5em 0 0.5em; text-align: left; border: none;\">\n",
       "                x1_Manufacturing\n",
       "            </td>\n",
       "        </tr>\n",
       "    \n",
       "        <tr style=\"background-color: hsl(120, 100.00%, 98.95%); border: none;\">\n",
       "            <td style=\"padding: 0 1em 0 0.5em; text-align: right; border: none;\">\n",
       "                0.0041\n",
       "                \n",
       "            </td>\n",
       "            <td style=\"padding: 0 0.5em 0 0.5em; text-align: left; border: none;\">\n",
       "                Disability parking\n",
       "            </td>\n",
       "        </tr>\n",
       "    \n",
       "        <tr style=\"background-color: hsl(120, 100.00%, 98.97%); border: none;\">\n",
       "            <td style=\"padding: 0 1em 0 0.5em; text-align: right; border: none;\">\n",
       "                0.0040\n",
       "                \n",
       "            </td>\n",
       "            <td style=\"padding: 0 0.5em 0 0.5em; text-align: left; border: none;\">\n",
       "                x2_Strathcona\n",
       "            </td>\n",
       "        </tr>\n",
       "    \n",
       "        <tr style=\"background-color: hsl(120, 100.00%, 99.00%); border: none;\">\n",
       "            <td style=\"padding: 0 1em 0 0.5em; text-align: right; border: none;\">\n",
       "                0.0038\n",
       "                \n",
       "            </td>\n",
       "            <td style=\"padding: 0 0.5em 0 0.5em; text-align: left; border: none;\">\n",
       "                x0_2004\n",
       "            </td>\n",
       "        </tr>\n",
       "    \n",
       "        <tr style=\"background-color: hsl(120, 100.00%, 99.01%); border: none;\">\n",
       "            <td style=\"padding: 0 1em 0 0.5em; text-align: right; border: none;\">\n",
       "                0.0038\n",
       "                \n",
       "            </td>\n",
       "            <td style=\"padding: 0 0.5em 0 0.5em; text-align: left; border: none;\">\n",
       "                x1_Wholesale trade\n",
       "            </td>\n",
       "        </tr>\n",
       "    \n",
       "        <tr style=\"background-color: hsl(120, 100.00%, 99.01%); border: none;\">\n",
       "            <td style=\"padding: 0 1em 0 0.5em; text-align: right; border: none;\">\n",
       "                0.0038\n",
       "                \n",
       "            </td>\n",
       "            <td style=\"padding: 0 0.5em 0 0.5em; text-align: left; border: none;\">\n",
       "                x2_Kitsilano\n",
       "            </td>\n",
       "        </tr>\n",
       "    \n",
       "        <tr style=\"background-color: hsl(120, 100.00%, 99.03%); border: none;\">\n",
       "            <td style=\"padding: 0 1em 0 0.5em; text-align: right; border: none;\">\n",
       "                0.0037\n",
       "                \n",
       "            </td>\n",
       "            <td style=\"padding: 0 0.5em 0 0.5em; text-align: left; border: none;\">\n",
       "                x1_Other services (except public administration)\n",
       "            </td>\n",
       "        </tr>\n",
       "    \n",
       "        <tr style=\"background-color: hsl(120, 100.00%, 99.11%); border: none;\">\n",
       "            <td style=\"padding: 0 1em 0 0.5em; text-align: right; border: none;\">\n",
       "                0.0032\n",
       "                \n",
       "            </td>\n",
       "            <td style=\"padding: 0 0.5em 0 0.5em; text-align: left; border: none;\">\n",
       "                x0_2003\n",
       "            </td>\n",
       "        </tr>\n",
       "    \n",
       "        <tr style=\"background-color: hsl(120, 100.00%, 99.11%); border: none;\">\n",
       "            <td style=\"padding: 0 1em 0 0.5em; text-align: right; border: none;\">\n",
       "                0.0032\n",
       "                \n",
       "            </td>\n",
       "            <td style=\"padding: 0 0.5em 0 0.5em; text-align: left; border: none;\">\n",
       "                x1_Retail trade\n",
       "            </td>\n",
       "        </tr>\n",
       "    \n",
       "        <tr style=\"background-color: hsl(120, 100.00%, 99.13%); border: none;\">\n",
       "            <td style=\"padding: 0 1em 0 0.5em; text-align: right; border: none;\">\n",
       "                0.0031\n",
       "                \n",
       "            </td>\n",
       "            <td style=\"padding: 0 0.5em 0 0.5em; text-align: left; border: none;\">\n",
       "                x0_2001\n",
       "            </td>\n",
       "        </tr>\n",
       "    \n",
       "        <tr style=\"background-color: hsl(120, 100.00%, 99.14%); border: none;\">\n",
       "            <td style=\"padding: 0 1em 0 0.5em; text-align: right; border: none;\">\n",
       "                0.0031\n",
       "                \n",
       "            </td>\n",
       "            <td style=\"padding: 0 0.5em 0 0.5em; text-align: left; border: none;\">\n",
       "                x0_2009\n",
       "            </td>\n",
       "        </tr>\n",
       "    \n",
       "        <tr style=\"background-color: hsl(120, 100.00%, 99.17%); border: none;\">\n",
       "            <td style=\"padding: 0 1em 0 0.5em; text-align: right; border: none;\">\n",
       "                0.0029\n",
       "                \n",
       "            </td>\n",
       "            <td style=\"padding: 0 0.5em 0 0.5em; text-align: left; border: none;\">\n",
       "                x2_Fairview\n",
       "            </td>\n",
       "        </tr>\n",
       "    \n",
       "        <tr style=\"background-color: hsl(120, 100.00%, 99.19%); border: none;\">\n",
       "            <td style=\"padding: 0 1em 0 0.5em; text-align: right; border: none;\">\n",
       "                0.0028\n",
       "                \n",
       "            </td>\n",
       "            <td style=\"padding: 0 0.5em 0 0.5em; text-align: left; border: none;\">\n",
       "                x0_2002\n",
       "            </td>\n",
       "        </tr>\n",
       "    \n",
       "        <tr style=\"background-color: hsl(120, 100.00%, 99.20%); border: none;\">\n",
       "            <td style=\"padding: 0 1em 0 0.5em; text-align: right; border: none;\">\n",
       "                0.0028\n",
       "                \n",
       "            </td>\n",
       "            <td style=\"padding: 0 0.5em 0 0.5em; text-align: left; border: none;\">\n",
       "                x0_2018\n",
       "            </td>\n",
       "        </tr>\n",
       "    \n",
       "        <tr style=\"background-color: hsl(120, 100.00%, 99.21%); border: none;\">\n",
       "            <td style=\"padding: 0 1em 0 0.5em; text-align: right; border: none;\">\n",
       "                0.0027\n",
       "                \n",
       "            </td>\n",
       "            <td style=\"padding: 0 0.5em 0 0.5em; text-align: left; border: none;\">\n",
       "                x0_2019\n",
       "            </td>\n",
       "        </tr>\n",
       "    \n",
       "        <tr style=\"background-color: hsl(120, 100.00%, 99.30%); border: none;\">\n",
       "            <td style=\"padding: 0 1em 0 0.5em; text-align: right; border: none;\">\n",
       "                0.0023\n",
       "                \n",
       "            </td>\n",
       "            <td style=\"padding: 0 0.5em 0 0.5em; text-align: left; border: none;\">\n",
       "                x1_missing\n",
       "            </td>\n",
       "        </tr>\n",
       "    \n",
       "    \n",
       "        \n",
       "            <tr style=\"background-color: hsl(120, 100.00%, 99.30%); border: none;\">\n",
       "                <td colspan=\"2\" style=\"padding: 0 0.5em 0 0.5em; text-align: center; border: none; white-space: nowrap;\">\n",
       "                    <i>&hellip; 39 more &hellip;</i>\n",
       "                </td>\n",
       "            </tr>\n",
       "        \n",
       "    \n",
       "    </tbody>\n",
       "</table>\n",
       "    \n",
       "\n",
       "    \n",
       "\n",
       "\n",
       "    \n",
       "\n",
       "    \n",
       "\n",
       "    \n",
       "\n",
       "    \n",
       "\n",
       "    \n",
       "\n",
       "    \n",
       "\n",
       "\n",
       "\n"
      ],
      "text/plain": [
       "<IPython.core.display.HTML object>"
      ]
     },
     "execution_count": 447,
     "metadata": {},
     "output_type": "execute_result"
    }
   ],
   "source": [
    "explain_model(lgbm_pip, X_train)"
   ]
  },
  {
   "cell_type": "markdown",
   "metadata": {},
   "source": [
    "## 9. Hyperparameter Tuning <a name=\"ht\"></a>\n",
    "\n",
    "- regularization strength\n",
    "- tree max depth\n",
    "- sampling strategy for SMOTE\n",
    "- missing value imputing strategy\n",
    "- degree of polynomial terms"
   ]
  },
  {
   "cell_type": "code",
   "execution_count": 47,
   "metadata": {},
   "outputs": [],
   "source": [
    "lrhp = Pipeline(steps=[('preprocessor', preprocessor),\n",
    "                       ('classifier', LGBMClassifier(class_weight='balanced'))])\n",
    "\n",
    "param_grid = {\n",
    "    'classifier__reg_lambda': [0.1, 1],\n",
    "}\n",
    "\n",
    "#gs = GridSearchCV(lrhp, param_grid, cv=5, scoring='f1')\n",
    "#gs.fit(X_train, y_train);"
   ]
  },
  {
   "cell_type": "markdown",
   "metadata": {},
   "source": [
    "## 10. Other Tests <a name=\"ot\"></a>\n",
    "\n",
    "- SMOTE"
   ]
  },
  {
   "cell_type": "code",
   "execution_count": 51,
   "metadata": {},
   "outputs": [
    {
     "name": "stdout",
     "output_type": "stream",
     "text": [
      "Train Accuracy: 0.7795397762536005\n",
      "Validation Accuracy 0.7763190350018698\n",
      "              precision    recall  f1-score   support\n",
      "\n",
      "           0       0.24      0.26      0.25     17926\n",
      "           1       0.87      0.86      0.87    107753\n",
      "\n",
      "    accuracy                           0.78    125679\n",
      "   macro avg       0.56      0.56      0.56    125679\n",
      "weighted avg       0.78      0.78      0.78    125679\n",
      "\n"
     ]
    },
    {
     "data": {
      "text/plain": [
       "<sklearn.metrics._plot.confusion_matrix.ConfusionMatrixDisplay at 0x147c14a50>"
      ]
     },
     "execution_count": 51,
     "metadata": {},
     "output_type": "execute_result"
    },
    {
     "data": {
      "image/png": "[encoded data removed]",
      "text/plain": [
       "<Figure size 432x288 with 2 Axes>"
      ]
     },
     "metadata": {
      "needs_background": "light"
     },
     "output_type": "display_data"
    }
   ],
   "source": [
    "from imblearn.pipeline import Pipeline\n",
    "from imblearn.over_sampling import SMOTE\n",
    "smote_pip = Pipeline(steps=[('preprocessor', preprocessor),\n",
    "                            ('smote', SMOTE(sampling_strategy=0.85)),\n",
    "                            ('classifier', lgbm)])\n",
    "\n",
    "param_grid = {\n",
    "    'smote__sampling_strategy': [0.1, 0.5, 0.8, 1.0],\n",
    "}\n",
    "\n",
    "#gs = GridSearchCV(smote_pip, param_grid, cv=5, scoring='f1')\n",
    "#gs.fit(X_train_valid, y_train_valid)\n",
    "evaluate_model(smote_pip)"
   ]
  },
  {
   "cell_type": "markdown",
   "metadata": {},
   "source": [
    "# Compare results from adding different census information"
   ]
  },
  {
   "cell_type": "code",
   "execution_count": 84,
   "metadata": {},
   "outputs": [
    {
     "name": "stderr",
     "output_type": "stream",
     "text": [
      "The max_iter was reached which means the coef_ did not converge\n"
     ]
    }
   ],
   "source": [
    "# 1. marital_status\n",
    "\n",
    "marital_status_lr = evaluate_model(lr_pip, verbose=False)\n",
    "marital_status_lgbm = evaluate_model(lgbm_pip, verbose=False)\n",
    "\n",
    "marital_status_explain_lr = explain_model(lr_pip, X_train)\n",
    "marital_status_explain_lgbm = explain_model(lgbm_pip, X_train)"
   ]
  },
  {
   "cell_type": "code",
   "execution_count": 109,
   "metadata": {},
   "outputs": [
    {
     "name": "stderr",
     "output_type": "stream",
     "text": [
      "The max_iter was reached which means the coef_ did not converge\n"
     ]
    }
   ],
   "source": [
    "# 2. household_size\n",
    "\n",
    "household_size_lr = evaluate_model(lr_pip, verbose=False)\n",
    "household_size_lgbm = evaluate_model(lgbm_pip, verbose=False)\n",
    "\n",
    "household_size_explain_lr = explain_model(lr_pip, X_train)\n",
    "household_size_explain_lgbm = explain_model(lgbm_pip, X_train)"
   ]
  },
  {
   "cell_type": "code",
   "execution_count": 135,
   "metadata": {},
   "outputs": [
    {
     "name": "stderr",
     "output_type": "stream",
     "text": [
      "The max_iter was reached which means the coef_ did not converge\n"
     ]
    }
   ],
   "source": [
    "# 3. population_age\n",
    "\n",
    "population_age_lr = evaluate_model(lr_pip, verbose=False)\n",
    "population_age_lgbm = evaluate_model(lgbm_pip, verbose=False)\n",
    "\n",
    "population_age_explain_lr = explain_model(lr_pip, X_train)\n",
    "population_age_explain_lgbm = explain_model(lgbm_pip, X_train)"
   ]
  },
  {
   "cell_type": "code",
   "execution_count": 158,
   "metadata": {},
   "outputs": [
    {
     "name": "stderr",
     "output_type": "stream",
     "text": [
      "The max_iter was reached which means the coef_ did not converge\n"
     ]
    }
   ],
   "source": [
    "# 4. industry\n",
    "\n",
    "industry_lr = evaluate_model(lr_pip, verbose=False)\n",
    "industry_lgbm = evaluate_model(lgbm_pip, verbose=False)\n",
    "\n",
    "industry_explain_lr = explain_model(lr_pip, X_train)\n",
    "industry_explain_lgbm = explain_model(lgbm_pip, X_train)"
   ]
  },
  {
   "cell_type": "code",
   "execution_count": 182,
   "metadata": {},
   "outputs": [
    {
     "name": "stderr",
     "output_type": "stream",
     "text": [
      "The max_iter was reached which means the coef_ did not converge\n"
     ]
    }
   ],
   "source": [
    "# 5. transport_mode\n",
    "\n",
    "transport_mode_lr = evaluate_model(lr_pip, verbose=False)\n",
    "transport_mode_lgbm = evaluate_model(lgbm_pip, verbose=False)\n",
    "\n",
    "transport_mode_explain_lr = explain_model(lr_pip, X_train)\n",
    "transport_mode_explain_lgbm = explain_model(lgbm_pip, X_train)"
   ]
  },
  {
   "cell_type": "code",
   "execution_count": 213,
   "metadata": {},
   "outputs": [
    {
     "name": "stderr",
     "output_type": "stream",
     "text": [
      "The max_iter was reached which means the coef_ did not converge\n"
     ]
    }
   ],
   "source": [
    "# 6. language\n",
    "\n",
    "language_lr = evaluate_model(lr_pip, verbose=False)\n",
    "language_lgbm = evaluate_model(lgbm_pip, verbose=False)\n",
    "\n",
    "language_explain_lr = explain_model(lr_pip, X_train)\n",
    "language_explain_lgbm = explain_model(lgbm_pip, X_train)"
   ]
  },
  {
   "cell_type": "code",
   "execution_count": 236,
   "metadata": {},
   "outputs": [
    {
     "name": "stderr",
     "output_type": "stream",
     "text": [
      "The max_iter was reached which means the coef_ did not converge\n"
     ]
    }
   ],
   "source": [
    "# 7. gender\n",
    "\n",
    "gender_lr = evaluate_model(lr_pip, verbose=False)\n",
    "gender_lgbm = evaluate_model(lgbm_pip, verbose=False)\n",
    "\n",
    "gender_explain_lr = explain_model(lr_pip, X_train)\n",
    "gender_explain_lgbm = explain_model(lgbm_pip, X_train)"
   ]
  },
  {
   "cell_type": "code",
   "execution_count": 260,
   "metadata": {},
   "outputs": [
    {
     "name": "stderr",
     "output_type": "stream",
     "text": [
      "The max_iter was reached which means the coef_ did not converge\n"
     ]
    }
   ],
   "source": [
    "# 8. immigration_birthplace\n",
    "\n",
    "immigration_birthplace_lr = evaluate_model(lr_pip, verbose=False)\n",
    "immigration_birthplace_lgbm = evaluate_model(lgbm_pip, verbose=False)\n",
    "\n",
    "immigration_birthplace_explain_lr = explain_model(lr_pip, X_train)\n",
    "immigration_birthplace_explain_lgbm = explain_model(lgbm_pip, X_train)"
   ]
  },
  {
   "cell_type": "code",
   "execution_count": 289,
   "metadata": {},
   "outputs": [
    {
     "name": "stderr",
     "output_type": "stream",
     "text": [
      "The max_iter was reached which means the coef_ did not converge\n"
     ]
    }
   ],
   "source": [
    "# 9. occupation\n",
    "\n",
    "occupation_lr = evaluate_model(lr_pip, verbose=False)\n",
    "occupation_lgbm = evaluate_model(lgbm_pip, verbose=False)\n",
    "\n",
    "occupation_explain_lr = explain_model(lr_pip, X_train)\n",
    "occupation_explain_lgbm = explain_model(lgbm_pip, X_train)"
   ]
  },
  {
   "cell_type": "code",
   "execution_count": 311,
   "metadata": {},
   "outputs": [
    {
     "name": "stderr",
     "output_type": "stream",
     "text": [
      "The max_iter was reached which means the coef_ did not converge\n"
     ]
    }
   ],
   "source": [
    "# 10. labour_force\n",
    "\n",
    "labour_force_lr = evaluate_model(lr_pip, verbose=False)\n",
    "labour_force_lgbm = evaluate_model(lgbm_pip, verbose=False)\n",
    "\n",
    "labour_force_explain_lr = explain_model(lr_pip, X_train)\n",
    "labour_force_explain_lgbm = explain_model(lgbm_pip, X_train)"
   ]
  },
  {
   "cell_type": "code",
   "execution_count": 335,
   "metadata": {},
   "outputs": [
    {
     "name": "stderr",
     "output_type": "stream",
     "text": [
      "The max_iter was reached which means the coef_ did not converge\n"
     ]
    }
   ],
   "source": [
    "# 11. time_worked\n",
    "\n",
    "time_worked_lr = evaluate_model(lr_pip, verbose=False)\n",
    "time_worked_lgbm = evaluate_model(lgbm_pip, verbose=False)\n",
    "\n",
    "time_worked_explain_lr = explain_model(lr_pip, X_train)\n",
    "time_worked_explain_lgbm = explain_model(lgbm_pip, X_train)"
   ]
  },
  {
   "cell_type": "code",
   "execution_count": 357,
   "metadata": {},
   "outputs": [
    {
     "name": "stderr",
     "output_type": "stream",
     "text": [
      "The max_iter was reached which means the coef_ did not converge\n"
     ]
    }
   ],
   "source": [
    "# 12. education\n",
    "\n",
    "education_lr = evaluate_model(lr_pip, verbose=False)\n",
    "education_lgbm = evaluate_model(lgbm_pip, verbose=False)\n",
    "\n",
    "education_explain_lr = explain_model(lr_pip, X_train)\n",
    "education_explain_lgbm = explain_model(lgbm_pip, X_train)"
   ]
  },
  {
   "cell_type": "code",
   "execution_count": 381,
   "metadata": {},
   "outputs": [
    {
     "name": "stderr",
     "output_type": "stream",
     "text": [
      "The max_iter was reached which means the coef_ did not converge\n"
     ]
    }
   ],
   "source": [
    "# 13. generation\n",
    "\n",
    "generation_lr = evaluate_model(lr_pip, verbose=False)\n",
    "generation_lgbm = evaluate_model(lgbm_pip, verbose=False)\n",
    "\n",
    "generation_explain_lr = explain_model(lr_pip, X_train)\n",
    "generation_explain_lgbm = explain_model(lgbm_pip, X_train)"
   ]
  },
  {
   "cell_type": "code",
   "execution_count": 403,
   "metadata": {},
   "outputs": [
    {
     "name": "stderr",
     "output_type": "stream",
     "text": [
      "The max_iter was reached which means the coef_ did not converge\n"
     ]
    }
   ],
   "source": [
    "# 14. workplace\n",
    "\n",
    "workplace_lr = evaluate_model(lr_pip, verbose=False)\n",
    "workplace_lgbm = evaluate_model(lgbm_pip, verbose=False)\n",
    "\n",
    "workplace_explain_lr = explain_model(lr_pip, X_train)\n",
    "workplace_explain_lgbm = explain_model(lgbm_pip, X_train)"
   ]
  },
  {
   "cell_type": "code",
   "execution_count": 425,
   "metadata": {},
   "outputs": [
    {
     "name": "stderr",
     "output_type": "stream",
     "text": [
      "The max_iter was reached which means the coef_ did not converge\n"
     ]
    }
   ],
   "source": [
    "# 15. lone_parent\n",
    "\n",
    "lone_parent_lr = evaluate_model(lr_pip, verbose=False)\n",
    "lone_parent_lgbm = evaluate_model(lgbm_pip, verbose=False)\n",
    "\n",
    "lone_parent_explain_lr = explain_model(lr_pip, X_train)\n",
    "lone_parent_explain_lgbm = explain_model(lgbm_pip, X_train)"
   ]
  },
  {
   "cell_type": "code",
   "execution_count": 448,
   "metadata": {},
   "outputs": [
    {
     "name": "stderr",
     "output_type": "stream",
     "text": [
      "The max_iter was reached which means the coef_ did not converge\n"
     ]
    }
   ],
   "source": [
    "# 16. dwelling_type\n",
    "\n",
    "dwelling_type_lr = evaluate_model(lr_pip, verbose=False)\n",
    "dwelling_type_lgbm = evaluate_model(lgbm_pip, verbose=False)\n",
    "\n",
    "dwelling_type_explain_lr = explain_model(lr_pip, X_train)\n",
    "dwelling_type_explain_lgbm = explain_model(lgbm_pip, X_train)"
   ]
  },
  {
   "cell_type": "code",
   "execution_count": 449,
   "metadata": {},
   "outputs": [
    {
     "data": {
      "text/plain": [
       "{'renewed': [0.6895590209645771, 0.5573197310456759, 0.9040755841068769],\n",
       " 'not_renewed': [0.29786405751213313, 0.6428611437853582, 0.19383877451063183],\n",
       " 'accuracy': [0.5716107266401571, 0.5694711882747975]}"
      ]
     },
     "execution_count": 449,
     "metadata": {},
     "output_type": "execute_result"
    }
   ],
   "source": [
    "dwelling_type_lgbm"
   ]
  },
  {
   "cell_type": "code",
   "execution_count": null,
   "metadata": {},
   "outputs": [],
   "source": []
  }
 ],
 "metadata": {
  "kernelspec": {
   "display_name": "Python 3",
   "language": "python",
   "name": "python3"
  },
  "language_info": {
   "codemirror_mode": {
    "name": "ipython",
    "version": 3
   },
   "file_extension": ".py",
   "mimetype": "text/x-python",
   "name": "python",
   "nbconvert_exporter": "python",
   "pygments_lexer": "ipython3",
   "version": "3.7.6"
  }
 },
 "nbformat": 4,
 "nbformat_minor": 4
}
